{
 "cells": [
  {
   "cell_type": "markdown",
   "metadata": {},
   "source": [
    "# Assignment - More Pandas\n",
    "This assignment requires more individual learning then the last one did - you are encouraged to check out the [pandas documentation](http://pandas.pydata.org/pandas-docs/stable/) to find functions or methods you might not have used yet, or ask questions on [Stack Overflow](http://stackoverflow.com/) and tag them as pandas and python related. "
   ]
  },
  {
   "cell_type": "markdown",
   "metadata": {},
   "source": [
    "### Question 1 (20 Punkte)\n",
    "Load the energy data from the file `Energy Indicators.xls`, which is a list of indicators of [energy supply and renewable electricity production](Energy%20Indicators.xls) from the [United Nations](http://unstats.un.org/unsd/environment/excel_file_tables/2013/Energy%20Indicators.xls) for the year 2013, and should be put into a DataFrame with the variable name of **energy**.\n",
    "\n",
    "Keep in mind that this is an Excel file, and not a comma separated values file. Also, make sure to exclude the footer and header information from the datafile. The first two columns are unneccessary, so you should get rid of them, and you should change the column labels so that the columns are:\n",
    "\n",
    "`['Country', 'Energy Supply', 'Energy Supply per Capita', '% Renewable]`\n",
    "\n",
    "Convert `Energy Supply` to gigajoules (there are 1,000,000 gigajoules in a petajoule). For all countries which have missing data (e.g. data with \"...\") make sure this is reflected as `np.NaN` values.\n",
    "\n",
    "Rename the following list of countries (for use in later questions):\n",
    "\n",
    "```\"Republic of Korea\": \"South Korea\",\n",
    "\"United States of America\": \"United States\",\n",
    "\"United Kingdom of Great Britain and Northern Ireland\": \"United Kingdom\",\n",
    "\"China, Hong Kong Special Administrative Region\": \"Hong Kong\"```\n",
    "\n",
    "There are also several countries with numbers and/or parenthesis in their name. Be sure to remove these, \n",
    "\n",
    "e.g. \n",
    "\n",
    "`'Bolivia (Plurinational State of)'` should be `'Bolivia'`, \n",
    "\n",
    "`'Switzerland17'` should be `'Switzerland'`.\n",
    "\n",
    "<br>\n",
    "\n",
    "Next, load the GDP data from the file `world_bank.csv`, which is a csv containing countries' GDP from 1960 to 2015 from [World Bank](http://data.worldbank.org/indicator/NY.GDP.MKTP.CD). Call this DataFrame **GDP**. \n",
    "\n",
    "Make sure to skip the header, and rename the following list of countries:\n",
    "\n",
    "```\"Korea, Rep.\": \"South Korea\", \n",
    "\"Iran, Islamic Rep.\": \"Iran\",\n",
    "\"Hong Kong SAR, China\": \"Hong Kong\"```\n",
    "\n",
    "<br>\n",
    "\n",
    "Finally, load the [Sciamgo Journal and Country Rank data for Energy Engineering and Power Technology](http://www.scimagojr.com/countryrank.php?category=2102) from the file `scimagojr-3.xlsx`, which ranks countries based on their journal contributions in the aforementioned area. Call this DataFrame **ScimEn**.\n",
    "\n",
    "Join the three datasets: GDP, Energy, and ScimEn into a new dataset (using the intersection of country names). Use only the last 10 years (2006-2015) of GDP data and only the top 15 countries by Scimagojr 'Rank' (Rank 1 through 15). \n",
    "\n",
    "The index of this DataFrame should be the name of the country, and the columns should be ['Rank', 'Documents', 'Citable documents', 'Citations', 'Self-citations',\n",
    "       'Citations per document', 'H index', 'Energy Supply',\n",
    "       'Energy Supply per Capita', '% Renewable', '2006', '2007', '2008',\n",
    "       '2009', '2010', '2011', '2012', '2013', '2014', '2015'].\n",
    "\n",
    "*This function should return a DataFrame with 20 columns and 15 entries.*"
   ]
  },
  {
   "cell_type": "code",
   "execution_count": 9,
   "metadata": {},
   "outputs": [
    {
     "data": {
      "text/html": [
       "<div>\n",
       "<table border=\"1\" class=\"dataframe\">\n",
       "  <thead>\n",
       "    <tr style=\"text-align: right;\">\n",
       "      <th></th>\n",
       "      <th>Rank</th>\n",
       "      <th>Documents</th>\n",
       "      <th>Citable documents</th>\n",
       "      <th>Citations</th>\n",
       "      <th>Self-citations</th>\n",
       "      <th>Citations per document</th>\n",
       "      <th>H index</th>\n",
       "      <th>Energy Supply</th>\n",
       "      <th>Energy Supply per Capita</th>\n",
       "      <th>% Renewable</th>\n",
       "      <th>2006</th>\n",
       "      <th>2007</th>\n",
       "      <th>2008</th>\n",
       "      <th>2009</th>\n",
       "      <th>2010</th>\n",
       "      <th>2011</th>\n",
       "      <th>2012</th>\n",
       "      <th>2013</th>\n",
       "      <th>2014</th>\n",
       "      <th>2015</th>\n",
       "    </tr>\n",
       "    <tr>\n",
       "      <th>Country</th>\n",
       "      <th></th>\n",
       "      <th></th>\n",
       "      <th></th>\n",
       "      <th></th>\n",
       "      <th></th>\n",
       "      <th></th>\n",
       "      <th></th>\n",
       "      <th></th>\n",
       "      <th></th>\n",
       "      <th></th>\n",
       "      <th></th>\n",
       "      <th></th>\n",
       "      <th></th>\n",
       "      <th></th>\n",
       "      <th></th>\n",
       "      <th></th>\n",
       "      <th></th>\n",
       "      <th></th>\n",
       "      <th></th>\n",
       "      <th></th>\n",
       "    </tr>\n",
       "  </thead>\n",
       "  <tbody>\n",
       "    <tr>\n",
       "      <th>China</th>\n",
       "      <td>1</td>\n",
       "      <td>147887</td>\n",
       "      <td>147512</td>\n",
       "      <td>856806</td>\n",
       "      <td>583858</td>\n",
       "      <td>5.79</td>\n",
       "      <td>162</td>\n",
       "      <td>1.271910e+11</td>\n",
       "      <td>93.0</td>\n",
       "      <td>19.754910</td>\n",
       "      <td>2.752132e+12</td>\n",
       "      <td>3.552182e+12</td>\n",
       "      <td>4.598206e+12</td>\n",
       "      <td>5.109954e+12</td>\n",
       "      <td>6.100620e+12</td>\n",
       "      <td>7.572554e+12</td>\n",
       "      <td>8.560547e+12</td>\n",
       "      <td>9.607224e+12</td>\n",
       "      <td>1.048237e+13</td>\n",
       "      <td>1.106467e+13</td>\n",
       "    </tr>\n",
       "    <tr>\n",
       "      <th>United States</th>\n",
       "      <td>2</td>\n",
       "      <td>113579</td>\n",
       "      <td>111426</td>\n",
       "      <td>1085684</td>\n",
       "      <td>370574</td>\n",
       "      <td>9.56</td>\n",
       "      <td>259</td>\n",
       "      <td>9.083800e+10</td>\n",
       "      <td>286.0</td>\n",
       "      <td>11.570980</td>\n",
       "      <td>1.385589e+13</td>\n",
       "      <td>1.447764e+13</td>\n",
       "      <td>1.471858e+13</td>\n",
       "      <td>1.441874e+13</td>\n",
       "      <td>1.496437e+13</td>\n",
       "      <td>1.551793e+13</td>\n",
       "      <td>1.615526e+13</td>\n",
       "      <td>1.669152e+13</td>\n",
       "      <td>1.739310e+13</td>\n",
       "      <td>1.812071e+13</td>\n",
       "    </tr>\n",
       "    <tr>\n",
       "      <th>Japan</th>\n",
       "      <td>3</td>\n",
       "      <td>34294</td>\n",
       "      <td>34054</td>\n",
       "      <td>275980</td>\n",
       "      <td>73491</td>\n",
       "      <td>8.05</td>\n",
       "      <td>145</td>\n",
       "      <td>1.898400e+10</td>\n",
       "      <td>149.0</td>\n",
       "      <td>10.232820</td>\n",
       "      <td>4.530377e+12</td>\n",
       "      <td>4.515265e+12</td>\n",
       "      <td>5.037908e+12</td>\n",
       "      <td>5.231383e+12</td>\n",
       "      <td>5.700098e+12</td>\n",
       "      <td>6.157460e+12</td>\n",
       "      <td>6.203213e+12</td>\n",
       "      <td>5.155717e+12</td>\n",
       "      <td>4.848733e+12</td>\n",
       "      <td>4.383076e+12</td>\n",
       "    </tr>\n",
       "    <tr>\n",
       "      <th>United Kingdom</th>\n",
       "      <td>4</td>\n",
       "      <td>24328</td>\n",
       "      <td>23671</td>\n",
       "      <td>278694</td>\n",
       "      <td>52119</td>\n",
       "      <td>11.46</td>\n",
       "      <td>159</td>\n",
       "      <td>7.920000e+09</td>\n",
       "      <td>124.0</td>\n",
       "      <td>10.600470</td>\n",
       "      <td>2.692613e+12</td>\n",
       "      <td>3.074360e+12</td>\n",
       "      <td>2.890564e+12</td>\n",
       "      <td>2.382826e+12</td>\n",
       "      <td>2.441173e+12</td>\n",
       "      <td>2.619700e+12</td>\n",
       "      <td>2.662085e+12</td>\n",
       "      <td>2.739819e+12</td>\n",
       "      <td>3.022828e+12</td>\n",
       "      <td>2.885570e+12</td>\n",
       "    </tr>\n",
       "    <tr>\n",
       "      <th>India</th>\n",
       "      <td>5</td>\n",
       "      <td>21450</td>\n",
       "      <td>21183</td>\n",
       "      <td>179494</td>\n",
       "      <td>54929</td>\n",
       "      <td>8.37</td>\n",
       "      <td>132</td>\n",
       "      <td>3.319500e+10</td>\n",
       "      <td>26.0</td>\n",
       "      <td>14.969080</td>\n",
       "      <td>9.203165e+11</td>\n",
       "      <td>1.201112e+12</td>\n",
       "      <td>1.186953e+12</td>\n",
       "      <td>1.323940e+12</td>\n",
       "      <td>1.656617e+12</td>\n",
       "      <td>1.823050e+12</td>\n",
       "      <td>1.827638e+12</td>\n",
       "      <td>1.856722e+12</td>\n",
       "      <td>2.035393e+12</td>\n",
       "      <td>2.089865e+12</td>\n",
       "    </tr>\n",
       "    <tr>\n",
       "      <th>Russian Federation</th>\n",
       "      <td>6</td>\n",
       "      <td>21259</td>\n",
       "      <td>20915</td>\n",
       "      <td>45629</td>\n",
       "      <td>17368</td>\n",
       "      <td>2.15</td>\n",
       "      <td>65</td>\n",
       "      <td>3.070900e+10</td>\n",
       "      <td>214.0</td>\n",
       "      <td>17.288680</td>\n",
       "      <td>9.899305e+14</td>\n",
       "      <td>1.299705e+12</td>\n",
       "      <td>1.660844e+12</td>\n",
       "      <td>1.222644e+12</td>\n",
       "      <td>1.524916e+12</td>\n",
       "      <td>2.051662e+12</td>\n",
       "      <td>2.210257e+12</td>\n",
       "      <td>2.297128e+12</td>\n",
       "      <td>2.063663e+12</td>\n",
       "      <td>1.365864e+12</td>\n",
       "    </tr>\n",
       "    <tr>\n",
       "      <th>Germany</th>\n",
       "      <td>7</td>\n",
       "      <td>20898</td>\n",
       "      <td>20640</td>\n",
       "      <td>193676</td>\n",
       "      <td>39615</td>\n",
       "      <td>9.27</td>\n",
       "      <td>140</td>\n",
       "      <td>1.326100e+10</td>\n",
       "      <td>165.0</td>\n",
       "      <td>17.901530</td>\n",
       "      <td>3.002446e+12</td>\n",
       "      <td>3.439953e+12</td>\n",
       "      <td>3.752366e+12</td>\n",
       "      <td>3.418005e+12</td>\n",
       "      <td>3.417095e+12</td>\n",
       "      <td>3.757698e+12</td>\n",
       "      <td>3.543984e+12</td>\n",
       "      <td>3.752514e+12</td>\n",
       "      <td>3.890607e+12</td>\n",
       "      <td>3.375611e+12</td>\n",
       "    </tr>\n",
       "    <tr>\n",
       "      <th>Canada</th>\n",
       "      <td>8</td>\n",
       "      <td>20689</td>\n",
       "      <td>20353</td>\n",
       "      <td>285554</td>\n",
       "      <td>53955</td>\n",
       "      <td>13.80</td>\n",
       "      <td>165</td>\n",
       "      <td>1.043100e+10</td>\n",
       "      <td>296.0</td>\n",
       "      <td>61.945430</td>\n",
       "      <td>1.315415e+12</td>\n",
       "      <td>1.464977e+12</td>\n",
       "      <td>1.549131e+12</td>\n",
       "      <td>1.371153e+12</td>\n",
       "      <td>1.613464e+12</td>\n",
       "      <td>1.788648e+12</td>\n",
       "      <td>1.824289e+12</td>\n",
       "      <td>1.842628e+12</td>\n",
       "      <td>1.792883e+12</td>\n",
       "      <td>1.552808e+12</td>\n",
       "    </tr>\n",
       "    <tr>\n",
       "      <th>France</th>\n",
       "      <td>9</td>\n",
       "      <td>15584</td>\n",
       "      <td>15387</td>\n",
       "      <td>173959</td>\n",
       "      <td>37411</td>\n",
       "      <td>11.16</td>\n",
       "      <td>129</td>\n",
       "      <td>1.059700e+10</td>\n",
       "      <td>166.0</td>\n",
       "      <td>17.020280</td>\n",
       "      <td>2.325012e+12</td>\n",
       "      <td>2.663113e+12</td>\n",
       "      <td>2.923466e+12</td>\n",
       "      <td>2.693827e+12</td>\n",
       "      <td>2.646837e+12</td>\n",
       "      <td>2.862680e+12</td>\n",
       "      <td>2.681416e+12</td>\n",
       "      <td>2.808511e+12</td>\n",
       "      <td>2.849305e+12</td>\n",
       "      <td>2.433562e+12</td>\n",
       "    </tr>\n",
       "    <tr>\n",
       "      <th>South Korea</th>\n",
       "      <td>10</td>\n",
       "      <td>14037</td>\n",
       "      <td>13952</td>\n",
       "      <td>151281</td>\n",
       "      <td>29670</td>\n",
       "      <td>10.78</td>\n",
       "      <td>116</td>\n",
       "      <td>1.100700e+10</td>\n",
       "      <td>221.0</td>\n",
       "      <td>2.279353</td>\n",
       "      <td>1.011797e+12</td>\n",
       "      <td>1.122679e+12</td>\n",
       "      <td>1.002219e+12</td>\n",
       "      <td>9.019350e+14</td>\n",
       "      <td>1.094499e+12</td>\n",
       "      <td>1.202464e+12</td>\n",
       "      <td>1.222807e+12</td>\n",
       "      <td>1.305605e+12</td>\n",
       "      <td>1.411334e+12</td>\n",
       "      <td>1.382764e+12</td>\n",
       "    </tr>\n",
       "    <tr>\n",
       "      <th>Italy</th>\n",
       "      <td>11</td>\n",
       "      <td>13662</td>\n",
       "      <td>13457</td>\n",
       "      <td>154242</td>\n",
       "      <td>37030</td>\n",
       "      <td>11.29</td>\n",
       "      <td>121</td>\n",
       "      <td>6.530000e+09</td>\n",
       "      <td>109.0</td>\n",
       "      <td>33.667230</td>\n",
       "      <td>1.942634e+12</td>\n",
       "      <td>2.203053e+12</td>\n",
       "      <td>2.390729e+12</td>\n",
       "      <td>2.185160e+12</td>\n",
       "      <td>2.125058e+12</td>\n",
       "      <td>2.276292e+12</td>\n",
       "      <td>2.072823e+12</td>\n",
       "      <td>2.130491e+12</td>\n",
       "      <td>2.151733e+12</td>\n",
       "      <td>1.832347e+12</td>\n",
       "    </tr>\n",
       "    <tr>\n",
       "      <th>Spain</th>\n",
       "      <td>12</td>\n",
       "      <td>11002</td>\n",
       "      <td>10886</td>\n",
       "      <td>167492</td>\n",
       "      <td>31489</td>\n",
       "      <td>15.22</td>\n",
       "      <td>130</td>\n",
       "      <td>4.923000e+09</td>\n",
       "      <td>106.0</td>\n",
       "      <td>37.968590</td>\n",
       "      <td>1.264551e+12</td>\n",
       "      <td>1.479342e+12</td>\n",
       "      <td>1.635015e+12</td>\n",
       "      <td>1.499100e+12</td>\n",
       "      <td>1.431617e+12</td>\n",
       "      <td>1.488067e+12</td>\n",
       "      <td>1.336019e+12</td>\n",
       "      <td>1.361854e+12</td>\n",
       "      <td>1.376911e+12</td>\n",
       "      <td>1.197790e+12</td>\n",
       "    </tr>\n",
       "    <tr>\n",
       "      <th>Iran</th>\n",
       "      <td>13</td>\n",
       "      <td>10969</td>\n",
       "      <td>10872</td>\n",
       "      <td>94111</td>\n",
       "      <td>31251</td>\n",
       "      <td>8.58</td>\n",
       "      <td>85</td>\n",
       "      <td>9.172000e+09</td>\n",
       "      <td>119.0</td>\n",
       "      <td>5.707721</td>\n",
       "      <td>2.662989e+14</td>\n",
       "      <td>3.498816e+11</td>\n",
       "      <td>4.060709e+14</td>\n",
       "      <td>4.140591e+14</td>\n",
       "      <td>4.870696e+14</td>\n",
       "      <td>5.835004e+14</td>\n",
       "      <td>5.988534e+14</td>\n",
       "      <td>4.674149e+14</td>\n",
       "      <td>4.344746e+14</td>\n",
       "      <td>3.858745e+11</td>\n",
       "    </tr>\n",
       "    <tr>\n",
       "      <th>Australia</th>\n",
       "      <td>14</td>\n",
       "      <td>10616</td>\n",
       "      <td>10496</td>\n",
       "      <td>129788</td>\n",
       "      <td>22759</td>\n",
       "      <td>12.23</td>\n",
       "      <td>123</td>\n",
       "      <td>5.386000e+09</td>\n",
       "      <td>231.0</td>\n",
       "      <td>11.810810</td>\n",
       "      <td>7.475726e+14</td>\n",
       "      <td>8.537646e+11</td>\n",
       "      <td>1.055335e+12</td>\n",
       "      <td>9.271683e+14</td>\n",
       "      <td>1.142877e+12</td>\n",
       "      <td>1.390557e+12</td>\n",
       "      <td>1.538194e+12</td>\n",
       "      <td>1.567179e+12</td>\n",
       "      <td>1.459598e+12</td>\n",
       "      <td>1.345383e+12</td>\n",
       "    </tr>\n",
       "    <tr>\n",
       "      <th>Brazil</th>\n",
       "      <td>15</td>\n",
       "      <td>10599</td>\n",
       "      <td>10521</td>\n",
       "      <td>84010</td>\n",
       "      <td>20271</td>\n",
       "      <td>7.93</td>\n",
       "      <td>97</td>\n",
       "      <td>1.214900e+10</td>\n",
       "      <td>59.0</td>\n",
       "      <td>69.648030</td>\n",
       "      <td>1.107640e+12</td>\n",
       "      <td>1.397084e+12</td>\n",
       "      <td>1.695825e+12</td>\n",
       "      <td>1.667020e+12</td>\n",
       "      <td>2.208872e+12</td>\n",
       "      <td>2.616202e+12</td>\n",
       "      <td>2.465189e+12</td>\n",
       "      <td>2.472807e+12</td>\n",
       "      <td>2.455993e+12</td>\n",
       "      <td>1.803653e+12</td>\n",
       "    </tr>\n",
       "  </tbody>\n",
       "</table>\n",
       "</div>"
      ],
      "text/plain": [
       "                    Rank  Documents  Citable documents  Citations  \\\n",
       "Country                                                             \n",
       "China                  1     147887             147512     856806   \n",
       "United States          2     113579             111426    1085684   \n",
       "Japan                  3      34294              34054     275980   \n",
       "United Kingdom         4      24328              23671     278694   \n",
       "India                  5      21450              21183     179494   \n",
       "Russian Federation     6      21259              20915      45629   \n",
       "Germany                7      20898              20640     193676   \n",
       "Canada                 8      20689              20353     285554   \n",
       "France                 9      15584              15387     173959   \n",
       "South Korea           10      14037              13952     151281   \n",
       "Italy                 11      13662              13457     154242   \n",
       "Spain                 12      11002              10886     167492   \n",
       "Iran                  13      10969              10872      94111   \n",
       "Australia             14      10616              10496     129788   \n",
       "Brazil                15      10599              10521      84010   \n",
       "\n",
       "                    Self-citations  Citations per document  H index  \\\n",
       "Country                                                               \n",
       "China                       583858                    5.79      162   \n",
       "United States               370574                    9.56      259   \n",
       "Japan                        73491                    8.05      145   \n",
       "United Kingdom               52119                   11.46      159   \n",
       "India                        54929                    8.37      132   \n",
       "Russian Federation           17368                    2.15       65   \n",
       "Germany                      39615                    9.27      140   \n",
       "Canada                       53955                   13.80      165   \n",
       "France                       37411                   11.16      129   \n",
       "South Korea                  29670                   10.78      116   \n",
       "Italy                        37030                   11.29      121   \n",
       "Spain                        31489                   15.22      130   \n",
       "Iran                         31251                    8.58       85   \n",
       "Australia                    22759                   12.23      123   \n",
       "Brazil                       20271                    7.93       97   \n",
       "\n",
       "                    Energy Supply  Energy Supply per Capita  % Renewable  \\\n",
       "Country                                                                    \n",
       "China                1.271910e+11                      93.0    19.754910   \n",
       "United States        9.083800e+10                     286.0    11.570980   \n",
       "Japan                1.898400e+10                     149.0    10.232820   \n",
       "United Kingdom       7.920000e+09                     124.0    10.600470   \n",
       "India                3.319500e+10                      26.0    14.969080   \n",
       "Russian Federation   3.070900e+10                     214.0    17.288680   \n",
       "Germany              1.326100e+10                     165.0    17.901530   \n",
       "Canada               1.043100e+10                     296.0    61.945430   \n",
       "France               1.059700e+10                     166.0    17.020280   \n",
       "South Korea          1.100700e+10                     221.0     2.279353   \n",
       "Italy                6.530000e+09                     109.0    33.667230   \n",
       "Spain                4.923000e+09                     106.0    37.968590   \n",
       "Iran                 9.172000e+09                     119.0     5.707721   \n",
       "Australia            5.386000e+09                     231.0    11.810810   \n",
       "Brazil               1.214900e+10                      59.0    69.648030   \n",
       "\n",
       "                            2006          2007          2008          2009  \\\n",
       "Country                                                                      \n",
       "China               2.752132e+12  3.552182e+12  4.598206e+12  5.109954e+12   \n",
       "United States       1.385589e+13  1.447764e+13  1.471858e+13  1.441874e+13   \n",
       "Japan               4.530377e+12  4.515265e+12  5.037908e+12  5.231383e+12   \n",
       "United Kingdom      2.692613e+12  3.074360e+12  2.890564e+12  2.382826e+12   \n",
       "India               9.203165e+11  1.201112e+12  1.186953e+12  1.323940e+12   \n",
       "Russian Federation  9.899305e+14  1.299705e+12  1.660844e+12  1.222644e+12   \n",
       "Germany             3.002446e+12  3.439953e+12  3.752366e+12  3.418005e+12   \n",
       "Canada              1.315415e+12  1.464977e+12  1.549131e+12  1.371153e+12   \n",
       "France              2.325012e+12  2.663113e+12  2.923466e+12  2.693827e+12   \n",
       "South Korea         1.011797e+12  1.122679e+12  1.002219e+12  9.019350e+14   \n",
       "Italy               1.942634e+12  2.203053e+12  2.390729e+12  2.185160e+12   \n",
       "Spain               1.264551e+12  1.479342e+12  1.635015e+12  1.499100e+12   \n",
       "Iran                2.662989e+14  3.498816e+11  4.060709e+14  4.140591e+14   \n",
       "Australia           7.475726e+14  8.537646e+11  1.055335e+12  9.271683e+14   \n",
       "Brazil              1.107640e+12  1.397084e+12  1.695825e+12  1.667020e+12   \n",
       "\n",
       "                            2010          2011          2012          2013  \\\n",
       "Country                                                                      \n",
       "China               6.100620e+12  7.572554e+12  8.560547e+12  9.607224e+12   \n",
       "United States       1.496437e+13  1.551793e+13  1.615526e+13  1.669152e+13   \n",
       "Japan               5.700098e+12  6.157460e+12  6.203213e+12  5.155717e+12   \n",
       "United Kingdom      2.441173e+12  2.619700e+12  2.662085e+12  2.739819e+12   \n",
       "India               1.656617e+12  1.823050e+12  1.827638e+12  1.856722e+12   \n",
       "Russian Federation  1.524916e+12  2.051662e+12  2.210257e+12  2.297128e+12   \n",
       "Germany             3.417095e+12  3.757698e+12  3.543984e+12  3.752514e+12   \n",
       "Canada              1.613464e+12  1.788648e+12  1.824289e+12  1.842628e+12   \n",
       "France              2.646837e+12  2.862680e+12  2.681416e+12  2.808511e+12   \n",
       "South Korea         1.094499e+12  1.202464e+12  1.222807e+12  1.305605e+12   \n",
       "Italy               2.125058e+12  2.276292e+12  2.072823e+12  2.130491e+12   \n",
       "Spain               1.431617e+12  1.488067e+12  1.336019e+12  1.361854e+12   \n",
       "Iran                4.870696e+14  5.835004e+14  5.988534e+14  4.674149e+14   \n",
       "Australia           1.142877e+12  1.390557e+12  1.538194e+12  1.567179e+12   \n",
       "Brazil              2.208872e+12  2.616202e+12  2.465189e+12  2.472807e+12   \n",
       "\n",
       "                            2014          2015  \n",
       "Country                                         \n",
       "China               1.048237e+13  1.106467e+13  \n",
       "United States       1.739310e+13  1.812071e+13  \n",
       "Japan               4.848733e+12  4.383076e+12  \n",
       "United Kingdom      3.022828e+12  2.885570e+12  \n",
       "India               2.035393e+12  2.089865e+12  \n",
       "Russian Federation  2.063663e+12  1.365864e+12  \n",
       "Germany             3.890607e+12  3.375611e+12  \n",
       "Canada              1.792883e+12  1.552808e+12  \n",
       "France              2.849305e+12  2.433562e+12  \n",
       "South Korea         1.411334e+12  1.382764e+12  \n",
       "Italy               2.151733e+12  1.832347e+12  \n",
       "Spain               1.376911e+12  1.197790e+12  \n",
       "Iran                4.344746e+14  3.858745e+11  \n",
       "Australia           1.459598e+12  1.345383e+12  \n",
       "Brazil              2.455993e+12  1.803653e+12  "
      ]
     },
     "execution_count": 9,
     "metadata": {},
     "output_type": "execute_result"
    }
   ],
   "source": [
    "import pandas as pd\n",
    "import numpy as np\n",
    "\n",
    "#Einlesen der Daten aus Energy Indicators.xls\n",
    "energy = pd.read_excel('Energy Indicators.xls')\n",
    "energy = energy[16:243]\n",
    "\n",
    "#Auswahl und Benennung der Spalten\n",
    "energy = energy.drop(energy.columns[[0, 1]], axis=1)\n",
    "energy.rename(columns={'Environmental Indicators: Energy': 'Country','Unnamed: 3':'Energy Supply','Unnamed: 4':'Energy Supply per Capita','Unnamed: 5':'% Renewable'}, inplace=True)\n",
    "\n",
    "#Bedingung: (\"...\") make sure this is reflected as np.NaN values.\n",
    "energy.replace('...', np.nan,inplace = True)\n",
    "\n",
    "#Bedingung: Convert Energy Supply to gigajoules\n",
    "energy['Energy Supply'] *= 1000000\n",
    "\n",
    "#Bedingung: here are also several countries with numbers and/or parenthesis in their name. Be sure to remove these.\n",
    "def remove(data):\n",
    "    newData = ''.join([i for i in data if not i.isdigit()])\n",
    "    i = newData.find('(')\n",
    "    if i>-1: newData = newData[:i]\n",
    "    return newData.strip()\n",
    "\n",
    "#Bedingung: Rename the following list of countries\n",
    "energy['Country'] = energy['Country'].apply(remove)\n",
    "di = {\"Republic of Korea\": \"South Korea\",\n",
    "\"United States of America\": \"United States\",\n",
    "\"United Kingdom of Great Britain and Northern Ireland\": \"United Kingdom\",\n",
    "\"China, Hong Kong Special Administrative Region\": \"Hong Kong\"}\n",
    "energy.replace({\"Country\": di},inplace = True)\n",
    "\n",
    "#Einlesen der Daten aus world_bank.xlsx\n",
    "GDP = pd.read_excel('world_bank.xlsx',skiprows=4)\n",
    "\n",
    "#Bedingung: Rename the following list of countries\n",
    "GDP.rename(columns={'Country Name': 'Country'}, inplace=True)\n",
    "di = {\"Korea, Rep.\": \"South Korea\", \n",
    "\"Iran, Islamic Rep.\": \"Iran\",\n",
    "\"Hong Kong SAR, China\": \"Hong Kong\"}\n",
    "GDP.replace({\"Country\": di},inplace = True)\n",
    "\n",
    "#Einlesen der Daten aus scimagojr.xlsx\n",
    "ScimEn = pd.read_excel('scimagojr.xlsx')\n",
    "\n",
    "#merge data\n",
    "df = pd.merge(pd.merge(energy, GDP, on='Country'), ScimEn, on='Country')\n",
    "\n",
    "#Daten sortieren und nur Top 15 auswählen\n",
    "df = df.sort_values(by=['Rank']).iloc[0:15].set_index('Country')\n",
    "\n",
    "#Spalten auswählen\n",
    "df = df[['Rank', 'Documents', 'Citable documents', 'Citations', 'Self-citations', 'Citations per document', 'H index', 'Energy Supply', 'Energy Supply per Capita', '% Renewable', 2006, 2007, 2008, 2009, 2010, 2011, 2012, 2013, 2014, 2015]]\n",
    "\n",
    "def answer_one():\n",
    "    return df\n",
    "answer_one()\n"
   ]
  },
  {
   "cell_type": "markdown",
   "metadata": {},
   "source": [
    "### Question 2 (7 Punkte)\n",
    "The previous question joined three datasets then reduced this to just the top 15 entries. When you joined the datasets, but before you reduced this to the top 15 items, how many entries did you lose?\n",
    "\n",
    "*This function should return a single number.*"
   ]
  },
  {
   "cell_type": "code",
   "execution_count": 10,
   "metadata": {},
   "outputs": [
    {
     "data": {
      "text/html": [
       "<svg width=\"800\" height=\"300\">\n",
       "  <circle cx=\"150\" cy=\"180\" r=\"80\" fill-opacity=\"0.2\" stroke=\"black\" stroke-width=\"2\" fill=\"blue\" />\n",
       "  <circle cx=\"200\" cy=\"100\" r=\"80\" fill-opacity=\"0.2\" stroke=\"black\" stroke-width=\"2\" fill=\"red\" />\n",
       "  <circle cx=\"100\" cy=\"100\" r=\"80\" fill-opacity=\"0.2\" stroke=\"black\" stroke-width=\"2\" fill=\"green\" />\n",
       "  <line x1=\"150\" y1=\"125\" x2=\"300\" y2=\"150\" stroke=\"black\" stroke-width=\"2\" fill=\"black\" stroke-dasharray=\"5,3\"/>\n",
       "  <text  x=\"300\" y=\"165\" font-family=\"Verdana\" font-size=\"35\">Everything but this!</text>\n",
       "</svg>"
      ],
      "text/plain": [
       "<IPython.core.display.HTML object>"
      ]
     },
     "metadata": {},
     "output_type": "display_data"
    }
   ],
   "source": [
    "%%HTML\n",
    "<svg width=\"800\" height=\"300\">\n",
    "  <circle cx=\"150\" cy=\"180\" r=\"80\" fill-opacity=\"0.2\" stroke=\"black\" stroke-width=\"2\" fill=\"blue\" />\n",
    "  <circle cx=\"200\" cy=\"100\" r=\"80\" fill-opacity=\"0.2\" stroke=\"black\" stroke-width=\"2\" fill=\"red\" />\n",
    "  <circle cx=\"100\" cy=\"100\" r=\"80\" fill-opacity=\"0.2\" stroke=\"black\" stroke-width=\"2\" fill=\"green\" />\n",
    "  <line x1=\"150\" y1=\"125\" x2=\"300\" y2=\"150\" stroke=\"black\" stroke-width=\"2\" fill=\"black\" stroke-dasharray=\"5,3\"/>\n",
    "  <text  x=\"300\" y=\"165\" font-family=\"Verdana\" font-size=\"35\">Everything but this!</text>\n",
    "</svg>"
   ]
  },
  {
   "cell_type": "code",
   "execution_count": 11,
   "metadata": {},
   "outputs": [
    {
     "data": {
      "text/plain": [
       "156"
      ]
     },
     "execution_count": 11,
     "metadata": {},
     "output_type": "execute_result"
    }
   ],
   "source": [
    "def answer_two():\n",
    "    #union = outer join der drei Datensätze\n",
    "    union = pd.merge(pd.merge(energy, GDP, on='Country', how='outer'), ScimEn, on='Country', how='outer')\n",
    "    \n",
    "    #intersect = inner join der drei Datensätze\n",
    "    intersect = pd.merge(pd.merge(energy, GDP, on='Country'), ScimEn, on='Country')\n",
    "    \n",
    "    #Differenz\n",
    "    return len(union)-len(intersect)\n",
    "answer_two()"
   ]
  },
  {
   "cell_type": "markdown",
   "metadata": {},
   "source": [
    "<br>\n",
    "\n",
    "Answer the following questions in the context of only the top 15 countries by Scimagojr Rank (aka the DataFrame returned by `answer_one()`)"
   ]
  },
  {
   "cell_type": "markdown",
   "metadata": {},
   "source": [
    "### Question 3 (7 Punkte)\n",
    "What is the average GDP over the last 10 years for each country? (exclude missing values from this calculation.)\n",
    "\n",
    "*This function should return a Series named `avgGDP` with 15 countries and their average GDP sorted in descending order.*"
   ]
  },
  {
   "cell_type": "code",
   "execution_count": 12,
   "metadata": {
    "scrolled": false
   },
   "outputs": [
    {
     "data": {
      "text/plain": [
       "Country\n",
       "Iran                  3.658478e+14\n",
       "Australia             1.685094e+14\n",
       "Russian Federation    1.005627e+14\n",
       "South Korea           9.126911e+13\n",
       "United States         1.563137e+13\n",
       "China                 6.940046e+12\n",
       "Japan                 5.176323e+12\n",
       "Germany               3.535028e+12\n",
       "United Kingdom        2.741154e+12\n",
       "France                2.688773e+12\n",
       "Italy                 2.131032e+12\n",
       "Brazil                1.989028e+12\n",
       "Canada                1.611540e+12\n",
       "India                 1.592161e+12\n",
       "Spain                 1.407027e+12\n",
       "Name: avgGDP, dtype: float64"
      ]
     },
     "execution_count": 12,
     "metadata": {},
     "output_type": "execute_result"
    }
   ],
   "source": [
    "def answer_three(): \n",
    "    Top15 = answer_one()\n",
    "    def avgGDP(row):\n",
    "        data = row[-10:] #10 years\n",
    "        return pd.Series({'avgGDP': data.mean()}) #Durchschnitt\n",
    "    \n",
    "    #Durchschnitt angewendet auf Top15 und Sortierung nach Durchschnitt\n",
    "    avgGDP_series = Top15.apply(avgGDP, axis = 1).sort_values(by = \"avgGDP\", ascending = False)['avgGDP'] \n",
    "    return avgGDP_series\n",
    "answer_three()"
   ]
  },
  {
   "cell_type": "markdown",
   "metadata": {},
   "source": [
    "### Question 4 (7 Punkte)\n",
    "By how much had the GDP changed over the 10 year span for the country with the 6th largest average GDP?\n",
    "\n",
    "*This function should return a single number.*"
   ]
  },
  {
   "cell_type": "code",
   "execution_count": 13,
   "metadata": {
    "scrolled": true
   },
   "outputs": [
    {
     "data": {
      "text/plain": [
       "8312534509270.3398"
      ]
     },
     "execution_count": 13,
     "metadata": {},
     "output_type": "execute_result"
    }
   ],
   "source": [
    "def answer_four():\n",
    "    Top15 = answer_one()\n",
    "    avgGDP = answer_three()\n",
    "    idx = avgGDP.index[5] #6 größter GDP\n",
    "    six_largest = Top15.loc[idx][2015] - Top15.loc[idx][2006] #Spanne von 10 Jahren\n",
    "    return six_largest\n",
    "answer_four()\n"
   ]
  },
  {
   "cell_type": "markdown",
   "metadata": {},
   "source": [
    "### Question 5 (7 Punkte)\n",
    "What is the mean energy supply per capita?\n",
    "\n",
    "*This function should return a single number.*"
   ]
  },
  {
   "cell_type": "code",
   "execution_count": 14,
   "metadata": {},
   "outputs": [
    {
     "data": {
      "text/plain": [
       "157.6"
      ]
     },
     "execution_count": 14,
     "metadata": {},
     "output_type": "execute_result"
    }
   ],
   "source": [
    "def answer_five():\n",
    "    Top15 = answer_one()\n",
    "    mean_espc = Top15['Energy Supply per Capita'].mean() #Durchschnitt\n",
    "    return mean_espc\n",
    "answer_five()"
   ]
  },
  {
   "cell_type": "markdown",
   "metadata": {},
   "source": [
    "### Question 6 (7 Punkte)\n",
    "What country has the maximum % Renewable and what is the percentage?\n",
    "\n",
    "*This function should return a tuple with the name of the country and the percentage.*"
   ]
  },
  {
   "cell_type": "code",
   "execution_count": 15,
   "metadata": {},
   "outputs": [
    {
     "data": {
      "text/plain": [
       "('Brazil', 69.648030000000006)"
      ]
     },
     "execution_count": 15,
     "metadata": {},
     "output_type": "execute_result"
    }
   ],
   "source": [
    "def answer_six():\n",
    "    Top15 = answer_one()\n",
    "    renewable_max = (Top15['% Renewable'].idxmax(), Top15['% Renewable'].max()) # Maximum Index % Renewable und Maximum % Renewable\n",
    "    return renewable_max\n",
    "answer_six()"
   ]
  },
  {
   "cell_type": "markdown",
   "metadata": {},
   "source": [
    "### Question 7 (7 Punkte)\n",
    "Create a new column that is the ratio of Self-Citations to Total Citations. \n",
    "What is the maximum value for this new column, and what country has the highest ratio?\n",
    "\n",
    "*This function should return a tuple with the name of the country and the ratio.*"
   ]
  },
  {
   "cell_type": "code",
   "execution_count": 16,
   "metadata": {},
   "outputs": [
    {
     "data": {
      "text/plain": [
       "('China', 0.68143547080669364)"
      ]
     },
     "execution_count": 16,
     "metadata": {},
     "output_type": "execute_result"
    }
   ],
   "source": [
    "def answer_seven():\n",
    "    Top15 = answer_one()\n",
    "    Top15['Ratio'] = Top15['Self-citations'] / Top15['Citations'] # Erstelle Spalte Ratio \n",
    "    ratio = (Top15['Ratio'].idxmax(), Top15['Ratio'].max()) # Maximum Index Ratio und Maximum Ratio\n",
    "    return ratio\n",
    "answer_seven()"
   ]
  },
  {
   "cell_type": "markdown",
   "metadata": {},
   "source": [
    "### Question 8 (7 Punkte)\n",
    "\n",
    "Create a column that estimates the population using Energy Supply and Energy Supply per capita. \n",
    "What is the third most populous country according to this estimate?\n",
    "\n",
    "*This function should return a single string value.*"
   ]
  },
  {
   "cell_type": "code",
   "execution_count": 17,
   "metadata": {},
   "outputs": [
    {
     "data": {
      "text/plain": [
       "'United States'"
      ]
     },
     "execution_count": 17,
     "metadata": {},
     "output_type": "execute_result"
    }
   ],
   "source": [
    "def answer_eight():\n",
    "    Top15 = answer_one()\n",
    "    Top15['Pop Estimation'] = Top15['Energy Supply'] / Top15['Energy Supply per Capita'] # Erstelle Spalte Pop Estimation\n",
    "    Top15.sort_values(by = 'Pop Estimation', inplace = True, ascending = False) # Sortierung\n",
    "    third_most_pop = Top15.index[2] # 3. bevölkerungsreichstes Land\n",
    "    return third_most_pop\n",
    "answer_eight()"
   ]
  },
  {
   "cell_type": "markdown",
   "metadata": {},
   "source": [
    "### Question 9 (7 Punkte)\n",
    "Create a column that estimates the number of citable documents per person. \n",
    "What is the correlation between the number of citable documents per capita and the energy supply per capita? Use the `.corr()` method, (Pearson's correlation).\n",
    "\n",
    "*This function should return a single number.*\n",
    "\n",
    "*(Optional: Use the built-in function `plot9()` to visualize the relationship between Energy Supply per Capita vs. Citable docs per Capita)*"
   ]
  },
  {
   "cell_type": "code",
   "execution_count": 18,
   "metadata": {},
   "outputs": [
    {
     "data": {
      "text/plain": [
       "0.79199716982784063"
      ]
     },
     "execution_count": 18,
     "metadata": {},
     "output_type": "execute_result"
    }
   ],
   "source": [
    "def answer_nine():\n",
    "    Top15 = answer_one()\n",
    "    Top15['Pop Estimation'] = Top15['Energy Supply'] / Top15['Energy Supply per Capita']\n",
    "    Top15['Citable Documents per Person'] = Top15['Citable documents'] / Top15['Pop Estimation'] # Erstelle Citable Documents per Person\n",
    "    pearsons_corr = Top15[['Energy Supply per Capita', 'Citable Documents per Person']].corr().loc['Energy Supply per Capita', 'Citable Documents per Person'] # Pearson's correlation\n",
    "    return pearsons_corr\n",
    "answer_nine()"
   ]
  },
  {
   "cell_type": "code",
   "execution_count": 19,
   "metadata": {},
   "outputs": [
    {
     "data": {
      "image/png": "[encoded data removed]",
      "text/plain": [
       "<matplotlib.figure.Figure at 0x7f5468934940>"
      ]
     },
     "metadata": {},
     "output_type": "display_data"
    }
   ],
   "source": [
    "def plot9():\n",
    "    import matplotlib as plt\n",
    "    %matplotlib inline\n",
    "    \n",
    "    Top15 = answer_one()\n",
    "    Top15['Pop Estimation'] = Top15['Energy Supply'] / Top15['Energy Supply per Capita']\n",
    "    Top15['Citable Documents per Person'] = Top15['Citable documents'] / Top15['Pop Estimation']\n",
    "    Top15.plot(x='Citable Documents per Person', y='Energy Supply per Capita', kind='scatter', xlim=[0, 0.0006]) # plot\n",
    "#plot9()\n",
    "\n",
    "#plot9() # Be sure to comment out plot9() before submitting the assignment!"
   ]
  },
  {
   "cell_type": "code",
   "execution_count": 20,
   "metadata": {},
   "outputs": [],
   "source": [
    "#plot9() # Be sure to comment out plot9() before submitting the assignment!"
   ]
  },
  {
   "cell_type": "markdown",
   "metadata": {},
   "source": [
    "### Question 10 (7 Punkte)\n",
    "Create a new column with a 1 if the country's % Renewable value is at or above the median for all countries in the top 15, and a 0 if the country's % Renewable value is below the median.\n",
    "\n",
    "*This function should return a series named `HighRenew` whose index is the country name sorted in ascending order of rank.*"
   ]
  },
  {
   "cell_type": "code",
   "execution_count": 21,
   "metadata": {},
   "outputs": [
    {
     "data": {
      "text/plain": [
       "Country\n",
       "China                 1\n",
       "United States         0\n",
       "Japan                 0\n",
       "United Kingdom        0\n",
       "India                 0\n",
       "Russian Federation    1\n",
       "Germany               1\n",
       "Canada                1\n",
       "France                1\n",
       "South Korea           0\n",
       "Italy                 1\n",
       "Spain                 1\n",
       "Iran                  0\n",
       "Australia             0\n",
       "Brazil                1\n",
       "Name: HighRenew, dtype: int64"
      ]
     },
     "execution_count": 21,
     "metadata": {},
     "output_type": "execute_result"
    }
   ],
   "source": [
    "def answer_ten():\n",
    "    Top15 = answer_one()\n",
    "    renewable_median = Top15['% Renewable'].median() # Berechne Median\n",
    "    Top15.sort_values(by='Rank', inplace=True) # Sortierung\n",
    "    Top15['HighRenew'] = Top15['% Renewable'] >= renewable_median # Prüfe ob Wert über oder unter Median\n",
    "    Top15['HighRenew'] = Top15['HighRenew'].apply(lambda x:1 if x else 0) # Zuweisung 0 und 1\n",
    "    question_10 = Top15['HighRenew'] \n",
    "    return question_10\n",
    "answer_ten()\n"
   ]
  },
  {
   "cell_type": "markdown",
   "metadata": {},
   "source": [
    "### Question 11 (7 Punkte)\n",
    "Use the following dictionary to group the Countries by Continent, then create a dateframe that displays the sample size (the number of countries in each continent bin), and the sum, mean, and std deviation for the estimated population of each country.\n",
    "\n",
    "```python\n",
    "ContinentDict  = {'China':'Asia', \n",
    "                  'United States':'North America', \n",
    "                  'Japan':'Asia', \n",
    "                  'United Kingdom':'Europe', \n",
    "                  'Russian Federation':'Europe', \n",
    "                  'Canada':'North America', \n",
    "                  'Germany':'Europe', \n",
    "                  'India':'Asia',\n",
    "                  'France':'Europe', \n",
    "                  'South Korea':'Asia', \n",
    "                  'Italy':'Europe', \n",
    "                  'Spain':'Europe', \n",
    "                  'Iran':'Asia',\n",
    "                  'Australia':'Australia', \n",
    "                  'Brazil':'South America'}\n",
    "```\n",
    "\n",
    "*This function should return a DataFrame with index named Continent `['Asia', 'Australia', 'Europe', 'North America', 'South America']` and columns `['size', 'sum', 'mean', 'std']`*"
   ]
  },
  {
   "cell_type": "code",
   "execution_count": 22,
   "metadata": {},
   "outputs": [
    {
     "data": {
      "text/html": [
       "<div>\n",
       "<table border=\"1\" class=\"dataframe\">\n",
       "  <thead>\n",
       "    <tr style=\"text-align: right;\">\n",
       "      <th></th>\n",
       "      <th>size</th>\n",
       "      <th>sum</th>\n",
       "      <th>mean</th>\n",
       "      <th>std</th>\n",
       "    </tr>\n",
       "  </thead>\n",
       "  <tbody>\n",
       "    <tr>\n",
       "      <th>Asia</th>\n",
       "      <td>5.0</td>\n",
       "      <td>2.898666e+09</td>\n",
       "      <td>5.797333e+08</td>\n",
       "      <td>6.790979e+08</td>\n",
       "    </tr>\n",
       "    <tr>\n",
       "      <th>Australia</th>\n",
       "      <td>1.0</td>\n",
       "      <td>2.331602e+07</td>\n",
       "      <td>2.331602e+07</td>\n",
       "      <td>NaN</td>\n",
       "    </tr>\n",
       "    <tr>\n",
       "      <th>Europe</th>\n",
       "      <td>6.0</td>\n",
       "      <td>4.579297e+08</td>\n",
       "      <td>7.632161e+07</td>\n",
       "      <td>3.464767e+07</td>\n",
       "    </tr>\n",
       "    <tr>\n",
       "      <th>North America</th>\n",
       "      <td>2.0</td>\n",
       "      <td>3.528552e+08</td>\n",
       "      <td>1.764276e+08</td>\n",
       "      <td>1.996696e+08</td>\n",
       "    </tr>\n",
       "    <tr>\n",
       "      <th>South America</th>\n",
       "      <td>1.0</td>\n",
       "      <td>2.059153e+08</td>\n",
       "      <td>2.059153e+08</td>\n",
       "      <td>NaN</td>\n",
       "    </tr>\n",
       "  </tbody>\n",
       "</table>\n",
       "</div>"
      ],
      "text/plain": [
       "               size           sum          mean           std\n",
       "Asia            5.0  2.898666e+09  5.797333e+08  6.790979e+08\n",
       "Australia       1.0  2.331602e+07  2.331602e+07           NaN\n",
       "Europe          6.0  4.579297e+08  7.632161e+07  3.464767e+07\n",
       "North America   2.0  3.528552e+08  1.764276e+08  1.996696e+08\n",
       "South America   1.0  2.059153e+08  2.059153e+08           NaN"
      ]
     },
     "execution_count": 22,
     "metadata": {},
     "output_type": "execute_result"
    }
   ],
   "source": [
    "def answer_eleven():\n",
    "    Top15 = answer_one()\n",
    "    Top15['Pop Estimation'] = Top15['Energy Supply']/Top15['Energy Supply per Capita']\n",
    "    \n",
    "    #Dictionary\n",
    "    ContinentDict  = {'China':'Asia', \n",
    "                  'United States':'North America', \n",
    "                  'Japan':'Asia', \n",
    "                  'United Kingdom':'Europe', \n",
    "                  'Russian Federation':'Europe', \n",
    "                  'Canada':'North America', \n",
    "                  'Germany':'Europe', \n",
    "                  'India':'Asia',\n",
    "                  'France':'Europe', \n",
    "                  'South Korea':'Asia', \n",
    "                  'Italy':'Europe', \n",
    "                  'Spain':'Europe', \n",
    "                  'Iran':'Asia',\n",
    "                  'Australia':'Australia', \n",
    "                  'Brazil':'South America'}\n",
    "    df_continent = Top15.groupby(by = ContinentDict)['Pop Estimation'].agg([np.size, np.sum, np.mean, np.std]) # Anzahl der Länder, Summe, Durchschnitt, Standardabweichung \n",
    "    return df_continent\n",
    "answer_eleven()\n"
   ]
  },
  {
   "cell_type": "markdown",
   "metadata": {},
   "source": [
    "### Question 12 (7 Punkte)\n",
    "Cut % Renewable into 5 bins. Group Top15 by the Continent, as well as these new % Renewable bins. How many countries are in each of these groups?\n",
    "\n",
    "*This function should return a __Series__ with a MultiIndex of `Continent`, then the bins for `% Renewable`. Do not include groups with no countries.*"
   ]
  },
  {
   "cell_type": "code",
   "execution_count": 23,
   "metadata": {
    "scrolled": true
   },
   "outputs": [
    {
     "data": {
      "text/plain": [
       "               % Renewable     \n",
       "Asia           (2.212, 15.753]     4\n",
       "               (15.753, 29.227]    1\n",
       "Australia      (2.212, 15.753]     1\n",
       "Europe         (2.212, 15.753]     1\n",
       "               (15.753, 29.227]    3\n",
       "               (29.227, 42.701]    2\n",
       "North America  (2.212, 15.753]     1\n",
       "               (56.174, 69.648]    1\n",
       "South America  (56.174, 69.648]    1\n",
       "dtype: int64"
      ]
     },
     "execution_count": 23,
     "metadata": {},
     "output_type": "execute_result"
    }
   ],
   "source": [
    "def answer_twelve():\n",
    "    Top15 = answer_one()\n",
    "    bins = pd.cut(Top15[\"% Renewable\"], 5) # pd.cut Einteilung in 5 bins\n",
    "    ContinentDict  = {'China':'Asia', \n",
    "                  'United States':'North America', \n",
    "                  'Japan':'Asia', \n",
    "                  'United Kingdom':'Europe', \n",
    "                  'Russian Federation':'Europe', \n",
    "                  'Canada':'North America', \n",
    "                  'Germany':'Europe', \n",
    "                  'India':'Asia',\n",
    "                  'France':'Europe', \n",
    "                  'South Korea':'Asia', \n",
    "                  'Italy':'Europe', \n",
    "                  'Spain':'Europe', \n",
    "                  'Iran':'Asia',\n",
    "                  'Australia':'Australia', \n",
    "                  'Brazil':'South America'}\n",
    "    bins = pd.Series(Top15.groupby(by = [ContinentDict, bins]).size()) # Serie: Kontinente, % Renewable, Größe\n",
    "    return bins\n",
    "answer_twelve()"
   ]
  },
  {
   "cell_type": "markdown",
   "metadata": {},
   "source": [
    "### Question 13 (7 Punkte)\n",
    "Convert the Population Estimate series to a string with thousands separator (using commas). Do not round the results.\n",
    "\n",
    "e.g. 317615384.61538464 -> 317,615,384.61538464\n",
    "\n",
    "*This function should return a Series `PopEst` whose index is the country name and whose values are the population estimate string.*"
   ]
  },
  {
   "cell_type": "code",
   "execution_count": 24,
   "metadata": {
    "scrolled": true
   },
   "outputs": [
    {
     "data": {
      "text/plain": [
       "Country\n",
       "China                 1,367,645,161.2903225\n",
       "United States          317,615,384.61538464\n",
       "Japan                  127,409,395.97315437\n",
       "United Kingdom         63,870,967.741935484\n",
       "India                 1,276,730,769.2307692\n",
       "Russian Federation            143,500,000.0\n",
       "Germany                 80,369,696.96969697\n",
       "Canada                  35,239,864.86486486\n",
       "France                  63,837,349.39759036\n",
       "South Korea            49,805,429.864253394\n",
       "Italy                  59,908,256.880733944\n",
       "Spain                    46,443,396.2264151\n",
       "Iran                    77,075,630.25210084\n",
       "Australia              23,316,017.316017315\n",
       "Brazil                 205,915,254.23728815\n",
       "Name: PopEst, dtype: object"
      ]
     },
     "execution_count": 24,
     "metadata": {},
     "output_type": "execute_result"
    }
   ],
   "source": [
    "def answer_thirteen():\n",
    "    Top15 = answer_one()\n",
    "    Top15['PopEst'] = Top15['Energy Supply']/Top15['Energy Supply per Capita']\n",
    "    Top15 = Top15['PopEst']\n",
    "    Series_PopEst =  Top15.apply(lambda x: \"{:,}\".format(x)) #Conversion using commas\n",
    "    return Series_PopEst\n",
    "answer_thirteen()"
   ]
  },
  {
   "cell_type": "markdown",
   "metadata": {},
   "source": [
    "### Optional\n",
    "\n",
    "Use the built in function `plot_optional()` to see an example visualization."
   ]
  },
  {
   "cell_type": "code",
   "execution_count": 25,
   "metadata": {
    "scrolled": true
   },
   "outputs": [
    {
     "name": "stdout",
     "output_type": "stream",
     "text": [
      "This is an example of a visualization that can be created to help understand the data. This is a bubble chart showing % Renewable vs. Rank. The size of the bubble corresponds to the countries' 2014 GDP, and the color corresponds to the continent.\n"
     ]
    },
    {
     "data": {
      "image/png": "[encoded data removed]",
      "text/plain": [
       "<matplotlib.figure.Figure at 0x7f54678b0438>"
      ]
     },
     "metadata": {},
     "output_type": "display_data"
    }
   ],
   "source": [
    "def plot_optional():\n",
    "    import matplotlib as plt\n",
    "    %matplotlib inline\n",
    "    Top15 = answer_one()\n",
    "    ax = Top15.plot(x='Rank', y='% Renewable', kind='scatter', \n",
    "                    c=['#e41a1c','#377eb8','#e41a1c','#4daf4a','#4daf4a','#377eb8','#4daf4a','#e41a1c',\n",
    "                       '#4daf4a','#e41a1c','#4daf4a','#4daf4a','#e41a1c','#dede00','#ff7f00'], \n",
    "                    xticks=range(1,16), s=6*Top15[2014]/10**10, alpha=.75, figsize=[16,6]);\n",
    "\n",
    "    for i, txt in enumerate(Top15.index):\n",
    "        ax.annotate(txt, [Top15['Rank'][i], Top15['% Renewable'][i]], ha='center')\n",
    "\n",
    "    print(\"This is an example of a visualization that can be created to help understand the data. \\\n",
    "This is a bubble chart showing % Renewable vs. Rank. The size of the bubble corresponds to the countries' \\\n",
    "2014 GDP, and the color corresponds to the continent.\")\n",
    "#plot_optional()\n",
    "#plot_optional() # Be sure to comment out plot_optional() before submitting the assignment!"
   ]
  },
  {
   "cell_type": "code",
   "execution_count": 26,
   "metadata": {},
   "outputs": [],
   "source": [
    "#plot_optional() # Be sure to comment out plot_optional() before submitting the assignment!"
   ]
  }
 ],
 "metadata": {
  "anaconda-cloud": {},
  "coursera": {
   "course_slug": "python-data-analysis",
   "graded_item_id": "zAr06",
   "launcher_item_id": "KSSjT",
   "part_id": "SL3fU"
  },
  "kernelspec": {
   "display_name": "Python 3",
   "language": "python",
   "name": "python3"
  },
  "language_info": {
   "codemirror_mode": {
    "name": "ipython",
    "version": 3
   },
   "file_extension": ".py",
   "mimetype": "text/x-python",
   "name": "python",
   "nbconvert_exporter": "python",
   "pygments_lexer": "ipython3",
   "version": "3.5.4"
  }
 },
 "nbformat": 4,
 "nbformat_minor": 1
}
