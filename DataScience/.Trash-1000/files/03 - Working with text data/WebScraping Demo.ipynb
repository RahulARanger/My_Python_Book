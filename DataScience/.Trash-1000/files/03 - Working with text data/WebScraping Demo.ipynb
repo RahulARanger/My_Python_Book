{
 "cells": [
  {
   "cell_type": "code",
   "execution_count": 1,
   "metadata": {},
   "outputs": [],
   "source": [
    "## all imports\n",
    "from IPython.display import HTML\n",
    "import numpy as np\n",
    "import urllib\n",
    "import bs4 #this is beautiful soup\n",
    "import time\n",
    "import operator\n",
    "import socket\n",
    "import pickle\n",
    "import re # regular expressions\n",
    "\n",
    "from pandas import Series\n",
    "import pandas as pd\n",
    "from pandas import DataFrame\n",
    "\n",
    "import matplotlib\n",
    "import matplotlib.pyplot as plt\n",
    "%matplotlib inline\n",
    "\n",
    "import seaborn as sns\n",
    "sns.set_context(\"talk\")\n",
    "sns.set_style(\"white\")"
   ]
  },
  {
   "cell_type": "markdown",
   "metadata": {
    "nbpresent": {
     "id": "c1363ede-4da5-44c8-a224-58e143ca4675"
    },
    "slideshow": {
     "slide_type": "slide"
    }
   },
   "source": [
    "Python web scraping\n",
    "====================\n",
    "\n",
    "* Why scrape the web?\n",
    "    - vast source of information\n",
    "    - automate tasks\n",
    "    - keep up with sites\n",
    "    - fun!\n",
    "\n",
    "** Can you think of examples ? **"
   ]
  },
  {
   "cell_type": "markdown",
   "metadata": {
    "nbpresent": {
     "id": "129c2bfe-152c-492b-82dd-11a9d87ece66"
    },
    "slideshow": {
     "slide_type": "slide"
    }
   },
   "source": [
    "Read and Tweet!\n",
    "=================\n",
    "\n",
    "![ReadTweet](http://developer.nytimes.com/files/readtweet.jpg)\n",
    "\n",
    "* by Justin Blinder\n",
    "* http://projects.justinblinder.com/We-Read-We-Tweet"
   ]
  },
  {
   "cell_type": "markdown",
   "metadata": {
    "nbpresent": {
     "id": "aaf07749-2dc8-468a-a363-34c8ab412ebb"
    },
    "slideshow": {
     "slide_type": "skip"
    }
   },
   "source": [
    "“We Read, We Tweet” geographically visualizes the dissemination of New York Times articles through Twitter. Each line connects the location of a tweet to the contextual location of the New York Times article it referenced. The lines are generated in a sequence based on the time in which a tweet occurs. The project explores digital news distribution in a temporal and spatial context through the social space of Twitter."
   ]
  },
  {
   "cell_type": "markdown",
   "metadata": {
    "nbpresent": {
     "id": "6a3c24d8-b780-449b-903d-d36e37d48f43"
    },
    "slideshow": {
     "slide_type": "slide"
    }
   },
   "source": [
    "Twitter Sentiments\n",
    "=================\n",
    "\n",
    "![TwitterSentiments](http://www.csc.ncsu.edu/faculty/healey/tweet_viz/figs/tweet-viz-ex.png\n",
    " \"Twitter Sentiments\")\n",
    "\n",
    "* by Healey and Ramaswamy\n",
    "* http://www.csc.ncsu.edu/faculty/healey/tweet_viz/tweet_app/"
   ]
  },
  {
   "cell_type": "markdown",
   "metadata": {
    "nbpresent": {
     "id": "88e89c67-e981-4aa1-99bc-aedbce8e347d"
    },
    "slideshow": {
     "slide_type": "skip"
    }
   },
   "source": [
    "Type a keyword into the input field, then click the Query button. Recent tweets that contain your keyword are pulled from Twitter and visualized in the Sentiment tab as circles. Hover your mouse over a tweet or click on it to see its text."
   ]
  },
  {
   "cell_type": "markdown",
   "metadata": {
    "nbpresent": {
     "id": "be08a854-94cd-485e-9aa4-f694ca9d37a0"
    },
    "slideshow": {
     "slide_type": "slide"
    }
   },
   "source": [
    "Python web scraping\n",
    "====================\n",
    "\n",
    "* copyrights and permission:\n",
    "    - be careful and polite\n",
    "    - give credit\n",
    "    - care about media law\n",
    "    - don't be evil (no spam, overloading sites, etc.)"
   ]
  },
  {
   "cell_type": "markdown",
   "metadata": {
    "nbpresent": {
     "id": "e4745d85-b901-4826-88c7-4a9fc3c65fc7"
    },
    "slideshow": {
     "slide_type": "slide"
    }
   },
   "source": [
    "Robots.txt\n",
    "==========\n",
    "\n",
    "![Robots.txt](images/robots_txt.jpg \"Robots.txt\")"
   ]
  },
  {
   "cell_type": "markdown",
   "metadata": {
    "nbpresent": {
     "id": "3b0b7306-c86d-4c2e-a0fe-6c2acc2319f1"
    },
    "slideshow": {
     "slide_type": "slide"
    }
   },
   "source": [
    "Robots.txt\n",
    "==========\n",
    "\n",
    "* specified by web site owner\n",
    "* gives instructions to web robots (aka your script)\n",
    "* is located at the top-level directory of the web server\n",
    "\n",
    "http://www.example.com/robots.txt\n",
    "\n",
    "If you want you can also have a look at\n",
    "\n",
    "http://google.com/robots.txt"
   ]
  },
  {
   "cell_type": "markdown",
   "metadata": {
    "nbpresent": {
     "id": "6ef209d4-d7de-4edc-8cd1-57f96b141f83"
    },
    "slideshow": {
     "slide_type": "slide"
    }
   },
   "source": [
    "Robots.txt\n",
    "==========\n",
    "\n",
    "*** What does this one do? ***"
   ]
  },
  {
   "cell_type": "raw",
   "metadata": {
    "nbpresent": {
     "id": "e170fe97-4cfc-42e3-9cbe-af78ebc96932"
    }
   },
   "source": [
    "\n",
    "User-agent: Google\n",
    "Disallow:\n",
    "\n",
    "User-agent: *\n",
    "Disallow: /"
   ]
  },
  {
   "cell_type": "markdown",
   "metadata": {},
   "source": [
    "Answer: This file allows google to search through everything on the server, while all others should stay completely away."
   ]
  },
  {
   "cell_type": "markdown",
   "metadata": {
    "nbpresent": {
     "id": "f1494d70-2d8b-4973-9e52-6e6ee104c960"
    },
    "slideshow": {
     "slide_type": "slide"
    }
   },
   "source": [
    "Things to consider:\n",
    "-------------------\n",
    "\n",
    "* can be just ignored\n",
    "* can be a security risk - *** Why? ***"
   ]
  },
  {
   "cell_type": "markdown",
   "metadata": {},
   "source": [
    "Answer: You are basically telling everybody who cares to look into the file where you have stored sensitive information."
   ]
  },
  {
   "cell_type": "markdown",
   "metadata": {
    "nbpresent": {
     "id": "989d070d-303e-4f12-9cba-fea5483b78ad"
    },
    "slideshow": {
     "slide_type": "slide"
    }
   },
   "source": [
    "Scraping with Python:\n",
    "=====================\n",
    "\n",
    "* scraping is all about HTML tags\n",
    "* bad news: \n",
    "    - need to learn about tags\n",
    "    - websites can be ugly"
   ]
  },
  {
   "cell_type": "markdown",
   "metadata": {
    "nbpresent": {
     "id": "0fcb89b6-27a1-45c1-8f15-e4e56576fa8c"
    },
    "slideshow": {
     "slide_type": "slide"
    }
   },
   "source": [
    "HTML\n",
    "=====\n",
    "\n",
    "* HyperText Markup Language\n",
    "\n",
    "* standard for creating webpages\n",
    "\n",
    "* HTML tags \n",
    "    - have angle brackets\n",
    "    - typically come in pairs"
   ]
  },
  {
   "cell_type": "markdown",
   "metadata": {
    "nbpresent": {
     "id": "29068dcf-8512-4117-9ae0-021d1f7cbd29"
    },
    "slideshow": {
     "slide_type": "skip"
    }
   },
   "source": [
    "This is an example for a minimal webpage defined in HTML tags. The root tag is `<html>` and then you have the `<head>` tag. This part of the page typically includes the title of the page and might also have other meta information like the author or keywords that are important for search engines. The `<body>` tag marks the actual content of the page. You can play around with the `<h2>` tag trying different header levels. They range from 1 to 6. "
   ]
  },
  {
   "cell_type": "code",
   "execution_count": 2,
   "metadata": {
    "nbpresent": {
     "id": "5c78bb12-9a50-4e8f-8ecd-4358803c9317"
    },
    "slideshow": {
     "slide_type": "slide"
    }
   },
   "outputs": [
    {
     "data": {
      "text/html": [
       "<!DOCTYPE html>\n",
       "<html>\n",
       "  <head>\n",
       "    <title>This is a title</title>\n",
       "  </head>\n",
       "  <body>\n",
       "    <h2> Test </h2>\n",
       "    <p>Hello world!</p>\n",
       "  </body>\n",
       "</html>"
      ],
      "text/plain": [
       "<IPython.core.display.HTML object>"
      ]
     },
     "execution_count": 2,
     "metadata": {},
     "output_type": "execute_result"
    }
   ],
   "source": [
    "htmlString = \"\"\"<!DOCTYPE html>\n",
    "<html>\n",
    "  <head>\n",
    "    <title>This is a title</title>\n",
    "  </head>\n",
    "  <body>\n",
    "    <h2> Test </h2>\n",
    "    <p>Hello world!</p>\n",
    "  </body>\n",
    "</html>\"\"\"\n",
    "\n",
    "htmlOutput = HTML(htmlString)\n",
    "htmlOutput"
   ]
  },
  {
   "cell_type": "markdown",
   "metadata": {
    "nbpresent": {
     "id": "559f2d41-be07-4066-a0fe-7493610c9a84"
    },
    "slideshow": {
     "slide_type": "slide"
    }
   },
   "source": [
    "Useful Tags\n",
    "===========\n",
    "\n",
    "* heading\n",
    "`<h1></h1> ... <h6></h6>`\n",
    "\n",
    "* paragraph\n",
    "`<p></p>` \n",
    "\n",
    "* line break\n",
    "`<br>` \n",
    "\n",
    "* link with attribute\n",
    "\n",
    "`<a href=\"http://www.example.com/\">An example link</a>`\n"
   ]
  },
  {
   "cell_type": "markdown",
   "metadata": {
    "nbpresent": {
     "id": "a3de6abd-35ef-4221-89be-410cbe72bee2"
    },
    "slideshow": {
     "slide_type": "slide"
    }
   },
   "source": [
    "Scraping with Python:\n",
    "=====================\n",
    "\n",
    "* example of a beautifully simple webpage:\n",
    "\n",
    "http://www.crummy.com/software/BeautifulSoup"
   ]
  },
  {
   "cell_type": "markdown",
   "metadata": {
    "nbpresent": {
     "id": "72058a2e-5c0f-4b68-be1e-0eef4f80eb59"
    },
    "slideshow": {
     "slide_type": "slide"
    }
   },
   "source": [
    "Scraping with Python:\n",
    "=====================\n",
    "\n",
    "* good news: \n",
    "    - some browsers help\n",
    "    - look for: inspect element\n",
    "    - need only basic html\n",
    "    \n",
    "** Try 'Ctrl-Shift I' in Chrome **\n",
    "\n",
    "** Try 'Command-Option I' in Safari **\n"
   ]
  },
  {
   "cell_type": "markdown",
   "metadata": {
    "nbpresent": {
     "id": "ec8d9fa2-aa66-4b64-9800-9b8b3386908f"
    },
    "slideshow": {
     "slide_type": "slide"
    }
   },
   "source": [
    "Scraping with Python\n",
    "==================\n",
    "\n",
    "* different useful libraries:\n",
    "    - urllib\n",
    "    - beautifulsoup\n",
    "    - pattern\n",
    "    - soupy\n",
    "    - LXML\n",
    "    - ...\n",
    "    "
   ]
  },
  {
   "cell_type": "markdown",
   "metadata": {
    "nbpresent": {
     "id": "afe59803-139f-4fb6-9807-8f80467a3ea8"
    },
    "slideshow": {
     "slide_type": "skip"
    }
   },
   "source": [
    "The following cell just defines a url as a string and then reads the data from that url using the `urllib` library. If you uncomment the print command you see that we got the whole HTML content of the page into the string variable source."
   ]
  },
  {
   "cell_type": "code",
   "execution_count": 3,
   "metadata": {
    "nbpresent": {
     "id": "08dbfed9-8adb-4e5e-9c5b-e6eb054b8cce"
    },
    "slideshow": {
     "slide_type": "slide"
    }
   },
   "outputs": [
    {
     "name": "stdout",
     "output_type": "stream",
     "text": [
      "b'<!DOCTYPE HTML PUBLIC \"-//W3C//DTD HTML 4.0 Transitional//EN\"\\n\"http://www.w3.org/TR/REC-html40/transitional.dtd\">\\n<html>\\n<head>\\n<meta http-equiv=\"Content-Type\" content=\"text/html; charset=utf-8\">\\n<title>Beautiful Soup: We called him Tortoise because he taught us.</title>\\n<link rev=\"made\" href=\"mailto:leonardr@segfault.org\">\\n<link rel=\"stylesheet\" type=\"text/css\" href=\"/nb/themes/Default/nb.css\">\\n<meta name=\"Description\" content=\"Beautiful Soup: a library designed for screen-scraping HTML and XML.\">\\n<meta name=\"generator\" content=\"Markov Approximation 1.4 (module: leonardr)\">\\n<meta name=\"author\" content=\"Leonard Richardson\">\\n</head>\\n<body bgcolor=\"white\" text=\"black\" link=\"blue\" vlink=\"660066\" alink=\"red\">\\n<img align=\"right\" src=\"10.1.jpg\" width=\"250\"><br />\\n\\n<p>You didn\\'t write that awful page. You\\'re just trying to get some\\ndata out of it. Beautiful Soup is here to help. Since 2004, it\\'s been\\nsaving programmers hours or days of work on quick-turnaround\\nscreen scraping projects.</p>\\n\\n<div align=\"center\">\\n\\n<a href=\"bs4/download/\"><h1>Beautiful Soup</h1></a>\\n\\n<p>\"A tremendous boon.\" -- Python411 Podcast</p>\\n\\n<p>[ <a href=\"#Download\">Download</a> | <a\\nhref=\"bs4/doc/\">Documentation</a> | <a href=\"#HallOfFame\">Hall of Fame</a> | <a href=\"https://code.launchpad.net/beautifulsoup\">Source</a> | <a href=\"https://groups.google.com/forum/?fromgroups#!forum/beautifulsoup\">Discussion group</a>  | <a href=\"zine/\">Zine</a> ]</p>\\n\\n<small>If Beautiful Soup has saved you a lot of time and money, one way to pay me back is to read <a href=\"zine/\"><i>Tool Safety</i></a>, a short zine I wrote about what I learned about software development from working on Beautiful Soup. Thanks!</small> </div>\\n\\n<p><i>If you have questions, send them to <a\\nhref=\"https://groups.google.com/forum/?fromgroups#!forum/beautifulsoup\">the discussion\\ngroup</a>. If you find a bug, <a href=\"https://bugs.launchpad.net/beautifulsoup/\">file it</a>.</i></p>\\n\\n<p>Beautiful Soup is a Python library designed for quick turnaround\\nprojects like screen-scraping. Three features make it powerful:\\n\\n<ol>\\n\\n<li>Beautiful Soup provides a few simple methods and Pythonic idioms\\nfor navigating, searching, and modifying a parse tree: a toolkit for\\ndissecting a document and extracting what you need. It doesn\\'t take\\nmuch code to write an application\\n\\n<li>Beautiful Soup automatically converts incoming documents to\\nUnicode and outgoing documents to UTF-8. You don\\'t have to think\\nabout encodings, unless the document doesn\\'t specify an encoding and\\nBeautiful Soup can\\'t detect one. Then you just have to specify the\\noriginal encoding.\\n\\n<li>Beautiful Soup sits on top of popular Python parsers like <a\\nhref=\"http://lxml.de/\">lxml</a> and <a\\nhref=\"http://code.google.com/p/html5lib/\">html5lib</a>, allowing you\\nto try out different parsing strategies or trade speed for\\nflexibility.\\n\\n</ol>\\n\\n<p>Beautiful Soup parses anything you give it, and does the tree\\ntraversal stuff for you. You can tell it \"Find all the links\", or\\n\"Find all the links of class <tt>externalLink</tt>\", or \"Find all the\\nlinks whose urls match \"foo.com\", or \"Find the table heading that\\'s\\ngot bold text, then give me that text.\"\\n\\n<p>Valuable data that was once locked up in poorly-designed websites\\nis now within your reach. Projects that would have taken hours take\\nonly minutes with Beautiful Soup.\\n\\n<p>Interested? <a href=\"bs4/doc/\">Read more.</a>\\n\\n<a name=\"Download\"><h2>Download Beautiful Soup</h2></a>\\n\\n<p>The current release is <a href=\"bs4/download/\">Beautiful Soup\\n4.6.0</a> (May 7, 2017). You can install Beautiful Soup 4 with\\n<code>pip install beautifulsoup4</code>.\\n\\n<p>In Debian and Ubuntu, Beautiful Soup is available as the\\n<code>python-bs4</code> package (for Python 2) or the\\n<code>python3-bs4</code> package (for Python 3). In Fedora it\\'s\\navailable as the <code>python-beautifulsoup4</code> package.\\n\\n<p>Beautiful Soup is licensed under the MIT license, so you can also\\ndownload the tarball, drop the <code>bs4/</code> directory into almost\\nany Python application (or into your library path) and start using it\\nimmediately. (If you want to do this under Python 3, you will need to\\nmanually convert the code using <code>2to3</code>.)\\n\\n<p>Beautiful Soup 4 works on both Python 2 (2.7+) and Python 3.\\n\\n<h3>Beautiful Soup 3</h3>\\n\\n<p>Beautiful Soup 3 was the official release line of Beautiful Soup\\nfrom May 2006 to March 2012. It is considered stable, and only\\ncritical security bugs will be fixed. <a\\nhref=\"http://www.crummy.com/software/BeautifulSoup/bs3/documentation.html\">Here\\'s\\nthe Beautiful Soup 3 documentation.</a>\\n\\n<p>Beautiful Soup 3 works only under Python 2.x. It is licensed under\\nthe same license as Python itself.\\n\\n<p>The current release of Beautiful Soup 3 is <a\\nhref=\"download/3.x/BeautifulSoup-3.2.1.tar.gz\">3.2.1</a> (February 16,\\n2012). You can install Beautiful Soup 3 with <code>pip install\\nBeautifulSoup</code>. It\\'s also available as\\n<code>python-beautifulsoup</code> in Debian and Ubuntu, and as\\n<code>python-BeautifulSoup</code> in Fedora.\\n\\n<p>You can also download the tarball and use\\n<code>BeautifulSoup.py</code> in your project directly.\\n\\n\\n<a name=\"HallOfFame\"><h2>Hall of Fame</h2></a>\\n\\n<p>Over the years, Beautiful Soup has been used in hundreds of\\ndifferent projects. There\\'s no way I can list them all, but I want to\\nhighlight a few high-profile projects. Beautiful Soup isn\\'t what makes\\nthese projects interesting, but it did make their completion easier:\\n\\n<ul>\\n\\n<li><a\\n href=\"http://www.nytimes.com/2007/10/25/arts/design/25vide.html\">\"Movable\\n Type\"</a>, a work of digital art on display in the lobby of the New\\n York Times building, uses Beautiful Soup to scrape news feeds.\\n\\n<li>Reddit uses Beautiful Soup to <a\\nhref=\"https://github.com/reddit/reddit/blob/85f9cff3e2ab9bb8f19b96acd8da4ebacc079f04/r2/r2/lib/media.py\">parse\\na page that\\'s been linked to and find a representative image</a>.\\n\\n<li>Alexander Harrowell uses Beautiful Soup to <a\\n href=\"http://www.harrowell.org.uk/viktormap.html\">track the business\\n activities</a> of an arms merchant.\\n\\n<li>The developers of Python itself used Beautiful Soup to <a\\nhref=\"http://svn.python.org/view/tracker/importer/\">migrate the Python\\nbug tracker from Sourceforge to Roundup</a>.\\n\\n<li>The <a href=\"http://www2.ljworld.com/\">Lawrence Journal-World</a>\\nuses Beautiful Soup to <A\\nhref=\"http://www.b-list.org/weblog/2010/nov/02/news-done-broke/\">gather\\nstatewide election results</a>.\\n\\n<li>The <a href=\"http://esrl.noaa.gov/gsd/fab/\">NOAA\\'s Forecast\\nApplications Branch</a> uses Beautiful Soup in <a\\nhref=\"http://laps.noaa.gov/topograbber/\">TopoGrabber</a>, a script for\\ndownloading \"high resolution USGS datasets.\"\\n\\n</ul>\\n\\n<p>If you\\'ve used Beautiful Soup in a project you\\'d like me to know\\nabout, please do send email to me or <a\\nhref=\"http://groups.google.com/group/beautifulsoup/\">the discussion\\ngroup</a>.\\n\\n<h2>Development</h2>\\n\\n<p>Development happens at <a\\nhref=\"https://launchpad.net/beautifulsoup\">Launchpad</a>. You can <a\\nhref=\"https://code.launchpad.net/beautifulsoup/\">get the source\\ncode</a> or <a href=\"https://bugs.launchpad.net/beautifulsoup/\">file\\nbugs</a>.<hr><table><tr><td valign=\"top\">\\n<p>This document (<a href=\"/source/software/BeautifulSoup/index.bhtml\">source</a>) is part of Crummy, the webspace of <a href=\"/self/\">Leonard Richardson</a> (<a href=\"/self/contact.html\">contact information</a>). It was last modified on Friday, August 11 2017, 14:19:20 Nowhere Standard Time and last built on Tuesday, October 24 2017, 07:00:01 Nowhere Standard Time.</p><p><table class=\"licenseText\"><tr><td><a href=\"http://creativecommons.org/licenses/by-sa/2.0/\"><img border=\"0\" src=\"/nb//resources/img/somerights20.jpg\"></a></td><td valign=\"top\">Crummy is &copy; 1996-2017 Leonard Richardson. Unless otherwise noted, all text licensed under a <a href=\"http://creativecommons.org/licenses/by-sa/2.0/\">Creative Commons License</a>.</td></tr></table></span><!--<rdf:RDF xmlns=\"http://web.resource.org/cc/\" xmlns:dc=\"http://purl.org/dc/elements/1.1/\" xmlns:rdf=\"http://www.w3.org/1999/02/22-rdf-syntax-ns#\"><Work rdf:about=\"http://www.crummy.com/\"><dc:title>Crummy: The Site</dc:title><dc:rights><Agent><dc:title>Crummy: the Site</dc:title></Agent></dc:rights><dc:format>text/html</dc:format><license rdf:resource=http://creativecommons.org/licenses/by-sa/2.0//></Work><License rdf:about=\"http://creativecommons.org/licenses/by-sa/2.0/\"></License></rdf:RDF>--></p></td><td valign=top><p><b>Document tree:</b>\\n<dl><dd><a href=\"http://www.crummy.com/\">http://www.crummy.com/</a><dl><dd><a href=\"http://www.crummy.com/software/\">software/</a><dl><dd><a href=\"http://www.crummy.com/software/BeautifulSoup/\">BeautifulSoup/</a></dl>\\n</dl>\\n</dl>\\n\\n\\nSite Search:\\n\\n<form method=\"get\" action=\"/search/\">\\n        <input type=\"text\" name=\"q\" maxlength=\"255\" value=\"\"></input>\\n        </form>\\n        </td>\\n\\n</tr>\\n\\n</table>\\n</body>\\n</html>\\n'\n"
     ]
    }
   ],
   "source": [
    "url = 'http://www.crummy.com/software/BeautifulSoup'\n",
    "source = urllib.request.urlopen(url).read()\n",
    "print (source)"
   ]
  },
  {
   "cell_type": "markdown",
   "metadata": {
    "nbpresent": {
     "id": "d2424f10-2460-4a9c-aee6-130845ba9635"
    },
    "slideshow": {
     "slide_type": "slide"
    }
   },
   "source": [
    "Quiz :\n",
    "======\n",
    "\n",
    "* Is the word 'Alice' mentioned on the beautiful soup homepage?\n",
    "* How often does the word 'Soup' occur on the site?\n",
    "    - hint: use `.count()`\n",
    "* At what index occurs the substring 'alien video games' ?\n",
    "    - hint: use `.find()`"
   ]
  },
  {
   "cell_type": "code",
   "execution_count": 4,
   "metadata": {},
   "outputs": [
    {
     "name": "stdout",
     "output_type": "stream",
     "text": [
      "<class 'bytes'>\n"
     ]
    }
   ],
   "source": [
    "print(type(source))"
   ]
  },
  {
   "cell_type": "code",
   "execution_count": 5,
   "metadata": {
    "nbpresent": {
     "id": "944dcc11-be02-4cab-a46f-27b2f99bd099"
    },
    "slideshow": {
     "slide_type": "slide"
    }
   },
   "outputs": [
    {
     "name": "stdout",
     "output_type": "stream",
     "text": [
      "False\n"
     ]
    }
   ],
   "source": [
    "## is 'Alice' in source?\n",
    "print ('Alice' in str(source))"
   ]
  },
  {
   "cell_type": "code",
   "execution_count": 6,
   "metadata": {},
   "outputs": [
    {
     "name": "stdout",
     "output_type": "stream",
     "text": [
      "43\n"
     ]
    }
   ],
   "source": [
    "## count occurences of 'Soup'\n",
    "print (str(source).count('Soup'))"
   ]
  },
  {
   "cell_type": "code",
   "execution_count": 7,
   "metadata": {},
   "outputs": [
    {
     "name": "stdout",
     "output_type": "stream",
     "text": [
      "1107\n"
     ]
    }
   ],
   "source": [
    "## find index of A tremendous boon'\n",
    "position =  str(source).find('A tremendous boon')\n",
    "print (position)"
   ]
  },
  {
   "cell_type": "code",
   "execution_count": 8,
   "metadata": {},
   "outputs": [
    {
     "name": "stdout",
     "output_type": "stream",
     "text": [
      "A tremendous boon.\" \n",
      "A tremendous boon\n"
     ]
    }
   ],
   "source": [
    "## quick test to see the substring in the source variable\n",
    "## you can access strings like lists\n",
    "print (str(source)[position:position + 20])\n",
    "\n",
    "## or the tidier version:\n",
    "print (str(source)[position:position + len('A tremendous boon')])\n"
   ]
  },
  {
   "cell_type": "markdown",
   "metadata": {
    "nbpresent": {
     "id": "f2756599-818f-44cc-82bb-a211a323de36"
    },
    "slideshow": {
     "slide_type": "slide"
    }
   },
   "source": [
    "Beautiful Soup\n",
    "==============\n",
    "\n",
    "* designed to make your life easier\n",
    "* many good functions for parsing html code"
   ]
  },
  {
   "cell_type": "markdown",
   "metadata": {
    "nbpresent": {
     "id": "2fff5f76-9623-458d-a04b-6a3269caf7d2"
    },
    "slideshow": {
     "slide_type": "slide"
    }
   },
   "source": [
    "Some examples\n",
    "=============\n"
   ]
  },
  {
   "cell_type": "code",
   "execution_count": 12,
   "metadata": {
    "nbpresent": {
     "id": "66e44b0f-4c0b-44b5-9a72-68d6a77a232b"
    }
   },
   "outputs": [
    {
     "name": "stdout",
     "output_type": "stream",
     "text": [
      "<!DOCTYPE HTML PUBLIC \"-//W3C//DTD HTML 4.0 Transitional//EN\" \"http://www.w3.org/TR/REC-html40/transitional.dtd\">\n",
      "<html>\n",
      "<head>\n",
      "<meta content=\"text/html; charset=utf-8\" http-equiv=\"Content-Type\"/>\n",
      "<title>Beautiful Soup: We called him Tortoise because he taught us.</title>\n",
      "<link href=\"mailto:leonardr@segfault.org\" rev=\"made\"/>\n",
      "<link href=\"/nb/themes/Default/nb.css\" rel=\"stylesheet\" type=\"text/css\"/>\n",
      "<meta content=\"Beautiful Soup: a library designed for screen-scraping HTML and XML.\" name=\"Description\"/>\n",
      "<meta content=\"Markov Approximation 1.4 (module: leonardr)\" name=\"generator\"/>\n",
      "<meta content=\"Leonard Richardson\" name=\"author\"/>\n",
      "</head>\n",
      "<body alink=\"red\" bgcolor=\"white\" link=\"blue\" text=\"black\" vlink=\"660066\">\n",
      "<img align=\"right\" src=\"10.1.jpg\" width=\"250\"/><br/>\n",
      "<p>You didn't write that awful page. You're just trying to get some\n",
      "data out of it. Beautiful Soup is here to help. Since 2004, it's been\n",
      "saving programmers hours or days of work on quick-turnaround\n",
      "screen scraping projects.</p>\n",
      "<div align=\"center\">\n",
      "<a href=\"bs4/download/\"><h1>Beautiful Soup</h1></a>\n",
      "<p>\"A tremendous boon.\" -- Python411 Podcast</p>\n",
      "<p>[ <a href=\"#Download\">Download</a> | <a href=\"bs4/doc/\">Documentation</a> | <a href=\"#HallOfFame\">Hall of Fame</a> | <a href=\"https://code.launchpad.net/beautifulsoup\">Source</a> | <a href=\"https://groups.google.com/forum/?fromgroups#!forum/beautifulsoup\">Discussion group</a>  | <a href=\"zine/\">Zine</a> ]</p>\n",
      "<small>If Beautiful Soup has saved you a lot of time and money, one way to pay me back is to read <a href=\"zine/\"><i>Tool Safety</i></a>, a short zine I wrote about what I learned about software development from working on Beautiful Soup. Thanks!</small> </div>\n",
      "<p><i>If you have questions, send them to <a href=\"https://groups.google.com/forum/?fromgroups#!forum/beautifulsoup\">the discussion\n",
      "group</a>. If you find a bug, <a href=\"https://bugs.launchpad.net/beautifulsoup/\">file it</a>.</i></p>\n",
      "<p>Beautiful Soup is a Python library designed for quick turnaround\n",
      "projects like screen-scraping. Three features make it powerful:\n",
      "\n",
      "</p><ol>\n",
      "<li>Beautiful Soup provides a few simple methods and Pythonic idioms\n",
      "for navigating, searching, and modifying a parse tree: a toolkit for\n",
      "dissecting a document and extracting what you need. It doesn't take\n",
      "much code to write an application\n",
      "\n",
      "</li><li>Beautiful Soup automatically converts incoming documents to\n",
      "Unicode and outgoing documents to UTF-8. You don't have to think\n",
      "about encodings, unless the document doesn't specify an encoding and\n",
      "Beautiful Soup can't detect one. Then you just have to specify the\n",
      "original encoding.\n",
      "\n",
      "</li><li>Beautiful Soup sits on top of popular Python parsers like <a href=\"http://lxml.de/\">lxml</a> and <a href=\"http://code.google.com/p/html5lib/\">html5lib</a>, allowing you\n",
      "to try out different parsing strategies or trade speed for\n",
      "flexibility.\n",
      "\n",
      "</li></ol>\n",
      "<p>Beautiful Soup parses anything you give it, and does the tree\n",
      "traversal stuff for you. You can tell it \"Find all the links\", or\n",
      "\"Find all the links of class <tt>externalLink</tt>\", or \"Find all the\n",
      "links whose urls match \"foo.com\", or \"Find the table heading that's\n",
      "got bold text, then give me that text.\"\n",
      "\n",
      "</p><p>Valuable data that was once locked up in poorly-designed websites\n",
      "is now within your reach. Projects that would have taken hours take\n",
      "only minutes with Beautiful Soup.\n",
      "\n",
      "</p><p>Interested? <a href=\"bs4/doc/\">Read more.</a>\n",
      "<a name=\"Download\"><h2>Download Beautiful Soup</h2></a>\n",
      "</p><p>The current release is <a href=\"bs4/download/\">Beautiful Soup\n",
      "4.6.0</a> (May 7, 2017). You can install Beautiful Soup 4 with\n",
      "<code>pip install beautifulsoup4</code>.\n",
      "\n",
      "</p><p>In Debian and Ubuntu, Beautiful Soup is available as the\n",
      "<code>python-bs4</code> package (for Python 2) or the\n",
      "<code>python3-bs4</code> package (for Python 3). In Fedora it's\n",
      "available as the <code>python-beautifulsoup4</code> package.\n",
      "\n",
      "</p><p>Beautiful Soup is licensed under the MIT license, so you can also\n",
      "download the tarball, drop the <code>bs4/</code> directory into almost\n",
      "any Python application (or into your library path) and start using it\n",
      "immediately. (If you want to do this under Python 3, you will need to\n",
      "manually convert the code using <code>2to3</code>.)\n",
      "\n",
      "</p><p>Beautiful Soup 4 works on both Python 2 (2.7+) and Python 3.\n",
      "\n",
      "</p><h3>Beautiful Soup 3</h3>\n",
      "<p>Beautiful Soup 3 was the official release line of Beautiful Soup\n",
      "from May 2006 to March 2012. It is considered stable, and only\n",
      "critical security bugs will be fixed. <a href=\"http://www.crummy.com/software/BeautifulSoup/bs3/documentation.html\">Here's\n",
      "the Beautiful Soup 3 documentation.</a>\n",
      "</p><p>Beautiful Soup 3 works only under Python 2.x. It is licensed under\n",
      "the same license as Python itself.\n",
      "\n",
      "</p><p>The current release of Beautiful Soup 3 is <a href=\"download/3.x/BeautifulSoup-3.2.1.tar.gz\">3.2.1</a> (February 16,\n",
      "2012). You can install Beautiful Soup 3 with <code>pip install\n",
      "BeautifulSoup</code>. It's also available as\n",
      "<code>python-beautifulsoup</code> in Debian and Ubuntu, and as\n",
      "<code>python-BeautifulSoup</code> in Fedora.\n",
      "\n",
      "</p><p>You can also download the tarball and use\n",
      "<code>BeautifulSoup.py</code> in your project directly.\n",
      "\n",
      "\n",
      "<a name=\"HallOfFame\"><h2>Hall of Fame</h2></a>\n",
      "</p><p>Over the years, Beautiful Soup has been used in hundreds of\n",
      "different projects. There's no way I can list them all, but I want to\n",
      "highlight a few high-profile projects. Beautiful Soup isn't what makes\n",
      "these projects interesting, but it did make their completion easier:\n",
      "\n",
      "</p><ul>\n",
      "<li><a href=\"http://www.nytimes.com/2007/10/25/arts/design/25vide.html\">\"Movable\n",
      " Type\"</a>, a work of digital art on display in the lobby of the New\n",
      " York Times building, uses Beautiful Soup to scrape news feeds.\n",
      "\n",
      "</li><li>Reddit uses Beautiful Soup to <a href=\"https://github.com/reddit/reddit/blob/85f9cff3e2ab9bb8f19b96acd8da4ebacc079f04/r2/r2/lib/media.py\">parse\n",
      "a page that's been linked to and find a representative image</a>.\n",
      "\n",
      "</li><li>Alexander Harrowell uses Beautiful Soup to <a href=\"http://www.harrowell.org.uk/viktormap.html\">track the business\n",
      " activities</a> of an arms merchant.\n",
      "\n",
      "</li><li>The developers of Python itself used Beautiful Soup to <a href=\"http://svn.python.org/view/tracker/importer/\">migrate the Python\n",
      "bug tracker from Sourceforge to Roundup</a>.\n",
      "\n",
      "</li><li>The <a href=\"http://www2.ljworld.com/\">Lawrence Journal-World</a>\n",
      "uses Beautiful Soup to <a href=\"http://www.b-list.org/weblog/2010/nov/02/news-done-broke/\">gather\n",
      "statewide election results</a>.\n",
      "\n",
      "</li><li>The <a href=\"http://esrl.noaa.gov/gsd/fab/\">NOAA's Forecast\n",
      "Applications Branch</a> uses Beautiful Soup in <a href=\"http://laps.noaa.gov/topograbber/\">TopoGrabber</a>, a script for\n",
      "downloading \"high resolution USGS datasets.\"\n",
      "\n",
      "</li></ul>\n",
      "<p>If you've used Beautiful Soup in a project you'd like me to know\n",
      "about, please do send email to me or <a href=\"http://groups.google.com/group/beautifulsoup/\">the discussion\n",
      "group</a>.\n",
      "\n",
      "</p><h2>Development</h2>\n",
      "<p>Development happens at <a href=\"https://launchpad.net/beautifulsoup\">Launchpad</a>. You can <a href=\"https://code.launchpad.net/beautifulsoup/\">get the source\n",
      "code</a> or <a href=\"https://bugs.launchpad.net/beautifulsoup/\">file\n",
      "bugs</a>.</p><hr/><table><tr><td valign=\"top\">\n",
      "<p>This document (<a href=\"/source/software/BeautifulSoup/index.bhtml\">source</a>) is part of Crummy, the webspace of <a href=\"/self/\">Leonard Richardson</a> (<a href=\"/self/contact.html\">contact information</a>). It was last modified on Friday, August 11 2017, 14:19:20 Nowhere Standard Time and last built on Tuesday, October 24 2017, 07:00:01 Nowhere Standard Time.</p><p></p><table class=\"licenseText\"><tr><td><a href=\"http://creativecommons.org/licenses/by-sa/2.0/\"><img border=\"0\" src=\"/nb//resources/img/somerights20.jpg\"/></a></td><td valign=\"top\">Crummy is © 1996-2017 Leonard Richardson. Unless otherwise noted, all text licensed under a <a href=\"http://creativecommons.org/licenses/by-sa/2.0/\">Creative Commons License</a>.</td></tr></table><!--<rdf:RDF xmlns=\"http://web.resource.org/cc/\" xmlns:dc=\"http://purl.org/dc/elements/1.1/\" xmlns:rdf=\"http://www.w3.org/1999/02/22-rdf-syntax-ns#\"><Work rdf:about=\"http://www.crummy.com/\"><dc:title>Crummy: The Site</dc:title><dc:rights><Agent><dc:title>Crummy: the Site</dc:title></Agent></dc:rights><dc:format>text/html</dc:format><license rdf:resource=http://creativecommons.org/licenses/by-sa/2.0//></Work><License rdf:about=\"http://creativecommons.org/licenses/by-sa/2.0/\"></License></rdf:RDF>--></td><td valign=\"top\"><p><b>Document tree:</b>\n",
      "</p><dl><dd><a href=\"http://www.crummy.com/\">http://www.crummy.com/</a><dl><dd><a href=\"http://www.crummy.com/software/\">software/</a><dl><dd><a href=\"http://www.crummy.com/software/BeautifulSoup/\">BeautifulSoup/</a></dd></dl>\n",
      "</dd></dl>\n",
      "</dd></dl>\n",
      "\n",
      "\n",
      "Site Search:\n",
      "\n",
      "<form action=\"/search/\" method=\"get\">\n",
      "<input maxlength=\"255\" name=\"q\" type=\"text\" value=\"\"/>\n",
      "</form>\n",
      "</td>\n",
      "</tr>\n",
      "</table>\n",
      "</body>\n",
      "</html>\n",
      "\n",
      "#####################################################\n",
      "<!DOCTYPE HTML PUBLIC \"-//W3C//DTD HTML 4.0 Transitional//EN\" \"http://www.w3.org/TR/REC-html40/transitional.dtd\">\n",
      "<html>\n",
      " <head>\n",
      "  <meta content=\"text/html; charset=utf-8\" http-equiv=\"Content-Type\"/>\n",
      "  <title>\n",
      "   Beautiful Soup: We called him Tortoise because he taught us.\n",
      "  </title>\n",
      "  <link href=\"mailto:leonardr@segfault.org\" rev=\"made\"/>\n",
      "  <link href=\"/nb/themes/Default/nb.css\" rel=\"stylesheet\" type=\"text/css\"/>\n",
      "  <meta content=\"Beautiful Soup: a library designed for screen-scraping HTML and XML.\" name=\"Description\"/>\n",
      "  <meta content=\"Markov Approximation 1.4 (module: leonardr)\" name=\"generator\"/>\n",
      "  <meta content=\"Leonard Richardson\" name=\"author\"/>\n",
      " </head>\n",
      " <body alink=\"red\" bgcolor=\"white\" link=\"blue\" text=\"black\" vlink=\"660066\">\n",
      "  <img align=\"right\" src=\"10.1.jpg\" width=\"250\"/>\n",
      "  <br/>\n",
      "  <p>\n",
      "   You didn't write that awful page. You're just trying to get some\n",
      "data out of it. Beautiful Soup is here to help. Since 2004, it's been\n",
      "saving programmers hours or days of work on quick-turnaround\n",
      "screen scraping projects.\n",
      "  </p>\n",
      "  <div align=\"center\">\n",
      "   <a href=\"bs4/download/\">\n",
      "    <h1>\n",
      "     Beautiful Soup\n",
      "    </h1>\n",
      "   </a>\n",
      "   <p>\n",
      "    \"A tremendous boon.\" -- Python411 Podcast\n",
      "   </p>\n",
      "   <p>\n",
      "    [\n",
      "    <a href=\"#Download\">\n",
      "     Download\n",
      "    </a>\n",
      "    |\n",
      "    <a href=\"bs4/doc/\">\n",
      "     Documentation\n",
      "    </a>\n",
      "    |\n",
      "    <a href=\"#HallOfFame\">\n",
      "     Hall of Fame\n",
      "    </a>\n",
      "    |\n",
      "    <a href=\"https://code.launchpad.net/beautifulsoup\">\n",
      "     Source\n",
      "    </a>\n",
      "    |\n",
      "    <a href=\"https://groups.google.com/forum/?fromgroups#!forum/beautifulsoup\">\n",
      "     Discussion group\n",
      "    </a>\n",
      "    |\n",
      "    <a href=\"zine/\">\n",
      "     Zine\n",
      "    </a>\n",
      "    ]\n",
      "   </p>\n",
      "   <small>\n",
      "    If Beautiful Soup has saved you a lot of time and money, one way to pay me back is to read\n",
      "    <a href=\"zine/\">\n",
      "     <i>\n",
      "      Tool Safety\n",
      "     </i>\n",
      "    </a>\n",
      "    , a short zine I wrote about what I learned about software development from working on Beautiful Soup. Thanks!\n",
      "   </small>\n",
      "  </div>\n",
      "  <p>\n",
      "   <i>\n",
      "    If you have questions, send them to\n",
      "    <a href=\"https://groups.google.com/forum/?fromgroups#!forum/beautifulsoup\">\n",
      "     the discussion\n",
      "group\n",
      "    </a>\n",
      "    . If you find a bug,\n",
      "    <a href=\"https://bugs.launchpad.net/beautifulsoup/\">\n",
      "     file it\n",
      "    </a>\n",
      "    .\n",
      "   </i>\n",
      "  </p>\n",
      "  <p>\n",
      "   Beautiful Soup is a Python library designed for quick turnaround\n",
      "projects like screen-scraping. Three features make it powerful:\n",
      "  </p>\n",
      "  <ol>\n",
      "   <li>\n",
      "    Beautiful Soup provides a few simple methods and Pythonic idioms\n",
      "for navigating, searching, and modifying a parse tree: a toolkit for\n",
      "dissecting a document and extracting what you need. It doesn't take\n",
      "much code to write an application\n",
      "   </li>\n",
      "   <li>\n",
      "    Beautiful Soup automatically converts incoming documents to\n",
      "Unicode and outgoing documents to UTF-8. You don't have to think\n",
      "about encodings, unless the document doesn't specify an encoding and\n",
      "Beautiful Soup can't detect one. Then you just have to specify the\n",
      "original encoding.\n",
      "   </li>\n",
      "   <li>\n",
      "    Beautiful Soup sits on top of popular Python parsers like\n",
      "    <a href=\"http://lxml.de/\">\n",
      "     lxml\n",
      "    </a>\n",
      "    and\n",
      "    <a href=\"http://code.google.com/p/html5lib/\">\n",
      "     html5lib\n",
      "    </a>\n",
      "    , allowing you\n",
      "to try out different parsing strategies or trade speed for\n",
      "flexibility.\n",
      "   </li>\n",
      "  </ol>\n",
      "  <p>\n",
      "   Beautiful Soup parses anything you give it, and does the tree\n",
      "traversal stuff for you. You can tell it \"Find all the links\", or\n",
      "\"Find all the links of class\n",
      "   <tt>\n",
      "    externalLink\n",
      "   </tt>\n",
      "   \", or \"Find all the\n",
      "links whose urls match \"foo.com\", or \"Find the table heading that's\n",
      "got bold text, then give me that text.\"\n",
      "  </p>\n",
      "  <p>\n",
      "   Valuable data that was once locked up in poorly-designed websites\n",
      "is now within your reach. Projects that would have taken hours take\n",
      "only minutes with Beautiful Soup.\n",
      "  </p>\n",
      "  <p>\n",
      "   Interested?\n",
      "   <a href=\"bs4/doc/\">\n",
      "    Read more.\n",
      "   </a>\n",
      "   <a name=\"Download\">\n",
      "    <h2>\n",
      "     Download Beautiful Soup\n",
      "    </h2>\n",
      "   </a>\n",
      "  </p>\n",
      "  <p>\n",
      "   The current release is\n",
      "   <a href=\"bs4/download/\">\n",
      "    Beautiful Soup\n",
      "4.6.0\n",
      "   </a>\n",
      "   (May 7, 2017). You can install Beautiful Soup 4 with\n",
      "   <code>\n",
      "    pip install beautifulsoup4\n",
      "   </code>\n",
      "   .\n",
      "  </p>\n",
      "  <p>\n",
      "   In Debian and Ubuntu, Beautiful Soup is available as the\n",
      "   <code>\n",
      "    python-bs4\n",
      "   </code>\n",
      "   package (for Python 2) or the\n",
      "   <code>\n",
      "    python3-bs4\n",
      "   </code>\n",
      "   package (for Python 3). In Fedora it's\n",
      "available as the\n",
      "   <code>\n",
      "    python-beautifulsoup4\n",
      "   </code>\n",
      "   package.\n",
      "  </p>\n",
      "  <p>\n",
      "   Beautiful Soup is licensed under the MIT license, so you can also\n",
      "download the tarball, drop the\n",
      "   <code>\n",
      "    bs4/\n",
      "   </code>\n",
      "   directory into almost\n",
      "any Python application (or into your library path) and start using it\n",
      "immediately. (If you want to do this under Python 3, you will need to\n",
      "manually convert the code using\n",
      "   <code>\n",
      "    2to3\n",
      "   </code>\n",
      "   .)\n",
      "  </p>\n",
      "  <p>\n",
      "   Beautiful Soup 4 works on both Python 2 (2.7+) and Python 3.\n",
      "  </p>\n",
      "  <h3>\n",
      "   Beautiful Soup 3\n",
      "  </h3>\n",
      "  <p>\n",
      "   Beautiful Soup 3 was the official release line of Beautiful Soup\n",
      "from May 2006 to March 2012. It is considered stable, and only\n",
      "critical security bugs will be fixed.\n",
      "   <a href=\"http://www.crummy.com/software/BeautifulSoup/bs3/documentation.html\">\n",
      "    Here's\n",
      "the Beautiful Soup 3 documentation.\n",
      "   </a>\n",
      "  </p>\n",
      "  <p>\n",
      "   Beautiful Soup 3 works only under Python 2.x. It is licensed under\n",
      "the same license as Python itself.\n",
      "  </p>\n",
      "  <p>\n",
      "   The current release of Beautiful Soup 3 is\n",
      "   <a href=\"download/3.x/BeautifulSoup-3.2.1.tar.gz\">\n",
      "    3.2.1\n",
      "   </a>\n",
      "   (February 16,\n",
      "2012). You can install Beautiful Soup 3 with\n",
      "   <code>\n",
      "    pip install\n",
      "BeautifulSoup\n",
      "   </code>\n",
      "   . It's also available as\n",
      "   <code>\n",
      "    python-beautifulsoup\n",
      "   </code>\n",
      "   in Debian and Ubuntu, and as\n",
      "   <code>\n",
      "    python-BeautifulSoup\n",
      "   </code>\n",
      "   in Fedora.\n",
      "  </p>\n",
      "  <p>\n",
      "   You can also download the tarball and use\n",
      "   <code>\n",
      "    BeautifulSoup.py\n",
      "   </code>\n",
      "   in your project directly.\n",
      "   <a name=\"HallOfFame\">\n",
      "    <h2>\n",
      "     Hall of Fame\n",
      "    </h2>\n",
      "   </a>\n",
      "  </p>\n",
      "  <p>\n",
      "   Over the years, Beautiful Soup has been used in hundreds of\n",
      "different projects. There's no way I can list them all, but I want to\n",
      "highlight a few high-profile projects. Beautiful Soup isn't what makes\n",
      "these projects interesting, but it did make their completion easier:\n",
      "  </p>\n",
      "  <ul>\n",
      "   <li>\n",
      "    <a href=\"http://www.nytimes.com/2007/10/25/arts/design/25vide.html\">\n",
      "     \"Movable\n",
      " Type\"\n",
      "    </a>\n",
      "    , a work of digital art on display in the lobby of the New\n",
      " York Times building, uses Beautiful Soup to scrape news feeds.\n",
      "   </li>\n",
      "   <li>\n",
      "    Reddit uses Beautiful Soup to\n",
      "    <a href=\"https://github.com/reddit/reddit/blob/85f9cff3e2ab9bb8f19b96acd8da4ebacc079f04/r2/r2/lib/media.py\">\n",
      "     parse\n",
      "a page that's been linked to and find a representative image\n",
      "    </a>\n",
      "    .\n",
      "   </li>\n",
      "   <li>\n",
      "    Alexander Harrowell uses Beautiful Soup to\n",
      "    <a href=\"http://www.harrowell.org.uk/viktormap.html\">\n",
      "     track the business\n",
      " activities\n",
      "    </a>\n",
      "    of an arms merchant.\n",
      "   </li>\n",
      "   <li>\n",
      "    The developers of Python itself used Beautiful Soup to\n",
      "    <a href=\"http://svn.python.org/view/tracker/importer/\">\n",
      "     migrate the Python\n",
      "bug tracker from Sourceforge to Roundup\n",
      "    </a>\n",
      "    .\n",
      "   </li>\n",
      "   <li>\n",
      "    The\n",
      "    <a href=\"http://www2.ljworld.com/\">\n",
      "     Lawrence Journal-World\n",
      "    </a>\n",
      "    uses Beautiful Soup to\n",
      "    <a href=\"http://www.b-list.org/weblog/2010/nov/02/news-done-broke/\">\n",
      "     gather\n",
      "statewide election results\n",
      "    </a>\n",
      "    .\n",
      "   </li>\n",
      "   <li>\n",
      "    The\n",
      "    <a href=\"http://esrl.noaa.gov/gsd/fab/\">\n",
      "     NOAA's Forecast\n",
      "Applications Branch\n",
      "    </a>\n",
      "    uses Beautiful Soup in\n",
      "    <a href=\"http://laps.noaa.gov/topograbber/\">\n",
      "     TopoGrabber\n",
      "    </a>\n",
      "    , a script for\n",
      "downloading \"high resolution USGS datasets.\"\n",
      "   </li>\n",
      "  </ul>\n",
      "  <p>\n",
      "   If you've used Beautiful Soup in a project you'd like me to know\n",
      "about, please do send email to me or\n",
      "   <a href=\"http://groups.google.com/group/beautifulsoup/\">\n",
      "    the discussion\n",
      "group\n",
      "   </a>\n",
      "   .\n",
      "  </p>\n",
      "  <h2>\n",
      "   Development\n",
      "  </h2>\n",
      "  <p>\n",
      "   Development happens at\n",
      "   <a href=\"https://launchpad.net/beautifulsoup\">\n",
      "    Launchpad\n",
      "   </a>\n",
      "   . You can\n",
      "   <a href=\"https://code.launchpad.net/beautifulsoup/\">\n",
      "    get the source\n",
      "code\n",
      "   </a>\n",
      "   or\n",
      "   <a href=\"https://bugs.launchpad.net/beautifulsoup/\">\n",
      "    file\n",
      "bugs\n",
      "   </a>\n",
      "   .\n",
      "  </p>\n",
      "  <hr/>\n",
      "  <table>\n",
      "   <tr>\n",
      "    <td valign=\"top\">\n",
      "     <p>\n",
      "      This document (\n",
      "      <a href=\"/source/software/BeautifulSoup/index.bhtml\">\n",
      "       source\n",
      "      </a>\n",
      "      ) is part of Crummy, the webspace of\n",
      "      <a href=\"/self/\">\n",
      "       Leonard Richardson\n",
      "      </a>\n",
      "      (\n",
      "      <a href=\"/self/contact.html\">\n",
      "       contact information\n",
      "      </a>\n",
      "      ). It was last modified on Friday, August 11 2017, 14:19:20 Nowhere Standard Time and last built on Tuesday, October 24 2017, 07:00:01 Nowhere Standard Time.\n",
      "     </p>\n",
      "     <p>\n",
      "     </p>\n",
      "     <table class=\"licenseText\">\n",
      "      <tr>\n",
      "       <td>\n",
      "        <a href=\"http://creativecommons.org/licenses/by-sa/2.0/\">\n",
      "         <img border=\"0\" src=\"/nb//resources/img/somerights20.jpg\"/>\n",
      "        </a>\n",
      "       </td>\n",
      "       <td valign=\"top\">\n",
      "        Crummy is © 1996-2017 Leonard Richardson. Unless otherwise noted, all text licensed under a\n",
      "        <a href=\"http://creativecommons.org/licenses/by-sa/2.0/\">\n",
      "         Creative Commons License\n",
      "        </a>\n",
      "        .\n",
      "       </td>\n",
      "      </tr>\n",
      "     </table>\n",
      "     <!--<rdf:RDF xmlns=\"http://web.resource.org/cc/\" xmlns:dc=\"http://purl.org/dc/elements/1.1/\" xmlns:rdf=\"http://www.w3.org/1999/02/22-rdf-syntax-ns#\"><Work rdf:about=\"http://www.crummy.com/\"><dc:title>Crummy: The Site</dc:title><dc:rights><Agent><dc:title>Crummy: the Site</dc:title></Agent></dc:rights><dc:format>text/html</dc:format><license rdf:resource=http://creativecommons.org/licenses/by-sa/2.0//></Work><License rdf:about=\"http://creativecommons.org/licenses/by-sa/2.0/\"></License></rdf:RDF>-->\n",
      "    </td>\n",
      "    <td valign=\"top\">\n",
      "     <p>\n",
      "      <b>\n",
      "       Document tree:\n",
      "      </b>\n",
      "     </p>\n",
      "     <dl>\n",
      "      <dd>\n",
      "       <a href=\"http://www.crummy.com/\">\n",
      "        http://www.crummy.com/\n",
      "       </a>\n",
      "       <dl>\n",
      "        <dd>\n",
      "         <a href=\"http://www.crummy.com/software/\">\n",
      "          software/\n",
      "         </a>\n",
      "         <dl>\n",
      "          <dd>\n",
      "           <a href=\"http://www.crummy.com/software/BeautifulSoup/\">\n",
      "            BeautifulSoup/\n",
      "           </a>\n",
      "          </dd>\n",
      "         </dl>\n",
      "        </dd>\n",
      "       </dl>\n",
      "      </dd>\n",
      "     </dl>\n",
      "     Site Search:\n",
      "     <form action=\"/search/\" method=\"get\">\n",
      "      <input maxlength=\"255\" name=\"q\" type=\"text\" value=\"\"/>\n",
      "     </form>\n",
      "    </td>\n",
      "   </tr>\n",
      "  </table>\n",
      " </body>\n",
      "</html>\n",
      "\n"
     ]
    }
   ],
   "source": [
    "## get bs4 object\n",
    "soup = bs4.BeautifulSoup(source, \"lxml\")\n",
    " \n",
    "## compare the two print statements\n",
    "print(soup)\n",
    "print(\"#####################################################\")\n",
    "print(soup.prettify())\n"
   ]
  },
  {
   "cell_type": "code",
   "execution_count": 13,
   "metadata": {},
   "outputs": [
    {
     "data": {
      "text/plain": [
       "[<a href=\"bs4/download/\"><h1>Beautiful Soup</h1></a>,\n",
       " <a href=\"#Download\">Download</a>,\n",
       " <a href=\"bs4/doc/\">Documentation</a>,\n",
       " <a href=\"#HallOfFame\">Hall of Fame</a>,\n",
       " <a href=\"https://code.launchpad.net/beautifulsoup\">Source</a>,\n",
       " <a href=\"https://groups.google.com/forum/?fromgroups#!forum/beautifulsoup\">Discussion group</a>,\n",
       " <a href=\"zine/\">Zine</a>,\n",
       " <a href=\"zine/\"><i>Tool Safety</i></a>,\n",
       " <a href=\"https://groups.google.com/forum/?fromgroups#!forum/beautifulsoup\">the discussion\n",
       " group</a>,\n",
       " <a href=\"https://bugs.launchpad.net/beautifulsoup/\">file it</a>,\n",
       " <a href=\"http://lxml.de/\">lxml</a>,\n",
       " <a href=\"http://code.google.com/p/html5lib/\">html5lib</a>,\n",
       " <a href=\"bs4/doc/\">Read more.</a>,\n",
       " <a name=\"Download\"><h2>Download Beautiful Soup</h2></a>,\n",
       " <a href=\"bs4/download/\">Beautiful Soup\n",
       " 4.6.0</a>,\n",
       " <a href=\"http://www.crummy.com/software/BeautifulSoup/bs3/documentation.html\">Here's\n",
       " the Beautiful Soup 3 documentation.</a>,\n",
       " <a href=\"download/3.x/BeautifulSoup-3.2.1.tar.gz\">3.2.1</a>,\n",
       " <a name=\"HallOfFame\"><h2>Hall of Fame</h2></a>,\n",
       " <a href=\"http://www.nytimes.com/2007/10/25/arts/design/25vide.html\">\"Movable\n",
       "  Type\"</a>,\n",
       " <a href=\"https://github.com/reddit/reddit/blob/85f9cff3e2ab9bb8f19b96acd8da4ebacc079f04/r2/r2/lib/media.py\">parse\n",
       " a page that's been linked to and find a representative image</a>,\n",
       " <a href=\"http://www.harrowell.org.uk/viktormap.html\">track the business\n",
       "  activities</a>,\n",
       " <a href=\"http://svn.python.org/view/tracker/importer/\">migrate the Python\n",
       " bug tracker from Sourceforge to Roundup</a>,\n",
       " <a href=\"http://www2.ljworld.com/\">Lawrence Journal-World</a>,\n",
       " <a href=\"http://www.b-list.org/weblog/2010/nov/02/news-done-broke/\">gather\n",
       " statewide election results</a>,\n",
       " <a href=\"http://esrl.noaa.gov/gsd/fab/\">NOAA's Forecast\n",
       " Applications Branch</a>,\n",
       " <a href=\"http://laps.noaa.gov/topograbber/\">TopoGrabber</a>,\n",
       " <a href=\"http://groups.google.com/group/beautifulsoup/\">the discussion\n",
       " group</a>,\n",
       " <a href=\"https://launchpad.net/beautifulsoup\">Launchpad</a>,\n",
       " <a href=\"https://code.launchpad.net/beautifulsoup/\">get the source\n",
       " code</a>,\n",
       " <a href=\"https://bugs.launchpad.net/beautifulsoup/\">file\n",
       " bugs</a>,\n",
       " <a href=\"/source/software/BeautifulSoup/index.bhtml\">source</a>,\n",
       " <a href=\"/self/\">Leonard Richardson</a>,\n",
       " <a href=\"/self/contact.html\">contact information</a>,\n",
       " <a href=\"http://creativecommons.org/licenses/by-sa/2.0/\"><img border=\"0\" src=\"/nb//resources/img/somerights20.jpg\"/></a>,\n",
       " <a href=\"http://creativecommons.org/licenses/by-sa/2.0/\">Creative Commons License</a>,\n",
       " <a href=\"http://www.crummy.com/\">http://www.crummy.com/</a>,\n",
       " <a href=\"http://www.crummy.com/software/\">software/</a>,\n",
       " <a href=\"http://www.crummy.com/software/BeautifulSoup/\">BeautifulSoup/</a>]"
      ]
     },
     "execution_count": 13,
     "metadata": {},
     "output_type": "execute_result"
    }
   ],
   "source": [
    "## show how to find all a tags\n",
    "soup.findAll('a')\n",
    "\n",
    "## ***Why does this not work? ***\n",
    "#soup.findAll('Soup')"
   ]
  },
  {
   "cell_type": "markdown",
   "metadata": {
    "nbpresent": {
     "id": "48f7705d-5d9a-41a7-bdf8-b798ca0cd655"
    },
    "slideshow": {
     "slide_type": "slide"
    }
   },
   "source": [
    "Some examples\n",
    "============="
   ]
  },
  {
   "cell_type": "code",
   "execution_count": 17,
   "metadata": {
    "nbpresent": {
     "id": "3bd58d10-9979-4338-a605-e936734bc6ed"
    }
   },
   "outputs": [
    {
     "data": {
      "text/plain": [
       "['bs4/download/',\n",
       " '#Download',\n",
       " 'bs4/doc/',\n",
       " '#HallOfFame',\n",
       " 'https://code.launchpad.net/beautifulsoup',\n",
       " 'https://groups.google.com/forum/?fromgroups#!forum/beautifulsoup',\n",
       " 'zine/',\n",
       " 'zine/',\n",
       " 'https://groups.google.com/forum/?fromgroups#!forum/beautifulsoup',\n",
       " 'https://bugs.launchpad.net/beautifulsoup/',\n",
       " 'http://lxml.de/',\n",
       " 'http://code.google.com/p/html5lib/',\n",
       " 'bs4/doc/',\n",
       " None,\n",
       " 'bs4/download/',\n",
       " 'http://www.crummy.com/software/BeautifulSoup/bs3/documentation.html',\n",
       " 'download/3.x/BeautifulSoup-3.2.1.tar.gz',\n",
       " None,\n",
       " 'http://www.nytimes.com/2007/10/25/arts/design/25vide.html',\n",
       " 'https://github.com/reddit/reddit/blob/85f9cff3e2ab9bb8f19b96acd8da4ebacc079f04/r2/r2/lib/media.py',\n",
       " 'http://www.harrowell.org.uk/viktormap.html',\n",
       " 'http://svn.python.org/view/tracker/importer/',\n",
       " 'http://www2.ljworld.com/',\n",
       " 'http://www.b-list.org/weblog/2010/nov/02/news-done-broke/',\n",
       " 'http://esrl.noaa.gov/gsd/fab/',\n",
       " 'http://laps.noaa.gov/topograbber/',\n",
       " 'http://groups.google.com/group/beautifulsoup/',\n",
       " 'https://launchpad.net/beautifulsoup',\n",
       " 'https://code.launchpad.net/beautifulsoup/',\n",
       " 'https://bugs.launchpad.net/beautifulsoup/',\n",
       " '/source/software/BeautifulSoup/index.bhtml',\n",
       " '/self/',\n",
       " '/self/contact.html',\n",
       " 'http://creativecommons.org/licenses/by-sa/2.0/',\n",
       " 'http://creativecommons.org/licenses/by-sa/2.0/',\n",
       " 'http://www.crummy.com/',\n",
       " 'http://www.crummy.com/software/',\n",
       " 'http://www.crummy.com/software/BeautifulSoup/']"
      ]
     },
     "execution_count": 17,
     "metadata": {},
     "output_type": "execute_result"
    }
   ],
   "source": [
    "## get attribute value from an element:\n",
    "## find tag: this only returns the first occurrence, not all tags in the string\n",
    "first_tag = soup.find('a')\n",
    "\n",
    "## get attribute `href`\n",
    "first_tag.get('href')\n",
    "\n",
    "## get all links in the page\n",
    "link_list = [l.get('href') for l in soup.findAll('a')]\n",
    "link_list"
   ]
  },
  {
   "cell_type": "code",
   "execution_count": 18,
   "metadata": {
    "nbpresent": {
     "id": "5021cd21-216d-4815-b55f-dd532b60d9b2"
    },
    "slideshow": {
     "slide_type": "slide"
    }
   },
   "outputs": [
    {
     "ename": "TypeError",
     "evalue": "'NoneType' object is not subscriptable",
     "output_type": "error",
     "traceback": [
      "\u001b[0;31m---------------------------------------------------------------------------\u001b[0m",
      "\u001b[0;31mTypeError\u001b[0m                                 Traceback (most recent call last)",
      "\u001b[0;32m<ipython-input-18-db28b6c7151c>\u001b[0m in \u001b[0;36m<module>\u001b[0;34m()\u001b[0m\n\u001b[1;32m      6\u001b[0m \u001b[1;31m# if it starts with 'http' we are happy\u001b[0m\u001b[1;33m\u001b[0m\u001b[1;33m\u001b[0m\u001b[0m\n\u001b[1;32m      7\u001b[0m \u001b[1;32mfor\u001b[0m \u001b[0ml\u001b[0m \u001b[1;32min\u001b[0m \u001b[0mlink_list\u001b[0m\u001b[1;33m:\u001b[0m\u001b[1;33m\u001b[0m\u001b[0m\n\u001b[0;32m----> 8\u001b[0;31m     \u001b[1;32mif\u001b[0m \u001b[0ml\u001b[0m\u001b[1;33m[\u001b[0m\u001b[1;33m:\u001b[0m\u001b[1;36m4\u001b[0m\u001b[1;33m]\u001b[0m \u001b[1;33m==\u001b[0m \u001b[1;34m'http'\u001b[0m\u001b[1;33m:\u001b[0m\u001b[1;33m\u001b[0m\u001b[0m\n\u001b[0m\u001b[1;32m      9\u001b[0m         \u001b[0mexternal_links\u001b[0m\u001b[1;33m.\u001b[0m\u001b[0mappend\u001b[0m\u001b[1;33m(\u001b[0m\u001b[0ml\u001b[0m\u001b[1;33m)\u001b[0m\u001b[1;33m\u001b[0m\u001b[0m\n\u001b[1;32m     10\u001b[0m \u001b[1;33m\u001b[0m\u001b[0m\n",
      "\u001b[0;31mTypeError\u001b[0m: 'NoneType' object is not subscriptable"
     ]
    }
   ],
   "source": [
    "## filter all external links\n",
    "# create an empty list to collect the valid links\n",
    "external_links = []\n",
    "\n",
    "# write a loop to filter the links\n",
    "# if it starts with 'http' we are happy\n",
    "for l in link_list:\n",
    "    if l[:4] == 'http':\n",
    "        external_links.append(l)\n",
    "\n",
    "# this throws an error! It says something about 'NoneType'"
   ]
  },
  {
   "cell_type": "code",
   "execution_count": 18,
   "metadata": {
    "nbpresent": {
     "id": "2c26e57c-b37d-4e8a-8b1f-61329add142d"
    },
    "slideshow": {
     "slide_type": "slide"
    }
   },
   "outputs": [
    {
     "data": {
      "text/plain": [
       "['bs4/download/',\n",
       " '#Download',\n",
       " 'bs4/doc/',\n",
       " '#HallOfFame',\n",
       " 'https://code.launchpad.net/beautifulsoup',\n",
       " 'https://groups.google.com/forum/?fromgroups#!forum/beautifulsoup',\n",
       " 'zine/',\n",
       " 'zine/',\n",
       " 'https://groups.google.com/forum/?fromgroups#!forum/beautifulsoup',\n",
       " 'https://bugs.launchpad.net/beautifulsoup/',\n",
       " 'http://lxml.de/',\n",
       " 'http://code.google.com/p/html5lib/',\n",
       " 'bs4/doc/',\n",
       " None,\n",
       " 'bs4/download/',\n",
       " 'http://www.crummy.com/software/BeautifulSoup/bs3/documentation.html',\n",
       " 'download/3.x/BeautifulSoup-3.2.1.tar.gz',\n",
       " None,\n",
       " 'http://www.nytimes.com/2007/10/25/arts/design/25vide.html',\n",
       " 'https://github.com/reddit/reddit/blob/85f9cff3e2ab9bb8f19b96acd8da4ebacc079f04/r2/r2/lib/media.py',\n",
       " 'http://www.harrowell.org.uk/viktormap.html',\n",
       " 'http://svn.python.org/view/tracker/importer/',\n",
       " 'http://www2.ljworld.com/',\n",
       " 'http://www.b-list.org/weblog/2010/nov/02/news-done-broke/',\n",
       " 'http://esrl.noaa.gov/gsd/fab/',\n",
       " 'http://laps.noaa.gov/topograbber/',\n",
       " 'http://groups.google.com/group/beautifulsoup/',\n",
       " 'https://launchpad.net/beautifulsoup',\n",
       " 'https://code.launchpad.net/beautifulsoup/',\n",
       " 'https://bugs.launchpad.net/beautifulsoup/',\n",
       " '/source/software/BeautifulSoup/index.bhtml',\n",
       " '/self/',\n",
       " '/self/contact.html',\n",
       " 'http://creativecommons.org/licenses/by-sa/2.0/',\n",
       " 'http://creativecommons.org/licenses/by-sa/2.0/',\n",
       " 'http://www.crummy.com/',\n",
       " 'http://www.crummy.com/software/',\n",
       " 'http://www.crummy.com/software/BeautifulSoup/']"
      ]
     },
     "execution_count": 18,
     "metadata": {},
     "output_type": "execute_result"
    }
   ],
   "source": [
    "# lets investigate. Have a close look at the link_list:\n",
    "link_list\n",
    "\n",
    "# Seems that there are None elements!\n",
    "# Let's verify\n",
    "#print sum([l is None for l in link_list])\n",
    "\n",
    "# So there are two elements in the list that are None!"
   ]
  },
  {
   "cell_type": "code",
   "execution_count": 19,
   "metadata": {
    "nbpresent": {
     "id": "dfd983e9-0617-4873-8e15-09f2a5f14870"
    },
    "slideshow": {
     "slide_type": "slide"
    }
   },
   "outputs": [
    {
     "data": {
      "text/plain": [
       "['https://code.launchpad.net/beautifulsoup',\n",
       " 'https://groups.google.com/forum/?fromgroups#!forum/beautifulsoup',\n",
       " 'https://groups.google.com/forum/?fromgroups#!forum/beautifulsoup',\n",
       " 'https://bugs.launchpad.net/beautifulsoup/',\n",
       " 'http://lxml.de/',\n",
       " 'http://code.google.com/p/html5lib/',\n",
       " 'http://www.crummy.com/software/BeautifulSoup/bs3/documentation.html',\n",
       " 'http://www.nytimes.com/2007/10/25/arts/design/25vide.html',\n",
       " 'https://github.com/reddit/reddit/blob/85f9cff3e2ab9bb8f19b96acd8da4ebacc079f04/r2/r2/lib/media.py',\n",
       " 'http://www.harrowell.org.uk/viktormap.html',\n",
       " 'http://svn.python.org/view/tracker/importer/',\n",
       " 'http://www2.ljworld.com/',\n",
       " 'http://www.b-list.org/weblog/2010/nov/02/news-done-broke/',\n",
       " 'http://esrl.noaa.gov/gsd/fab/',\n",
       " 'http://laps.noaa.gov/topograbber/',\n",
       " 'http://groups.google.com/group/beautifulsoup/',\n",
       " 'https://launchpad.net/beautifulsoup',\n",
       " 'https://code.launchpad.net/beautifulsoup/',\n",
       " 'https://bugs.launchpad.net/beautifulsoup/',\n",
       " 'http://creativecommons.org/licenses/by-sa/2.0/',\n",
       " 'http://creativecommons.org/licenses/by-sa/2.0/',\n",
       " 'http://www.crummy.com/',\n",
       " 'http://www.crummy.com/software/',\n",
       " 'http://www.crummy.com/software/BeautifulSoup/']"
      ]
     },
     "execution_count": 19,
     "metadata": {},
     "output_type": "execute_result"
    }
   ],
   "source": [
    "# Let's filter those objects out in the for loop\n",
    "external_links = []\n",
    "\n",
    "# write a loop to filter the links\n",
    "# if it is not None and starts with 'http' we are happy\n",
    "for l in link_list:\n",
    "    if l is not None and l[:4] == 'http':\n",
    "        external_links.append(l)\n",
    "        \n",
    "external_links"
   ]
  },
  {
   "cell_type": "markdown",
   "metadata": {
    "nbpresent": {
     "id": "71b3efdf-925a-463b-aafc-ab9e8568eb31"
    },
    "slideshow": {
     "slide_type": "skip"
    }
   },
   "source": [
    "Note: The above `if` condition works because of lazy evaluation in Python. The `and` statement becomes `False` if the first part is `False`, so there is no need to ever evaluate the second part. Thus a `None` entry in the list gets never asked about its first four characters. "
   ]
  },
  {
   "cell_type": "code",
   "execution_count": 20,
   "metadata": {
    "nbpresent": {
     "id": "b35efc4b-f710-4392-b14e-80764b632b4c"
    },
    "slideshow": {
     "slide_type": "slide"
    }
   },
   "outputs": [
    {
     "data": {
      "text/plain": [
       "['https://code.launchpad.net/beautifulsoup',\n",
       " 'https://groups.google.com/forum/?fromgroups#!forum/beautifulsoup',\n",
       " 'https://groups.google.com/forum/?fromgroups#!forum/beautifulsoup',\n",
       " 'https://bugs.launchpad.net/beautifulsoup/',\n",
       " 'http://lxml.de/',\n",
       " 'http://code.google.com/p/html5lib/',\n",
       " 'http://www.crummy.com/software/BeautifulSoup/bs3/documentation.html',\n",
       " 'http://www.nytimes.com/2007/10/25/arts/design/25vide.html',\n",
       " 'https://github.com/reddit/reddit/blob/85f9cff3e2ab9bb8f19b96acd8da4ebacc079f04/r2/r2/lib/media.py',\n",
       " 'http://www.harrowell.org.uk/viktormap.html',\n",
       " 'http://svn.python.org/view/tracker/importer/',\n",
       " 'http://www2.ljworld.com/',\n",
       " 'http://www.b-list.org/weblog/2010/nov/02/news-done-broke/',\n",
       " 'http://esrl.noaa.gov/gsd/fab/',\n",
       " 'http://laps.noaa.gov/topograbber/',\n",
       " 'http://groups.google.com/group/beautifulsoup/',\n",
       " 'https://launchpad.net/beautifulsoup',\n",
       " 'https://code.launchpad.net/beautifulsoup/',\n",
       " 'https://bugs.launchpad.net/beautifulsoup/',\n",
       " 'http://creativecommons.org/licenses/by-sa/2.0/',\n",
       " 'http://creativecommons.org/licenses/by-sa/2.0/',\n",
       " 'http://www.crummy.com/',\n",
       " 'http://www.crummy.com/software/',\n",
       " 'http://www.crummy.com/software/BeautifulSoup/']"
      ]
     },
     "execution_count": 20,
     "metadata": {},
     "output_type": "execute_result"
    }
   ],
   "source": [
    "# and we can put this in a list comprehension as well, it almost reads like \n",
    "# a sentence.\n",
    "\n",
    "[l for l in link_list if l is not None and l.startswith('http')]"
   ]
  },
  {
   "cell_type": "markdown",
   "metadata": {
    "nbpresent": {
     "id": "25edb4ed-7f1a-4e8b-8a70-a22c3c885f1c"
    },
    "slideshow": {
     "slide_type": "slide"
    }
   },
   "source": [
    "Parsing the Tree\n",
    "================\n",
    "\n"
   ]
  },
  {
   "cell_type": "code",
   "execution_count": 26,
   "metadata": {
    "nbpresent": {
     "id": "43713ada-ebd2-4d03-a8d6-1a54a8b37a1c"
    }
   },
   "outputs": [
    {
     "data": {
      "text/plain": [
       "<!DOCTYPE html>\n",
       "<html><head><title>This is a title</title></head><body><h3> Test </h3><p>Hello world!</p></body></html>"
      ]
     },
     "execution_count": 26,
     "metadata": {},
     "output_type": "execute_result"
    }
   ],
   "source": [
    "# redifining `s` without any line breaks\n",
    "s = \"\"\"<!DOCTYPE html><html><head><title>This is a title</title></head><body><h3> Test </h3><p>Hello world!</p></body></html>\"\"\"\n",
    "## get bs4 object\n",
    "tree = bs4.BeautifulSoup(s, \"lxml\")\n",
    "tree"
   ]
  },
  {
   "cell_type": "code",
   "execution_count": 28,
   "metadata": {},
   "outputs": [
    {
     "data": {
      "text/plain": [
       "<html><head><title>This is a title</title></head><body><h3> Test </h3><p>Hello world!</p></body></html>"
      ]
     },
     "execution_count": 28,
     "metadata": {},
     "output_type": "execute_result"
    }
   ],
   "source": [
    "## get html root node\n",
    "root_node = tree.html\n",
    "root_node"
   ]
  },
  {
   "cell_type": "code",
   "execution_count": 29,
   "metadata": {},
   "outputs": [
    {
     "data": {
      "text/plain": [
       "<head><title>This is a title</title></head>"
      ]
     },
     "execution_count": 29,
     "metadata": {},
     "output_type": "execute_result"
    }
   ],
   "source": [
    "## get head from root using contents\n",
    "head = root_node.contents[0]\n",
    "head"
   ]
  },
  {
   "cell_type": "code",
   "execution_count": 30,
   "metadata": {},
   "outputs": [
    {
     "data": {
      "text/plain": [
       "<body><h3> Test </h3><p>Hello world!</p></body>"
      ]
     },
     "execution_count": 30,
     "metadata": {},
     "output_type": "execute_result"
    }
   ],
   "source": [
    "## get body from root\n",
    "body = root_node.contents[1]\n",
    "body"
   ]
  },
  {
   "cell_type": "code",
   "execution_count": 31,
   "metadata": {},
   "outputs": [
    {
     "data": {
      "text/plain": [
       "<body><h3> Test </h3><p>Hello world!</p></body>"
      ]
     },
     "execution_count": 31,
     "metadata": {},
     "output_type": "execute_result"
    }
   ],
   "source": [
    "## could directly access body\n",
    "tree.body"
   ]
  },
  {
   "cell_type": "markdown",
   "metadata": {
    "nbpresent": {
     "id": "51fd82e0-8ac7-4bd8-91e8-7991e0905a9b"
    },
    "slideshow": {
     "slide_type": "slide"
    }
   },
   "source": [
    "Quiz:\n",
    "=====\n",
    "\n",
    "* Find the `h3` tag by parsing the tree starting at `body`\n"
   ]
  },
  {
   "cell_type": "code",
   "execution_count": 32,
   "metadata": {
    "nbpresent": {
     "id": "7d58263a-955a-4ae2-a748-fa0658c32b95"
    },
    "slideshow": {
     "slide_type": "slide"
    }
   },
   "outputs": [
    {
     "data": {
      "text/plain": [
       "<h3> Test </h3>"
      ]
     },
     "execution_count": 32,
     "metadata": {},
     "output_type": "execute_result"
    }
   ],
   "source": [
    "## get h3 tag from body\n",
    "body.contents[0] "
   ]
  },
  {
   "cell_type": "markdown",
   "metadata": {},
   "source": [
    "Quiz:\n",
    "=====\n",
    "\n",
    "* Create a list of all __Hall of Fame__ entries listed on the Beautiful Soup webpage\n",
    "    - hint: it is the only unordered list in the page (tag `ul`)"
   ]
  },
  {
   "cell_type": "code",
   "execution_count": 49,
   "metadata": {
    "nbpresent": {
     "id": "339ad012-e83f-4d1c-97f0-5b6b8d08d866"
    },
    "slideshow": {
     "slide_type": "slide"
    }
   },
   "outputs": [
    {
     "name": "stdout",
     "output_type": "stream",
     "text": [
      "[<li><a href=\"http://www.nytimes.com/2007/10/25/arts/design/25vide.html\">\"Movable\n",
      " Type\"</a>, a work of digital art on display in the lobby of the New\n",
      " York Times building, uses Beautiful Soup to scrape news feeds.\n",
      "\n",
      "</li>, <li>Reddit uses Beautiful Soup to <a href=\"https://github.com/reddit/reddit/blob/85f9cff3e2ab9bb8f19b96acd8da4ebacc079f04/r2/r2/lib/media.py\">parse\n",
      "a page that's been linked to and find a representative image</a>.\n",
      "\n",
      "</li>, <li>Alexander Harrowell uses Beautiful Soup to <a href=\"http://www.harrowell.org.uk/viktormap.html\">track the business\n",
      " activities</a> of an arms merchant.\n",
      "\n",
      "</li>, <li>The developers of Python itself used Beautiful Soup to <a href=\"http://svn.python.org/view/tracker/importer/\">migrate the Python\n",
      "bug tracker from Sourceforge to Roundup</a>.\n",
      "\n",
      "</li>, <li>The <a href=\"http://www2.ljworld.com/\">Lawrence Journal-World</a>\n",
      "uses Beautiful Soup to <a href=\"http://www.b-list.org/weblog/2010/nov/02/news-done-broke/\">gather\n",
      "statewide election results</a>.\n",
      "\n",
      "</li>, <li>The <a href=\"http://esrl.noaa.gov/gsd/fab/\">NOAA's Forecast\n",
      "Applications Branch</a> uses Beautiful Soup in <a href=\"http://laps.noaa.gov/topograbber/\">TopoGrabber</a>, a script for\n",
      "downloading \"high resolution USGS datasets.\"\n",
      "\n",
      "</li>]\n"
     ]
    }
   ],
   "source": [
    "## use ul as entry point\n",
    "entry_point = soup.find('ul')\n",
    "# print(entry_point)\n",
    "\n",
    "## get hall of fame list from entry point\n",
    "## skip the first entry \n",
    "hall_of_fame_list = entry_point.contents[1:]\n",
    "# print(hall_of_fame_list)\n",
    "\n",
    "## reformat into a list containing strings\n",
    "## it is ok to have a list of lists\n",
    "tmp = [li for li in hall_of_fame_list]\n",
    "# print(tmp)\n",
    "    "
   ]
  },
  {
   "cell_type": "markdown",
   "metadata": {
    "nbpresent": {
     "id": "20d48e2e-b7d2-4980-aebc-2cfc9791d08d"
    },
    "slideshow": {
     "slide_type": "slide"
    }
   },
   "source": [
    "`tmp` now is actually a list of lists containing the hall of fame entries. \n",
    "Here is some advanced Python on how to print really just one entry per list item.\n",
    "\n",
    "The cool things about this are: \n",
    "* The use of `\"\"` to just access the `join` function of strings.\n",
    "* The `join` function itself\n",
    "* that you can actually have two nested for loops in a list comprehension"
   ]
  },
  {
   "cell_type": "code",
   "execution_count": 50,
   "metadata": {
    "nbpresent": {
     "id": "6b3da1d5-0856-4663-9257-ee9bad325648"
    },
    "slideshow": {
     "slide_type": "-"
    }
   },
   "outputs": [
    {
     "name": "stdout",
     "output_type": "stream",
     "text": [
      "<a href=\"http://www.nytimes.com/2007/10/25/arts/design/25vide.html\">\"Movable\n",
      " Type\"</a>, a work of digital art on display in the lobby of the New\n",
      " York Times building, uses Beautiful Soup to scrape news feeds.\n",
      "\n",
      "\n",
      "Reddit uses Beautiful Soup to <a href=\"https://github.com/reddit/reddit/blob/85f9cff3e2ab9bb8f19b96acd8da4ebacc079f04/r2/r2/lib/media.py\">parse\n",
      "a page that's been linked to and find a representative image</a>.\n",
      "\n",
      "\n",
      "Alexander Harrowell uses Beautiful Soup to <a href=\"http://www.harrowell.org.uk/viktormap.html\">track the business\n",
      " activities</a> of an arms merchant.\n",
      "\n",
      "\n",
      "The developers of Python itself used Beautiful Soup to <a href=\"http://svn.python.org/view/tracker/importer/\">migrate the Python\n",
      "bug tracker from Sourceforge to Roundup</a>.\n",
      "\n",
      "\n",
      "The <a href=\"http://www2.ljworld.com/\">Lawrence Journal-World</a>\n",
      "uses Beautiful Soup to <a href=\"http://www.b-list.org/weblog/2010/nov/02/news-done-broke/\">gather\n",
      "statewide election results</a>.\n",
      "\n",
      "\n",
      "The <a href=\"http://esrl.noaa.gov/gsd/fab/\">NOAA's Forecast\n",
      "Applications Branch</a> uses Beautiful Soup in <a href=\"http://laps.noaa.gov/topograbber/\">TopoGrabber</a>, a script for\n",
      "downloading \"high resolution USGS datasets.\"\n",
      "\n",
      "\n"
     ]
    }
   ],
   "source": [
    "test =  [\"\".join(str(a) for a in sublist) for sublist in tmp]\n",
    "print ('\\n'.join(test))"
   ]
  },
  {
   "cell_type": "markdown",
   "metadata": {
    "nbpresent": {
     "id": "3ca050d4-a9b1-40f0-bcb5-370a45b3b584"
    },
    "slideshow": {
     "slide_type": "slide"
    }
   },
   "source": [
    "Advanced Example\n",
    "================\n",
    "\n",
    "Designed by Katharine Jarmul\n",
    "----------------------------\n",
    "\n",
    "https://github.com/kjam/python-web-scraping-tutorial\n",
    "\n",
    "Her Hompage: http://kjamistan.com/\n"
   ]
  },
  {
   "cell_type": "markdown",
   "metadata": {
    "nbpresent": {
     "id": "412d5488-beae-48cf-83a5-d76ba645de49"
    },
    "slideshow": {
     "slide_type": "slide"
    }
   },
   "source": [
    "Further material\n",
    "================\n",
    "\n",
    "* I highly recommend Katharine Jarmul's scraping tutorials\n",
    "* For example [this one](https://www.youtube.com/watch?v=p1iX0uxM1w8)\n",
    "* Pandas has extensive [documentation](http://pandas.pydata.org/pandas-docs/stable/)\n",
    "* Especially the [tem minutes to pandas chapter](http://pandas.pydata.org/pandas-docs/stable/10min.html)\n",
    "\n",
    "* [Greg Reda](http://www.gregreda.com/2013/10/26/using-pandas-on-the-movielens-dataset/) did a lot more pandas examples for the movie lens data set"
   ]
  }
 ],
 "metadata": {
  "anaconda-cloud": {},
  "celltoolbar": "Slideshow",
  "kernelspec": {
   "display_name": "Python 3",
   "language": "python",
   "name": "python3"
  },
  "language_info": {
   "codemirror_mode": {
    "name": "ipython",
    "version": 3
   },
   "file_extension": ".py",
   "mimetype": "text/x-python",
   "name": "python",
   "nbconvert_exporter": "python",
   "pygments_lexer": "ipython3",
   "version": "3.5.4"
  },
  "nbpresent": {
   "slides": {
    "003a8d10-c702-4842-92b4-e701fe397370": {
     "id": "003a8d10-c702-4842-92b4-e701fe397370",
     "prev": "3545f1b7-55bb-46f8-8c73-c6ce4a3c4a33",
     "regions": {
      "fa4d5514-1124-4589-8b16-b6ed80cb85a3": {
       "attrs": {
        "height": 0.8,
        "width": 0.8,
        "x": 0.1,
        "y": 0.1
       },
       "content": {
        "cell": "f27b786c-50b0-4898-9d8a-8e16771eb256",
        "part": "whole"
       },
       "id": "fa4d5514-1124-4589-8b16-b6ed80cb85a3"
      }
     }
    },
    "00b8cd49-e070-4228-b1c8-1d24a107ec36": {
     "id": "00b8cd49-e070-4228-b1c8-1d24a107ec36",
     "prev": "09b60e7e-c40e-43c2-8e13-a4ed01cce0dd",
     "regions": {
      "5063ea09-98fc-4283-a0b4-3ed4a733e919": {
       "attrs": {
        "height": 0.8,
        "width": 0.8,
        "x": 0.1,
        "y": 0.1
       },
       "content": {
        "cell": "a3de6abd-35ef-4221-89be-410cbe72bee2",
        "part": "whole"
       },
       "id": "5063ea09-98fc-4283-a0b4-3ed4a733e919"
      }
     }
    },
    "04bdd42f-ab27-4d69-bf96-77113303f400": {
     "id": "04bdd42f-ab27-4d69-bf96-77113303f400",
     "prev": "36d4ad48-33f7-4d93-b3c0-7dd4207a98cd",
     "regions": {
      "d63fc066-eb75-4241-887a-7f7e89cc96c6": {
       "attrs": {
        "height": 0.8,
        "width": 0.8,
        "x": 0.1,
        "y": 0.1
       },
       "content": {
        "cell": "e2e365bf-0136-4b57-bcc9-f0ba4c68839f",
        "part": "whole"
       },
       "id": "d63fc066-eb75-4241-887a-7f7e89cc96c6"
      }
     }
    },
    "05e508e3-a639-4263-bdd5-08d24fb7a443": {
     "id": "05e508e3-a639-4263-bdd5-08d24fb7a443",
     "prev": "be12af40-553a-45ec-87ba-4f2c6c0df9f8",
     "regions": {
      "df338a2f-c687-4a12-9b7d-7acad0ab640a": {
       "attrs": {
        "height": 0.8,
        "width": 0.8,
        "x": 0.1,
        "y": 0.1
       },
       "content": {
        "cell": "ffeef580-46ce-4870-be53-690f222dc959",
        "part": "whole"
       },
       "id": "df338a2f-c687-4a12-9b7d-7acad0ab640a"
      }
     }
    },
    "0850b123-c1a3-49a2-a839-e26f9ac9647e": {
     "id": "0850b123-c1a3-49a2-a839-e26f9ac9647e",
     "prev": "a5cc761f-70ba-4c00-afcd-92bde023f5a2",
     "regions": {
      "3fffb492-db9b-4410-a495-fc4a713e54ad": {
       "attrs": {
        "height": 0.8,
        "width": 0.8,
        "x": 0.1,
        "y": 0.1
       },
       "content": {
        "cell": "58ed1c70-7421-4513-99bf-b398b748ea97",
        "part": "whole"
       },
       "id": "3fffb492-db9b-4410-a495-fc4a713e54ad"
      }
     }
    },
    "09b60e7e-c40e-43c2-8e13-a4ed01cce0dd": {
     "id": "09b60e7e-c40e-43c2-8e13-a4ed01cce0dd",
     "prev": "6570f208-a9db-4e88-ae37-2635c5d568fe",
     "regions": {
      "b32fc5a3-86df-4c12-9b58-c9cdb0245971": {
       "attrs": {
        "height": 0.8,
        "width": 0.8,
        "x": 0.1,
        "y": 0.1
       },
       "content": {
        "cell": "559f2d41-be07-4066-a0fe-7493610c9a84",
        "part": "whole"
       },
       "id": "b32fc5a3-86df-4c12-9b58-c9cdb0245971"
      }
     }
    },
    "09d3a00e-b687-44c6-a552-ae91c782eac6": {
     "id": "09d3a00e-b687-44c6-a552-ae91c782eac6",
     "prev": "8f028372-313a-48da-b2eb-c6e6e9b7e886",
     "regions": {
      "dc1be130-6826-4768-bb8a-fc8611f8252d": {
       "attrs": {
        "height": 0.8,
        "width": 0.8,
        "x": 0.1,
        "y": 0.1
       },
       "content": {
        "cell": "c1363ede-4da5-44c8-a224-58e143ca4675",
        "part": "whole"
       },
       "id": "dc1be130-6826-4768-bb8a-fc8611f8252d"
      }
     }
    },
    "0a4deef9-9482-4655-b953-b39d97cc3bd6": {
     "id": "0a4deef9-9482-4655-b953-b39d97cc3bd6",
     "prev": "ab752314-1f50-4e9c-841b-76e73c9fab9b",
     "regions": {
      "85216b16-de15-4c5f-bd61-3e62bd8ee540": {
       "attrs": {
        "height": 0.8,
        "width": 0.8,
        "x": 0.1,
        "y": 0.1
       },
       "content": {
        "cell": "77898952-fb8d-4b16-b288-7ad0dd329acc",
        "part": "whole"
       },
       "id": "85216b16-de15-4c5f-bd61-3e62bd8ee540"
      }
     }
    },
    "0b793ff4-7554-447c-80b4-3454433476db": {
     "id": "0b793ff4-7554-447c-80b4-3454433476db",
     "prev": "deda2ee9-e226-49d9-a113-05d7a097833a",
     "regions": {
      "18e70ce8-dcd5-4194-b181-51e90af377cc": {
       "attrs": {
        "height": 0.8,
        "width": 0.8,
        "x": 0.1,
        "y": 0.1
       },
       "content": {
        "cell": "e11982b8-86a3-4187-b7ec-1e55ada0e1b5",
        "part": "whole"
       },
       "id": "18e70ce8-dcd5-4194-b181-51e90af377cc"
      }
     }
    },
    "0f1b5ffe-cc0c-45d5-bd43-fb8a987a353b": {
     "id": "0f1b5ffe-cc0c-45d5-bd43-fb8a987a353b",
     "prev": "50d9a6f8-9c45-47a8-af73-9b210e25d978",
     "regions": {
      "d083b22b-c1a6-4634-8708-716449a4ff50": {
       "attrs": {
        "height": 0.8,
        "width": 0.8,
        "x": 0.1,
        "y": 0.1
       },
       "content": {
        "cell": "f1494d70-2d8b-4973-9e52-6e6ee104c960",
        "part": "whole"
       },
       "id": "d083b22b-c1a6-4634-8708-716449a4ff50"
      }
     }
    },
    "1264f622-cc28-4070-8e20-bbd408f796e1": {
     "id": "1264f622-cc28-4070-8e20-bbd408f796e1",
     "prev": "4ccdc4e6-862c-4d2e-bb56-3879b92ce5fc",
     "regions": {
      "dc2d308d-2531-451f-9167-3ef7de3e21a2": {
       "attrs": {
        "height": 0.8,
        "width": 0.8,
        "x": 0.1,
        "y": 0.1
       },
       "content": {
        "cell": "43a35500-1a97-483f-b7dc-de7597c5a382",
        "part": "whole"
       },
       "id": "dc2d308d-2531-451f-9167-3ef7de3e21a2"
      }
     }
    },
    "16a3d1e3-ada1-4fbf-bc60-af9297a431e6": {
     "id": "16a3d1e3-ada1-4fbf-bc60-af9297a431e6",
     "prev": "65a5a584-8109-4653-abd5-6e87c66122e0",
     "regions": {
      "1eefbe4f-012a-449d-a08a-24ff5e99229d": {
       "attrs": {
        "height": 0.8,
        "width": 0.8,
        "x": 0.1,
        "y": 0.1
       },
       "content": {
        "cell": "e859313e-e159-4c98-b557-361e1a8b144f",
        "part": "whole"
       },
       "id": "1eefbe4f-012a-449d-a08a-24ff5e99229d"
      }
     }
    },
    "1890727a-ea5e-4537-9efd-55d6a99f9d21": {
     "id": "1890727a-ea5e-4537-9efd-55d6a99f9d21",
     "prev": "39a3a980-c5fd-4ae4-907f-471100ac6a7d",
     "regions": {
      "115e4a39-bd04-436a-8d80-1d46b9a7700a": {
       "attrs": {
        "height": 0.8,
        "width": 0.8,
        "x": 0.1,
        "y": 0.1
       },
       "content": {
        "cell": "dd926845-6738-4c6a-8aee-321cd2ea1fc0",
        "part": "whole"
       },
       "id": "115e4a39-bd04-436a-8d80-1d46b9a7700a"
      }
     }
    },
    "1aa3426f-63fb-446f-994c-4243757313c7": {
     "id": "1aa3426f-63fb-446f-994c-4243757313c7",
     "prev": "97d55dc7-838d-4732-877c-6d7a58486bcd",
     "regions": {
      "b2bf0a2e-a7da-41b0-a44b-e0579d603c51": {
       "attrs": {
        "height": 0.8,
        "width": 0.8,
        "x": 0.1,
        "y": 0.1
       },
       "content": {
        "cell": "2997c046-3658-454d-82e6-10c4565b4329",
        "part": "whole"
       },
       "id": "b2bf0a2e-a7da-41b0-a44b-e0579d603c51"
      }
     }
    },
    "1c3cd2d8-9d44-45c4-9fb2-f039628ac395": {
     "id": "1c3cd2d8-9d44-45c4-9fb2-f039628ac395",
     "prev": "edf390ac-7292-446e-9bd1-e28619fc13d3",
     "regions": {
      "a3143e6b-4ccf-4512-8a02-ac3ed31a5ce5": {
       "attrs": {
        "height": 0.8,
        "width": 0.8,
        "x": 0.1,
        "y": 0.1
       },
       "content": {
        "cell": "92c8ec73-a473-417c-a069-d54c29b4fae0",
        "part": "whole"
       },
       "id": "a3143e6b-4ccf-4512-8a02-ac3ed31a5ce5"
      }
     }
    },
    "1dcc7749-fbb5-4a56-b2a4-a0239558e5f8": {
     "id": "1dcc7749-fbb5-4a56-b2a4-a0239558e5f8",
     "prev": "efa06722-adb9-4120-b875-58eed4a85881",
     "regions": {
      "2a8c3bc6-162f-4b8e-82c0-04d71e1d9b9e": {
       "attrs": {
        "height": 0.8,
        "width": 0.8,
        "x": 0.1,
        "y": 0.1
       },
       "content": {
        "cell": "43713ada-ebd2-4d03-a8d6-1a54a8b37a1c",
        "part": "whole"
       },
       "id": "2a8c3bc6-162f-4b8e-82c0-04d71e1d9b9e"
      }
     }
    },
    "20af3a85-7216-4937-87e1-bcc400568880": {
     "id": "20af3a85-7216-4937-87e1-bcc400568880",
     "prev": "ff3e6212-8dea-4ccd-94e3-23b578947e75",
     "regions": {
      "98182817-ef89-413b-86f1-2d6b2020be87": {
       "attrs": {
        "height": 0.8,
        "width": 0.8,
        "x": 0.1,
        "y": 0.1
       },
       "content": {
        "cell": "389770f5-96bf-4c62-8942-e2e4c049096d",
        "part": "whole"
       },
       "id": "98182817-ef89-413b-86f1-2d6b2020be87"
      }
     }
    },
    "219aae91-d6f1-46db-80ed-472bbadfd085": {
     "id": "219aae91-d6f1-46db-80ed-472bbadfd085",
     "prev": "92785f32-1084-419c-b6e6-0235d359f018",
     "regions": {
      "0c95fcfc-4841-4ffb-912f-8e5b48412824": {
       "attrs": {
        "height": 0.8,
        "width": 0.8,
        "x": 0.1,
        "y": 0.1
       },
       "content": {
        "cell": "7d58263a-955a-4ae2-a748-fa0658c32b95",
        "part": "whole"
       },
       "id": "0c95fcfc-4841-4ffb-912f-8e5b48412824"
      }
     }
    },
    "24e9fd75-bfb4-4dc7-b6aa-fbf516960efe": {
     "id": "24e9fd75-bfb4-4dc7-b6aa-fbf516960efe",
     "prev": "8e9f4184-539e-4ced-9031-13334537abb2",
     "regions": {
      "96cae423-955b-4744-91bf-42521fda125c": {
       "attrs": {
        "height": 0.8,
        "width": 0.8,
        "x": 0.1,
        "y": 0.1
       },
       "content": {
        "cell": "d12bc261-9b3a-4b13-a171-2d345f2f2c5b",
        "part": "whole"
       },
       "id": "96cae423-955b-4744-91bf-42521fda125c"
      }
     }
    },
    "27490546-d762-423d-9106-d5362fe315dd": {
     "id": "27490546-d762-423d-9106-d5362fe315dd",
     "prev": "5fc2a92c-9bd0-497c-b898-ccb87b7d6b6f",
     "regions": {
      "518163a3-905f-41e9-b44d-e7ca93d980fd": {
       "attrs": {
        "height": 0.8,
        "width": 0.8,
        "x": 0.1,
        "y": 0.1
       },
       "content": {
        "cell": "fdaa583b-7e9e-4b2b-a7ac-6e08bb6ff414",
        "part": "whole"
       },
       "id": "518163a3-905f-41e9-b44d-e7ca93d980fd"
      }
     }
    },
    "28031173-74b1-4b0e-b38e-15bb62ae6a7c": {
     "id": "28031173-74b1-4b0e-b38e-15bb62ae6a7c",
     "prev": "eff4ebb9-5507-40a9-991d-c79456d233bc",
     "regions": {
      "6b9e705e-7fb4-4bfe-81ab-4ba141e22b02": {
       "attrs": {
        "height": 0.8,
        "width": 0.8,
        "x": 0.1,
        "y": 0.1
       },
       "content": {
        "cell": "2c26e57c-b37d-4e8a-8b1f-61329add142d",
        "part": "whole"
       },
       "id": "6b9e705e-7fb4-4bfe-81ab-4ba141e22b02"
      }
     }
    },
    "2a307f39-2452-4f39-981b-7f740d44f970": {
     "id": "2a307f39-2452-4f39-981b-7f740d44f970",
     "prev": "f084d3cb-871e-46e5-bc62-389c706ab37d",
     "regions": {
      "cbde103c-458e-48e8-85fe-ad7da3e713b4": {
       "attrs": {
        "height": 0.8,
        "width": 0.8,
        "x": 0.1,
        "y": 0.1
       },
       "content": {
        "cell": "b41b9aee-708e-4d2a-92ab-a957287116ac",
        "part": "whole"
       },
       "id": "cbde103c-458e-48e8-85fe-ad7da3e713b4"
      }
     }
    },
    "2a731541-6034-480b-8812-35638ddee5b9": {
     "id": "2a731541-6034-480b-8812-35638ddee5b9",
     "prev": "00b8cd49-e070-4228-b1c8-1d24a107ec36",
     "regions": {
      "a640f113-134b-4310-893f-a92a09058f0b": {
       "attrs": {
        "height": 0.8,
        "width": 0.8,
        "x": 0.1,
        "y": 0.1
       },
       "content": {
        "cell": "72058a2e-5c0f-4b68-be1e-0eef4f80eb59",
        "part": "whole"
       },
       "id": "a640f113-134b-4310-893f-a92a09058f0b"
      }
     }
    },
    "2acb8dc9-9b3a-431f-9393-4b11002da153": {
     "id": "2acb8dc9-9b3a-431f-9393-4b11002da153",
     "prev": "e34df0b5-3a9c-4c17-b991-be28c0fc180e",
     "regions": {
      "753a4ec2-872a-4e71-b1f2-2800d3d13199": {
       "attrs": {
        "height": 0.8,
        "width": 0.8,
        "x": 0.1,
        "y": 0.1
       },
       "content": {
        "cell": "56cc31db-964d-4e6a-9f28-df6608dd3e1e",
        "part": "whole"
       },
       "id": "753a4ec2-872a-4e71-b1f2-2800d3d13199"
      }
     }
    },
    "2c43c18c-1f94-4f04-a9fb-ee950a542e4c": {
     "id": "2c43c18c-1f94-4f04-a9fb-ee950a542e4c",
     "prev": "c53804d6-65bd-476b-8692-cdcb37430b0a",
     "regions": {
      "cee01998-54d5-4577-9700-85885223251e": {
       "attrs": {
        "height": 0.8,
        "width": 0.8,
        "x": 0.1,
        "y": 0.1
       },
       "content": {
        "cell": "88e89c67-e981-4aa1-99bc-aedbce8e347d",
        "part": "whole"
       },
       "id": "cee01998-54d5-4577-9700-85885223251e"
      }
     }
    },
    "2d9f9eee-88fc-412b-94ab-93391481e7bc": {
     "id": "2d9f9eee-88fc-412b-94ab-93391481e7bc",
     "prev": "5d0a4cb0-3cac-44bd-aa31-ef4f079402dc",
     "regions": {
      "fa908164-4ef6-4f2d-9472-f8fc6ada649f": {
       "attrs": {
        "height": 0.8,
        "width": 0.8,
        "x": 0.1,
        "y": 0.1
       },
       "content": {
        "cell": "29068dcf-8512-4117-9ae0-021d1f7cbd29",
        "part": "whole"
       },
       "id": "fa908164-4ef6-4f2d-9472-f8fc6ada649f"
      }
     }
    },
    "3280a19a-f5f0-4f99-acec-5980d2facfb0": {
     "id": "3280a19a-f5f0-4f99-acec-5980d2facfb0",
     "prev": "fe09da01-8334-4367-989f-854734829262",
     "regions": {
      "cd9379f1-18b0-44b9-9dd5-2e6076e85d68": {
       "attrs": {
        "height": 0.8,
        "width": 0.8,
        "x": 0.1,
        "y": 0.1
       },
       "content": {
        "cell": "f7c54fdf-eff4-4ea8-93b0-d24b06aefd5e",
        "part": "whole"
       },
       "id": "cd9379f1-18b0-44b9-9dd5-2e6076e85d68"
      }
     }
    },
    "3338975e-c76a-4f92-88f9-1017e7ce0153": {
     "id": "3338975e-c76a-4f92-88f9-1017e7ce0153",
     "prev": "df7c89e3-e45c-44d8-92e7-1e44a977c595",
     "regions": {
      "4601d1cd-100a-44ca-bbd3-0a85c84321bb": {
       "attrs": {
        "height": 0.8,
        "width": 0.8,
        "x": 0.1,
        "y": 0.1
       },
       "content": {
        "cell": "944dcc11-be02-4cab-a46f-27b2f99bd099",
        "part": "whole"
       },
       "id": "4601d1cd-100a-44ca-bbd3-0a85c84321bb"
      }
     }
    },
    "3545f1b7-55bb-46f8-8c73-c6ce4a3c4a33": {
     "id": "3545f1b7-55bb-46f8-8c73-c6ce4a3c4a33",
     "prev": "8d138a9b-eb50-41d5-a1fa-b44299b40b5d",
     "regions": {
      "4dd4e1ae-eccf-46c1-ab75-0971758aaf16": {
       "attrs": {
        "height": 0.8,
        "width": 0.8,
        "x": 0.1,
        "y": 0.1
       },
       "content": {
        "cell": "6b3da1d5-0856-4663-9257-ee9bad325648",
        "part": "whole"
       },
       "id": "4dd4e1ae-eccf-46c1-ab75-0971758aaf16"
      }
     }
    },
    "3697f1af-46d9-4ffe-9b36-d988bc603746": {
     "id": "3697f1af-46d9-4ffe-9b36-d988bc603746",
     "prev": "9d327c2c-d842-4e2e-adb1-e3730da062f7",
     "regions": {
      "20a418b4-e691-48c8-8641-18e6c9ba75f6": {
       "attrs": {
        "height": 0.8,
        "width": 0.8,
        "x": 0.1,
        "y": 0.1
       },
       "content": {
        "cell": "0a25488f-6819-44dd-a011-6da28d8a5684",
        "part": "whole"
       },
       "id": "20a418b4-e691-48c8-8641-18e6c9ba75f6"
      }
     }
    },
    "36d4ad48-33f7-4d93-b3c0-7dd4207a98cd": {
     "id": "36d4ad48-33f7-4d93-b3c0-7dd4207a98cd",
     "prev": "1c3cd2d8-9d44-45c4-9fb2-f039628ac395",
     "regions": {
      "dded98e8-73a7-4a4b-9d2a-1239afaed2ca": {
       "attrs": {
        "height": 0.8,
        "width": 0.8,
        "x": 0.1,
        "y": 0.1
       },
       "content": {
        "cell": "49ab714f-e898-448d-8528-b37985c014ad",
        "part": "whole"
       },
       "id": "dded98e8-73a7-4a4b-9d2a-1239afaed2ca"
      }
     }
    },
    "382c5b22-5725-4e4a-aef1-a5d37ceaf752": {
     "id": "382c5b22-5725-4e4a-aef1-a5d37ceaf752",
     "prev": "9e5ff0f2-183a-4f31-a19d-a8343a63ab30",
     "regions": {
      "44c80d4c-85a5-41ae-926c-ec74498c80d2": {
       "attrs": {
        "height": 0.8,
        "width": 0.8,
        "x": 0.1,
        "y": 0.1
       },
       "content": {
        "cell": "e4745d85-b901-4826-88c7-4a9fc3c65fc7",
        "part": "whole"
       },
       "id": "44c80d4c-85a5-41ae-926c-ec74498c80d2"
      }
     }
    },
    "39a3a980-c5fd-4ae4-907f-471100ac6a7d": {
     "id": "39a3a980-c5fd-4ae4-907f-471100ac6a7d",
     "prev": "526c44fe-a3f7-46a2-b060-9fbee4fc830e",
     "regions": {
      "078458b8-f7ab-4802-9ad1-e3170d607355": {
       "attrs": {
        "height": 0.8,
        "width": 0.8,
        "x": 0.1,
        "y": 0.1
       },
       "content": {
        "cell": "6d00fa0c-ce59-46e1-a78c-029286228c14",
        "part": "whole"
       },
       "id": "078458b8-f7ab-4802-9ad1-e3170d607355"
      }
     }
    },
    "3a629fc0-8430-4ef7-8a91-31ca4320c3af": {
     "id": "3a629fc0-8430-4ef7-8a91-31ca4320c3af",
     "prev": "b680b97e-fc7e-4e18-943c-270763e791b3",
     "regions": {
      "47c789e0-eed0-47f7-a928-11d0278c5869": {
       "attrs": {
        "height": 0.8,
        "width": 0.8,
        "x": 0.1,
        "y": 0.1
       },
       "content": {
        "cell": "cfb44a32-91da-48b8-aba4-84b9e7dab372",
        "part": "whole"
       },
       "id": "47c789e0-eed0-47f7-a928-11d0278c5869"
      }
     }
    },
    "3b48045d-b3de-437c-a6ab-4ba20e37c89a": {
     "id": "3b48045d-b3de-437c-a6ab-4ba20e37c89a",
     "prev": "04bdd42f-ab27-4d69-bf96-77113303f400",
     "regions": {
      "b6ac7f80-a822-4ec3-a6a8-9a0b836975a4": {
       "attrs": {
        "height": 0.8,
        "width": 0.8,
        "x": 0.1,
        "y": 0.1
       },
       "content": {
        "cell": "a8fdcb25-ad75-4350-8be6-c0e2e6e6c350",
        "part": "whole"
       },
       "id": "b6ac7f80-a822-4ec3-a6a8-9a0b836975a4"
      }
     }
    },
    "3d046acf-f7c8-422e-91f7-7f62a1833cd2": {
     "id": "3d046acf-f7c8-422e-91f7-7f62a1833cd2",
     "prev": "e8a3aa68-a07f-47d7-b9c6-b6ed8c1e8c55",
     "regions": {
      "1b1be5a3-399e-438e-9a07-067387da7adb": {
       "attrs": {
        "height": 0.8,
        "width": 0.8,
        "x": 0.1,
        "y": 0.1
       },
       "content": {
        "cell": "b35efc4b-f710-4392-b14e-80764b632b4c",
        "part": "whole"
       },
       "id": "1b1be5a3-399e-438e-9a07-067387da7adb"
      }
     }
    },
    "406da5cf-a34a-44ba-80ad-1ce0c3a58627": {
     "id": "406da5cf-a34a-44ba-80ad-1ce0c3a58627",
     "prev": "c2d1c60c-ecf8-433b-9581-8da5956c522f",
     "regions": {
      "755cd069-01d8-42b6-9067-ea77b7e6c203": {
       "attrs": {
        "height": 0.8,
        "width": 0.8,
        "x": 0.1,
        "y": 0.1
       },
       "content": {
        "cell": "65f5893b-8839-4cf7-8c10-f6b864c6fdaa",
        "part": "whole"
       },
       "id": "755cd069-01d8-42b6-9067-ea77b7e6c203"
      }
     }
    },
    "43f61a2e-353a-476c-a4da-5063d0371cb6": {
     "id": "43f61a2e-353a-476c-a4da-5063d0371cb6",
     "prev": "8c5be9c0-74d9-4af4-bf20-d772773a01cb",
     "regions": {
      "a9fb8c86-e904-4f13-9faf-6275cd3f48aa": {
       "attrs": {
        "height": 0.8,
        "width": 0.8,
        "x": 0.1,
        "y": 0.1
       },
       "content": {
        "cell": "2d33e859-7d81-4707-a0aa-e2d07353542f",
        "part": "whole"
       },
       "id": "a9fb8c86-e904-4f13-9faf-6275cd3f48aa"
      }
     }
    },
    "4414d681-72a5-430e-872f-63e0d87cf414": {
     "id": "4414d681-72a5-430e-872f-63e0d87cf414",
     "prev": "3338975e-c76a-4f92-88f9-1017e7ce0153",
     "regions": {
      "7eefa3b8-5bc7-46a5-8bc0-28363a6e5ade": {
       "attrs": {
        "height": 0.8,
        "width": 0.8,
        "x": 0.1,
        "y": 0.1
       },
       "content": {
        "cell": "f2756599-818f-44cc-82bb-a211a323de36",
        "part": "whole"
       },
       "id": "7eefa3b8-5bc7-46a5-8bc0-28363a6e5ade"
      }
     }
    },
    "466676a2-7e65-4dbe-b838-28b1b9cb0554": {
     "id": "466676a2-7e65-4dbe-b838-28b1b9cb0554",
     "prev": "406da5cf-a34a-44ba-80ad-1ce0c3a58627",
     "regions": {
      "f815bfde-b7e1-45e2-bfd2-633f6ea780d2": {
       "attrs": {
        "height": 0.8,
        "width": 0.8,
        "x": 0.1,
        "y": 0.1
       },
       "content": {
        "cell": "1a75ab54-b9ae-4231-867a-db07076c5401",
        "part": "whole"
       },
       "id": "f815bfde-b7e1-45e2-bfd2-633f6ea780d2"
      }
     }
    },
    "49624893-e0e6-4580-92a5-7cebe7f91ea9": {
     "id": "49624893-e0e6-4580-92a5-7cebe7f91ea9",
     "prev": "f8777521-ec3c-4363-a6bf-ed8b50c8af79",
     "regions": {
      "36e5720b-daea-4a8e-97cb-944e4f96fb86": {
       "attrs": {
        "height": 0.8,
        "width": 0.8,
        "x": 0.1,
        "y": 0.1
       },
       "content": {
        "cell": "08dbfed9-8adb-4e5e-9c5b-e6eb054b8cce",
        "part": "whole"
       },
       "id": "36e5720b-daea-4a8e-97cb-944e4f96fb86"
      }
     }
    },
    "4ccdc4e6-862c-4d2e-bb56-3879b92ce5fc": {
     "id": "4ccdc4e6-862c-4d2e-bb56-3879b92ce5fc",
     "prev": "fdfd4e2b-35e6-43db-ac14-3ffed113839a",
     "regions": {
      "b5e3e3a0-4dfb-4ffe-a5f2-591882531933": {
       "attrs": {
        "height": 0.8,
        "width": 0.8,
        "x": 0.1,
        "y": 0.1
       },
       "content": {
        "cell": "a2c19fa6-48c2-46fd-8e2d-e6749d04a8ae",
        "part": "whole"
       },
       "id": "b5e3e3a0-4dfb-4ffe-a5f2-591882531933"
      }
     }
    },
    "50d9a6f8-9c45-47a8-af73-9b210e25d978": {
     "id": "50d9a6f8-9c45-47a8-af73-9b210e25d978",
     "prev": "c9efe2a9-30ae-4246-a23d-674ded3e5375",
     "regions": {
      "51c1b4a8-319f-4c76-b880-8190670b2dc7": {
       "attrs": {
        "height": 0.8,
        "width": 0.8,
        "x": 0.1,
        "y": 0.1
       },
       "content": {
        "cell": "e170fe97-4cfc-42e3-9cbe-af78ebc96932",
        "part": "whole"
       },
       "id": "51c1b4a8-319f-4c76-b880-8190670b2dc7"
      }
     }
    },
    "526c44fe-a3f7-46a2-b060-9fbee4fc830e": {
     "id": "526c44fe-a3f7-46a2-b060-9fbee4fc830e",
     "prev": "df99013a-bee9-4748-be0b-e5753be08c37",
     "regions": {
      "d03577dd-8683-4940-a58b-717f7506fdaf": {
       "attrs": {
        "height": 0.8,
        "width": 0.8,
        "x": 0.1,
        "y": 0.1
       },
       "content": {
        "cell": "a5896836-3687-4050-858d-65976637f9ce",
        "part": "whole"
       },
       "id": "d03577dd-8683-4940-a58b-717f7506fdaf"
      }
     }
    },
    "53669507-6c5f-426e-aa40-4d953bc4f83b": {
     "id": "53669507-6c5f-426e-aa40-4d953bc4f83b",
     "prev": "2a731541-6034-480b-8812-35638ddee5b9",
     "regions": {
      "a6312621-e29e-4096-a6e6-843803d9d15b": {
       "attrs": {
        "height": 0.8,
        "width": 0.8,
        "x": 0.1,
        "y": 0.1
       },
       "content": {
        "cell": "ec8d9fa2-aa66-4b64-9800-9b8b3386908f",
        "part": "whole"
       },
       "id": "a6312621-e29e-4096-a6e6-843803d9d15b"
      }
     }
    },
    "5d0a4cb0-3cac-44bd-aa31-ef4f079402dc": {
     "id": "5d0a4cb0-3cac-44bd-aa31-ef4f079402dc",
     "prev": "68512be8-1de6-4196-a2bb-8185b7c27385",
     "regions": {
      "6e8c4cad-c32b-4185-bfc8-ab9abcc917a7": {
       "attrs": {
        "height": 0.8,
        "width": 0.8,
        "x": 0.1,
        "y": 0.1
       },
       "content": {
        "cell": "0fcb89b6-27a1-45c1-8f15-e4e56576fa8c",
        "part": "whole"
       },
       "id": "6e8c4cad-c32b-4185-bfc8-ab9abcc917a7"
      }
     }
    },
    "5eb091ca-a64d-4ed1-b944-a6f5b1c0371a": {
     "id": "5eb091ca-a64d-4ed1-b944-a6f5b1c0371a",
     "prev": "746055a7-b12b-4c8a-8985-bc86b85b9882",
     "regions": {
      "5155969c-ba06-4d1a-81ee-c8561f0701da": {
       "attrs": {
        "height": 0.8,
        "width": 0.8,
        "x": 0.1,
        "y": 0.1
       },
       "content": {
        "cell": "184c59e5-6ac5-4c4a-a0b5-1561d3d3335b",
        "part": "whole"
       },
       "id": "5155969c-ba06-4d1a-81ee-c8561f0701da"
      }
     }
    },
    "5f07cdab-27b8-4a4c-9377-fe1a9553bb3a": {
     "id": "5f07cdab-27b8-4a4c-9377-fe1a9553bb3a",
     "prev": "09d3a00e-b687-44c6-a552-ae91c782eac6",
     "regions": {
      "7e18ea51-b309-4bcc-aaa5-be341b3c96a7": {
       "attrs": {
        "height": 0.8,
        "width": 0.8,
        "x": 0.1,
        "y": 0.1
       },
       "content": {
        "cell": "129c2bfe-152c-492b-82dd-11a9d87ece66",
        "part": "whole"
       },
       "id": "7e18ea51-b309-4bcc-aaa5-be341b3c96a7"
      }
     }
    },
    "5fc2a92c-9bd0-497c-b898-ccb87b7d6b6f": {
     "id": "5fc2a92c-9bd0-497c-b898-ccb87b7d6b6f",
     "prev": "6b167906-bc60-4cf0-9827-ed00b4b12374",
     "regions": {
      "6e9ccfb7-4970-455a-b38d-050ff879099e": {
       "attrs": {
        "height": 0.8,
        "width": 0.8,
        "x": 0.1,
        "y": 0.1
       },
       "content": {
        "cell": "97207599-156a-4378-8087-c67d7d093416",
        "part": "whole"
       },
       "id": "6e9ccfb7-4970-455a-b38d-050ff879099e"
      }
     }
    },
    "60c2e633-3e02-4d3e-8b7f-0883c6a4c517": {
     "id": "60c2e633-3e02-4d3e-8b7f-0883c6a4c517",
     "prev": "4414d681-72a5-430e-872f-63e0d87cf414",
     "regions": {
      "a5616091-3553-4b61-aa82-5f55dd57d4a7": {
       "attrs": {
        "height": 0.8,
        "width": 0.8,
        "x": 0.1,
        "y": 0.1
       },
       "content": {
        "cell": "2fff5f76-9623-458d-a04b-6a3269caf7d2",
        "part": "whole"
       },
       "id": "a5616091-3553-4b61-aa82-5f55dd57d4a7"
      }
     }
    },
    "6570f208-a9db-4e88-ae37-2635c5d568fe": {
     "id": "6570f208-a9db-4e88-ae37-2635c5d568fe",
     "prev": "2d9f9eee-88fc-412b-94ab-93391481e7bc",
     "regions": {
      "777f0758-c1c6-425e-800e-9b6eef8bf70a": {
       "attrs": {
        "height": 0.8,
        "width": 0.8,
        "x": 0.1,
        "y": 0.1
       },
       "content": {
        "cell": "5c78bb12-9a50-4e8f-8ecd-4358803c9317",
        "part": "whole"
       },
       "id": "777f0758-c1c6-425e-800e-9b6eef8bf70a"
      }
     }
    },
    "65a5a584-8109-4653-abd5-6e87c66122e0": {
     "id": "65a5a584-8109-4653-abd5-6e87c66122e0",
     "prev": "3a629fc0-8430-4ef7-8a91-31ca4320c3af",
     "regions": {
      "f6cc199e-ce47-494b-8a34-3e76fd2e0b2b": {
       "attrs": {
        "height": 0.8,
        "width": 0.8,
        "x": 0.1,
        "y": 0.1
       },
       "content": {
        "cell": "4c448802-1c0a-46c5-a5f0-a2f35ee737b2",
        "part": "whole"
       },
       "id": "f6cc199e-ce47-494b-8a34-3e76fd2e0b2b"
      }
     }
    },
    "68512be8-1de6-4196-a2bb-8185b7c27385": {
     "id": "68512be8-1de6-4196-a2bb-8185b7c27385",
     "prev": "0f1b5ffe-cc0c-45d5-bd43-fb8a987a353b",
     "regions": {
      "3739ce42-be1e-44fe-bea0-64ef45e1797f": {
       "attrs": {
        "height": 0.8,
        "width": 0.8,
        "x": 0.1,
        "y": 0.1
       },
       "content": {
        "cell": "989d070d-303e-4f12-9cba-fea5483b78ad",
        "part": "whole"
       },
       "id": "3739ce42-be1e-44fe-bea0-64ef45e1797f"
      }
     }
    },
    "68e6840a-8066-4c13-a908-d22419f7af02": {
     "id": "68e6840a-8066-4c13-a908-d22419f7af02",
     "prev": "20af3a85-7216-4937-87e1-bcc400568880",
     "regions": {
      "bcf5afc4-9f89-4c8a-9349-d81a50e364ec": {
       "attrs": {
        "height": 0.8,
        "width": 0.8,
        "x": 0.1,
        "y": 0.1
       },
       "content": {
        "cell": "97c0a08a-40f0-41c4-b2eb-d974aaf1a32d",
        "part": "whole"
       },
       "id": "bcf5afc4-9f89-4c8a-9349-d81a50e364ec"
      }
     }
    },
    "6b167906-bc60-4cf0-9827-ed00b4b12374": {
     "id": "6b167906-bc60-4cf0-9827-ed00b4b12374",
     "prev": "83a839f0-8c36-4933-835e-32eb947a20f1",
     "regions": {
      "ba6ef4f5-4a1b-42a8-9c45-1a8c6d7d13a7": {
       "attrs": {
        "height": 0.8,
        "width": 0.8,
        "x": 0.1,
        "y": 0.1
       },
       "content": {
        "cell": "d7447fcd-09ac-4188-a083-b751cecb527f",
        "part": "whole"
       },
       "id": "ba6ef4f5-4a1b-42a8-9c45-1a8c6d7d13a7"
      }
     }
    },
    "6c479bd7-d1c9-42fe-9de6-986bf923d75e": {
     "id": "6c479bd7-d1c9-42fe-9de6-986bf923d75e",
     "prev": "6cb31894-c025-4297-ad89-4ec024c8be80",
     "regions": {
      "deec4bda-7414-4c18-8345-20e2a5edda91": {
       "attrs": {
        "height": 0.8,
        "width": 0.8,
        "x": 0.1,
        "y": 0.1
       },
       "content": {
        "cell": "dc6d92d4-811c-46de-a677-28616b9f52b4",
        "part": "whole"
       },
       "id": "deec4bda-7414-4c18-8345-20e2a5edda91"
      }
     }
    },
    "6cb31894-c025-4297-ad89-4ec024c8be80": {
     "id": "6cb31894-c025-4297-ad89-4ec024c8be80",
     "prev": "88e5899a-529c-46c1-a2ac-8e1ba34e3b03",
     "regions": {
      "89f22e64-4574-4f1d-b76a-f85cd682ec28": {
       "attrs": {
        "height": 0.8,
        "width": 0.8,
        "x": 0.1,
        "y": 0.1
       },
       "content": {
        "cell": "cfad4a3e-08c6-472f-8445-5bf435cdf805",
        "part": "whole"
       },
       "id": "89f22e64-4574-4f1d-b76a-f85cd682ec28"
      }
     }
    },
    "714b5512-49e9-4916-abbf-91631a3e96e0": {
     "id": "714b5512-49e9-4916-abbf-91631a3e96e0",
     "prev": "3b48045d-b3de-437c-a6ab-4ba20e37c89a",
     "regions": {
      "71d82a63-145b-410f-8e66-6f2ca81cb275": {
       "attrs": {
        "height": 0.8,
        "width": 0.8,
        "x": 0.1,
        "y": 0.1
       },
       "content": {
        "cell": "1638ad8d-3636-48a6-9a89-5bae2ce66e9a",
        "part": "whole"
       },
       "id": "71d82a63-145b-410f-8e66-6f2ca81cb275"
      }
     }
    },
    "72746495-cfc6-4f37-a6e1-69395c6dbed4": {
     "id": "72746495-cfc6-4f37-a6e1-69395c6dbed4",
     "prev": "839ab0af-7d1c-4b48-ad98-ef1e92dc846d",
     "regions": {
      "426f81b7-3a49-4bea-8e26-212be2ffc10b": {
       "attrs": {
        "height": 0.8,
        "width": 0.8,
        "x": 0.1,
        "y": 0.1
       },
       "content": {
        "cell": "df12723e-3dcb-46e6-ae52-b063c048535d",
        "part": "whole"
       },
       "id": "426f81b7-3a49-4bea-8e26-212be2ffc10b"
      }
     }
    },
    "73fc76ea-b86c-4c41-86cb-7ba08a80f37f": {
     "id": "73fc76ea-b86c-4c41-86cb-7ba08a80f37f",
     "prev": "28031173-74b1-4b0e-b38e-15bb62ae6a7c",
     "regions": {
      "226dbc52-dfd2-4de7-bdff-e9d1e5da7dd1": {
       "attrs": {
        "height": 0.8,
        "width": 0.8,
        "x": 0.1,
        "y": 0.1
       },
       "content": {
        "cell": "dfd983e9-0617-4873-8e15-09f2a5f14870",
        "part": "whole"
       },
       "id": "226dbc52-dfd2-4de7-bdff-e9d1e5da7dd1"
      }
     }
    },
    "746055a7-b12b-4c8a-8985-bc86b85b9882": {
     "id": "746055a7-b12b-4c8a-8985-bc86b85b9882",
     "prev": "43f61a2e-353a-476c-a4da-5063d0371cb6",
     "regions": {
      "15c1f086-108e-4e37-a700-0a856e81cd25": {
       "attrs": {
        "height": 0.8,
        "width": 0.8,
        "x": 0.1,
        "y": 0.1
       },
       "content": {
        "cell": "0f19dbed-e199-417b-bf60-982ff9e6a3b8",
        "part": "whole"
       },
       "id": "15c1f086-108e-4e37-a700-0a856e81cd25"
      }
     }
    },
    "772836d6-55cf-4ea2-b92d-ee3225f6f7fc": {
     "id": "772836d6-55cf-4ea2-b92d-ee3225f6f7fc",
     "prev": "8a1b4144-3223-459c-a1fa-e108d203668c",
     "regions": {
      "47f9c517-a73b-4e15-be4a-16909f42f5c6": {
       "attrs": {
        "height": 0.8,
        "width": 0.8,
        "x": 0.1,
        "y": 0.1
       },
       "content": {
        "cell": "7faf38a4-7396-4839-a623-fa301803fd0b",
        "part": "whole"
       },
       "id": "47f9c517-a73b-4e15-be4a-16909f42f5c6"
      }
     }
    },
    "79f56b32-c1ac-43c1-a893-11faa0a07303": {
     "id": "79f56b32-c1ac-43c1-a893-11faa0a07303",
     "prev": "9807d09a-eaaa-4494-8e88-70f3041968ab",
     "regions": {
      "a319698a-7463-4f93-896a-2ffa6648e2f7": {
       "attrs": {
        "height": 0.8,
        "width": 0.8,
        "x": 0.1,
        "y": 0.1
       },
       "content": {
        "cell": "eab77015-d620-4aa9-8202-46b3a062b9bf",
        "part": "whole"
       },
       "id": "a319698a-7463-4f93-896a-2ffa6648e2f7"
      }
     }
    },
    "7a9f4497-e02b-4e86-92d5-6460fa0f32a4": {
     "id": "7a9f4497-e02b-4e86-92d5-6460fa0f32a4",
     "prev": "b093a7a6-dd22-4a95-bb77-c60a29f37d5a",
     "regions": {
      "5453e1ca-a949-4847-8477-f2ec4fbe4bdc": {
       "attrs": {
        "height": 0.8,
        "width": 0.8,
        "x": 0.1,
        "y": 0.1
       },
       "content": {
        "cell": "9b55cde2-9eaa-4bb8-aa76-d710c1829a83",
        "part": "whole"
       },
       "id": "5453e1ca-a949-4847-8477-f2ec4fbe4bdc"
      }
     }
    },
    "839ab0af-7d1c-4b48-ad98-ef1e92dc846d": {
     "id": "839ab0af-7d1c-4b48-ad98-ef1e92dc846d",
     "prev": "1aa3426f-63fb-446f-994c-4243757313c7",
     "regions": {
      "268bf51c-cd1a-48d1-a51a-ac85eddc492b": {
       "attrs": {
        "height": 0.8,
        "width": 0.8,
        "x": 0.1,
        "y": 0.1
       },
       "content": {
        "cell": "a347f4ca-a8e6-4d0b-a3ed-f4773ff2f535",
        "part": "whole"
       },
       "id": "268bf51c-cd1a-48d1-a51a-ac85eddc492b"
      }
     }
    },
    "83a839f0-8c36-4933-835e-32eb947a20f1": {
     "id": "83a839f0-8c36-4933-835e-32eb947a20f1",
     "prev": "8bfc6f9c-4f70-4f3e-84f5-ae4b5e361476",
     "regions": {
      "dfd0609e-48a6-4f2a-835f-f5b69e5b6546": {
       "attrs": {
        "height": 0.8,
        "width": 0.8,
        "x": 0.1,
        "y": 0.1
       },
       "content": {
        "cell": "0180e84a-82c8-4665-ac72-e893592491ba",
        "part": "whole"
       },
       "id": "dfd0609e-48a6-4f2a-835f-f5b69e5b6546"
      }
     }
    },
    "884d8f66-c0f6-4ec7-9aa9-3b08f04a9035": {
     "id": "884d8f66-c0f6-4ec7-9aa9-3b08f04a9035",
     "prev": "05e508e3-a639-4263-bdd5-08d24fb7a443",
     "regions": {
      "d50d9f12-a01d-434b-9f01-8a070507ec71": {
       "attrs": {
        "height": 0.8,
        "width": 0.8,
        "x": 0.1,
        "y": 0.1
       },
       "content": {
        "cell": "f78376ae-bb82-4d3d-a7b7-776b002c3e29",
        "part": "whole"
       },
       "id": "d50d9f12-a01d-434b-9f01-8a070507ec71"
      }
     }
    },
    "88e5899a-529c-46c1-a2ac-8e1ba34e3b03": {
     "id": "88e5899a-529c-46c1-a2ac-8e1ba34e3b03",
     "prev": "ecd55ea3-d9e3-47d5-8c2c-b68dbd3257a9",
     "regions": {
      "ed031cfb-da9f-49b4-aff3-255f698badeb": {
       "attrs": {
        "height": 0.8,
        "width": 0.8,
        "x": 0.1,
        "y": 0.1
       },
       "content": {
        "cell": "b0571f82-1714-4788-83b8-745da70b00fa",
        "part": "whole"
       },
       "id": "ed031cfb-da9f-49b4-aff3-255f698badeb"
      }
     }
    },
    "898dc256-86b9-48bb-8a3a-2021b799e60c": {
     "id": "898dc256-86b9-48bb-8a3a-2021b799e60c",
     "prev": "a68b7152-48ad-4d80-8d0e-cb8b7b8673ac",
     "regions": {
      "1c16256e-1750-47e5-b6e0-ed08c2bde9e2": {
       "attrs": {
        "height": 0.8,
        "width": 0.8,
        "x": 0.1,
        "y": 0.1
       },
       "content": {
        "cell": "3bd58d10-9979-4338-a605-e936734bc6ed",
        "part": "whole"
       },
       "id": "1c16256e-1750-47e5-b6e0-ed08c2bde9e2"
      }
     }
    },
    "8a1b4144-3223-459c-a1fa-e108d203668c": {
     "id": "8a1b4144-3223-459c-a1fa-e108d203668c",
     "prev": "f57a7cee-f92a-49b7-9afe-f1cd694a60f6",
     "regions": {
      "5c033cf7-c551-4fab-b533-64ac8b5d022c": {
       "attrs": {
        "height": 0.8,
        "width": 0.8,
        "x": 0.1,
        "y": 0.1
       },
       "content": {
        "cell": "a00af8cf-1c73-4ec0-b47b-d2d2d730f9da",
        "part": "whole"
       },
       "id": "5c033cf7-c551-4fab-b533-64ac8b5d022c"
      }
     }
    },
    "8bfc6f9c-4f70-4f3e-84f5-ae4b5e361476": {
     "id": "8bfc6f9c-4f70-4f3e-84f5-ae4b5e361476",
     "prev": "466676a2-7e65-4dbe-b838-28b1b9cb0554",
     "regions": {
      "717c57a7-6b6b-48d1-8007-38f44f40d657": {
       "attrs": {
        "height": 0.8,
        "width": 0.8,
        "x": 0.1,
        "y": 0.1
       },
       "content": {
        "cell": "01f73953-ea6e-4af0-ad8a-13e6d17b9a18",
        "part": "whole"
       },
       "id": "717c57a7-6b6b-48d1-8007-38f44f40d657"
      }
     }
    },
    "8c5be9c0-74d9-4af4-bf20-d772773a01cb": {
     "id": "8c5be9c0-74d9-4af4-bf20-d772773a01cb",
     "prev": "6c479bd7-d1c9-42fe-9de6-986bf923d75e",
     "regions": {
      "6e0a9361-a77e-4155-87a4-5cabe4f0aa93": {
       "attrs": {
        "height": 0.8,
        "width": 0.8,
        "x": 0.1,
        "y": 0.1
       },
       "content": {
        "cell": "f91d7d57-997f-4ba9-9b07-046e7cba3106",
        "part": "whole"
       },
       "id": "6e0a9361-a77e-4155-87a4-5cabe4f0aa93"
      }
     }
    },
    "8d138a9b-eb50-41d5-a1fa-b44299b40b5d": {
     "id": "8d138a9b-eb50-41d5-a1fa-b44299b40b5d",
     "prev": "eda3004b-f460-4350-ba60-f76770375e26",
     "regions": {
      "50935b0f-8576-42e7-a6c3-b4fca6c55a8f": {
       "attrs": {
        "height": 0.8,
        "width": 0.8,
        "x": 0.1,
        "y": 0.1
       },
       "content": {
        "cell": "20d48e2e-b7d2-4980-aebc-2cfc9791d08d",
        "part": "whole"
       },
       "id": "50935b0f-8576-42e7-a6c3-b4fca6c55a8f"
      }
     }
    },
    "8e9f4184-539e-4ced-9031-13334537abb2": {
     "id": "8e9f4184-539e-4ced-9031-13334537abb2",
     "prev": "0a4deef9-9482-4655-b953-b39d97cc3bd6",
     "regions": {
      "7e8840ea-b68c-4448-bd84-52178b631d97": {
       "attrs": {
        "height": 0.8,
        "width": 0.8,
        "x": 0.1,
        "y": 0.1
       },
       "content": {
        "cell": "842c89d4-1a2c-467c-89ea-615d620515d3",
        "part": "whole"
       },
       "id": "7e8840ea-b68c-4448-bd84-52178b631d97"
      }
     }
    },
    "8f028372-313a-48da-b2eb-c6e6e9b7e886": {
     "id": "8f028372-313a-48da-b2eb-c6e6e9b7e886",
     "prev": "c50e3e56-62d9-452e-89af-1504387f3d0a",
     "regions": {
      "479a6255-2726-44e6-bb11-984688d47799": {
       "attrs": {
        "height": 0.8,
        "width": 0.8,
        "x": 0.1,
        "y": 0.1
       },
       "content": {
        "cell": "2902d4de-27bf-4f45-bf7a-c3cad1c8d7cc",
        "part": "whole"
       },
       "id": "479a6255-2726-44e6-bb11-984688d47799"
      }
     }
    },
    "91132bf0-c689-4d20-a816-d94e7f7c845f": {
     "id": "91132bf0-c689-4d20-a816-d94e7f7c845f",
     "prev": "003a8d10-c702-4842-92b4-e701fe397370",
     "regions": {
      "266bca7d-2b1b-4363-990b-48efa2f96567": {
       "attrs": {
        "height": 0.8,
        "width": 0.8,
        "x": 0.1,
        "y": 0.1
       },
       "content": {
        "cell": "117425fd-b74c-468a-8567-d9492840078f",
        "part": "whole"
       },
       "id": "266bca7d-2b1b-4363-990b-48efa2f96567"
      }
     }
    },
    "92785f32-1084-419c-b6e6-0235d359f018": {
     "id": "92785f32-1084-419c-b6e6-0235d359f018",
     "prev": "1dcc7749-fbb5-4a56-b2a4-a0239558e5f8",
     "regions": {
      "2500f610-24a6-4f7b-83ff-d4dd0d40963e": {
       "attrs": {
        "height": 0.8,
        "width": 0.8,
        "x": 0.1,
        "y": 0.1
       },
       "content": {
        "cell": "51fd82e0-8ac7-4bd8-91e8-7991e0905a9b",
        "part": "whole"
       },
       "id": "2500f610-24a6-4f7b-83ff-d4dd0d40963e"
      }
     }
    },
    "97d55dc7-838d-4732-877c-6d7a58486bcd": {
     "id": "97d55dc7-838d-4732-877c-6d7a58486bcd",
     "prev": "91132bf0-c689-4d20-a816-d94e7f7c845f",
     "regions": {
      "a21d1064-e44f-4c6c-ada3-a6ce3cf5bab8": {
       "attrs": {
        "height": 0.8,
        "width": 0.8,
        "x": 0.1,
        "y": 0.1
       },
       "content": {
        "cell": "d99e5322-e2c1-4ef2-b90e-826b21ac7fdc",
        "part": "whole"
       },
       "id": "a21d1064-e44f-4c6c-ada3-a6ce3cf5bab8"
      }
     }
    },
    "9807d09a-eaaa-4494-8e88-70f3041968ab": {
     "id": "9807d09a-eaaa-4494-8e88-70f3041968ab",
     "prev": "d66b396a-1cd6-44dd-b146-f2c28f56cf08",
     "regions": {
      "4484ccb4-8eb1-4da3-a60f-4f79700564fa": {
       "attrs": {
        "height": 0.8,
        "width": 0.8,
        "x": 0.1,
        "y": 0.1
       },
       "content": {
        "cell": "d155eb67-24bd-4451-aecb-39a9407860ae",
        "part": "whole"
       },
       "id": "4484ccb4-8eb1-4da3-a60f-4f79700564fa"
      }
     }
    },
    "98271437-a2c4-4d61-ad51-eae5994c4df7": {
     "id": "98271437-a2c4-4d61-ad51-eae5994c4df7",
     "prev": "3697f1af-46d9-4ffe-9b36-d988bc603746",
     "regions": {
      "8ebb495c-bf62-499c-ab9a-7cd295914afc": {
       "attrs": {
        "height": 0.8,
        "width": 0.8,
        "x": 0.1,
        "y": 0.1
       },
       "content": {
        "cell": "4f82be59-3315-456d-9f02-0fbff2b0ac74",
        "part": "whole"
       },
       "id": "8ebb495c-bf62-499c-ab9a-7cd295914afc"
      }
     }
    },
    "9d327c2c-d842-4e2e-adb1-e3730da062f7": {
     "id": "9d327c2c-d842-4e2e-adb1-e3730da062f7",
     "prev": "24e9fd75-bfb4-4dc7-b6aa-fbf516960efe",
     "regions": {
      "42b0473f-d217-40cc-a7e9-1bd311856da3": {
       "attrs": {
        "height": 0.8,
        "width": 0.8,
        "x": 0.1,
        "y": 0.1
       },
       "content": {
        "cell": "5eb32d2a-7198-4170-8da8-95a0adec2203",
        "part": "whole"
       },
       "id": "42b0473f-d217-40cc-a7e9-1bd311856da3"
      }
     }
    },
    "9e01ca4e-acc6-423e-866b-ac9ebd2fb8e4": {
     "id": "9e01ca4e-acc6-423e-866b-ac9ebd2fb8e4",
     "prev": "5eb091ca-a64d-4ed1-b944-a6f5b1c0371a",
     "regions": {
      "0f030ee7-75cb-4ad7-80c3-b2c67bd030e4": {
       "attrs": {
        "height": 0.8,
        "width": 0.8,
        "x": 0.1,
        "y": 0.1
       },
       "content": {
        "cell": "ff073bf1-080a-4d2c-8bc7-9ed123f60206",
        "part": "whole"
       },
       "id": "0f030ee7-75cb-4ad7-80c3-b2c67bd030e4"
      }
     }
    },
    "9e5ff0f2-183a-4f31-a19d-a8343a63ab30": {
     "id": "9e5ff0f2-183a-4f31-a19d-a8343a63ab30",
     "prev": "2c43c18c-1f94-4f04-a9fb-ee950a542e4c",
     "regions": {
      "87df06fe-9a16-4f7c-908d-f6ed08faf4de": {
       "attrs": {
        "height": 0.8,
        "width": 0.8,
        "x": 0.1,
        "y": 0.1
       },
       "content": {
        "cell": "be08a854-94cd-485e-9aa4-f694ca9d37a0",
        "part": "whole"
       },
       "id": "87df06fe-9a16-4f7c-908d-f6ed08faf4de"
      }
     }
    },
    "a5cc761f-70ba-4c00-afcd-92bde023f5a2": {
     "id": "a5cc761f-70ba-4c00-afcd-92bde023f5a2",
     "prev": "0b793ff4-7554-447c-80b4-3454433476db",
     "regions": {
      "3555a1a0-f26f-4d11-91f7-58ef21f3fd73": {
       "attrs": {
        "height": 0.8,
        "width": 0.8,
        "x": 0.1,
        "y": 0.1
       },
       "content": {
        "cell": "fb6f6e5c-458b-44bc-9462-13c800f24bc4",
        "part": "whole"
       },
       "id": "3555a1a0-f26f-4d11-91f7-58ef21f3fd73"
      }
     }
    },
    "a6446f19-c20d-439d-98c6-6dbc45ccf313": {
     "id": "a6446f19-c20d-439d-98c6-6dbc45ccf313",
     "prev": "772836d6-55cf-4ea2-b92d-ee3225f6f7fc",
     "regions": {
      "d8c50def-14b8-4af3-8f83-1a9c618818a2": {
       "attrs": {
        "height": 0.8,
        "width": 0.8,
        "x": 0.1,
        "y": 0.1
       },
       "content": {
        "cell": "da168d4d-0ca4-441e-b740-ee9d861720b7",
        "part": "whole"
       },
       "id": "d8c50def-14b8-4af3-8f83-1a9c618818a2"
      }
     }
    },
    "a68b7152-48ad-4d80-8d0e-cb8b7b8673ac": {
     "id": "a68b7152-48ad-4d80-8d0e-cb8b7b8673ac",
     "prev": "d84a3ab8-c7ad-49de-bea8-9872e6bf0ce1",
     "regions": {
      "0e91f231-0190-4291-b2f2-0edf32f32fcf": {
       "attrs": {
        "height": 0.8,
        "width": 0.8,
        "x": 0.1,
        "y": 0.1
       },
       "content": {
        "cell": "48f7705d-5d9a-41a7-bdf8-b798ca0cd655",
        "part": "whole"
       },
       "id": "0e91f231-0190-4291-b2f2-0edf32f32fcf"
      }
     }
    },
    "ab752314-1f50-4e9c-841b-76e73c9fab9b": {
     "id": "ab752314-1f50-4e9c-841b-76e73c9fab9b",
     "prev": "72746495-cfc6-4f37-a6e1-69395c6dbed4",
     "regions": {
      "cfc99cd4-d618-49e6-8572-e0891342e750": {
       "attrs": {
        "height": 0.8,
        "width": 0.8,
        "x": 0.1,
        "y": 0.1
       },
       "content": {
        "cell": "188a3c63-84cb-46f3-b089-c4bdde86747d",
        "part": "whole"
       },
       "id": "cfc99cd4-d618-49e6-8572-e0891342e750"
      }
     }
    },
    "ade08cf5-efd1-4bc8-806e-ee70a6530619": {
     "id": "ade08cf5-efd1-4bc8-806e-ee70a6530619",
     "prev": "1890727a-ea5e-4537-9efd-55d6a99f9d21",
     "regions": {
      "1726653b-7b10-4e82-a530-e684baba97b6": {
       "attrs": {
        "height": 0.8,
        "width": 0.8,
        "x": 0.1,
        "y": 0.1
       },
       "content": {
        "cell": "412d5488-beae-48cf-83a5-d76ba645de49",
        "part": "whole"
       },
       "id": "1726653b-7b10-4e82-a530-e684baba97b6"
      }
     }
    },
    "b092ceaa-4a76-46bc-a831-ea68e9fec95f": {
     "id": "b092ceaa-4a76-46bc-a831-ea68e9fec95f",
     "prev": "5f07cdab-27b8-4a4c-9377-fe1a9553bb3a",
     "regions": {
      "1b8ccb20-727e-4cff-bd44-b3692d43872d": {
       "attrs": {
        "height": 0.8,
        "width": 0.8,
        "x": 0.1,
        "y": 0.1
       },
       "content": {
        "cell": "aaf07749-2dc8-468a-a363-34c8ab412ebb",
        "part": "whole"
       },
       "id": "1b8ccb20-727e-4cff-bd44-b3692d43872d"
      }
     }
    },
    "b093a7a6-dd22-4a95-bb77-c60a29f37d5a": {
     "id": "b093a7a6-dd22-4a95-bb77-c60a29f37d5a",
     "prev": null,
     "regions": {
      "9cb69c8a-5148-4294-b875-355b4333f492": {
       "attrs": {
        "height": 0.8,
        "width": 0.8,
        "x": 0.1,
        "y": 0.1
       },
       "content": {
        "cell": "d52fec8b-1ede-4465-91f3-396c6550d89b",
        "part": "whole"
       },
       "id": "9cb69c8a-5148-4294-b875-355b4333f492"
      }
     }
    },
    "b6367249-c27f-42d7-8bfe-4e8ff7ac6d68": {
     "id": "b6367249-c27f-42d7-8bfe-4e8ff7ac6d68",
     "prev": "98271437-a2c4-4d61-ad51-eae5994c4df7",
     "regions": {
      "8c18b867-a9cf-451a-a784-c4ce7bd78e17": {
       "attrs": {
        "height": 0.8,
        "width": 0.8,
        "x": 0.1,
        "y": 0.1
       },
       "content": {
        "cell": "63ee4c40-d0c5-4121-8d5a-fa1d9e928aa9",
        "part": "whole"
       },
       "id": "8c18b867-a9cf-451a-a784-c4ce7bd78e17"
      }
     }
    },
    "b680b97e-fc7e-4e18-943c-270763e791b3": {
     "id": "b680b97e-fc7e-4e18-943c-270763e791b3",
     "prev": "e7de5beb-968f-4f86-a842-13f7138a4d0a",
     "regions": {
      "2155d508-1299-4f5e-95b2-4c52626f9eb1": {
       "attrs": {
        "height": 0.8,
        "width": 0.8,
        "x": 0.1,
        "y": 0.1
       },
       "content": {
        "cell": "63725e59-b4aa-431c-be97-58a7e638f1d9",
        "part": "whole"
       },
       "id": "2155d508-1299-4f5e-95b2-4c52626f9eb1"
      }
     }
    },
    "be12af40-553a-45ec-87ba-4f2c6c0df9f8": {
     "id": "be12af40-553a-45ec-87ba-4f2c6c0df9f8",
     "prev": "be237969-fcd5-407b-b75b-435d689af358",
     "regions": {
      "0e895e87-254f-4bf4-a3f9-bd3da8e3cae6": {
       "attrs": {
        "height": 0.8,
        "width": 0.8,
        "x": 0.1,
        "y": 0.1
       },
       "content": {
        "cell": "79057108-4201-4a25-b6f3-cac73c85fc0b",
        "part": "whole"
       },
       "id": "0e895e87-254f-4bf4-a3f9-bd3da8e3cae6"
      }
     }
    },
    "be237969-fcd5-407b-b75b-435d689af358": {
     "id": "be237969-fcd5-407b-b75b-435d689af358",
     "prev": "d1726723-75d7-4477-9e30-04b69723c137",
     "regions": {
      "9bf9454e-49f8-492f-a636-5cec9e901c1d": {
       "attrs": {
        "height": 0.8,
        "width": 0.8,
        "x": 0.1,
        "y": 0.1
       },
       "content": {
        "cell": "74d0e2f0-8a6c-430a-8ed2-c145b61c27af",
        "part": "whole"
       },
       "id": "9bf9454e-49f8-492f-a636-5cec9e901c1d"
      }
     }
    },
    "bf3ba8c2-b380-49c8-84dd-6750ee55604e": {
     "id": "bf3ba8c2-b380-49c8-84dd-6750ee55604e",
     "prev": "2acb8dc9-9b3a-431f-9393-4b11002da153",
     "regions": {
      "31da077c-97ef-4173-a1ea-70bda9e5801c": {
       "attrs": {
        "height": 0.8,
        "width": 0.8,
        "x": 0.1,
        "y": 0.1
       },
       "content": {
        "cell": "9229a71f-7d83-44b9-802f-3deb020e3a82",
        "part": "whole"
       },
       "id": "31da077c-97ef-4173-a1ea-70bda9e5801c"
      }
     }
    },
    "c2d1c60c-ecf8-433b-9581-8da5956c522f": {
     "id": "c2d1c60c-ecf8-433b-9581-8da5956c522f",
     "prev": "0850b123-c1a3-49a2-a839-e26f9ac9647e",
     "regions": {
      "1ee182e8-d653-4bc1-8cc9-de37fb9183de": {
       "attrs": {
        "height": 0.8,
        "width": 0.8,
        "x": 0.1,
        "y": 0.1
       },
       "content": {
        "cell": "aa5b75d3-2317-4d35-87c5-476c4c2f1864",
        "part": "whole"
       },
       "id": "1ee182e8-d653-4bc1-8cc9-de37fb9183de"
      }
     }
    },
    "c50e3e56-62d9-452e-89af-1504387f3d0a": {
     "id": "c50e3e56-62d9-452e-89af-1504387f3d0a",
     "prev": "d06018cb-7cd6-4c58-8610-30ca94fadc8d",
     "regions": {
      "0443d1b0-3087-42db-a5a5-ca0e5aca1585": {
       "attrs": {
        "height": 0.8,
        "width": 0.8,
        "x": 0.1,
        "y": 0.1
       },
       "content": {
        "cell": "cb40936b-c367-4427-a3fd-b09d79b45b5b",
        "part": "whole"
       },
       "id": "0443d1b0-3087-42db-a5a5-ca0e5aca1585"
      }
     }
    },
    "c53804d6-65bd-476b-8692-cdcb37430b0a": {
     "id": "c53804d6-65bd-476b-8692-cdcb37430b0a",
     "prev": "b092ceaa-4a76-46bc-a831-ea68e9fec95f",
     "regions": {
      "02a631e7-49dc-4380-9e0c-a61c6af89aa7": {
       "attrs": {
        "height": 0.8,
        "width": 0.8,
        "x": 0.1,
        "y": 0.1
       },
       "content": {
        "cell": "6a3c24d8-b780-449b-903d-d36e37d48f43",
        "part": "whole"
       },
       "id": "02a631e7-49dc-4380-9e0c-a61c6af89aa7"
      }
     }
    },
    "c9efe2a9-30ae-4246-a23d-674ded3e5375": {
     "id": "c9efe2a9-30ae-4246-a23d-674ded3e5375",
     "prev": "d6b5b492-3e89-4514-b919-7dc420c1b19f",
     "regions": {
      "4104e8d6-716e-4bc6-87cd-91666e991c3a": {
       "attrs": {
        "height": 0.8,
        "width": 0.8,
        "x": 0.1,
        "y": 0.1
       },
       "content": {
        "cell": "6ef209d4-d7de-4edc-8cd1-57f96b141f83",
        "part": "whole"
       },
       "id": "4104e8d6-716e-4bc6-87cd-91666e991c3a"
      }
     }
    },
    "ce2b82e1-7b32-4af5-ae9f-941cbf26a9cb": {
     "id": "ce2b82e1-7b32-4af5-ae9f-941cbf26a9cb",
     "prev": "bf3ba8c2-b380-49c8-84dd-6750ee55604e",
     "regions": {
      "ca5a5e70-0742-4f3c-aa87-64078cc8cc63": {
       "attrs": {
        "height": 0.8,
        "width": 0.8,
        "x": 0.1,
        "y": 0.1
       },
       "content": {
        "cell": "9d27600d-37c1-472f-9f0c-4e120754318d",
        "part": "whole"
       },
       "id": "ca5a5e70-0742-4f3c-aa87-64078cc8cc63"
      }
     }
    },
    "d06018cb-7cd6-4c58-8610-30ca94fadc8d": {
     "id": "d06018cb-7cd6-4c58-8610-30ca94fadc8d",
     "prev": "27490546-d762-423d-9106-d5362fe315dd",
     "regions": {
      "adce203c-7511-43a1-8ca0-57861c6ca80d": {
       "attrs": {
        "height": 0.8,
        "width": 0.8,
        "x": 0.1,
        "y": 0.1
       },
       "content": {
        "cell": "5212c60b-0ae9-4694-be63-4ced44c1f115",
        "part": "whole"
       },
       "id": "adce203c-7511-43a1-8ca0-57861c6ca80d"
      }
     }
    },
    "d1726723-75d7-4477-9e30-04b69723c137": {
     "id": "d1726723-75d7-4477-9e30-04b69723c137",
     "prev": "79f56b32-c1ac-43c1-a893-11faa0a07303",
     "regions": {
      "0c72bab4-8499-4e78-91fc-5aaca7bbb76a": {
       "attrs": {
        "height": 0.8,
        "width": 0.8,
        "x": 0.1,
        "y": 0.1
       },
       "content": {
        "cell": "318b77cb-7016-4ffe-b45a-27b80680575b",
        "part": "whole"
       },
       "id": "0c72bab4-8499-4e78-91fc-5aaca7bbb76a"
      }
     }
    },
    "d66b396a-1cd6-44dd-b146-f2c28f56cf08": {
     "id": "d66b396a-1cd6-44dd-b146-f2c28f56cf08",
     "prev": "b6367249-c27f-42d7-8bfe-4e8ff7ac6d68",
     "regions": {
      "2123b730-6cec-4f35-b353-1d60f4a0fe4c": {
       "attrs": {
        "height": 0.8,
        "width": 0.8,
        "x": 0.1,
        "y": 0.1
       },
       "content": {
        "cell": "3ca050d4-a9b1-40f0-bcb5-370a45b3b584",
        "part": "whole"
       },
       "id": "2123b730-6cec-4f35-b353-1d60f4a0fe4c"
      }
     }
    },
    "d6b5b492-3e89-4514-b919-7dc420c1b19f": {
     "id": "d6b5b492-3e89-4514-b919-7dc420c1b19f",
     "prev": "382c5b22-5725-4e4a-aef1-a5d37ceaf752",
     "regions": {
      "5820e9b2-0495-462b-9387-c2ce728e5fde": {
       "attrs": {
        "height": 0.8,
        "width": 0.8,
        "x": 0.1,
        "y": 0.1
       },
       "content": {
        "cell": "3b0b7306-c86d-4c2e-a0fe-6c2acc2319f1",
        "part": "whole"
       },
       "id": "5820e9b2-0495-462b-9387-c2ce728e5fde"
      }
     }
    },
    "d84a3ab8-c7ad-49de-bea8-9872e6bf0ce1": {
     "id": "d84a3ab8-c7ad-49de-bea8-9872e6bf0ce1",
     "prev": "60c2e633-3e02-4d3e-8b7f-0883c6a4c517",
     "regions": {
      "f840f25d-76e7-4993-85f1-54edd0be857c": {
       "attrs": {
        "height": 0.8,
        "width": 0.8,
        "x": 0.1,
        "y": 0.1
       },
       "content": {
        "cell": "66e44b0f-4c0b-44b5-9a72-68d6a77a232b",
        "part": "whole"
       },
       "id": "f840f25d-76e7-4993-85f1-54edd0be857c"
      }
     }
    },
    "deda2ee9-e226-49d9-a113-05d7a097833a": {
     "id": "deda2ee9-e226-49d9-a113-05d7a097833a",
     "prev": "2a307f39-2452-4f39-981b-7f740d44f970",
     "regions": {
      "25b2a83f-ce1d-4782-ab33-724405cf93be": {
       "attrs": {
        "height": 0.8,
        "width": 0.8,
        "x": 0.1,
        "y": 0.1
       },
       "content": {
        "cell": "bb8be698-0abb-4d36-b381-f370f169287d",
        "part": "whole"
       },
       "id": "25b2a83f-ce1d-4782-ab33-724405cf93be"
      }
     }
    },
    "df7c89e3-e45c-44d8-92e7-1e44a977c595": {
     "id": "df7c89e3-e45c-44d8-92e7-1e44a977c595",
     "prev": "49624893-e0e6-4580-92a5-7cebe7f91ea9",
     "regions": {
      "795fc618-8147-4d92-a7bb-2ab6c4124c87": {
       "attrs": {
        "height": 0.8,
        "width": 0.8,
        "x": 0.1,
        "y": 0.1
       },
       "content": {
        "cell": "d2424f10-2460-4a9c-aee6-130845ba9635",
        "part": "whole"
       },
       "id": "795fc618-8147-4d92-a7bb-2ab6c4124c87"
      }
     }
    },
    "df99013a-bee9-4748-be0b-e5753be08c37": {
     "id": "df99013a-bee9-4748-be0b-e5753be08c37",
     "prev": "16a3d1e3-ada1-4fbf-bc60-af9297a431e6",
     "regions": {
      "514e7b70-72f7-4beb-8e35-54af12a4f3c9": {
       "attrs": {
        "height": 0.8,
        "width": 0.8,
        "x": 0.1,
        "y": 0.1
       },
       "content": {
        "cell": "0b6b35bb-1519-4e27-92d3-ebb657e828e4",
        "part": "whole"
       },
       "id": "514e7b70-72f7-4beb-8e35-54af12a4f3c9"
      }
     }
    },
    "e34df0b5-3a9c-4c17-b991-be28c0fc180e": {
     "id": "e34df0b5-3a9c-4c17-b991-be28c0fc180e",
     "prev": "714b5512-49e9-4916-abbf-91631a3e96e0",
     "regions": {
      "eee94a3d-5c8d-4cd3-9da3-71600d794059": {
       "attrs": {
        "height": 0.8,
        "width": 0.8,
        "x": 0.1,
        "y": 0.1
       },
       "content": {
        "cell": "2d9aa4fa-989a-4554-9289-a4fff365f648",
        "part": "whole"
       },
       "id": "eee94a3d-5c8d-4cd3-9da3-71600d794059"
      }
     }
    },
    "e7de5beb-968f-4f86-a842-13f7138a4d0a": {
     "id": "e7de5beb-968f-4f86-a842-13f7138a4d0a",
     "prev": "9e01ca4e-acc6-423e-866b-ac9ebd2fb8e4",
     "regions": {
      "75c3643b-92bb-4200-8856-c2457889387f": {
       "attrs": {
        "height": 0.8,
        "width": 0.8,
        "x": 0.1,
        "y": 0.1
       },
       "content": {
        "cell": "b32981c4-fee7-43d5-8238-271393a9920b",
        "part": "whole"
       },
       "id": "75c3643b-92bb-4200-8856-c2457889387f"
      }
     }
    },
    "e8a3aa68-a07f-47d7-b9c6-b6ed8c1e8c55": {
     "id": "e8a3aa68-a07f-47d7-b9c6-b6ed8c1e8c55",
     "prev": "73fc76ea-b86c-4c41-86cb-7ba08a80f37f",
     "regions": {
      "f61b9542-9d62-449d-861e-3780f69c93e7": {
       "attrs": {
        "height": 0.8,
        "width": 0.8,
        "x": 0.1,
        "y": 0.1
       },
       "content": {
        "cell": "71b3efdf-925a-463b-aafc-ab9e8568eb31",
        "part": "whole"
       },
       "id": "f61b9542-9d62-449d-861e-3780f69c93e7"
      }
     }
    },
    "ecd55ea3-d9e3-47d5-8c2c-b68dbd3257a9": {
     "id": "ecd55ea3-d9e3-47d5-8c2c-b68dbd3257a9",
     "prev": "fc11e7a9-c757-4389-a7ee-91c393d1fe14",
     "regions": {
      "3987caf5-ab69-4584-86cd-4d92855f6aaf": {
       "attrs": {
        "height": 0.8,
        "width": 0.8,
        "x": 0.1,
        "y": 0.1
       },
       "content": {
        "cell": "4b4186a4-012e-431b-9b8b-7ff35544c7f6",
        "part": "whole"
       },
       "id": "3987caf5-ab69-4584-86cd-4d92855f6aaf"
      }
     }
    },
    "eda3004b-f460-4350-ba60-f76770375e26": {
     "id": "eda3004b-f460-4350-ba60-f76770375e26",
     "prev": "219aae91-d6f1-46db-80ed-472bbadfd085",
     "regions": {
      "9d63ccf2-cbb3-4dce-9cde-1aac40faff72": {
       "attrs": {
        "height": 0.8,
        "width": 0.8,
        "x": 0.1,
        "y": 0.1
       },
       "content": {
        "cell": "339ad012-e83f-4d1c-97f0-5b6b8d08d866",
        "part": "whole"
       },
       "id": "9d63ccf2-cbb3-4dce-9cde-1aac40faff72"
      }
     }
    },
    "edf390ac-7292-446e-9bd1-e28619fc13d3": {
     "id": "edf390ac-7292-446e-9bd1-e28619fc13d3",
     "prev": "68e6840a-8066-4c13-a908-d22419f7af02",
     "regions": {
      "e40c7d92-f034-42bd-8ec2-f984992b57f7": {
       "attrs": {
        "height": 0.8,
        "width": 0.8,
        "x": 0.1,
        "y": 0.1
       },
       "content": {
        "cell": "e37878d5-1e1e-49a9-8553-4442536e1917",
        "part": "whole"
       },
       "id": "e40c7d92-f034-42bd-8ec2-f984992b57f7"
      }
     }
    },
    "efa06722-adb9-4120-b875-58eed4a85881": {
     "id": "efa06722-adb9-4120-b875-58eed4a85881",
     "prev": "3d046acf-f7c8-422e-91f7-7f62a1833cd2",
     "regions": {
      "c7bf3f8e-d8f8-4ed3-af50-5103998af268": {
       "attrs": {
        "height": 0.8,
        "width": 0.8,
        "x": 0.1,
        "y": 0.1
       },
       "content": {
        "cell": "25edb4ed-7f1a-4e8b-8a70-a22c3c885f1c",
        "part": "whole"
       },
       "id": "c7bf3f8e-d8f8-4ed3-af50-5103998af268"
      }
     }
    },
    "eff4ebb9-5507-40a9-991d-c79456d233bc": {
     "id": "eff4ebb9-5507-40a9-991d-c79456d233bc",
     "prev": "898dc256-86b9-48bb-8a3a-2021b799e60c",
     "regions": {
      "f75e8205-607d-4508-9d04-55ec65ec2cd4": {
       "attrs": {
        "height": 0.8,
        "width": 0.8,
        "x": 0.1,
        "y": 0.1
       },
       "content": {
        "cell": "5021cd21-216d-4815-b55f-dd532b60d9b2",
        "part": "whole"
       },
       "id": "f75e8205-607d-4508-9d04-55ec65ec2cd4"
      }
     }
    },
    "f084d3cb-871e-46e5-bc62-389c706ab37d": {
     "id": "f084d3cb-871e-46e5-bc62-389c706ab37d",
     "prev": "a6446f19-c20d-439d-98c6-6dbc45ccf313",
     "regions": {
      "47f62920-f087-4917-bf40-963bb4ca6257": {
       "attrs": {
        "height": 0.8,
        "width": 0.8,
        "x": 0.1,
        "y": 0.1
       },
       "content": {
        "cell": "1de16b72-141d-490a-aaaf-2cc7e0603716",
        "part": "whole"
       },
       "id": "47f62920-f087-4917-bf40-963bb4ca6257"
      }
     }
    },
    "f57a7cee-f92a-49b7-9afe-f1cd694a60f6": {
     "id": "f57a7cee-f92a-49b7-9afe-f1cd694a60f6",
     "prev": "3280a19a-f5f0-4f99-acec-5980d2facfb0",
     "regions": {
      "b00f0136-0a42-48e3-ba75-1914e759c863": {
       "attrs": {
        "height": 0.8,
        "width": 0.8,
        "x": 0.1,
        "y": 0.1
       },
       "content": {
        "cell": "6d7ac29d-90f4-4538-839f-d20e44b3db2d",
        "part": "whole"
       },
       "id": "b00f0136-0a42-48e3-ba75-1914e759c863"
      }
     }
    },
    "f8777521-ec3c-4363-a6bf-ed8b50c8af79": {
     "id": "f8777521-ec3c-4363-a6bf-ed8b50c8af79",
     "prev": "53669507-6c5f-426e-aa40-4d953bc4f83b",
     "regions": {
      "1e08e059-f890-4cc3-ba5e-dface832c281": {
       "attrs": {
        "height": 0.8,
        "width": 0.8,
        "x": 0.1,
        "y": 0.1
       },
       "content": {
        "cell": "afe59803-139f-4fb6-9807-8f80467a3ea8",
        "part": "whole"
       },
       "id": "1e08e059-f890-4cc3-ba5e-dface832c281"
      }
     }
    },
    "fc11e7a9-c757-4389-a7ee-91c393d1fe14": {
     "id": "fc11e7a9-c757-4389-a7ee-91c393d1fe14",
     "prev": "884d8f66-c0f6-4ec7-9aa9-3b08f04a9035",
     "regions": {
      "65284b72-98d4-489b-a1eb-3c20ccbbb65d": {
       "attrs": {
        "height": 0.8,
        "width": 0.8,
        "x": 0.1,
        "y": 0.1
       },
       "content": {
        "cell": "bcccf5c9-96c5-4728-bb88-3f95062d2828",
        "part": "whole"
       },
       "id": "65284b72-98d4-489b-a1eb-3c20ccbbb65d"
      }
     }
    },
    "fdfd4e2b-35e6-43db-ac14-3ffed113839a": {
     "id": "fdfd4e2b-35e6-43db-ac14-3ffed113839a",
     "prev": "7a9f4497-e02b-4e86-92d5-6460fa0f32a4",
     "regions": {
      "3910ffda-521c-4036-b075-7b8799d24973": {
       "attrs": {
        "height": 0.8,
        "width": 0.8,
        "x": 0.1,
        "y": 0.1
       },
       "content": {
        "cell": "c7680117-8509-4e07-8d8a-7283ee17cb18",
        "part": "whole"
       },
       "id": "3910ffda-521c-4036-b075-7b8799d24973"
      }
     }
    },
    "fe09da01-8334-4367-989f-854734829262": {
     "id": "fe09da01-8334-4367-989f-854734829262",
     "prev": "ce2b82e1-7b32-4af5-ae9f-941cbf26a9cb",
     "regions": {
      "22f54a36-96a1-432a-80a4-6fe20e8b15b5": {
       "attrs": {
        "height": 0.8,
        "width": 0.8,
        "x": 0.1,
        "y": 0.1
       },
       "content": {
        "cell": "f88bb6a2-ef94-4ad2-9293-25a68a3bf58a",
        "part": "whole"
       },
       "id": "22f54a36-96a1-432a-80a4-6fe20e8b15b5"
      }
     }
    },
    "ff3e6212-8dea-4ccd-94e3-23b578947e75": {
     "id": "ff3e6212-8dea-4ccd-94e3-23b578947e75",
     "prev": "1264f622-cc28-4070-8e20-bbd408f796e1",
     "regions": {
      "724d1fd2-7110-4655-ba9d-7175d99b021a": {
       "attrs": {
        "height": 0.8,
        "width": 0.8,
        "x": 0.1,
        "y": 0.1
       },
       "content": {
        "cell": "4712d0c8-7f8e-4b31-af3d-773a25ab7d8f",
        "part": "whole"
       },
       "id": "724d1fd2-7110-4655-ba9d-7175d99b021a"
      }
     }
    }
   },
   "themes": {}
  }
 },
 "nbformat": 4,
 "nbformat_minor": 2
}
