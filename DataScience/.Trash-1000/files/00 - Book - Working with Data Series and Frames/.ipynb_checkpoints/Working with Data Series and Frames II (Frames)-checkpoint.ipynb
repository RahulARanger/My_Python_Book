{
 "cells": [
  {
   "cell_type": "markdown",
   "metadata": {},
   "source": [
    "# Working with Data Series and Frames\n",
    "\n",
    "## Frames\n",
    "\n",
    "Series are great for recording observations of one variable. \n",
    "\n",
    "However, many data sets have more than one variable. \n",
    "\n",
    "That’s where frames comes in.\n",
    "\n",
    "### Getting Used to Pandas Data Structure Frames\n",
    "\n",
    "Let’s use a 2011 surveillance report by the National Institute on Alcohol Abuse and Alcoholism1 to study frames. The report shows per capita alcohol consumption per state, per category (beer, wine, and spirits), and per year between 1977–2009.\n",
    "\n",
    "But remember: Do not drink and do data science!"
   ]
  },
  {
   "cell_type": "code",
   "execution_count": 10,
   "metadata": {
    "collapsed": false
   },
   "outputs": [
    {
     "output_type": "execute_result",
     "data": {
      "text/plain": "                      Beer  Wine  Spirits\nAlabama               1.20  0.22     0.58\nAlaska                1.31  0.54     1.16\nArizona               1.19  0.38     0.74\nArkansas              1.07  0.17     0.60\nCalifornia            1.05  0.55     0.73\nColorado              1.22  0.46     1.00\nConnecticut           0.89  0.59     0.86\nDelaware              1.31  0.57     1.25\nDistrict of Columbia  1.26  1.00     1.64\nFlorida               1.21  0.48     0.92\nGeorgia               1.08  0.25     0.64\nHawaii                1.30  0.53     0.75\nIdaho                 1.05  0.92     0.70\nIllinois              1.22  0.39     0.73\nIndiana               1.09  0.25     0.73\nIowa                  1.42  0.18     0.72\nKansas                1.18  0.14     0.67\nKentucky              1.11  0.18     0.65\nLouisiana             1.50  0.28     0.85\nMaine                 1.24  0.42     0.83\nMaryland              0.97  0.37     0.87\nMassachusetts         1.02  0.61     0.84\nMichigan              1.10  0.31     0.80\nMinnesota             1.19  0.37     1.04\nMississippi           1.41  0.11     0.71\nMissouri              1.30  0.30     0.83\nMontana               1.66  0.45     0.88\nNebraska              1.46  0.20     0.68\nNevada                1.57  0.58     1.15\nNew Hampshire         1.72  0.84     1.82\nNew Jersey            0.92  0.57     0.87\nNew Mexico            1.37  0.32     0.74\nNew York              0.91  0.46     0.69\nNorth Carolina        1.10  0.34     0.58\nNorth Dakota          1.63  0.25     1.16\nOhio                  1.28  0.26     0.47\nOklahoma              1.18  0.18     0.58\nOregon                1.28  0.49     0.82\nPennsylvania          1.35  0.23     0.61\nRhode Island          1.10  0.53     0.92\nSouth Carolina        1.36  0.24     0.77\nSouth Dakota          1.53  0.22     0.88\nTennessee             1.05  0.21     0.57\nTexas                 1.42  0.28     0.58\nUtah                  0.70  0.17     0.46\nVermont               1.36  0.63     0.70\nVirginia              1.11  0.43     0.59\nWashington            1.09  0.51     0.74\nWest Virginia         1.24  0.10     0.45\nWisconsin             1.49  0.31     1.16\nWyoming               1.45  0.22     1.10",
      "text/html": "<div>\n<style scoped>\n    .dataframe tbody tr th:only-of-type {\n        vertical-align: middle;\n    }\n\n    .dataframe tbody tr th {\n        vertical-align: top;\n    }\n\n    .dataframe thead th {\n        text-align: right;\n    }\n</style>\n<table border=\"1\" class=\"dataframe\">\n  <thead>\n    <tr style=\"text-align: right;\">\n      <th></th>\n      <th>Beer</th>\n      <th>Wine</th>\n      <th>Spirits</th>\n    </tr>\n  </thead>\n  <tbody>\n    <tr>\n      <th>Alabama</th>\n      <td>1.20</td>\n      <td>0.22</td>\n      <td>0.58</td>\n    </tr>\n    <tr>\n      <th>Alaska</th>\n      <td>1.31</td>\n      <td>0.54</td>\n      <td>1.16</td>\n    </tr>\n    <tr>\n      <th>Arizona</th>\n      <td>1.19</td>\n      <td>0.38</td>\n      <td>0.74</td>\n    </tr>\n    <tr>\n      <th>Arkansas</th>\n      <td>1.07</td>\n      <td>0.17</td>\n      <td>0.60</td>\n    </tr>\n    <tr>\n      <th>California</th>\n      <td>1.05</td>\n      <td>0.55</td>\n      <td>0.73</td>\n    </tr>\n    <tr>\n      <th>Colorado</th>\n      <td>1.22</td>\n      <td>0.46</td>\n      <td>1.00</td>\n    </tr>\n    <tr>\n      <th>Connecticut</th>\n      <td>0.89</td>\n      <td>0.59</td>\n      <td>0.86</td>\n    </tr>\n    <tr>\n      <th>Delaware</th>\n      <td>1.31</td>\n      <td>0.57</td>\n      <td>1.25</td>\n    </tr>\n    <tr>\n      <th>District of Columbia</th>\n      <td>1.26</td>\n      <td>1.00</td>\n      <td>1.64</td>\n    </tr>\n    <tr>\n      <th>Florida</th>\n      <td>1.21</td>\n      <td>0.48</td>\n      <td>0.92</td>\n    </tr>\n    <tr>\n      <th>Georgia</th>\n      <td>1.08</td>\n      <td>0.25</td>\n      <td>0.64</td>\n    </tr>\n    <tr>\n      <th>Hawaii</th>\n      <td>1.30</td>\n      <td>0.53</td>\n      <td>0.75</td>\n    </tr>\n    <tr>\n      <th>Idaho</th>\n      <td>1.05</td>\n      <td>0.92</td>\n      <td>0.70</td>\n    </tr>\n    <tr>\n      <th>Illinois</th>\n      <td>1.22</td>\n      <td>0.39</td>\n      <td>0.73</td>\n    </tr>\n    <tr>\n      <th>Indiana</th>\n      <td>1.09</td>\n      <td>0.25</td>\n      <td>0.73</td>\n    </tr>\n    <tr>\n      <th>Iowa</th>\n      <td>1.42</td>\n      <td>0.18</td>\n      <td>0.72</td>\n    </tr>\n    <tr>\n      <th>Kansas</th>\n      <td>1.18</td>\n      <td>0.14</td>\n      <td>0.67</td>\n    </tr>\n    <tr>\n      <th>Kentucky</th>\n      <td>1.11</td>\n      <td>0.18</td>\n      <td>0.65</td>\n    </tr>\n    <tr>\n      <th>Louisiana</th>\n      <td>1.50</td>\n      <td>0.28</td>\n      <td>0.85</td>\n    </tr>\n    <tr>\n      <th>Maine</th>\n      <td>1.24</td>\n      <td>0.42</td>\n      <td>0.83</td>\n    </tr>\n    <tr>\n      <th>Maryland</th>\n      <td>0.97</td>\n      <td>0.37</td>\n      <td>0.87</td>\n    </tr>\n    <tr>\n      <th>Massachusetts</th>\n      <td>1.02</td>\n      <td>0.61</td>\n      <td>0.84</td>\n    </tr>\n    <tr>\n      <th>Michigan</th>\n      <td>1.10</td>\n      <td>0.31</td>\n      <td>0.80</td>\n    </tr>\n    <tr>\n      <th>Minnesota</th>\n      <td>1.19</td>\n      <td>0.37</td>\n      <td>1.04</td>\n    </tr>\n    <tr>\n      <th>Mississippi</th>\n      <td>1.41</td>\n      <td>0.11</td>\n      <td>0.71</td>\n    </tr>\n    <tr>\n      <th>Missouri</th>\n      <td>1.30</td>\n      <td>0.30</td>\n      <td>0.83</td>\n    </tr>\n    <tr>\n      <th>Montana</th>\n      <td>1.66</td>\n      <td>0.45</td>\n      <td>0.88</td>\n    </tr>\n    <tr>\n      <th>Nebraska</th>\n      <td>1.46</td>\n      <td>0.20</td>\n      <td>0.68</td>\n    </tr>\n    <tr>\n      <th>Nevada</th>\n      <td>1.57</td>\n      <td>0.58</td>\n      <td>1.15</td>\n    </tr>\n    <tr>\n      <th>New Hampshire</th>\n      <td>1.72</td>\n      <td>0.84</td>\n      <td>1.82</td>\n    </tr>\n    <tr>\n      <th>New Jersey</th>\n      <td>0.92</td>\n      <td>0.57</td>\n      <td>0.87</td>\n    </tr>\n    <tr>\n      <th>New Mexico</th>\n      <td>1.37</td>\n      <td>0.32</td>\n      <td>0.74</td>\n    </tr>\n    <tr>\n      <th>New York</th>\n      <td>0.91</td>\n      <td>0.46</td>\n      <td>0.69</td>\n    </tr>\n    <tr>\n      <th>North Carolina</th>\n      <td>1.10</td>\n      <td>0.34</td>\n      <td>0.58</td>\n    </tr>\n    <tr>\n      <th>North Dakota</th>\n      <td>1.63</td>\n      <td>0.25</td>\n      <td>1.16</td>\n    </tr>\n    <tr>\n      <th>Ohio</th>\n      <td>1.28</td>\n      <td>0.26</td>\n      <td>0.47</td>\n    </tr>\n    <tr>\n      <th>Oklahoma</th>\n      <td>1.18</td>\n      <td>0.18</td>\n      <td>0.58</td>\n    </tr>\n    <tr>\n      <th>Oregon</th>\n      <td>1.28</td>\n      <td>0.49</td>\n      <td>0.82</td>\n    </tr>\n    <tr>\n      <th>Pennsylvania</th>\n      <td>1.35</td>\n      <td>0.23</td>\n      <td>0.61</td>\n    </tr>\n    <tr>\n      <th>Rhode Island</th>\n      <td>1.10</td>\n      <td>0.53</td>\n      <td>0.92</td>\n    </tr>\n    <tr>\n      <th>South Carolina</th>\n      <td>1.36</td>\n      <td>0.24</td>\n      <td>0.77</td>\n    </tr>\n    <tr>\n      <th>South Dakota</th>\n      <td>1.53</td>\n      <td>0.22</td>\n      <td>0.88</td>\n    </tr>\n    <tr>\n      <th>Tennessee</th>\n      <td>1.05</td>\n      <td>0.21</td>\n      <td>0.57</td>\n    </tr>\n    <tr>\n      <th>Texas</th>\n      <td>1.42</td>\n      <td>0.28</td>\n      <td>0.58</td>\n    </tr>\n    <tr>\n      <th>Utah</th>\n      <td>0.70</td>\n      <td>0.17</td>\n      <td>0.46</td>\n    </tr>\n    <tr>\n      <th>Vermont</th>\n      <td>1.36</td>\n      <td>0.63</td>\n      <td>0.70</td>\n    </tr>\n    <tr>\n      <th>Virginia</th>\n      <td>1.11</td>\n      <td>0.43</td>\n      <td>0.59</td>\n    </tr>\n    <tr>\n      <th>Washington</th>\n      <td>1.09</td>\n      <td>0.51</td>\n      <td>0.74</td>\n    </tr>\n    <tr>\n      <th>West Virginia</th>\n      <td>1.24</td>\n      <td>0.10</td>\n      <td>0.45</td>\n    </tr>\n    <tr>\n      <th>Wisconsin</th>\n      <td>1.49</td>\n      <td>0.31</td>\n      <td>1.16</td>\n    </tr>\n    <tr>\n      <th>Wyoming</th>\n      <td>1.45</td>\n      <td>0.22</td>\n      <td>1.10</td>\n    </tr>\n  </tbody>\n</table>\n</div>"
     },
     "metadata": {},
     "execution_count": 10
    }
   ],
   "source": [
    "import pandas as pd\n",
    "import numpy as np\n",
    "\n",
    "alco2009 = pd.DataFrame ([\n",
    "        (1.2,\t0.22,\t0.58),\n",
    "        (1.31,\t0.54,\t1.16),\n",
    "        (1.19,\t0.38,\t0.74),\n",
    "        (1.07,\t0.17,\t0.6),\n",
    "        (1.05,\t0.55,\t0.73),\n",
    "        (1.22,\t0.46,\t1),\n",
    "        (0.89,\t0.59,\t0.86),\n",
    "        (1.31,\t0.57,\t1.25),\n",
    "        (1.26,\t1,\t1.64),\n",
    "        (1.21,\t0.48,\t0.92),\n",
    "        (1.08,\t0.25,\t0.64),\n",
    "        (1.3,\t0.53,\t0.75),\n",
    "        (1.05,\t0.92,\t0.7),\n",
    "        (1.22,\t0.39,\t0.73),\n",
    "        (1.09,\t0.25,\t0.73),\n",
    "        (1.42,\t0.18,\t0.72),\n",
    "        (1.18,\t0.14,\t0.67),\n",
    "        (1.11,\t0.18,\t0.65),\n",
    "        (1.5,\t0.28,\t0.85),\n",
    "        (1.24,\t0.42,\t0.83),\n",
    "        (0.97,\t0.37,\t0.87),\n",
    "        (1.02,\t0.61,\t0.84),\n",
    "        (1.1,\t0.31,\t0.8),\n",
    "        (1.19,\t0.37,\t1.04),\n",
    "        (1.41,\t0.11,\t0.71),\n",
    "        (1.3,\t0.3,\t0.83),\n",
    "        (1.66,\t0.45,\t0.88),\n",
    "        (1.46,\t0.2,\t0.68),\n",
    "        (1.57,\t0.58,\t1.15),\n",
    "        (1.72,\t0.84,\t1.82),\n",
    "        (0.92,\t0.57,\t0.87),\n",
    "        (1.37,\t0.32,\t0.74),\n",
    "        (0.91,\t0.46,\t0.69),\n",
    "        (1.1,\t0.34,\t0.58),\n",
    "        (1.63,\t0.25,\t1.16),\n",
    "        (1.28,\t0.26,\t0.47),\n",
    "        (1.18,\t0.18,\t0.58),\n",
    "        (1.28,\t0.49,\t0.82),\n",
    "        (1.35,\t0.23,\t0.61),\n",
    "        (1.1,\t0.53,\t0.92),\n",
    "        (1.36,\t0.24,\t0.77),\n",
    "        (1.53,\t0.22,\t0.88),\n",
    "        (1.05,\t0.21,\t0.57),\n",
    "        (1.42,\t0.28,\t0.58),\n",
    "        (0.7,\t0.17,\t0.46),\n",
    "        (1.36,\t0.63,\t0.7),\n",
    "        (1.11,\t0.43,\t0.59),\n",
    "        (1.09,\t0.51,\t0.74),\n",
    "        (1.24,\t0.1,\t0.45),\n",
    "        (1.49,\t0.31,\t1.16),\n",
    "        (1.45,\t0.22,\t1.1)\n",
    "        ],\n",
    "        columns=(\"Beer\", \"Wine\", \"Spirits\"),\n",
    "        index = (\"Alabama\",\"Alaska\",\"Arizona\",\"Arkansas\",\"California\",\"Colorado\",\"Connecticut\",\"Delaware\", \\\n",
    "                 \"District of Columbia\",\"Florida\",\"Georgia\",\"Hawaii\",\"Idaho\",\"Illinois\",\"Indiana\",\"Iowa\", \\\n",
    "                 \"Kansas\",\"Kentucky\",\"Louisiana\",\"Maine\",\"Maryland\",\"Massachusetts\",\"Michigan\",\"Minnesota\", \\\n",
    "                 \"Mississippi\",\"Missouri\",\"Montana\",\"Nebraska\",\"Nevada\",\"New Hampshire\",\"New Jersey\",\"New Mexico\", \\\n",
    "                 \"New York\",\"North Carolina\",\"North Dakota\",\"Ohio\",\"Oklahoma\",\"Oregon\",\"Pennsylvania\", \\\n",
    "                 \"Rhode Island\",\"South Carolina\",\"South Dakota\",\"Tennessee\",\"Texas\",\"Utah\",\"Vermont\",\"Virginia\", \\\n",
    "                 \"Washington\",\"West Virginia\",\"Wisconsin\",\"Wyoming\" ))\n",
    "alco2009"
   ]
  },
  {
   "cell_type": "markdown",
   "metadata": {
    "collapsed": true
   },
   "source": [
    "You can also use a dictionary of columns to the same effect:"
   ]
  },
  {
   "cell_type": "code",
   "execution_count": 11,
   "metadata": {
    "collapsed": false
   },
   "outputs": [
    {
     "output_type": "execute_result",
     "data": {
      "text/plain": "                      Beer  Wine  Spirits\nAlabama               1.20  0.22     0.58\nAlaska                1.31  0.54     1.16\nArizona               1.19  0.38     0.74\nArkansas              1.07  0.17     0.60\nCalifornia            1.05  0.55     0.73\nColorado              1.22  0.46     1.00\nConnecticut           0.89  0.59     0.86\nDelaware              1.31  0.57     1.25\nDistrict of Columbia  1.26  1.00     1.64\nFlorida               1.21  0.48     0.92\nGeorgia               1.08  0.25     0.64\nHawaii                1.30  0.53     0.75\nIdaho                 1.05  0.92     0.70\nIllinois              1.22  0.39     0.73\nIndiana               1.09  0.25     0.73\nIowa                  1.42  0.18     0.72\nKansas                1.18  0.14     0.67\nKentucky              1.11  0.18     0.65\nLouisiana             1.50  0.28     0.85\nMaine                 1.24  0.42     0.83\nMaryland              0.97  0.37     0.87\nMassachusetts         1.02  0.61     0.84\nMichigan              1.10  0.31     0.80\nMinnesota             1.19  0.37     1.04\nMississippi           1.41  0.11     0.71\nMissouri              1.30  0.30     0.83\nMontana               1.66  0.45     0.88\nNebraska              1.46  0.20     0.68\nNevada                1.57  0.58     1.15\nNew Hampshire         1.72  0.84     1.82\nNew Jersey            0.92  0.57     0.87\nNew Mexico            1.37  0.32     0.74\nNew York              0.91  0.46     0.69\nNorth Carolina        1.10  0.34     0.58\nNorth Dakota          1.63  0.25     1.16\nOhio                  1.28  0.26     0.47\nOklahoma              1.18  0.18     0.58\nOregon                1.28  0.49     0.82\nPennsylvania          1.35  0.23     0.61\nRhode Island          1.10  0.53     0.92\nSouth Carolina        1.36  0.24     0.77\nSouth Dakota          1.53  0.22     0.88\nTennessee             1.05  0.21     0.57\nTexas                 1.42  0.28     0.58\nUtah                  0.70  0.17     0.46\nVermont               1.36  0.63     0.70\nVirginia              1.11  0.43     0.59\nWashington            1.09  0.51     0.74\nWest Virginia         1.24  0.10     0.45\nWisconsin             1.49  0.31     1.16\nWyoming               1.45  0.22     1.10",
      "text/html": "<div>\n<style scoped>\n    .dataframe tbody tr th:only-of-type {\n        vertical-align: middle;\n    }\n\n    .dataframe tbody tr th {\n        vertical-align: top;\n    }\n\n    .dataframe thead th {\n        text-align: right;\n    }\n</style>\n<table border=\"1\" class=\"dataframe\">\n  <thead>\n    <tr style=\"text-align: right;\">\n      <th></th>\n      <th>Beer</th>\n      <th>Wine</th>\n      <th>Spirits</th>\n    </tr>\n  </thead>\n  <tbody>\n    <tr>\n      <th>Alabama</th>\n      <td>1.20</td>\n      <td>0.22</td>\n      <td>0.58</td>\n    </tr>\n    <tr>\n      <th>Alaska</th>\n      <td>1.31</td>\n      <td>0.54</td>\n      <td>1.16</td>\n    </tr>\n    <tr>\n      <th>Arizona</th>\n      <td>1.19</td>\n      <td>0.38</td>\n      <td>0.74</td>\n    </tr>\n    <tr>\n      <th>Arkansas</th>\n      <td>1.07</td>\n      <td>0.17</td>\n      <td>0.60</td>\n    </tr>\n    <tr>\n      <th>California</th>\n      <td>1.05</td>\n      <td>0.55</td>\n      <td>0.73</td>\n    </tr>\n    <tr>\n      <th>Colorado</th>\n      <td>1.22</td>\n      <td>0.46</td>\n      <td>1.00</td>\n    </tr>\n    <tr>\n      <th>Connecticut</th>\n      <td>0.89</td>\n      <td>0.59</td>\n      <td>0.86</td>\n    </tr>\n    <tr>\n      <th>Delaware</th>\n      <td>1.31</td>\n      <td>0.57</td>\n      <td>1.25</td>\n    </tr>\n    <tr>\n      <th>District of Columbia</th>\n      <td>1.26</td>\n      <td>1.00</td>\n      <td>1.64</td>\n    </tr>\n    <tr>\n      <th>Florida</th>\n      <td>1.21</td>\n      <td>0.48</td>\n      <td>0.92</td>\n    </tr>\n    <tr>\n      <th>Georgia</th>\n      <td>1.08</td>\n      <td>0.25</td>\n      <td>0.64</td>\n    </tr>\n    <tr>\n      <th>Hawaii</th>\n      <td>1.30</td>\n      <td>0.53</td>\n      <td>0.75</td>\n    </tr>\n    <tr>\n      <th>Idaho</th>\n      <td>1.05</td>\n      <td>0.92</td>\n      <td>0.70</td>\n    </tr>\n    <tr>\n      <th>Illinois</th>\n      <td>1.22</td>\n      <td>0.39</td>\n      <td>0.73</td>\n    </tr>\n    <tr>\n      <th>Indiana</th>\n      <td>1.09</td>\n      <td>0.25</td>\n      <td>0.73</td>\n    </tr>\n    <tr>\n      <th>Iowa</th>\n      <td>1.42</td>\n      <td>0.18</td>\n      <td>0.72</td>\n    </tr>\n    <tr>\n      <th>Kansas</th>\n      <td>1.18</td>\n      <td>0.14</td>\n      <td>0.67</td>\n    </tr>\n    <tr>\n      <th>Kentucky</th>\n      <td>1.11</td>\n      <td>0.18</td>\n      <td>0.65</td>\n    </tr>\n    <tr>\n      <th>Louisiana</th>\n      <td>1.50</td>\n      <td>0.28</td>\n      <td>0.85</td>\n    </tr>\n    <tr>\n      <th>Maine</th>\n      <td>1.24</td>\n      <td>0.42</td>\n      <td>0.83</td>\n    </tr>\n    <tr>\n      <th>Maryland</th>\n      <td>0.97</td>\n      <td>0.37</td>\n      <td>0.87</td>\n    </tr>\n    <tr>\n      <th>Massachusetts</th>\n      <td>1.02</td>\n      <td>0.61</td>\n      <td>0.84</td>\n    </tr>\n    <tr>\n      <th>Michigan</th>\n      <td>1.10</td>\n      <td>0.31</td>\n      <td>0.80</td>\n    </tr>\n    <tr>\n      <th>Minnesota</th>\n      <td>1.19</td>\n      <td>0.37</td>\n      <td>1.04</td>\n    </tr>\n    <tr>\n      <th>Mississippi</th>\n      <td>1.41</td>\n      <td>0.11</td>\n      <td>0.71</td>\n    </tr>\n    <tr>\n      <th>Missouri</th>\n      <td>1.30</td>\n      <td>0.30</td>\n      <td>0.83</td>\n    </tr>\n    <tr>\n      <th>Montana</th>\n      <td>1.66</td>\n      <td>0.45</td>\n      <td>0.88</td>\n    </tr>\n    <tr>\n      <th>Nebraska</th>\n      <td>1.46</td>\n      <td>0.20</td>\n      <td>0.68</td>\n    </tr>\n    <tr>\n      <th>Nevada</th>\n      <td>1.57</td>\n      <td>0.58</td>\n      <td>1.15</td>\n    </tr>\n    <tr>\n      <th>New Hampshire</th>\n      <td>1.72</td>\n      <td>0.84</td>\n      <td>1.82</td>\n    </tr>\n    <tr>\n      <th>New Jersey</th>\n      <td>0.92</td>\n      <td>0.57</td>\n      <td>0.87</td>\n    </tr>\n    <tr>\n      <th>New Mexico</th>\n      <td>1.37</td>\n      <td>0.32</td>\n      <td>0.74</td>\n    </tr>\n    <tr>\n      <th>New York</th>\n      <td>0.91</td>\n      <td>0.46</td>\n      <td>0.69</td>\n    </tr>\n    <tr>\n      <th>North Carolina</th>\n      <td>1.10</td>\n      <td>0.34</td>\n      <td>0.58</td>\n    </tr>\n    <tr>\n      <th>North Dakota</th>\n      <td>1.63</td>\n      <td>0.25</td>\n      <td>1.16</td>\n    </tr>\n    <tr>\n      <th>Ohio</th>\n      <td>1.28</td>\n      <td>0.26</td>\n      <td>0.47</td>\n    </tr>\n    <tr>\n      <th>Oklahoma</th>\n      <td>1.18</td>\n      <td>0.18</td>\n      <td>0.58</td>\n    </tr>\n    <tr>\n      <th>Oregon</th>\n      <td>1.28</td>\n      <td>0.49</td>\n      <td>0.82</td>\n    </tr>\n    <tr>\n      <th>Pennsylvania</th>\n      <td>1.35</td>\n      <td>0.23</td>\n      <td>0.61</td>\n    </tr>\n    <tr>\n      <th>Rhode Island</th>\n      <td>1.10</td>\n      <td>0.53</td>\n      <td>0.92</td>\n    </tr>\n    <tr>\n      <th>South Carolina</th>\n      <td>1.36</td>\n      <td>0.24</td>\n      <td>0.77</td>\n    </tr>\n    <tr>\n      <th>South Dakota</th>\n      <td>1.53</td>\n      <td>0.22</td>\n      <td>0.88</td>\n    </tr>\n    <tr>\n      <th>Tennessee</th>\n      <td>1.05</td>\n      <td>0.21</td>\n      <td>0.57</td>\n    </tr>\n    <tr>\n      <th>Texas</th>\n      <td>1.42</td>\n      <td>0.28</td>\n      <td>0.58</td>\n    </tr>\n    <tr>\n      <th>Utah</th>\n      <td>0.70</td>\n      <td>0.17</td>\n      <td>0.46</td>\n    </tr>\n    <tr>\n      <th>Vermont</th>\n      <td>1.36</td>\n      <td>0.63</td>\n      <td>0.70</td>\n    </tr>\n    <tr>\n      <th>Virginia</th>\n      <td>1.11</td>\n      <td>0.43</td>\n      <td>0.59</td>\n    </tr>\n    <tr>\n      <th>Washington</th>\n      <td>1.09</td>\n      <td>0.51</td>\n      <td>0.74</td>\n    </tr>\n    <tr>\n      <th>West Virginia</th>\n      <td>1.24</td>\n      <td>0.10</td>\n      <td>0.45</td>\n    </tr>\n    <tr>\n      <th>Wisconsin</th>\n      <td>1.49</td>\n      <td>0.31</td>\n      <td>1.16</td>\n    </tr>\n    <tr>\n      <th>Wyoming</th>\n      <td>1.45</td>\n      <td>0.22</td>\n      <td>1.10</td>\n    </tr>\n  </tbody>\n</table>\n</div>"
     },
     "metadata": {},
     "execution_count": 11
    }
   ],
   "source": [
    "alco2009=pd.DataFrame ( { \"Beer\" : (1.2,1.31,1.19,1.07,1.05,1.22,0.89,1.31,1.26,1.21,1.08,1.3,1.05,1.22,1.09,1.42,1.18, \\\n",
    "                                    1.11,1.5,1.24,0.97,1.02,1.1,1.19,1.41,1.3,1.66,1.46,1.57,1.72,0.92,1.37,0.91,1.1,1.63, \\\n",
    "                                    1.28,1.18,1.28,1.35,1.1,1.36,1.53,1.05,1.42,0.7,1.36,1.11,1.09,1.24,1.49,1.45),\n",
    "                          \"Wine\" : (0.22,0.54,0.38,0.17,0.55,0.46,0.59,0.57,1,0.48,0.25,0.53,0.92,0.39,0.25,0.18,0.14,0.18, \\\n",
    "                                    0.28,0.42,0.37,0.61,0.31,0.37,0.11,0.3,0.45,0.2,0.58,0.84,0.57,0.32,0.46,0.34,0.25, \\\n",
    "                                    0.26,0.18,0.49,0.23,0.53,0.24,0.22,0.21,0.28,0.17,0.63,0.43,0.51,0.1,0.31,0.22),\n",
    "                          \"Spirits\" :(0.58,1.16,0.74,0.6,0.73,1,0.86,1.25,1.64,0.92,0.64,0.75,0.7,0.73,0.73,0.72,0.67, \\\n",
    "                                      0.65,0.85,0.83,0.87,0.84,0.8,1.04,0.71,0.83,0.88,0.68,1.15,1.82,0.87,0.74,0.69,0.58, \\\n",
    "                                      1.16,0.47,0.58,0.82,0.61,0.92,0.77,0.88,0.57,0.58,0.46,0.7,0.59,0.74,0.45,1.16,1.1) \n",
    "                         },\n",
    "                       index = (\"Alabama\",\"Alaska\",\"Arizona\",\"Arkansas\",\"California\",\"Colorado\",\"Connecticut\",\"Delaware\", \\\n",
    "                 \"District of Columbia\",\"Florida\",\"Georgia\",\"Hawaii\",\"Idaho\",\"Illinois\",\"Indiana\",\"Iowa\", \\\n",
    "                 \"Kansas\",\"Kentucky\",\"Louisiana\",\"Maine\",\"Maryland\",\"Massachusetts\",\"Michigan\",\"Minnesota\", \\\n",
    "                 \"Mississippi\",\"Missouri\",\"Montana\",\"Nebraska\",\"Nevada\",\"New Hampshire\",\"New Jersey\",\"New Mexico\", \\\n",
    "                 \"New York\",\"North Carolina\",\"North Dakota\",\"Ohio\",\"Oklahoma\",\"Oregon\",\"Pennsylvania\", \\\n",
    "                 \"Rhode Island\",\"South Carolina\",\"South Dakota\",\"Tennessee\",\"Texas\",\"Utah\",\"Vermont\",\"Virginia\", \\\n",
    "                 \"Washington\",\"West Virginia\",\"Wisconsin\",\"Wyoming\" ))\n",
    "                       \n",
    "alco2009"
   ]
  },
  {
   "cell_type": "markdown",
   "metadata": {},
   "source": [
    "Individual frame columns can be accessed using either dictionary or object notation. \n",
    "\n",
    "However, to add a new column, you must use the dictionary notation.\n",
    "\n",
    "If the object notation is used, pandas creates a new frame attribute instead. \n",
    "\n",
    "Just like with series, frames has a head() and a tail(). \n"
   ]
  },
  {
   "cell_type": "code",
   "execution_count": 12,
   "metadata": {
    "collapsed": false
   },
   "outputs": [
    {
     "output_type": "execute_result",
     "data": {
      "text/plain": "Alabama       0.22\nAlaska        0.54\nArizona       0.38\nArkansas      0.17\nCalifornia    0.55\nName: Wine, dtype: float64"
     },
     "metadata": {},
     "execution_count": 12
    }
   ],
   "source": [
    "# dictionary notation to select a column\n",
    "alco2009[\"Wine\"].head()\n"
   ]
  },
  {
   "cell_type": "markdown",
   "metadata": {},
   "source": [
    "The dot-Notation (=object notation) can also be used:"
   ]
  },
  {
   "cell_type": "code",
   "execution_count": 13,
   "metadata": {
    "collapsed": false
   },
   "outputs": [
    {
     "output_type": "execute_result",
     "data": {
      "text/plain": "Alabama       0.22\nAlaska        0.54\nArizona       0.38\nArkansas      0.17\nCalifornia    0.55\nName: Wine, dtype: float64"
     },
     "metadata": {},
     "execution_count": 13
    }
   ],
   "source": [
    "# dot-Notation(=object notation) to select a column\n",
    "alco2009.Wine.head()"
   ]
  },
  {
   "cell_type": "markdown",
   "metadata": {},
   "source": [
    "And just like series, frames support **broadcasting**: you can assign a value to all rows of a column in one assignment statement. \n",
    "\n",
    "The column does not even have to exist; if it doesn’t, pandas creates it.\n"
   ]
  },
  {
   "cell_type": "code",
   "execution_count": 14,
   "metadata": {
    "collapsed": false
   },
   "outputs": [
    {
     "output_type": "execute_result",
     "data": {
      "text/plain": "            Beer  Wine  Spirits  Total\nAlabama     1.20  0.22     0.58      0\nAlaska      1.31  0.54     1.16      0\nArizona     1.19  0.38     0.74      0\nArkansas    1.07  0.17     0.60      0\nCalifornia  1.05  0.55     0.73      0",
      "text/html": "<div>\n<style scoped>\n    .dataframe tbody tr th:only-of-type {\n        vertical-align: middle;\n    }\n\n    .dataframe tbody tr th {\n        vertical-align: top;\n    }\n\n    .dataframe thead th {\n        text-align: right;\n    }\n</style>\n<table border=\"1\" class=\"dataframe\">\n  <thead>\n    <tr style=\"text-align: right;\">\n      <th></th>\n      <th>Beer</th>\n      <th>Wine</th>\n      <th>Spirits</th>\n      <th>Total</th>\n    </tr>\n  </thead>\n  <tbody>\n    <tr>\n      <th>Alabama</th>\n      <td>1.20</td>\n      <td>0.22</td>\n      <td>0.58</td>\n      <td>0</td>\n    </tr>\n    <tr>\n      <th>Alaska</th>\n      <td>1.31</td>\n      <td>0.54</td>\n      <td>1.16</td>\n      <td>0</td>\n    </tr>\n    <tr>\n      <th>Arizona</th>\n      <td>1.19</td>\n      <td>0.38</td>\n      <td>0.74</td>\n      <td>0</td>\n    </tr>\n    <tr>\n      <th>Arkansas</th>\n      <td>1.07</td>\n      <td>0.17</td>\n      <td>0.60</td>\n      <td>0</td>\n    </tr>\n    <tr>\n      <th>California</th>\n      <td>1.05</td>\n      <td>0.55</td>\n      <td>0.73</td>\n      <td>0</td>\n    </tr>\n  </tbody>\n</table>\n</div>"
     },
     "metadata": {},
     "execution_count": 14
    }
   ],
   "source": [
    "# Broadcasting\n",
    "alco2009[\"Total\"] = 0\n",
    "alco2009.head()\n"
   ]
  },
  {
   "cell_type": "markdown",
   "metadata": {},
   "source": [
    "## Reshaping Data\n",
    "\n",
    "The main contribution of pandas to the tabular data cause is data labeling:\n",
    "association of numerical or textual labels with columns (column names) and rows (flat and hierarchical indexes).\n",
    "\n",
    "### Indexing\n",
    "**A frame index is a collection of labels assigned to the frame rows.** \n",
    "\n",
    "The labels have to belong to the same data type, but do not have to be unique.\n"
   ]
  },
  {
   "cell_type": "code",
   "execution_count": 15,
   "metadata": {
    "collapsed": false
   },
   "outputs": [
    {
     "output_type": "execute_result",
     "data": {
      "text/plain": "array(['Beer', 'Wine', 'Spirits', 'Total'], dtype=object)"
     },
     "metadata": {},
     "execution_count": 15
    }
   ],
   "source": [
    "alco2009.columns.values"
   ]
  },
  {
   "cell_type": "code",
   "execution_count": 16,
   "metadata": {
    "collapsed": false,
    "scrolled": true
   },
   "outputs": [
    {
     "output_type": "execute_result",
     "data": {
      "text/plain": "array(['Alabama', 'Alaska', 'Arizona', 'Arkansas', 'California',\n       'Colorado', 'Connecticut', 'Delaware', 'District of Columbia',\n       'Florida', 'Georgia', 'Hawaii', 'Idaho', 'Illinois', 'Indiana',\n       'Iowa', 'Kansas', 'Kentucky', 'Louisiana', 'Maine', 'Maryland',\n       'Massachusetts', 'Michigan', 'Minnesota', 'Mississippi',\n       'Missouri', 'Montana', 'Nebraska', 'Nevada', 'New Hampshire',\n       'New Jersey', 'New Mexico', 'New York', 'North Carolina',\n       'North Dakota', 'Ohio', 'Oklahoma', 'Oregon', 'Pennsylvania',\n       'Rhode Island', 'South Carolina', 'South Dakota', 'Tennessee',\n       'Texas', 'Utah', 'Vermont', 'Virginia', 'Washington',\n       'West Virginia', 'Wisconsin', 'Wyoming'], dtype=object)"
     },
     "metadata": {},
     "execution_count": 16
    }
   ],
   "source": [
    "alco2009.index.values"
   ]
  },
  {
   "cell_type": "markdown",
   "metadata": {},
   "source": [
    "Wieviel Bier wird in Alabama getrunken? Geben Sie beide Möglichkeiten an."
   ]
  },
  {
   "cell_type": "code",
   "execution_count": 20,
   "metadata": {
    "collapsed": false
   },
   "outputs": [
    {
     "output_type": "execute_result",
     "data": {
      "text/plain": "            Beer  Wine  Spirits  Total\nAlabama     1.20  0.22     0.58      0\nAlaska      1.31  0.54     1.16      0\nArizona     1.19  0.38     0.74      0\nArkansas    1.07  0.17     0.60      0\nCalifornia  1.05  0.55     0.73      0",
      "text/html": "<div>\n<style scoped>\n    .dataframe tbody tr th:only-of-type {\n        vertical-align: middle;\n    }\n\n    .dataframe tbody tr th {\n        vertical-align: top;\n    }\n\n    .dataframe thead th {\n        text-align: right;\n    }\n</style>\n<table border=\"1\" class=\"dataframe\">\n  <thead>\n    <tr style=\"text-align: right;\">\n      <th></th>\n      <th>Beer</th>\n      <th>Wine</th>\n      <th>Spirits</th>\n      <th>Total</th>\n    </tr>\n  </thead>\n  <tbody>\n    <tr>\n      <th>Alabama</th>\n      <td>1.20</td>\n      <td>0.22</td>\n      <td>0.58</td>\n      <td>0</td>\n    </tr>\n    <tr>\n      <th>Alaska</th>\n      <td>1.31</td>\n      <td>0.54</td>\n      <td>1.16</td>\n      <td>0</td>\n    </tr>\n    <tr>\n      <th>Arizona</th>\n      <td>1.19</td>\n      <td>0.38</td>\n      <td>0.74</td>\n      <td>0</td>\n    </tr>\n    <tr>\n      <th>Arkansas</th>\n      <td>1.07</td>\n      <td>0.17</td>\n      <td>0.60</td>\n      <td>0</td>\n    </tr>\n    <tr>\n      <th>California</th>\n      <td>1.05</td>\n      <td>0.55</td>\n      <td>0.73</td>\n      <td>0</td>\n    </tr>\n  </tbody>\n</table>\n</div>"
     },
     "metadata": {},
     "execution_count": 20
    }
   ],
   "source": [
    "alco2009.head()"
   ]
  },
  {
   "cell_type": "markdown",
   "metadata": {},
   "source": [
    "**Any column in a frame can become an index** — *functions reset_index()* and *set_index(column)* are responsible for deposing the existing index, if any, and declaring a new one, respectively.\n"
   ]
  },
  {
   "cell_type": "code",
   "execution_count": 18,
   "metadata": {
    "collapsed": false
   },
   "outputs": [
    {
     "output_type": "execute_result",
     "data": {
      "text/plain": "           index  Wine  Spirits  Total\nBeer                                  \n1.20     Alabama  0.22     0.58      0\n1.31      Alaska  0.54     1.16      0\n1.19     Arizona  0.38     0.74      0\n1.07    Arkansas  0.17     0.60      0\n1.05  California  0.55     0.73      0",
      "text/html": "<div>\n<style scoped>\n    .dataframe tbody tr th:only-of-type {\n        vertical-align: middle;\n    }\n\n    .dataframe tbody tr th {\n        vertical-align: top;\n    }\n\n    .dataframe thead th {\n        text-align: right;\n    }\n</style>\n<table border=\"1\" class=\"dataframe\">\n  <thead>\n    <tr style=\"text-align: right;\">\n      <th></th>\n      <th>index</th>\n      <th>Wine</th>\n      <th>Spirits</th>\n      <th>Total</th>\n    </tr>\n    <tr>\n      <th>Beer</th>\n      <th></th>\n      <th></th>\n      <th></th>\n      <th></th>\n    </tr>\n  </thead>\n  <tbody>\n    <tr>\n      <th>1.20</th>\n      <td>Alabama</td>\n      <td>0.22</td>\n      <td>0.58</td>\n      <td>0</td>\n    </tr>\n    <tr>\n      <th>1.31</th>\n      <td>Alaska</td>\n      <td>0.54</td>\n      <td>1.16</td>\n      <td>0</td>\n    </tr>\n    <tr>\n      <th>1.19</th>\n      <td>Arizona</td>\n      <td>0.38</td>\n      <td>0.74</td>\n      <td>0</td>\n    </tr>\n    <tr>\n      <th>1.07</th>\n      <td>Arkansas</td>\n      <td>0.17</td>\n      <td>0.60</td>\n      <td>0</td>\n    </tr>\n    <tr>\n      <th>1.05</th>\n      <td>California</td>\n      <td>0.55</td>\n      <td>0.73</td>\n      <td>0</td>\n    </tr>\n  </tbody>\n</table>\n</div>"
     },
     "metadata": {},
     "execution_count": 18
    }
   ],
   "source": [
    "alco2 = alco2009.reset_index().set_index(\"Beer\")\n",
    "alco2.head()\n"
   ]
  },
  {
   "cell_type": "markdown",
   "metadata": {},
   "source": [
    "A frame index is an important row access tool and a relevant row identifier.\n",
    "Whatever column you use as the index, it must make sense.\n",
    "\n",
    "Once the index is in place, you can access individual rows through the row index attribute ix, which is like a dictionary of row series, keyed by the index labels.\n",
    "\n",
    "In welchem Land ist der geringste Bierkonsum und in welchem Land der größte Bierkonsum. Dank des neuen Indexes sehr leicht  zu beantworten.\n"
   ]
  },
  {
   "cell_type": "code",
   "execution_count": 31,
   "metadata": {
    "collapsed": false
   },
   "outputs": [
    {
     "data": {
      "text/html": [
       "<div>\n",
       "<table border=\"1\" class=\"dataframe\">\n",
       "  <thead>\n",
       "    <tr style=\"text-align: right;\">\n",
       "      <th></th>\n",
       "      <th>index</th>\n",
       "      <th>Spirits</th>\n",
       "      <th>Wine</th>\n",
       "      <th>Total</th>\n",
       "    </tr>\n",
       "    <tr>\n",
       "      <th>Beer</th>\n",
       "      <th></th>\n",
       "      <th></th>\n",
       "      <th></th>\n",
       "      <th></th>\n",
       "    </tr>\n",
       "  </thead>\n",
       "  <tbody>\n",
       "    <tr>\n",
       "      <th>0.70</th>\n",
       "      <td>Utah</td>\n",
       "      <td>0.46</td>\n",
       "      <td>0.17</td>\n",
       "      <td>0</td>\n",
       "    </tr>\n",
       "    <tr>\n",
       "      <th>0.89</th>\n",
       "      <td>Connecticut</td>\n",
       "      <td>0.86</td>\n",
       "      <td>0.59</td>\n",
       "      <td>0</td>\n",
       "    </tr>\n",
       "    <tr>\n",
       "      <th>0.91</th>\n",
       "      <td>New York</td>\n",
       "      <td>0.69</td>\n",
       "      <td>0.46</td>\n",
       "      <td>0</td>\n",
       "    </tr>\n",
       "    <tr>\n",
       "      <th>0.92</th>\n",
       "      <td>New Jersey</td>\n",
       "      <td>0.87</td>\n",
       "      <td>0.57</td>\n",
       "      <td>0</td>\n",
       "    </tr>\n",
       "    <tr>\n",
       "      <th>0.97</th>\n",
       "      <td>Maryland</td>\n",
       "      <td>0.87</td>\n",
       "      <td>0.37</td>\n",
       "      <td>0</td>\n",
       "    </tr>\n",
       "  </tbody>\n",
       "</table>\n",
       "</div>"
      ],
      "text/plain": [
       "            index  Spirits  Wine  Total\n",
       "Beer                                   \n",
       "0.70         Utah     0.46  0.17      0\n",
       "0.89  Connecticut     0.86  0.59      0\n",
       "0.91     New York     0.69  0.46      0\n",
       "0.92   New Jersey     0.87  0.57      0\n",
       "0.97     Maryland     0.87  0.37      0"
      ]
     },
     "execution_count": 31,
     "metadata": {},
     "output_type": "execute_result"
    }
   ],
   "source": [
    "alco2.sort_index().head(5)"
   ]
  },
  {
   "cell_type": "code",
   "execution_count": 32,
   "metadata": {
    "collapsed": false
   },
   "outputs": [
    {
     "data": {
      "text/html": [
       "<div>\n",
       "<table border=\"1\" class=\"dataframe\">\n",
       "  <thead>\n",
       "    <tr style=\"text-align: right;\">\n",
       "      <th></th>\n",
       "      <th>index</th>\n",
       "      <th>Spirits</th>\n",
       "      <th>Wine</th>\n",
       "      <th>Total</th>\n",
       "    </tr>\n",
       "    <tr>\n",
       "      <th>Beer</th>\n",
       "      <th></th>\n",
       "      <th></th>\n",
       "      <th></th>\n",
       "      <th></th>\n",
       "    </tr>\n",
       "  </thead>\n",
       "  <tbody>\n",
       "    <tr>\n",
       "      <th>1.72</th>\n",
       "      <td>New Hampshire</td>\n",
       "      <td>1.82</td>\n",
       "      <td>0.84</td>\n",
       "      <td>0</td>\n",
       "    </tr>\n",
       "    <tr>\n",
       "      <th>1.66</th>\n",
       "      <td>Montana</td>\n",
       "      <td>0.88</td>\n",
       "      <td>0.45</td>\n",
       "      <td>0</td>\n",
       "    </tr>\n",
       "    <tr>\n",
       "      <th>1.63</th>\n",
       "      <td>North Dakota</td>\n",
       "      <td>1.16</td>\n",
       "      <td>0.25</td>\n",
       "      <td>0</td>\n",
       "    </tr>\n",
       "    <tr>\n",
       "      <th>1.57</th>\n",
       "      <td>Nevada</td>\n",
       "      <td>1.15</td>\n",
       "      <td>0.58</td>\n",
       "      <td>0</td>\n",
       "    </tr>\n",
       "    <tr>\n",
       "      <th>1.53</th>\n",
       "      <td>South Dakota</td>\n",
       "      <td>0.88</td>\n",
       "      <td>0.22</td>\n",
       "      <td>0</td>\n",
       "    </tr>\n",
       "  </tbody>\n",
       "</table>\n",
       "</div>"
      ],
      "text/plain": [
       "              index  Spirits  Wine  Total\n",
       "Beer                                     \n",
       "1.72  New Hampshire     1.82  0.84      0\n",
       "1.66        Montana     0.88  0.45      0\n",
       "1.63   North Dakota     1.16  0.25      0\n",
       "1.57         Nevada     1.15  0.58      0\n",
       "1.53   South Dakota     0.88  0.22      0"
      ]
     },
     "execution_count": 32,
     "metadata": {},
     "output_type": "execute_result"
    }
   ],
   "source": [
    "alco2.sort_index(ascending=False).head(5)"
   ]
  },
  {
   "cell_type": "code",
   "execution_count": 33,
   "metadata": {
    "collapsed": false
   },
   "outputs": [
    {
     "data": {
      "text/plain": [
       "Beer       1.46\n",
       "Spirits    0.68\n",
       "Wine       0.20\n",
       "Total      0.00\n",
       "Name: Nebraska, dtype: float64"
      ]
     },
     "execution_count": 33,
     "metadata": {},
     "output_type": "execute_result"
    }
   ],
   "source": [
    "# Zeile eines Frames\n",
    "alco2009.ix[\"Nebraska\"]\n"
   ]
  },
  {
   "cell_type": "markdown",
   "metadata": {},
   "source": [
    "Python operator *in* checks if a row with a certain label is present in the frame at all:\n"
   ]
  },
  {
   "cell_type": "code",
   "execution_count": 34,
   "metadata": {
    "collapsed": false
   },
   "outputs": [
    {
     "data": {
      "text/plain": [
       "False"
      ]
     },
     "execution_count": 34,
     "metadata": {},
     "output_type": "execute_result"
    }
   ],
   "source": [
    "\"Samoa\" in alco2009.index\n"
   ]
  },
  {
   "cell_type": "markdown",
   "metadata": {},
   "source": [
    "### Reindexing\n",
    "\n",
    "Reindexing creates a new frame or series from an existing frame or series by\n",
    "selecting possibly permuted rows, columns, or both\n",
    "\n",
    "In the next example, we create a list of states whose names begin with “S” (including “Samoa,” which is not a state and is not in the alco2009 frame). \n",
    "\n",
    "Then we take all frame columns, except for the last one (“Total,” which is not properly initialized, anyway), and add another column named “Water.”\n",
    "\n",
    "Finally, we extract the selected rows and columns from the original frame.\n",
    "\n",
    "Because one row and one column do not exist, pandas creates them:\n"
   ]
  },
  {
   "cell_type": "code",
   "execution_count": 35,
   "metadata": {
    "collapsed": false
   },
   "outputs": [
    {
     "data": {
      "text/plain": [
       "['South Carolina', 'South Dakota', 'Samoa']"
      ]
     },
     "execution_count": 35,
     "metadata": {},
     "output_type": "execute_result"
    }
   ],
   "source": [
    "# States beginning with a \"S\" and an new one\n",
    "s_states = [state for state in alco2009.index if state[0] == 'S'] + [\"Samoa\"]\n",
    "\n",
    "s_states"
   ]
  },
  {
   "cell_type": "code",
   "execution_count": 36,
   "metadata": {
    "collapsed": false
   },
   "outputs": [
    {
     "data": {
      "text/plain": [
       "['South Carolina', 'South Dakota', 'Samoa']"
      ]
     },
     "execution_count": 36,
     "metadata": {},
     "output_type": "execute_result"
    }
   ],
   "source": [
    "# Without list comprehension\n",
    "s_states=[]\n",
    "for state in alco2009.index:\n",
    "    if state[0] == 'S':\n",
    "        s_states.append(state)\n",
    "s_states += [\"Samoa\"]\n",
    "s_states"
   ]
  },
  {
   "cell_type": "code",
   "execution_count": 37,
   "metadata": {
    "collapsed": false
   },
   "outputs": [
    {
     "data": {
      "text/plain": [
       "['Beer', 'Spirits', 'Wine', 'Total', 'Water']"
      ]
     },
     "execution_count": 37,
     "metadata": {},
     "output_type": "execute_result"
    }
   ],
   "source": [
    "# a new column with a new drink\n",
    "drinks = list(alco2009.columns) + [\"Water\"]\n",
    "drinks"
   ]
  },
  {
   "cell_type": "code",
   "execution_count": 38,
   "metadata": {
    "collapsed": false
   },
   "outputs": [
    {
     "data": {
      "text/html": [
       "<div>\n",
       "<table border=\"1\" class=\"dataframe\">\n",
       "  <thead>\n",
       "    <tr style=\"text-align: right;\">\n",
       "      <th></th>\n",
       "      <th>Beer</th>\n",
       "      <th>Spirits</th>\n",
       "      <th>Wine</th>\n",
       "      <th>Total</th>\n",
       "      <th>Water</th>\n",
       "    </tr>\n",
       "  </thead>\n",
       "  <tbody>\n",
       "    <tr>\n",
       "      <th>South Carolina</th>\n",
       "      <td>1.36</td>\n",
       "      <td>0.77</td>\n",
       "      <td>0.24</td>\n",
       "      <td>0.0</td>\n",
       "      <td>NaN</td>\n",
       "    </tr>\n",
       "    <tr>\n",
       "      <th>South Dakota</th>\n",
       "      <td>1.53</td>\n",
       "      <td>0.88</td>\n",
       "      <td>0.22</td>\n",
       "      <td>0.0</td>\n",
       "      <td>NaN</td>\n",
       "    </tr>\n",
       "    <tr>\n",
       "      <th>Samoa</th>\n",
       "      <td>NaN</td>\n",
       "      <td>NaN</td>\n",
       "      <td>NaN</td>\n",
       "      <td>NaN</td>\n",
       "      <td>NaN</td>\n",
       "    </tr>\n",
       "  </tbody>\n",
       "</table>\n",
       "</div>"
      ],
      "text/plain": [
       "                Beer  Spirits  Wine  Total  Water\n",
       "South Carolina  1.36     0.77  0.24    0.0    NaN\n",
       "South Dakota    1.53     0.88  0.22    0.0    NaN\n",
       "Samoa            NaN      NaN   NaN    NaN    NaN"
      ]
     },
     "execution_count": 38,
     "metadata": {},
     "output_type": "execute_result"
    }
   ],
   "source": [
    "# Extracting the selected rows and columns from the original frame.\n",
    "nan_alco = alco2009.reindex(s_states, columns=drinks)\n",
    "nan_alco"
   ]
  },
  {
   "cell_type": "markdown",
   "metadata": {},
   "source": [
    "### Hierarchical Indexing\n",
    "\n",
    "*pandas* supports hierarchical (multilevel) indexes and hierarchical (multilevel) column names. \n",
    "\n",
    "The multilevel indexes are also known as multiindexes.\n",
    "\n",
    "A multilevel index consists of three lists:\n",
    "+ Level names\n",
    "+ All possible labels per level\n",
    "+ Lists of actual values for each item in the frame or series (The lengths of the lists are the same and equal to the number of levels in the index.)\n"
   ]
  },
  {
   "cell_type": "code",
   "execution_count": 39,
   "metadata": {
    "collapsed": false
   },
   "outputs": [],
   "source": [
    "# Read the data from a csv file and use a hierarchical index\n",
    "alco = pd.read_csv(\"alcohol.csv\",\n",
    "                 index_col = (\"State\", \"Year\")) "
   ]
  },
  {
   "cell_type": "code",
   "execution_count": 40,
   "metadata": {
    "collapsed": false
   },
   "outputs": [
    {
     "data": {
      "text/html": [
       "<div>\n",
       "<table border=\"1\" class=\"dataframe\">\n",
       "  <thead>\n",
       "    <tr style=\"text-align: right;\">\n",
       "      <th></th>\n",
       "      <th></th>\n",
       "      <th>Beer</th>\n",
       "      <th>Wine</th>\n",
       "      <th>Spirits</th>\n",
       "    </tr>\n",
       "    <tr>\n",
       "      <th>State</th>\n",
       "      <th>Year</th>\n",
       "      <th></th>\n",
       "      <th></th>\n",
       "      <th></th>\n",
       "    </tr>\n",
       "  </thead>\n",
       "  <tbody>\n",
       "    <tr>\n",
       "      <th rowspan=\"30\" valign=\"top\">Alabama</th>\n",
       "      <th>1977</th>\n",
       "      <td>0.99</td>\n",
       "      <td>0.13</td>\n",
       "      <td>0.84</td>\n",
       "    </tr>\n",
       "    <tr>\n",
       "      <th>1978</th>\n",
       "      <td>0.98</td>\n",
       "      <td>0.12</td>\n",
       "      <td>0.88</td>\n",
       "    </tr>\n",
       "    <tr>\n",
       "      <th>1979</th>\n",
       "      <td>0.98</td>\n",
       "      <td>0.12</td>\n",
       "      <td>0.84</td>\n",
       "    </tr>\n",
       "    <tr>\n",
       "      <th>1980</th>\n",
       "      <td>0.96</td>\n",
       "      <td>0.16</td>\n",
       "      <td>0.74</td>\n",
       "    </tr>\n",
       "    <tr>\n",
       "      <th>1981</th>\n",
       "      <td>1.00</td>\n",
       "      <td>0.19</td>\n",
       "      <td>0.73</td>\n",
       "    </tr>\n",
       "    <tr>\n",
       "      <th>1982</th>\n",
       "      <td>1.00</td>\n",
       "      <td>0.18</td>\n",
       "      <td>0.72</td>\n",
       "    </tr>\n",
       "    <tr>\n",
       "      <th>1983</th>\n",
       "      <td>1.01</td>\n",
       "      <td>0.17</td>\n",
       "      <td>0.71</td>\n",
       "    </tr>\n",
       "    <tr>\n",
       "      <th>1984</th>\n",
       "      <td>1.02</td>\n",
       "      <td>0.19</td>\n",
       "      <td>0.69</td>\n",
       "    </tr>\n",
       "    <tr>\n",
       "      <th>1985</th>\n",
       "      <td>1.06</td>\n",
       "      <td>0.17</td>\n",
       "      <td>0.67</td>\n",
       "    </tr>\n",
       "    <tr>\n",
       "      <th>1986</th>\n",
       "      <td>1.09</td>\n",
       "      <td>0.18</td>\n",
       "      <td>0.64</td>\n",
       "    </tr>\n",
       "    <tr>\n",
       "      <th>1987</th>\n",
       "      <td>1.10</td>\n",
       "      <td>0.18</td>\n",
       "      <td>0.61</td>\n",
       "    </tr>\n",
       "    <tr>\n",
       "      <th>1988</th>\n",
       "      <td>1.10</td>\n",
       "      <td>0.18</td>\n",
       "      <td>0.61</td>\n",
       "    </tr>\n",
       "    <tr>\n",
       "      <th>1989</th>\n",
       "      <td>1.10</td>\n",
       "      <td>0.17</td>\n",
       "      <td>0.60</td>\n",
       "    </tr>\n",
       "    <tr>\n",
       "      <th>1990</th>\n",
       "      <td>1.12</td>\n",
       "      <td>0.18</td>\n",
       "      <td>0.61</td>\n",
       "    </tr>\n",
       "    <tr>\n",
       "      <th>1991</th>\n",
       "      <td>1.00</td>\n",
       "      <td>0.17</td>\n",
       "      <td>0.59</td>\n",
       "    </tr>\n",
       "    <tr>\n",
       "      <th>1992</th>\n",
       "      <td>1.02</td>\n",
       "      <td>0.19</td>\n",
       "      <td>0.59</td>\n",
       "    </tr>\n",
       "    <tr>\n",
       "      <th>1993</th>\n",
       "      <td>1.14</td>\n",
       "      <td>0.17</td>\n",
       "      <td>0.56</td>\n",
       "    </tr>\n",
       "    <tr>\n",
       "      <th>1994</th>\n",
       "      <td>1.16</td>\n",
       "      <td>0.17</td>\n",
       "      <td>0.54</td>\n",
       "    </tr>\n",
       "    <tr>\n",
       "      <th>1995</th>\n",
       "      <td>1.14</td>\n",
       "      <td>0.15</td>\n",
       "      <td>0.53</td>\n",
       "    </tr>\n",
       "    <tr>\n",
       "      <th>1996</th>\n",
       "      <td>1.17</td>\n",
       "      <td>0.15</td>\n",
       "      <td>0.53</td>\n",
       "    </tr>\n",
       "    <tr>\n",
       "      <th>1997</th>\n",
       "      <td>1.14</td>\n",
       "      <td>0.15</td>\n",
       "      <td>0.52</td>\n",
       "    </tr>\n",
       "    <tr>\n",
       "      <th>1998</th>\n",
       "      <td>1.16</td>\n",
       "      <td>0.17</td>\n",
       "      <td>0.51</td>\n",
       "    </tr>\n",
       "    <tr>\n",
       "      <th>1999</th>\n",
       "      <td>1.18</td>\n",
       "      <td>0.17</td>\n",
       "      <td>0.51</td>\n",
       "    </tr>\n",
       "    <tr>\n",
       "      <th>2000</th>\n",
       "      <td>1.19</td>\n",
       "      <td>0.18</td>\n",
       "      <td>0.51</td>\n",
       "    </tr>\n",
       "    <tr>\n",
       "      <th>2001</th>\n",
       "      <td>1.16</td>\n",
       "      <td>0.17</td>\n",
       "      <td>0.53</td>\n",
       "    </tr>\n",
       "    <tr>\n",
       "      <th>2002</th>\n",
       "      <td>1.18</td>\n",
       "      <td>0.21</td>\n",
       "      <td>0.53</td>\n",
       "    </tr>\n",
       "    <tr>\n",
       "      <th>2003</th>\n",
       "      <td>1.18</td>\n",
       "      <td>0.19</td>\n",
       "      <td>0.52</td>\n",
       "    </tr>\n",
       "    <tr>\n",
       "      <th>2004</th>\n",
       "      <td>1.19</td>\n",
       "      <td>0.20</td>\n",
       "      <td>0.52</td>\n",
       "    </tr>\n",
       "    <tr>\n",
       "      <th>2005</th>\n",
       "      <td>1.18</td>\n",
       "      <td>0.20</td>\n",
       "      <td>0.53</td>\n",
       "    </tr>\n",
       "    <tr>\n",
       "      <th>2006</th>\n",
       "      <td>1.22</td>\n",
       "      <td>0.21</td>\n",
       "      <td>0.55</td>\n",
       "    </tr>\n",
       "    <tr>\n",
       "      <th>...</th>\n",
       "      <th>...</th>\n",
       "      <td>...</td>\n",
       "      <td>...</td>\n",
       "      <td>...</td>\n",
       "    </tr>\n",
       "    <tr>\n",
       "      <th rowspan=\"30\" valign=\"top\">Wyoming</th>\n",
       "      <th>1980</th>\n",
       "      <td>1.85</td>\n",
       "      <td>0.24</td>\n",
       "      <td>1.32</td>\n",
       "    </tr>\n",
       "    <tr>\n",
       "      <th>1981</th>\n",
       "      <td>1.91</td>\n",
       "      <td>0.24</td>\n",
       "      <td>1.27</td>\n",
       "    </tr>\n",
       "    <tr>\n",
       "      <th>1982</th>\n",
       "      <td>1.80</td>\n",
       "      <td>0.24</td>\n",
       "      <td>1.21</td>\n",
       "    </tr>\n",
       "    <tr>\n",
       "      <th>1983</th>\n",
       "      <td>1.66</td>\n",
       "      <td>0.22</td>\n",
       "      <td>1.09</td>\n",
       "    </tr>\n",
       "    <tr>\n",
       "      <th>1984</th>\n",
       "      <td>1.58</td>\n",
       "      <td>0.22</td>\n",
       "      <td>1.05</td>\n",
       "    </tr>\n",
       "    <tr>\n",
       "      <th>1985</th>\n",
       "      <td>1.56</td>\n",
       "      <td>0.25</td>\n",
       "      <td>1.03</td>\n",
       "    </tr>\n",
       "    <tr>\n",
       "      <th>1986</th>\n",
       "      <td>1.46</td>\n",
       "      <td>0.26</td>\n",
       "      <td>0.92</td>\n",
       "    </tr>\n",
       "    <tr>\n",
       "      <th>1987</th>\n",
       "      <td>1.46</td>\n",
       "      <td>0.24</td>\n",
       "      <td>0.86</td>\n",
       "    </tr>\n",
       "    <tr>\n",
       "      <th>1988</th>\n",
       "      <td>1.39</td>\n",
       "      <td>0.23</td>\n",
       "      <td>0.83</td>\n",
       "    </tr>\n",
       "    <tr>\n",
       "      <th>1989</th>\n",
       "      <td>1.35</td>\n",
       "      <td>0.22</td>\n",
       "      <td>0.82</td>\n",
       "    </tr>\n",
       "    <tr>\n",
       "      <th>1990</th>\n",
       "      <td>1.48</td>\n",
       "      <td>0.22</td>\n",
       "      <td>0.93</td>\n",
       "    </tr>\n",
       "    <tr>\n",
       "      <th>1991</th>\n",
       "      <td>1.45</td>\n",
       "      <td>0.20</td>\n",
       "      <td>0.90</td>\n",
       "    </tr>\n",
       "    <tr>\n",
       "      <th>1992</th>\n",
       "      <td>1.44</td>\n",
       "      <td>0.20</td>\n",
       "      <td>0.91</td>\n",
       "    </tr>\n",
       "    <tr>\n",
       "      <th>1993</th>\n",
       "      <td>1.40</td>\n",
       "      <td>0.19</td>\n",
       "      <td>0.86</td>\n",
       "    </tr>\n",
       "    <tr>\n",
       "      <th>1994</th>\n",
       "      <td>1.42</td>\n",
       "      <td>0.18</td>\n",
       "      <td>0.83</td>\n",
       "    </tr>\n",
       "    <tr>\n",
       "      <th>1995</th>\n",
       "      <td>1.34</td>\n",
       "      <td>0.16</td>\n",
       "      <td>0.80</td>\n",
       "    </tr>\n",
       "    <tr>\n",
       "      <th>1996</th>\n",
       "      <td>1.37</td>\n",
       "      <td>0.16</td>\n",
       "      <td>0.81</td>\n",
       "    </tr>\n",
       "    <tr>\n",
       "      <th>1997</th>\n",
       "      <td>1.36</td>\n",
       "      <td>0.17</td>\n",
       "      <td>0.81</td>\n",
       "    </tr>\n",
       "    <tr>\n",
       "      <th>1998</th>\n",
       "      <td>1.38</td>\n",
       "      <td>0.20</td>\n",
       "      <td>0.81</td>\n",
       "    </tr>\n",
       "    <tr>\n",
       "      <th>1999</th>\n",
       "      <td>1.41</td>\n",
       "      <td>0.18</td>\n",
       "      <td>0.84</td>\n",
       "    </tr>\n",
       "    <tr>\n",
       "      <th>2000</th>\n",
       "      <td>1.42</td>\n",
       "      <td>0.18</td>\n",
       "      <td>0.86</td>\n",
       "    </tr>\n",
       "    <tr>\n",
       "      <th>2001</th>\n",
       "      <td>1.43</td>\n",
       "      <td>0.22</td>\n",
       "      <td>0.88</td>\n",
       "    </tr>\n",
       "    <tr>\n",
       "      <th>2002</th>\n",
       "      <td>1.46</td>\n",
       "      <td>0.22</td>\n",
       "      <td>0.88</td>\n",
       "    </tr>\n",
       "    <tr>\n",
       "      <th>2003</th>\n",
       "      <td>1.69</td>\n",
       "      <td>0.23</td>\n",
       "      <td>0.90</td>\n",
       "    </tr>\n",
       "    <tr>\n",
       "      <th>2004</th>\n",
       "      <td>1.41</td>\n",
       "      <td>0.22</td>\n",
       "      <td>0.92</td>\n",
       "    </tr>\n",
       "    <tr>\n",
       "      <th>2005</th>\n",
       "      <td>1.21</td>\n",
       "      <td>0.23</td>\n",
       "      <td>0.97</td>\n",
       "    </tr>\n",
       "    <tr>\n",
       "      <th>2006</th>\n",
       "      <td>1.47</td>\n",
       "      <td>0.23</td>\n",
       "      <td>1.05</td>\n",
       "    </tr>\n",
       "    <tr>\n",
       "      <th>2007</th>\n",
       "      <td>1.49</td>\n",
       "      <td>0.23</td>\n",
       "      <td>1.10</td>\n",
       "    </tr>\n",
       "    <tr>\n",
       "      <th>2008</th>\n",
       "      <td>1.54</td>\n",
       "      <td>0.23</td>\n",
       "      <td>1.12</td>\n",
       "    </tr>\n",
       "    <tr>\n",
       "      <th>2009</th>\n",
       "      <td>1.45</td>\n",
       "      <td>0.22</td>\n",
       "      <td>1.10</td>\n",
       "    </tr>\n",
       "  </tbody>\n",
       "</table>\n",
       "<p>1683 rows × 3 columns</p>\n",
       "</div>"
      ],
      "text/plain": [
       "              Beer  Wine  Spirits\n",
       "State   Year                     \n",
       "Alabama 1977  0.99  0.13     0.84\n",
       "        1978  0.98  0.12     0.88\n",
       "        1979  0.98  0.12     0.84\n",
       "        1980  0.96  0.16     0.74\n",
       "        1981  1.00  0.19     0.73\n",
       "        1982  1.00  0.18     0.72\n",
       "        1983  1.01  0.17     0.71\n",
       "        1984  1.02  0.19     0.69\n",
       "        1985  1.06  0.17     0.67\n",
       "        1986  1.09  0.18     0.64\n",
       "        1987  1.10  0.18     0.61\n",
       "        1988  1.10  0.18     0.61\n",
       "        1989  1.10  0.17     0.60\n",
       "        1990  1.12  0.18     0.61\n",
       "        1991  1.00  0.17     0.59\n",
       "        1992  1.02  0.19     0.59\n",
       "        1993  1.14  0.17     0.56\n",
       "        1994  1.16  0.17     0.54\n",
       "        1995  1.14  0.15     0.53\n",
       "        1996  1.17  0.15     0.53\n",
       "        1997  1.14  0.15     0.52\n",
       "        1998  1.16  0.17     0.51\n",
       "        1999  1.18  0.17     0.51\n",
       "        2000  1.19  0.18     0.51\n",
       "        2001  1.16  0.17     0.53\n",
       "        2002  1.18  0.21     0.53\n",
       "        2003  1.18  0.19     0.52\n",
       "        2004  1.19  0.20     0.52\n",
       "        2005  1.18  0.20     0.53\n",
       "        2006  1.22  0.21     0.55\n",
       "...            ...   ...      ...\n",
       "Wyoming 1980  1.85  0.24     1.32\n",
       "        1981  1.91  0.24     1.27\n",
       "        1982  1.80  0.24     1.21\n",
       "        1983  1.66  0.22     1.09\n",
       "        1984  1.58  0.22     1.05\n",
       "        1985  1.56  0.25     1.03\n",
       "        1986  1.46  0.26     0.92\n",
       "        1987  1.46  0.24     0.86\n",
       "        1988  1.39  0.23     0.83\n",
       "        1989  1.35  0.22     0.82\n",
       "        1990  1.48  0.22     0.93\n",
       "        1991  1.45  0.20     0.90\n",
       "        1992  1.44  0.20     0.91\n",
       "        1993  1.40  0.19     0.86\n",
       "        1994  1.42  0.18     0.83\n",
       "        1995  1.34  0.16     0.80\n",
       "        1996  1.37  0.16     0.81\n",
       "        1997  1.36  0.17     0.81\n",
       "        1998  1.38  0.20     0.81\n",
       "        1999  1.41  0.18     0.84\n",
       "        2000  1.42  0.18     0.86\n",
       "        2001  1.43  0.22     0.88\n",
       "        2002  1.46  0.22     0.88\n",
       "        2003  1.69  0.23     0.90\n",
       "        2004  1.41  0.22     0.92\n",
       "        2005  1.21  0.23     0.97\n",
       "        2006  1.47  0.23     1.05\n",
       "        2007  1.49  0.23     1.10\n",
       "        2008  1.54  0.23     1.12\n",
       "        2009  1.45  0.22     1.10\n",
       "\n",
       "[1683 rows x 3 columns]"
      ]
     },
     "execution_count": 40,
     "metadata": {},
     "output_type": "execute_result"
    }
   ],
   "source": [
    "alco"
   ]
  },
  {
   "cell_type": "markdown",
   "metadata": {},
   "source": [
    "Function *MultiIndex.from_tuples()* takes a collection of tuples with labels and an optional list of level names and produces a multiindex. \n",
    "\n",
    "You can attach the multiindex to an existing frame or series or pass it as a parameter to the DataFrame() constructor:\n",
    "\n",
    "    multi = pd.MultiIndex.from_tuples((  \n",
    "\t    (\"Alabama\", 1977), (\"Alabama\", 1978), (\"Alabama\", 1979), ...,    \n",
    "\t    (\"Wyoming\", 2009)),  \n",
    "\t    names=[\"State\", \"Year\"])  \n",
    "    ➾ MultiIndex(levels=[['Alabama', 'Alaska', «...», 'Wyoming'],  \n",
    "    ➾ \t\t\t[1977, 1978, 1979, 1980, «...», 2009]],  \n",
    "    ➾ \t\tlabels=[[0, 0, 0, 0, 0, 0, 0, 0, «...», 50],  \n",
    "    ➾ \t\t\t[0, 1, 2, 3, 4, 5, 6, 7, «...», 32]],  \n",
    "    ➾\t\tnames=['State', 'Year'])  \n",
    "\n",
    "alco.index = multi\n",
    "\n"
   ]
  },
  {
   "cell_type": "markdown",
   "metadata": {
    "collapsed": true
   },
   "source": [
    "A multiindex can be used the same way as a flat index. \n",
    "\n",
    "A partial selection (by one of several labels) produces a frame; a complete selection produces a series.\n",
    "\n"
   ]
  },
  {
   "cell_type": "code",
   "execution_count": 41,
   "metadata": {
    "collapsed": false
   },
   "outputs": [
    {
     "data": {
      "text/html": [
       "<div>\n",
       "<table border=\"1\" class=\"dataframe\">\n",
       "  <thead>\n",
       "    <tr style=\"text-align: right;\">\n",
       "      <th></th>\n",
       "      <th>Beer</th>\n",
       "      <th>Wine</th>\n",
       "      <th>Spirits</th>\n",
       "    </tr>\n",
       "    <tr>\n",
       "      <th>Year</th>\n",
       "      <th></th>\n",
       "      <th></th>\n",
       "      <th></th>\n",
       "    </tr>\n",
       "  </thead>\n",
       "  <tbody>\n",
       "    <tr>\n",
       "      <th>1977</th>\n",
       "      <td>1.79</td>\n",
       "      <td>0.21</td>\n",
       "      <td>1.32</td>\n",
       "    </tr>\n",
       "    <tr>\n",
       "      <th>1978</th>\n",
       "      <td>1.82</td>\n",
       "      <td>0.22</td>\n",
       "      <td>1.36</td>\n",
       "    </tr>\n",
       "    <tr>\n",
       "      <th>1979</th>\n",
       "      <td>1.86</td>\n",
       "      <td>0.22</td>\n",
       "      <td>1.30</td>\n",
       "    </tr>\n",
       "    <tr>\n",
       "      <th>1980</th>\n",
       "      <td>1.85</td>\n",
       "      <td>0.24</td>\n",
       "      <td>1.32</td>\n",
       "    </tr>\n",
       "    <tr>\n",
       "      <th>1981</th>\n",
       "      <td>1.91</td>\n",
       "      <td>0.24</td>\n",
       "      <td>1.27</td>\n",
       "    </tr>\n",
       "  </tbody>\n",
       "</table>\n",
       "</div>"
      ],
      "text/plain": [
       "      Beer  Wine  Spirits\n",
       "Year                     \n",
       "1977  1.79  0.21     1.32\n",
       "1978  1.82  0.22     1.36\n",
       "1979  1.86  0.22     1.30\n",
       "1980  1.85  0.24     1.32\n",
       "1981  1.91  0.24     1.27"
      ]
     },
     "execution_count": 41,
     "metadata": {},
     "output_type": "execute_result"
    }
   ],
   "source": [
    "alco.ix['Wyoming'].head()\n"
   ]
  },
  {
   "cell_type": "code",
   "execution_count": 42,
   "metadata": {
    "collapsed": false
   },
   "outputs": [
    {
     "data": {
      "text/plain": [
       "Beer       1.41\n",
       "Wine       0.18\n",
       "Spirits    0.84\n",
       "Name: (Wyoming, 1999), dtype: float64"
      ]
     },
     "execution_count": 42,
     "metadata": {},
     "output_type": "execute_result"
    }
   ],
   "source": [
    "alco.ix['Wyoming', 1999]\n"
   ]
  },
  {
   "cell_type": "markdown",
   "metadata": {},
   "source": [
    "### Stacking and Pivoting\n",
    "\n",
    "You can fully or partially flatten a multilevel index—at the expense of introducing multilevel column names. \n",
    "\n",
    "You can fully or partially flatten multilevel column names—at the expense of introducing a multiindex.\n",
    "\n",
    "![](Bild1.png)\n"
   ]
  },
  {
   "cell_type": "code",
   "execution_count": 43,
   "metadata": {
    "collapsed": false
   },
   "outputs": [
    {
     "data": {
      "text/html": [
       "<div>\n",
       "<table border=\"1\" class=\"dataframe\">\n",
       "  <thead>\n",
       "    <tr style=\"text-align: right;\">\n",
       "      <th></th>\n",
       "      <th></th>\n",
       "      <th>Beer</th>\n",
       "      <th>Wine</th>\n",
       "      <th>Spirits</th>\n",
       "    </tr>\n",
       "    <tr>\n",
       "      <th>State</th>\n",
       "      <th>Year</th>\n",
       "      <th></th>\n",
       "      <th></th>\n",
       "      <th></th>\n",
       "    </tr>\n",
       "  </thead>\n",
       "  <tbody>\n",
       "    <tr>\n",
       "      <th rowspan=\"10\" valign=\"top\">Alabama</th>\n",
       "      <th>1977</th>\n",
       "      <td>0.99</td>\n",
       "      <td>0.13</td>\n",
       "      <td>0.84</td>\n",
       "    </tr>\n",
       "    <tr>\n",
       "      <th>1978</th>\n",
       "      <td>0.98</td>\n",
       "      <td>0.12</td>\n",
       "      <td>0.88</td>\n",
       "    </tr>\n",
       "    <tr>\n",
       "      <th>1979</th>\n",
       "      <td>0.98</td>\n",
       "      <td>0.12</td>\n",
       "      <td>0.84</td>\n",
       "    </tr>\n",
       "    <tr>\n",
       "      <th>1980</th>\n",
       "      <td>0.96</td>\n",
       "      <td>0.16</td>\n",
       "      <td>0.74</td>\n",
       "    </tr>\n",
       "    <tr>\n",
       "      <th>1981</th>\n",
       "      <td>1.00</td>\n",
       "      <td>0.19</td>\n",
       "      <td>0.73</td>\n",
       "    </tr>\n",
       "    <tr>\n",
       "      <th>1982</th>\n",
       "      <td>1.00</td>\n",
       "      <td>0.18</td>\n",
       "      <td>0.72</td>\n",
       "    </tr>\n",
       "    <tr>\n",
       "      <th>1983</th>\n",
       "      <td>1.01</td>\n",
       "      <td>0.17</td>\n",
       "      <td>0.71</td>\n",
       "    </tr>\n",
       "    <tr>\n",
       "      <th>1984</th>\n",
       "      <td>1.02</td>\n",
       "      <td>0.19</td>\n",
       "      <td>0.69</td>\n",
       "    </tr>\n",
       "    <tr>\n",
       "      <th>1985</th>\n",
       "      <td>1.06</td>\n",
       "      <td>0.17</td>\n",
       "      <td>0.67</td>\n",
       "    </tr>\n",
       "    <tr>\n",
       "      <th>1986</th>\n",
       "      <td>1.09</td>\n",
       "      <td>0.18</td>\n",
       "      <td>0.64</td>\n",
       "    </tr>\n",
       "  </tbody>\n",
       "</table>\n",
       "</div>"
      ],
      "text/plain": [
       "              Beer  Wine  Spirits\n",
       "State   Year                     \n",
       "Alabama 1977  0.99  0.13     0.84\n",
       "        1978  0.98  0.12     0.88\n",
       "        1979  0.98  0.12     0.84\n",
       "        1980  0.96  0.16     0.74\n",
       "        1981  1.00  0.19     0.73\n",
       "        1982  1.00  0.18     0.72\n",
       "        1983  1.01  0.17     0.71\n",
       "        1984  1.02  0.19     0.69\n",
       "        1985  1.06  0.17     0.67\n",
       "        1986  1.09  0.18     0.64"
      ]
     },
     "execution_count": 43,
     "metadata": {},
     "output_type": "execute_result"
    }
   ],
   "source": [
    "alco.head(10)"
   ]
  },
  {
   "cell_type": "code",
   "execution_count": 44,
   "metadata": {
    "collapsed": false
   },
   "outputs": [
    {
     "data": {
      "text/plain": [
       "State    Year  Drink  \n",
       "Alabama  1977  Beer       0.99\n",
       "               Wine       0.13\n",
       "               Spirits    0.84\n",
       "         1978  Beer       0.98\n",
       "               Wine       0.12\n",
       "               Spirits    0.88\n",
       "         1979  Beer       0.98\n",
       "               Wine       0.12\n",
       "               Spirits    0.84\n",
       "         1980  Beer       0.96\n",
       "dtype: float64"
      ]
     },
     "execution_count": 44,
     "metadata": {},
     "output_type": "execute_result"
    }
   ],
   "source": [
    "#Spalten zu Zeileneinträgen\n",
    "tall_alco = alco.stack()\n",
    "tall_alco.index.names = [\"State\",\"Year\", \"Drink\"]\n",
    "tall_alco.head(10)"
   ]
  },
  {
   "cell_type": "code",
   "execution_count": 45,
   "metadata": {
    "collapsed": false
   },
   "outputs": [
    {
     "data": {
      "text/html": [
       "<div>\n",
       "<table border=\"1\" class=\"dataframe\">\n",
       "  <thead>\n",
       "    <tr>\n",
       "      <th></th>\n",
       "      <th colspan=\"10\" halign=\"left\">Beer</th>\n",
       "      <th>...</th>\n",
       "      <th colspan=\"10\" halign=\"left\">Spirits</th>\n",
       "    </tr>\n",
       "    <tr>\n",
       "      <th>Year</th>\n",
       "      <th>1977</th>\n",
       "      <th>1978</th>\n",
       "      <th>1979</th>\n",
       "      <th>1980</th>\n",
       "      <th>1981</th>\n",
       "      <th>1982</th>\n",
       "      <th>1983</th>\n",
       "      <th>1984</th>\n",
       "      <th>1985</th>\n",
       "      <th>1986</th>\n",
       "      <th>...</th>\n",
       "      <th>2000</th>\n",
       "      <th>2001</th>\n",
       "      <th>2002</th>\n",
       "      <th>2003</th>\n",
       "      <th>2004</th>\n",
       "      <th>2005</th>\n",
       "      <th>2006</th>\n",
       "      <th>2007</th>\n",
       "      <th>2008</th>\n",
       "      <th>2009</th>\n",
       "    </tr>\n",
       "    <tr>\n",
       "      <th>State</th>\n",
       "      <th></th>\n",
       "      <th></th>\n",
       "      <th></th>\n",
       "      <th></th>\n",
       "      <th></th>\n",
       "      <th></th>\n",
       "      <th></th>\n",
       "      <th></th>\n",
       "      <th></th>\n",
       "      <th></th>\n",
       "      <th></th>\n",
       "      <th></th>\n",
       "      <th></th>\n",
       "      <th></th>\n",
       "      <th></th>\n",
       "      <th></th>\n",
       "      <th></th>\n",
       "      <th></th>\n",
       "      <th></th>\n",
       "      <th></th>\n",
       "      <th></th>\n",
       "    </tr>\n",
       "  </thead>\n",
       "  <tbody>\n",
       "    <tr>\n",
       "      <th>Alabama</th>\n",
       "      <td>0.99</td>\n",
       "      <td>0.98</td>\n",
       "      <td>0.98</td>\n",
       "      <td>0.96</td>\n",
       "      <td>1.00</td>\n",
       "      <td>1.00</td>\n",
       "      <td>1.01</td>\n",
       "      <td>1.02</td>\n",
       "      <td>1.06</td>\n",
       "      <td>1.09</td>\n",
       "      <td>...</td>\n",
       "      <td>0.51</td>\n",
       "      <td>0.53</td>\n",
       "      <td>0.53</td>\n",
       "      <td>0.52</td>\n",
       "      <td>0.52</td>\n",
       "      <td>0.53</td>\n",
       "      <td>0.55</td>\n",
       "      <td>0.56</td>\n",
       "      <td>0.58</td>\n",
       "      <td>0.58</td>\n",
       "    </tr>\n",
       "    <tr>\n",
       "      <th>Alaska</th>\n",
       "      <td>1.19</td>\n",
       "      <td>1.39</td>\n",
       "      <td>1.50</td>\n",
       "      <td>1.55</td>\n",
       "      <td>1.71</td>\n",
       "      <td>1.75</td>\n",
       "      <td>1.76</td>\n",
       "      <td>1.73</td>\n",
       "      <td>1.68</td>\n",
       "      <td>1.68</td>\n",
       "      <td>...</td>\n",
       "      <td>0.92</td>\n",
       "      <td>0.97</td>\n",
       "      <td>1.08</td>\n",
       "      <td>0.79</td>\n",
       "      <td>0.96</td>\n",
       "      <td>0.99</td>\n",
       "      <td>1.02</td>\n",
       "      <td>1.07</td>\n",
       "      <td>1.09</td>\n",
       "      <td>1.16</td>\n",
       "    </tr>\n",
       "    <tr>\n",
       "      <th>Arizona</th>\n",
       "      <td>1.70</td>\n",
       "      <td>1.77</td>\n",
       "      <td>1.86</td>\n",
       "      <td>1.69</td>\n",
       "      <td>1.78</td>\n",
       "      <td>1.74</td>\n",
       "      <td>1.62</td>\n",
       "      <td>1.57</td>\n",
       "      <td>1.67</td>\n",
       "      <td>1.77</td>\n",
       "      <td>...</td>\n",
       "      <td>0.71</td>\n",
       "      <td>0.70</td>\n",
       "      <td>0.69</td>\n",
       "      <td>0.71</td>\n",
       "      <td>0.70</td>\n",
       "      <td>0.74</td>\n",
       "      <td>0.78</td>\n",
       "      <td>0.76</td>\n",
       "      <td>0.75</td>\n",
       "      <td>0.74</td>\n",
       "    </tr>\n",
       "    <tr>\n",
       "      <th>Arkansas</th>\n",
       "      <td>0.92</td>\n",
       "      <td>0.97</td>\n",
       "      <td>0.93</td>\n",
       "      <td>1.00</td>\n",
       "      <td>1.06</td>\n",
       "      <td>1.03</td>\n",
       "      <td>1.03</td>\n",
       "      <td>1.02</td>\n",
       "      <td>1.03</td>\n",
       "      <td>1.06</td>\n",
       "      <td>...</td>\n",
       "      <td>0.53</td>\n",
       "      <td>0.53</td>\n",
       "      <td>0.53</td>\n",
       "      <td>0.56</td>\n",
       "      <td>0.58</td>\n",
       "      <td>0.58</td>\n",
       "      <td>0.59</td>\n",
       "      <td>0.60</td>\n",
       "      <td>0.60</td>\n",
       "      <td>0.60</td>\n",
       "    </tr>\n",
       "    <tr>\n",
       "      <th>California</th>\n",
       "      <td>1.31</td>\n",
       "      <td>1.36</td>\n",
       "      <td>1.42</td>\n",
       "      <td>1.42</td>\n",
       "      <td>1.43</td>\n",
       "      <td>1.37</td>\n",
       "      <td>1.37</td>\n",
       "      <td>1.38</td>\n",
       "      <td>1.32</td>\n",
       "      <td>1.36</td>\n",
       "      <td>...</td>\n",
       "      <td>0.64</td>\n",
       "      <td>0.64</td>\n",
       "      <td>0.63</td>\n",
       "      <td>0.65</td>\n",
       "      <td>0.67</td>\n",
       "      <td>0.68</td>\n",
       "      <td>0.70</td>\n",
       "      <td>0.72</td>\n",
       "      <td>0.72</td>\n",
       "      <td>0.73</td>\n",
       "    </tr>\n",
       "    <tr>\n",
       "      <th>Colorado</th>\n",
       "      <td>1.43</td>\n",
       "      <td>1.64</td>\n",
       "      <td>1.68</td>\n",
       "      <td>1.57</td>\n",
       "      <td>1.63</td>\n",
       "      <td>1.64</td>\n",
       "      <td>1.57</td>\n",
       "      <td>1.51</td>\n",
       "      <td>1.47</td>\n",
       "      <td>1.47</td>\n",
       "      <td>...</td>\n",
       "      <td>0.89</td>\n",
       "      <td>0.96</td>\n",
       "      <td>0.90</td>\n",
       "      <td>0.87</td>\n",
       "      <td>0.95</td>\n",
       "      <td>0.99</td>\n",
       "      <td>0.97</td>\n",
       "      <td>1.00</td>\n",
       "      <td>1.01</td>\n",
       "      <td>1.00</td>\n",
       "    </tr>\n",
       "    <tr>\n",
       "      <th>Connecticut</th>\n",
       "      <td>1.05</td>\n",
       "      <td>1.07</td>\n",
       "      <td>1.13</td>\n",
       "      <td>1.06</td>\n",
       "      <td>1.05</td>\n",
       "      <td>1.04</td>\n",
       "      <td>1.10</td>\n",
       "      <td>1.10</td>\n",
       "      <td>1.14</td>\n",
       "      <td>1.13</td>\n",
       "      <td>...</td>\n",
       "      <td>0.74</td>\n",
       "      <td>0.74</td>\n",
       "      <td>0.74</td>\n",
       "      <td>0.77</td>\n",
       "      <td>0.79</td>\n",
       "      <td>0.79</td>\n",
       "      <td>0.84</td>\n",
       "      <td>0.85</td>\n",
       "      <td>0.86</td>\n",
       "      <td>0.86</td>\n",
       "    </tr>\n",
       "    <tr>\n",
       "      <th>Delaware</th>\n",
       "      <td>1.32</td>\n",
       "      <td>1.33</td>\n",
       "      <td>1.38</td>\n",
       "      <td>1.45</td>\n",
       "      <td>1.51</td>\n",
       "      <td>1.53</td>\n",
       "      <td>1.53</td>\n",
       "      <td>1.51</td>\n",
       "      <td>1.46</td>\n",
       "      <td>1.45</td>\n",
       "      <td>...</td>\n",
       "      <td>1.05</td>\n",
       "      <td>1.06</td>\n",
       "      <td>1.10</td>\n",
       "      <td>1.17</td>\n",
       "      <td>1.28</td>\n",
       "      <td>1.25</td>\n",
       "      <td>1.28</td>\n",
       "      <td>1.25</td>\n",
       "      <td>1.25</td>\n",
       "      <td>1.25</td>\n",
       "    </tr>\n",
       "    <tr>\n",
       "      <th>District of Columbia</th>\n",
       "      <td>1.39</td>\n",
       "      <td>1.43</td>\n",
       "      <td>1.48</td>\n",
       "      <td>1.49</td>\n",
       "      <td>1.50</td>\n",
       "      <td>1.48</td>\n",
       "      <td>1.55</td>\n",
       "      <td>1.56</td>\n",
       "      <td>1.49</td>\n",
       "      <td>1.52</td>\n",
       "      <td>...</td>\n",
       "      <td>1.48</td>\n",
       "      <td>1.46</td>\n",
       "      <td>1.47</td>\n",
       "      <td>1.54</td>\n",
       "      <td>1.57</td>\n",
       "      <td>1.53</td>\n",
       "      <td>1.58</td>\n",
       "      <td>1.61</td>\n",
       "      <td>1.63</td>\n",
       "      <td>1.64</td>\n",
       "    </tr>\n",
       "    <tr>\n",
       "      <th>Florida</th>\n",
       "      <td>1.33</td>\n",
       "      <td>1.41</td>\n",
       "      <td>1.47</td>\n",
       "      <td>1.42</td>\n",
       "      <td>1.55</td>\n",
       "      <td>1.56</td>\n",
       "      <td>1.56</td>\n",
       "      <td>1.48</td>\n",
       "      <td>1.47</td>\n",
       "      <td>1.50</td>\n",
       "      <td>...</td>\n",
       "      <td>0.82</td>\n",
       "      <td>0.82</td>\n",
       "      <td>0.84</td>\n",
       "      <td>0.86</td>\n",
       "      <td>0.89</td>\n",
       "      <td>0.91</td>\n",
       "      <td>0.92</td>\n",
       "      <td>0.93</td>\n",
       "      <td>0.90</td>\n",
       "      <td>0.92</td>\n",
       "    </tr>\n",
       "  </tbody>\n",
       "</table>\n",
       "<p>10 rows × 99 columns</p>\n",
       "</div>"
      ],
      "text/plain": [
       "                      Beer                                                  \\\n",
       "Year                  1977  1978  1979  1980  1981  1982  1983  1984  1985   \n",
       "State                                                                        \n",
       "Alabama               0.99  0.98  0.98  0.96  1.00  1.00  1.01  1.02  1.06   \n",
       "Alaska                1.19  1.39  1.50  1.55  1.71  1.75  1.76  1.73  1.68   \n",
       "Arizona               1.70  1.77  1.86  1.69  1.78  1.74  1.62  1.57  1.67   \n",
       "Arkansas              0.92  0.97  0.93  1.00  1.06  1.03  1.03  1.02  1.03   \n",
       "California            1.31  1.36  1.42  1.42  1.43  1.37  1.37  1.38  1.32   \n",
       "Colorado              1.43  1.64  1.68  1.57  1.63  1.64  1.57  1.51  1.47   \n",
       "Connecticut           1.05  1.07  1.13  1.06  1.05  1.04  1.10  1.10  1.14   \n",
       "Delaware              1.32  1.33  1.38  1.45  1.51  1.53  1.53  1.51  1.46   \n",
       "District of Columbia  1.39  1.43  1.48  1.49  1.50  1.48  1.55  1.56  1.49   \n",
       "Florida               1.33  1.41  1.47  1.42  1.55  1.56  1.56  1.48  1.47   \n",
       "\n",
       "                            ...  Spirits                                      \\\n",
       "Year                  1986  ...     2000  2001  2002  2003  2004  2005  2006   \n",
       "State                       ...                                                \n",
       "Alabama               1.09  ...     0.51  0.53  0.53  0.52  0.52  0.53  0.55   \n",
       "Alaska                1.68  ...     0.92  0.97  1.08  0.79  0.96  0.99  1.02   \n",
       "Arizona               1.77  ...     0.71  0.70  0.69  0.71  0.70  0.74  0.78   \n",
       "Arkansas              1.06  ...     0.53  0.53  0.53  0.56  0.58  0.58  0.59   \n",
       "California            1.36  ...     0.64  0.64  0.63  0.65  0.67  0.68  0.70   \n",
       "Colorado              1.47  ...     0.89  0.96  0.90  0.87  0.95  0.99  0.97   \n",
       "Connecticut           1.13  ...     0.74  0.74  0.74  0.77  0.79  0.79  0.84   \n",
       "Delaware              1.45  ...     1.05  1.06  1.10  1.17  1.28  1.25  1.28   \n",
       "District of Columbia  1.52  ...     1.48  1.46  1.47  1.54  1.57  1.53  1.58   \n",
       "Florida               1.50  ...     0.82  0.82  0.84  0.86  0.89  0.91  0.92   \n",
       "\n",
       "                                        \n",
       "Year                  2007  2008  2009  \n",
       "State                                   \n",
       "Alabama               0.56  0.58  0.58  \n",
       "Alaska                1.07  1.09  1.16  \n",
       "Arizona               0.76  0.75  0.74  \n",
       "Arkansas              0.60  0.60  0.60  \n",
       "California            0.72  0.72  0.73  \n",
       "Colorado              1.00  1.01  1.00  \n",
       "Connecticut           0.85  0.86  0.86  \n",
       "Delaware              1.25  1.25  1.25  \n",
       "District of Columbia  1.61  1.63  1.64  \n",
       "Florida               0.93  0.90  0.92  \n",
       "\n",
       "[10 rows x 99 columns]"
      ]
     },
     "execution_count": 45,
     "metadata": {},
     "output_type": "execute_result"
    }
   ],
   "source": [
    "wide_alco = alco.unstack()\n",
    "wide_alco.head(10)\n"
   ]
  },
  {
   "cell_type": "markdown",
   "metadata": {},
   "source": [
    "The result of the previous operation is a frame with a flat index and two-level, hierarchical column names. \n",
    "\n",
    "You’ll often find these kind of frames in CSV and other tabular files. You may want to stack them to make the data “more square” and easier to manage.\n"
   ]
  },
  {
   "cell_type": "markdown",
   "metadata": {},
   "source": [
    "Stacking and unstacking are special cases of a more general operation—pivoting.\n",
    "\n",
    "The *pivot(index,columns,values)* function converts a frame into another frame using column index as the new index, columns as the new list of column names, and column values as the data.\n",
    "\n",
    "In the following example, alco is reorganized into a “square” frame describing wine consumption by year (new flat index) and state (column names):\n"
   ]
  },
  {
   "cell_type": "markdown",
   "metadata": {},
   "source": [
    "## Handling Missing Data\n",
    "\n",
    "### Deleting Missing Data\n",
    "\n",
    "The simplest way to handle missing data is to pretend you never had it in the first place (the “See No Evil, Hear No Evil” approach). \n",
    "\n",
    "The *dropna()* function removes partially (how=\"any\", default) or fully (how=\"all\") invalid rows (axis=0, default) or columns (axis=1) and returns a “clean” copy of the object frame.\n",
    "\n",
    "You can use optional parameter inplace=True to modify the original frame instead of creating a copy.\n"
   ]
  },
  {
   "cell_type": "code",
   "execution_count": 46,
   "metadata": {
    "collapsed": false
   },
   "outputs": [
    {
     "data": {
      "text/html": [
       "<div>\n",
       "<table border=\"1\" class=\"dataframe\">\n",
       "  <thead>\n",
       "    <tr style=\"text-align: right;\">\n",
       "      <th></th>\n",
       "      <th>Beer</th>\n",
       "      <th>Spirits</th>\n",
       "      <th>Wine</th>\n",
       "      <th>Total</th>\n",
       "      <th>Water</th>\n",
       "    </tr>\n",
       "  </thead>\n",
       "  <tbody>\n",
       "    <tr>\n",
       "      <th>South Carolina</th>\n",
       "      <td>1.36</td>\n",
       "      <td>0.77</td>\n",
       "      <td>0.24</td>\n",
       "      <td>0.0</td>\n",
       "      <td>NaN</td>\n",
       "    </tr>\n",
       "    <tr>\n",
       "      <th>South Dakota</th>\n",
       "      <td>1.53</td>\n",
       "      <td>0.88</td>\n",
       "      <td>0.22</td>\n",
       "      <td>0.0</td>\n",
       "      <td>NaN</td>\n",
       "    </tr>\n",
       "    <tr>\n",
       "      <th>Samoa</th>\n",
       "      <td>NaN</td>\n",
       "      <td>NaN</td>\n",
       "      <td>NaN</td>\n",
       "      <td>NaN</td>\n",
       "      <td>NaN</td>\n",
       "    </tr>\n",
       "  </tbody>\n",
       "</table>\n",
       "</div>"
      ],
      "text/plain": [
       "                Beer  Spirits  Wine  Total  Water\n",
       "South Carolina  1.36     0.77  0.24    0.0    NaN\n",
       "South Dakota    1.53     0.88  0.22    0.0    NaN\n",
       "Samoa            NaN      NaN   NaN    NaN    NaN"
      ]
     },
     "execution_count": 46,
     "metadata": {},
     "output_type": "execute_result"
    }
   ],
   "source": [
    "nan_alco"
   ]
  },
  {
   "cell_type": "code",
   "execution_count": 47,
   "metadata": {
    "collapsed": false
   },
   "outputs": [
    {
     "data": {
      "text/html": [
       "<div>\n",
       "<table border=\"1\" class=\"dataframe\">\n",
       "  <thead>\n",
       "    <tr style=\"text-align: right;\">\n",
       "      <th></th>\n",
       "      <th>Beer</th>\n",
       "      <th>Spirits</th>\n",
       "      <th>Wine</th>\n",
       "      <th>Total</th>\n",
       "      <th>Water</th>\n",
       "    </tr>\n",
       "  </thead>\n",
       "  <tbody>\n",
       "    <tr>\n",
       "      <th>South Carolina</th>\n",
       "      <td>1.36</td>\n",
       "      <td>0.77</td>\n",
       "      <td>0.24</td>\n",
       "      <td>0.0</td>\n",
       "      <td>NaN</td>\n",
       "    </tr>\n",
       "    <tr>\n",
       "      <th>South Dakota</th>\n",
       "      <td>1.53</td>\n",
       "      <td>0.88</td>\n",
       "      <td>0.22</td>\n",
       "      <td>0.0</td>\n",
       "      <td>NaN</td>\n",
       "    </tr>\n",
       "  </tbody>\n",
       "</table>\n",
       "</div>"
      ],
      "text/plain": [
       "                Beer  Spirits  Wine  Total  Water\n",
       "South Carolina  1.36     0.77  0.24    0.0    NaN\n",
       "South Dakota    1.53     0.88  0.22    0.0    NaN"
      ]
     },
     "execution_count": 47,
     "metadata": {},
     "output_type": "execute_result"
    }
   ],
   "source": [
    "# the “See No Evil, Hear No Evil” approach on rows\n",
    "nan_alco.dropna(how=\"all\")\n"
   ]
  },
  {
   "cell_type": "code",
   "execution_count": 48,
   "metadata": {
    "collapsed": false
   },
   "outputs": [
    {
     "data": {
      "text/html": [
       "<div>\n",
       "<table border=\"1\" class=\"dataframe\">\n",
       "  <thead>\n",
       "    <tr style=\"text-align: right;\">\n",
       "      <th></th>\n",
       "      <th>Beer</th>\n",
       "      <th>Spirits</th>\n",
       "      <th>Wine</th>\n",
       "      <th>Total</th>\n",
       "    </tr>\n",
       "  </thead>\n",
       "  <tbody>\n",
       "    <tr>\n",
       "      <th>South Carolina</th>\n",
       "      <td>1.36</td>\n",
       "      <td>0.77</td>\n",
       "      <td>0.24</td>\n",
       "      <td>0.0</td>\n",
       "    </tr>\n",
       "    <tr>\n",
       "      <th>South Dakota</th>\n",
       "      <td>1.53</td>\n",
       "      <td>0.88</td>\n",
       "      <td>0.22</td>\n",
       "      <td>0.0</td>\n",
       "    </tr>\n",
       "    <tr>\n",
       "      <th>Samoa</th>\n",
       "      <td>NaN</td>\n",
       "      <td>NaN</td>\n",
       "      <td>NaN</td>\n",
       "      <td>NaN</td>\n",
       "    </tr>\n",
       "  </tbody>\n",
       "</table>\n",
       "</div>"
      ],
      "text/plain": [
       "                Beer  Spirits  Wine  Total\n",
       "South Carolina  1.36     0.77  0.24    0.0\n",
       "South Dakota    1.53     0.88  0.22    0.0\n",
       "Samoa            NaN      NaN   NaN    NaN"
      ]
     },
     "execution_count": 48,
     "metadata": {},
     "output_type": "execute_result"
    }
   ],
   "source": [
    "# the “See No Evil, Hear No Evil” approach on columns\n",
    "nan_alco.dropna(how=\"all\", axis=1)\n"
   ]
  },
  {
   "cell_type": "markdown",
   "metadata": {},
   "source": [
    "You cannot remove a missing value alone without destroying the frame grid.\n",
    "\n",
    "You can remove only the whole row or column containing the “dirty” cell, and the resulting “clean” frame may be totally empty. \n",
    "\n",
    "Instead of seeing no evil, you will see no data.\n"
   ]
  },
  {
   "cell_type": "code",
   "execution_count": 49,
   "metadata": {
    "collapsed": false
   },
   "outputs": [
    {
     "data": {
      "text/html": [
       "<div>\n",
       "<table border=\"1\" class=\"dataframe\">\n",
       "  <thead>\n",
       "    <tr style=\"text-align: right;\">\n",
       "      <th></th>\n",
       "      <th>Beer</th>\n",
       "      <th>Spirits</th>\n",
       "      <th>Wine</th>\n",
       "      <th>Total</th>\n",
       "      <th>Water</th>\n",
       "    </tr>\n",
       "  </thead>\n",
       "  <tbody>\n",
       "  </tbody>\n",
       "</table>\n",
       "</div>"
      ],
      "text/plain": [
       "Empty DataFrame\n",
       "Columns: [Beer, Spirits, Wine, Total, Water]\n",
       "Index: []"
      ]
     },
     "execution_count": 49,
     "metadata": {},
     "output_type": "execute_result"
    }
   ],
   "source": [
    "# the “See No Evil, Hear No Evil” approach on rows and columns\n",
    "# Instead of seeing no evil, you will have no data.\n",
    "nan_alco.dropna()\n"
   ]
  },
  {
   "cell_type": "markdown",
   "metadata": {},
   "source": [
    "### Imputing Missing Data\n",
    "\n",
    "Imputing missing values means replacing them with some “clean” values that make sense.\n",
    "\n",
    "Two most common imputation techniques are replacing with a constant (a zero, a one, and so on) and replacing with an average taken across the “clean” values. \n",
    "But first, you need to identify what’s actually missing.\n",
    "\n",
    "\n",
    "Functions *isnull()* and *notnull()* are complementary. \n",
    "\n",
    "They return *True* if a value is a *nan* or not a *nan*, respectively. \n",
    "\n",
    "According to the IEEE 754 floating point standard, the expression np.nan==np.nan is False, which makes a direct comparison impossible!\n",
    "\n"
   ]
  },
  {
   "cell_type": "code",
   "execution_count": 50,
   "metadata": {
    "collapsed": false
   },
   "outputs": [
    {
     "data": {
      "text/html": [
       "<div>\n",
       "<table border=\"1\" class=\"dataframe\">\n",
       "  <thead>\n",
       "    <tr style=\"text-align: right;\">\n",
       "      <th></th>\n",
       "      <th>Beer</th>\n",
       "      <th>Spirits</th>\n",
       "      <th>Wine</th>\n",
       "      <th>Total</th>\n",
       "      <th>Water</th>\n",
       "    </tr>\n",
       "  </thead>\n",
       "  <tbody>\n",
       "    <tr>\n",
       "      <th>South Carolina</th>\n",
       "      <td>False</td>\n",
       "      <td>False</td>\n",
       "      <td>False</td>\n",
       "      <td>False</td>\n",
       "      <td>True</td>\n",
       "    </tr>\n",
       "    <tr>\n",
       "      <th>South Dakota</th>\n",
       "      <td>False</td>\n",
       "      <td>False</td>\n",
       "      <td>False</td>\n",
       "      <td>False</td>\n",
       "      <td>True</td>\n",
       "    </tr>\n",
       "    <tr>\n",
       "      <th>Samoa</th>\n",
       "      <td>True</td>\n",
       "      <td>True</td>\n",
       "      <td>True</td>\n",
       "      <td>True</td>\n",
       "      <td>True</td>\n",
       "    </tr>\n",
       "  </tbody>\n",
       "</table>\n",
       "</div>"
      ],
      "text/plain": [
       "                 Beer Spirits   Wine  Total Water\n",
       "South Carolina  False   False  False  False  True\n",
       "South Dakota    False   False  False  False  True\n",
       "Samoa            True    True   True   True  True"
      ]
     },
     "execution_count": 50,
     "metadata": {},
     "output_type": "execute_result"
    }
   ],
   "source": [
    "# First, you need to identify what’s actually missing.\n",
    "nan_alco.isnull()\n"
   ]
  },
  {
   "cell_type": "code",
   "execution_count": 51,
   "metadata": {
    "collapsed": false
   },
   "outputs": [
    {
     "data": {
      "text/html": [
       "<div>\n",
       "<table border=\"1\" class=\"dataframe\">\n",
       "  <thead>\n",
       "    <tr style=\"text-align: right;\">\n",
       "      <th></th>\n",
       "      <th>Beer</th>\n",
       "      <th>Spirits</th>\n",
       "      <th>Wine</th>\n",
       "      <th>Total</th>\n",
       "      <th>Water</th>\n",
       "    </tr>\n",
       "  </thead>\n",
       "  <tbody>\n",
       "    <tr>\n",
       "      <th>South Carolina</th>\n",
       "      <td>True</td>\n",
       "      <td>True</td>\n",
       "      <td>True</td>\n",
       "      <td>True</td>\n",
       "      <td>False</td>\n",
       "    </tr>\n",
       "    <tr>\n",
       "      <th>South Dakota</th>\n",
       "      <td>True</td>\n",
       "      <td>True</td>\n",
       "      <td>True</td>\n",
       "      <td>True</td>\n",
       "      <td>False</td>\n",
       "    </tr>\n",
       "    <tr>\n",
       "      <th>Samoa</th>\n",
       "      <td>False</td>\n",
       "      <td>False</td>\n",
       "      <td>False</td>\n",
       "      <td>False</td>\n",
       "      <td>False</td>\n",
       "    </tr>\n",
       "  </tbody>\n",
       "</table>\n",
       "</div>"
      ],
      "text/plain": [
       "                 Beer Spirits   Wine  Total  Water\n",
       "South Carolina   True    True   True   True  False\n",
       "South Dakota     True    True   True   True  False\n",
       "Samoa           False   False  False  False  False"
      ]
     },
     "execution_count": 51,
     "metadata": {},
     "output_type": "execute_result"
    }
   ],
   "source": [
    "nan_alco.notnull()\n"
   ]
  },
  {
   "cell_type": "markdown",
   "metadata": {},
   "source": [
    "Let’s fix the “Spirits” column by imputing the average (remember that - [hyphen] is numpy’s idea of a negation operator):\n"
   ]
  },
  {
   "cell_type": "code",
   "execution_count": 52,
   "metadata": {
    "collapsed": false
   },
   "outputs": [
    {
     "data": {
      "text/html": [
       "<div>\n",
       "<table border=\"1\" class=\"dataframe\">\n",
       "  <thead>\n",
       "    <tr style=\"text-align: right;\">\n",
       "      <th></th>\n",
       "      <th>Beer</th>\n",
       "      <th>Spirits</th>\n",
       "      <th>Wine</th>\n",
       "      <th>Total</th>\n",
       "      <th>Water</th>\n",
       "    </tr>\n",
       "  </thead>\n",
       "  <tbody>\n",
       "    <tr>\n",
       "      <th>South Carolina</th>\n",
       "      <td>1.36</td>\n",
       "      <td>0.77</td>\n",
       "      <td>0.24</td>\n",
       "      <td>0.0</td>\n",
       "      <td>NaN</td>\n",
       "    </tr>\n",
       "    <tr>\n",
       "      <th>South Dakota</th>\n",
       "      <td>1.53</td>\n",
       "      <td>0.88</td>\n",
       "      <td>0.22</td>\n",
       "      <td>0.0</td>\n",
       "      <td>NaN</td>\n",
       "    </tr>\n",
       "    <tr>\n",
       "      <th>Samoa</th>\n",
       "      <td>NaN</td>\n",
       "      <td>NaN</td>\n",
       "      <td>NaN</td>\n",
       "      <td>NaN</td>\n",
       "      <td>NaN</td>\n",
       "    </tr>\n",
       "  </tbody>\n",
       "</table>\n",
       "</div>"
      ],
      "text/plain": [
       "                Beer  Spirits  Wine  Total  Water\n",
       "South Carolina  1.36     0.77  0.24    0.0    NaN\n",
       "South Dakota    1.53     0.88  0.22    0.0    NaN\n",
       "Samoa            NaN      NaN   NaN    NaN    NaN"
      ]
     },
     "execution_count": 52,
     "metadata": {},
     "output_type": "execute_result"
    }
   ],
   "source": [
    "nan_alco"
   ]
  },
  {
   "cell_type": "code",
   "execution_count": 53,
   "metadata": {
    "collapsed": false
   },
   "outputs": [
    {
     "data": {
      "text/plain": [
       "South Carolina    0.77\n",
       "South Dakota      0.88\n",
       "Samoa              NaN\n",
       "Name: Spirits, dtype: float64"
      ]
     },
     "execution_count": 53,
     "metadata": {},
     "output_type": "execute_result"
    }
   ],
   "source": [
    "# Selected a column with dirty rows\n",
    "sp = nan_alco['Spirits'] \n",
    "sp\n"
   ]
  },
  {
   "cell_type": "code",
   "execution_count": 54,
   "metadata": {
    "collapsed": false
   },
   "outputs": [
    {
     "data": {
      "text/html": [
       "<div>\n",
       "<table border=\"1\" class=\"dataframe\">\n",
       "  <thead>\n",
       "    <tr style=\"text-align: right;\">\n",
       "      <th></th>\n",
       "      <th>Beer</th>\n",
       "      <th>Spirits</th>\n",
       "      <th>Wine</th>\n",
       "      <th>Total</th>\n",
       "      <th>Water</th>\n",
       "    </tr>\n",
       "  </thead>\n",
       "  <tbody>\n",
       "    <tr>\n",
       "      <th>South Carolina</th>\n",
       "      <td>1.36</td>\n",
       "      <td>0.770</td>\n",
       "      <td>0.24</td>\n",
       "      <td>0.0</td>\n",
       "      <td>NaN</td>\n",
       "    </tr>\n",
       "    <tr>\n",
       "      <th>South Dakota</th>\n",
       "      <td>1.53</td>\n",
       "      <td>0.880</td>\n",
       "      <td>0.22</td>\n",
       "      <td>0.0</td>\n",
       "      <td>NaN</td>\n",
       "    </tr>\n",
       "    <tr>\n",
       "      <th>Samoa</th>\n",
       "      <td>NaN</td>\n",
       "      <td>0.825</td>\n",
       "      <td>NaN</td>\n",
       "      <td>NaN</td>\n",
       "      <td>NaN</td>\n",
       "    </tr>\n",
       "  </tbody>\n",
       "</table>\n",
       "</div>"
      ],
      "text/plain": [
       "                Beer  Spirits  Wine  Total  Water\n",
       "South Carolina  1.36    0.770  0.24    0.0    NaN\n",
       "South Dakota    1.53    0.880  0.22    0.0    NaN\n",
       "Samoa            NaN    0.825   NaN    NaN    NaN"
      ]
     },
     "execution_count": 54,
     "metadata": {},
     "output_type": "execute_result"
    }
   ],
   "source": [
    "clean = sp.notnull() # The clean rows\n",
    "sp[-clean] = sp[clean].mean() \n",
    "# Impute the clean mean into the dirty rows\n",
    "# has to be done row by row\n",
    "nan_alco"
   ]
  },
  {
   "cell_type": "markdown",
   "metadata": {},
   "source": [
    "You have to impute the means on a column-by-column (or row-by-row) basis, but you can impute constants across the frame. \n",
    "\n",
    "**Function *fillna(val)* ** in its simplest form imputes val into the “holes.” Alternatively, the function propagates the last valid observation along its column (axis=0}, default) or row (axis=1) either forward (method=\"ffill\") or backward (method=\"bfill\"). \n",
    "\n",
    "The function returns a new frame or series, unless you specify the parameter inplace=True.\n"
   ]
  },
  {
   "cell_type": "code",
   "execution_count": 55,
   "metadata": {
    "collapsed": false
   },
   "outputs": [
    {
     "data": {
      "text/html": [
       "<div>\n",
       "<table border=\"1\" class=\"dataframe\">\n",
       "  <thead>\n",
       "    <tr style=\"text-align: right;\">\n",
       "      <th></th>\n",
       "      <th>Beer</th>\n",
       "      <th>Spirits</th>\n",
       "      <th>Wine</th>\n",
       "      <th>Total</th>\n",
       "      <th>Water</th>\n",
       "    </tr>\n",
       "  </thead>\n",
       "  <tbody>\n",
       "    <tr>\n",
       "      <th>South Carolina</th>\n",
       "      <td>1.36</td>\n",
       "      <td>0.770</td>\n",
       "      <td>0.24</td>\n",
       "      <td>0.0</td>\n",
       "      <td>0.0</td>\n",
       "    </tr>\n",
       "    <tr>\n",
       "      <th>South Dakota</th>\n",
       "      <td>1.53</td>\n",
       "      <td>0.880</td>\n",
       "      <td>0.22</td>\n",
       "      <td>0.0</td>\n",
       "      <td>0.0</td>\n",
       "    </tr>\n",
       "    <tr>\n",
       "      <th>Samoa</th>\n",
       "      <td>0.00</td>\n",
       "      <td>0.825</td>\n",
       "      <td>0.00</td>\n",
       "      <td>0.0</td>\n",
       "      <td>0.0</td>\n",
       "    </tr>\n",
       "  </tbody>\n",
       "</table>\n",
       "</div>"
      ],
      "text/plain": [
       "                Beer  Spirits  Wine  Total  Water\n",
       "South Carolina  1.36    0.770  0.24    0.0    0.0\n",
       "South Dakota    1.53    0.880  0.22    0.0    0.0\n",
       "Samoa           0.00    0.825  0.00    0.0    0.0"
      ]
     },
     "execution_count": 55,
     "metadata": {},
     "output_type": "execute_result"
    }
   ],
   "source": [
    "# Filling all NaNs with the constant 0\n",
    "nan_alco.fillna(0)\n"
   ]
  },
  {
   "cell_type": "code",
   "execution_count": 56,
   "metadata": {
    "collapsed": false,
    "scrolled": true
   },
   "outputs": [
    {
     "data": {
      "text/html": [
       "<div>\n",
       "<table border=\"1\" class=\"dataframe\">\n",
       "  <thead>\n",
       "    <tr style=\"text-align: right;\">\n",
       "      <th></th>\n",
       "      <th>Beer</th>\n",
       "      <th>Spirits</th>\n",
       "      <th>Wine</th>\n",
       "      <th>Total</th>\n",
       "      <th>Water</th>\n",
       "    </tr>\n",
       "  </thead>\n",
       "  <tbody>\n",
       "    <tr>\n",
       "      <th>South Carolina</th>\n",
       "      <td>1.36</td>\n",
       "      <td>0.770</td>\n",
       "      <td>0.24</td>\n",
       "      <td>0.0</td>\n",
       "      <td>NaN</td>\n",
       "    </tr>\n",
       "    <tr>\n",
       "      <th>South Dakota</th>\n",
       "      <td>1.53</td>\n",
       "      <td>0.880</td>\n",
       "      <td>0.22</td>\n",
       "      <td>0.0</td>\n",
       "      <td>NaN</td>\n",
       "    </tr>\n",
       "    <tr>\n",
       "      <th>Samoa</th>\n",
       "      <td>1.53</td>\n",
       "      <td>0.825</td>\n",
       "      <td>0.22</td>\n",
       "      <td>0.0</td>\n",
       "      <td>NaN</td>\n",
       "    </tr>\n",
       "  </tbody>\n",
       "</table>\n",
       "</div>"
      ],
      "text/plain": [
       "                Beer  Spirits  Wine  Total  Water\n",
       "South Carolina  1.36    0.770  0.24    0.0    NaN\n",
       "South Dakota    1.53    0.880  0.22    0.0    NaN\n",
       "Samoa           1.53    0.825  0.22    0.0    NaN"
      ]
     },
     "execution_count": 56,
     "metadata": {},
     "output_type": "execute_result"
    }
   ],
   "source": [
    "# filling with the last valid observation\n",
    "nan_alco.fillna(method= \"ffill\")\n"
   ]
  },
  {
   "cell_type": "markdown",
   "metadata": {},
   "source": [
    "## Replacing Values\n",
    "\n",
    "Another way to handle specific “dirty” values is to replace them selectively by “clean” values on a case-by-case basis. \n",
    "\n",
    "The *replace(val_or_list,new_val)* function replaces one value or a list of values by another value or a list of values.\n",
    "\n",
    "\n",
    "## Combining Data\n",
    "\n",
    "### Merging\n",
    "\n",
    "If both frames have a column with the same name (the key column), you can merge the frames on that column. \n",
    "\n",
    "The U.S. Census Bureau data is used to build a frame with the United States population as of July 1, 2009. In addition to the state-by-state data, the frame also has observations for Northwest, Midwest, West, South, and the United States as a whole.\n",
    "\n",
    "\n"
   ]
  },
  {
   "cell_type": "code",
   "execution_count": 57,
   "metadata": {
    "collapsed": false
   },
   "outputs": [
    {
     "data": {
      "text/html": [
       "<div>\n",
       "<table border=\"1\" class=\"dataframe\">\n",
       "  <thead>\n",
       "    <tr style=\"text-align: right;\">\n",
       "      <th></th>\n",
       "      <th>Population</th>\n",
       "    </tr>\n",
       "    <tr>\n",
       "      <th>State</th>\n",
       "      <th></th>\n",
       "    </tr>\n",
       "  </thead>\n",
       "  <tbody>\n",
       "    <tr>\n",
       "      <th>Alabama</th>\n",
       "      <td>4708708</td>\n",
       "    </tr>\n",
       "    <tr>\n",
       "      <th>Alaska</th>\n",
       "      <td>698473</td>\n",
       "    </tr>\n",
       "    <tr>\n",
       "      <th>Arizona</th>\n",
       "      <td>6595778</td>\n",
       "    </tr>\n",
       "    <tr>\n",
       "      <th>Arkansas</th>\n",
       "      <td>2889450</td>\n",
       "    </tr>\n",
       "    <tr>\n",
       "      <th>California</th>\n",
       "      <td>36961664</td>\n",
       "    </tr>\n",
       "    <tr>\n",
       "      <th>Colorado</th>\n",
       "      <td>5024748</td>\n",
       "    </tr>\n",
       "    <tr>\n",
       "      <th>Connecticut</th>\n",
       "      <td>3518288</td>\n",
       "    </tr>\n",
       "    <tr>\n",
       "      <th>Delaware</th>\n",
       "      <td>885122</td>\n",
       "    </tr>\n",
       "    <tr>\n",
       "      <th>District of Columbia</th>\n",
       "      <td>599657</td>\n",
       "    </tr>\n",
       "    <tr>\n",
       "      <th>Florida</th>\n",
       "      <td>18537969</td>\n",
       "    </tr>\n",
       "  </tbody>\n",
       "</table>\n",
       "</div>"
      ],
      "text/plain": [
       "                      Population\n",
       "State                           \n",
       "Alabama                  4708708\n",
       "Alaska                    698473\n",
       "Arizona                  6595778\n",
       "Arkansas                 2889450\n",
       "California              36961664\n",
       "Colorado                 5024748\n",
       "Connecticut              3518288\n",
       "Delaware                  885122\n",
       "District of Columbia      599657\n",
       "Florida                 18537969"
      ]
     },
     "execution_count": 57,
     "metadata": {},
     "output_type": "execute_result"
    }
   ],
   "source": [
    "# the first frame\n",
    "population =pd.DataFrame ( { \"Population\" : (4708708,698473,6595778,2889450,36961664,5024748,3518288,885122,599657, \\\n",
    "                                            18537969,9829211,1295178,1545801,12910409,6423113,3007856,2818747, \\\n",
    "                                            4314113,4492076,1318301,5699478,6593587,9969727,5266214,2951996,5987580, \\\n",
    "                                            974989,1796619,2643085,1324575,8707739,2009671,19541453,9380884,646844, \\\n",
    "                                            11542645,3687050,3825657,12604767,1053209,4561242,812383,6296254,24782302, \\\n",
    "                                            2784572,621760,7882590,6664195,1819777,5654774,544270)\n",
    "\n",
    "                         },\n",
    "                       index = (\"Alabama\",\"Alaska\",\"Arizona\",\"Arkansas\",\"California\",\"Colorado\",\"Connecticut\",\"Delaware\", \\\n",
    "                 \"District of Columbia\",\"Florida\",\"Georgia\",\"Hawaii\",\"Idaho\",\"Illinois\",\"Indiana\",\"Iowa\", \\\n",
    "                 \"Kansas\",\"Kentucky\",\"Louisiana\",\"Maine\",\"Maryland\",\"Massachusetts\",\"Michigan\",\"Minnesota\", \\\n",
    "                 \"Mississippi\",\"Missouri\",\"Montana\",\"Nebraska\",\"Nevada\",\"New Hampshire\",\"New Jersey\",\"New Mexico\", \\\n",
    "                 \"New York\",\"North Carolina\",\"North Dakota\",\"Ohio\",\"Oklahoma\",\"Oregon\",\"Pennsylvania\", \\\n",
    "                 \"Rhode Island\",\"South Carolina\",\"South Dakota\",\"Tennessee\",\"Texas\",\"Utah\",\"Vermont\",\"Virginia\", \\\n",
    "                 \"Washington\",\"West Virginia\",\"Wisconsin\",\"Wyoming\" ))\n",
    "\n",
    "population.index.name = \"State\"\n",
    "\n",
    "population.head(10)\n"
   ]
  },
  {
   "cell_type": "code",
   "execution_count": 58,
   "metadata": {
    "collapsed": false
   },
   "outputs": [
    {
     "data": {
      "text/html": [
       "<div>\n",
       "<table border=\"1\" class=\"dataframe\">\n",
       "  <thead>\n",
       "    <tr style=\"text-align: right;\">\n",
       "      <th></th>\n",
       "      <th>Beer</th>\n",
       "      <th>Spirits</th>\n",
       "      <th>Wine</th>\n",
       "    </tr>\n",
       "    <tr>\n",
       "      <th>State</th>\n",
       "      <th></th>\n",
       "      <th></th>\n",
       "      <th></th>\n",
       "    </tr>\n",
       "  </thead>\n",
       "  <tbody>\n",
       "    <tr>\n",
       "      <th>Alabama</th>\n",
       "      <td>1.20</td>\n",
       "      <td>0.58</td>\n",
       "      <td>0.22</td>\n",
       "    </tr>\n",
       "    <tr>\n",
       "      <th>Alaska</th>\n",
       "      <td>1.31</td>\n",
       "      <td>1.16</td>\n",
       "      <td>0.54</td>\n",
       "    </tr>\n",
       "    <tr>\n",
       "      <th>Arizona</th>\n",
       "      <td>1.19</td>\n",
       "      <td>0.74</td>\n",
       "      <td>0.38</td>\n",
       "    </tr>\n",
       "    <tr>\n",
       "      <th>Arkansas</th>\n",
       "      <td>1.07</td>\n",
       "      <td>0.60</td>\n",
       "      <td>0.17</td>\n",
       "    </tr>\n",
       "    <tr>\n",
       "      <th>California</th>\n",
       "      <td>1.05</td>\n",
       "      <td>0.73</td>\n",
       "      <td>0.55</td>\n",
       "    </tr>\n",
       "    <tr>\n",
       "      <th>Colorado</th>\n",
       "      <td>1.22</td>\n",
       "      <td>1.00</td>\n",
       "      <td>0.46</td>\n",
       "    </tr>\n",
       "    <tr>\n",
       "      <th>Connecticut</th>\n",
       "      <td>0.89</td>\n",
       "      <td>0.86</td>\n",
       "      <td>0.59</td>\n",
       "    </tr>\n",
       "    <tr>\n",
       "      <th>Delaware</th>\n",
       "      <td>1.31</td>\n",
       "      <td>1.25</td>\n",
       "      <td>0.57</td>\n",
       "    </tr>\n",
       "    <tr>\n",
       "      <th>District of Columbia</th>\n",
       "      <td>1.26</td>\n",
       "      <td>1.64</td>\n",
       "      <td>1.00</td>\n",
       "    </tr>\n",
       "    <tr>\n",
       "      <th>Florida</th>\n",
       "      <td>1.21</td>\n",
       "      <td>0.92</td>\n",
       "      <td>0.48</td>\n",
       "    </tr>\n",
       "  </tbody>\n",
       "</table>\n",
       "</div>"
      ],
      "text/plain": [
       "                      Beer  Spirits  Wine\n",
       "State                                    \n",
       "Alabama               1.20     0.58  0.22\n",
       "Alaska                1.31     1.16  0.54\n",
       "Arizona               1.19     0.74  0.38\n",
       "Arkansas              1.07     0.60  0.17\n",
       "California            1.05     0.73  0.55\n",
       "Colorado              1.22     1.00  0.46\n",
       "Connecticut           0.89     0.86  0.59\n",
       "Delaware              1.31     1.25  0.57\n",
       "District of Columbia  1.26     1.64  1.00\n",
       "Florida               1.21     0.92  0.48"
      ]
     },
     "execution_count": 58,
     "metadata": {},
     "output_type": "execute_result"
    }
   ],
   "source": [
    "# the second frame \n",
    "alco2009=pd.DataFrame ( { \"Beer\" : (1.2,1.31,1.19,1.07,1.05,1.22,0.89,1.31,1.26,1.21,1.08,1.3,1.05,1.22,1.09,1.42,1.18, \\\n",
    "                                    1.11,1.5,1.24,0.97,1.02,1.1,1.19,1.41,1.3,1.66,1.46,1.57,1.72,0.92,1.37,0.91,1.1,1.63, \\\n",
    "                                    1.28,1.18,1.28,1.35,1.1,1.36,1.53,1.05,1.42,0.7,1.36,1.11,1.09,1.24,1.49,1.45),\n",
    "                          \"Wine\" : (0.22,0.54,0.38,0.17,0.55,0.46,0.59,0.57,1,0.48,0.25,0.53,0.92,0.39,0.25,0.18,0.14,0.18, \\\n",
    "                                    0.28,0.42,0.37,0.61,0.31,0.37,0.11,0.3,0.45,0.2,0.58,0.84,0.57,0.32,0.46,0.34,0.25, \\\n",
    "                                    0.26,0.18,0.49,0.23,0.53,0.24,0.22,0.21,0.28,0.17,0.63,0.43,0.51,0.1,0.31,0.22),\n",
    "                          \"Spirits\" :(0.58,1.16,0.74,0.6,0.73,1,0.86,1.25,1.64,0.92,0.64,0.75,0.7,0.73,0.73,0.72,0.67, \\\n",
    "                                      0.65,0.85,0.83,0.87,0.84,0.8,1.04,0.71,0.83,0.88,0.68,1.15,1.82,0.87,0.74,0.69,0.58, \\\n",
    "                                      1.16,0.47,0.58,0.82,0.61,0.92,0.77,0.88,0.57,0.58,0.46,0.7,0.59,0.74,0.45,1.16,1.1) \n",
    "                         },\n",
    "                       index = (\"Alabama\",\"Alaska\",\"Arizona\",\"Arkansas\",\"California\",\"Colorado\",\"Connecticut\",\"Delaware\", \\\n",
    "                 \"District of Columbia\",\"Florida\",\"Georgia\",\"Hawaii\",\"Idaho\",\"Illinois\",\"Indiana\",\"Iowa\", \\\n",
    "                 \"Kansas\",\"Kentucky\",\"Louisiana\",\"Maine\",\"Maryland\",\"Massachusetts\",\"Michigan\",\"Minnesota\", \\\n",
    "                 \"Mississippi\",\"Missouri\",\"Montana\",\"Nebraska\",\"Nevada\",\"New Hampshire\",\"New Jersey\",\"New Mexico\", \\\n",
    "                 \"New York\",\"North Carolina\",\"North Dakota\",\"Ohio\",\"Oklahoma\",\"Oregon\",\"Pennsylvania\", \\\n",
    "                 \"Rhode Island\",\"South Carolina\",\"South Dakota\",\"Tennessee\",\"Texas\",\"Utah\",\"Vermont\",\"Virginia\", \\\n",
    "                 \"Washington\",\"West Virginia\",\"Wisconsin\",\"Wyoming\" ))\n",
    "\n",
    "alco2009.index.name=\"State\"\n",
    "                       \n",
    "alco2009.head(10)"
   ]
  },
  {
   "cell_type": "markdown",
   "metadata": {},
   "source": [
    "Because both population and alco2009 are indexed by “State,” you can remove the indexes, merge both frames on all common columns, and observe population side-by-side with alcohol consumption:\n"
   ]
  },
  {
   "cell_type": "code",
   "execution_count": 59,
   "metadata": {
    "collapsed": false
   },
   "outputs": [
    {
     "data": {
      "text/html": [
       "<div>\n",
       "<table border=\"1\" class=\"dataframe\">\n",
       "  <thead>\n",
       "    <tr style=\"text-align: right;\">\n",
       "      <th></th>\n",
       "      <th>Beer</th>\n",
       "      <th>Spirits</th>\n",
       "      <th>Wine</th>\n",
       "      <th>Population</th>\n",
       "    </tr>\n",
       "    <tr>\n",
       "      <th>State</th>\n",
       "      <th></th>\n",
       "      <th></th>\n",
       "      <th></th>\n",
       "      <th></th>\n",
       "    </tr>\n",
       "  </thead>\n",
       "  <tbody>\n",
       "    <tr>\n",
       "      <th>Alabama</th>\n",
       "      <td>1.20</td>\n",
       "      <td>0.58</td>\n",
       "      <td>0.22</td>\n",
       "      <td>4708708</td>\n",
       "    </tr>\n",
       "    <tr>\n",
       "      <th>Alaska</th>\n",
       "      <td>1.31</td>\n",
       "      <td>1.16</td>\n",
       "      <td>0.54</td>\n",
       "      <td>698473</td>\n",
       "    </tr>\n",
       "    <tr>\n",
       "      <th>Arizona</th>\n",
       "      <td>1.19</td>\n",
       "      <td>0.74</td>\n",
       "      <td>0.38</td>\n",
       "      <td>6595778</td>\n",
       "    </tr>\n",
       "    <tr>\n",
       "      <th>Arkansas</th>\n",
       "      <td>1.07</td>\n",
       "      <td>0.60</td>\n",
       "      <td>0.17</td>\n",
       "      <td>2889450</td>\n",
       "    </tr>\n",
       "    <tr>\n",
       "      <th>California</th>\n",
       "      <td>1.05</td>\n",
       "      <td>0.73</td>\n",
       "      <td>0.55</td>\n",
       "      <td>36961664</td>\n",
       "    </tr>\n",
       "  </tbody>\n",
       "</table>\n",
       "</div>"
      ],
      "text/plain": [
       "            Beer  Spirits  Wine  Population\n",
       "State                                      \n",
       "Alabama     1.20     0.58  0.22     4708708\n",
       "Alaska      1.31     1.16  0.54      698473\n",
       "Arizona     1.19     0.74  0.38     6595778\n",
       "Arkansas    1.07     0.60  0.17     2889450\n",
       "California  1.05     0.73  0.55    36961664"
      ]
     },
     "execution_count": 59,
     "metadata": {},
     "output_type": "execute_result"
    }
   ],
   "source": [
    "# remove the index\n",
    "# merge both frames on all common columns\n",
    "# reindex on State\n",
    "df = pd.merge(alco2009.reset_index(), population.reset_index()).set_index(\"State\")\n",
    "df.head()\n"
   ]
  },
  {
   "cell_type": "markdown",
   "metadata": {},
   "source": [
    "If you want to merge on indexes rather than general columns, use optional parameters left_index=True and/or right_index=True.\n",
    "\n",
    "The result of the following statement is the same as the one previous, but the default sorting order may be different:\n"
   ]
  },
  {
   "cell_type": "code",
   "execution_count": 60,
   "metadata": {
    "collapsed": false
   },
   "outputs": [
    {
     "data": {
      "text/html": [
       "<div>\n",
       "<table border=\"1\" class=\"dataframe\">\n",
       "  <thead>\n",
       "    <tr style=\"text-align: right;\">\n",
       "      <th></th>\n",
       "      <th>Beer</th>\n",
       "      <th>Spirits</th>\n",
       "      <th>Wine</th>\n",
       "      <th>Population</th>\n",
       "    </tr>\n",
       "    <tr>\n",
       "      <th>State</th>\n",
       "      <th></th>\n",
       "      <th></th>\n",
       "      <th></th>\n",
       "      <th></th>\n",
       "    </tr>\n",
       "  </thead>\n",
       "  <tbody>\n",
       "    <tr>\n",
       "      <th>Alabama</th>\n",
       "      <td>1.20</td>\n",
       "      <td>0.58</td>\n",
       "      <td>0.22</td>\n",
       "      <td>4708708</td>\n",
       "    </tr>\n",
       "    <tr>\n",
       "      <th>Alaska</th>\n",
       "      <td>1.31</td>\n",
       "      <td>1.16</td>\n",
       "      <td>0.54</td>\n",
       "      <td>698473</td>\n",
       "    </tr>\n",
       "    <tr>\n",
       "      <th>Arizona</th>\n",
       "      <td>1.19</td>\n",
       "      <td>0.74</td>\n",
       "      <td>0.38</td>\n",
       "      <td>6595778</td>\n",
       "    </tr>\n",
       "    <tr>\n",
       "      <th>Arkansas</th>\n",
       "      <td>1.07</td>\n",
       "      <td>0.60</td>\n",
       "      <td>0.17</td>\n",
       "      <td>2889450</td>\n",
       "    </tr>\n",
       "    <tr>\n",
       "      <th>California</th>\n",
       "      <td>1.05</td>\n",
       "      <td>0.73</td>\n",
       "      <td>0.55</td>\n",
       "      <td>36961664</td>\n",
       "    </tr>\n",
       "  </tbody>\n",
       "</table>\n",
       "</div>"
      ],
      "text/plain": [
       "            Beer  Spirits  Wine  Population\n",
       "State                                      \n",
       "Alabama     1.20     0.58  0.22     4708708\n",
       "Alaska      1.31     1.16  0.54      698473\n",
       "Arizona     1.19     0.74  0.38     6595778\n",
       "Arkansas    1.07     0.60  0.17     2889450\n",
       "California  1.05     0.73  0.55    36961664"
      ]
     },
     "execution_count": 60,
     "metadata": {},
     "output_type": "execute_result"
    }
   ],
   "source": [
    "df = pd.merge(alco2009, population, left_index=True, right_index=True)\n",
    "df.head()\n"
   ]
  },
  {
   "cell_type": "markdown",
   "metadata": {},
   "source": [
    "If both indexes are designated as keys, you can use join() instead of merge():\n"
   ]
  },
  {
   "cell_type": "code",
   "execution_count": 61,
   "metadata": {
    "collapsed": false
   },
   "outputs": [
    {
     "data": {
      "text/html": [
       "<div>\n",
       "<table border=\"1\" class=\"dataframe\">\n",
       "  <thead>\n",
       "    <tr style=\"text-align: right;\">\n",
       "      <th></th>\n",
       "      <th>Population</th>\n",
       "      <th>Beer</th>\n",
       "      <th>Spirits</th>\n",
       "      <th>Wine</th>\n",
       "    </tr>\n",
       "    <tr>\n",
       "      <th>State</th>\n",
       "      <th></th>\n",
       "      <th></th>\n",
       "      <th></th>\n",
       "      <th></th>\n",
       "    </tr>\n",
       "  </thead>\n",
       "  <tbody>\n",
       "    <tr>\n",
       "      <th>South Dakota</th>\n",
       "      <td>812383</td>\n",
       "      <td>1.53</td>\n",
       "      <td>0.88</td>\n",
       "      <td>0.22</td>\n",
       "    </tr>\n",
       "    <tr>\n",
       "      <th>Tennessee</th>\n",
       "      <td>6296254</td>\n",
       "      <td>1.05</td>\n",
       "      <td>0.57</td>\n",
       "      <td>0.21</td>\n",
       "    </tr>\n",
       "    <tr>\n",
       "      <th>Texas</th>\n",
       "      <td>24782302</td>\n",
       "      <td>1.42</td>\n",
       "      <td>0.58</td>\n",
       "      <td>0.28</td>\n",
       "    </tr>\n",
       "    <tr>\n",
       "      <th>Utah</th>\n",
       "      <td>2784572</td>\n",
       "      <td>0.70</td>\n",
       "      <td>0.46</td>\n",
       "      <td>0.17</td>\n",
       "    </tr>\n",
       "    <tr>\n",
       "      <th>Vermont</th>\n",
       "      <td>621760</td>\n",
       "      <td>1.36</td>\n",
       "      <td>0.70</td>\n",
       "      <td>0.63</td>\n",
       "    </tr>\n",
       "    <tr>\n",
       "      <th>Virginia</th>\n",
       "      <td>7882590</td>\n",
       "      <td>1.11</td>\n",
       "      <td>0.59</td>\n",
       "      <td>0.43</td>\n",
       "    </tr>\n",
       "    <tr>\n",
       "      <th>Washington</th>\n",
       "      <td>6664195</td>\n",
       "      <td>1.09</td>\n",
       "      <td>0.74</td>\n",
       "      <td>0.51</td>\n",
       "    </tr>\n",
       "    <tr>\n",
       "      <th>West Virginia</th>\n",
       "      <td>1819777</td>\n",
       "      <td>1.24</td>\n",
       "      <td>0.45</td>\n",
       "      <td>0.10</td>\n",
       "    </tr>\n",
       "    <tr>\n",
       "      <th>Wisconsin</th>\n",
       "      <td>5654774</td>\n",
       "      <td>1.49</td>\n",
       "      <td>1.16</td>\n",
       "      <td>0.31</td>\n",
       "    </tr>\n",
       "    <tr>\n",
       "      <th>Wyoming</th>\n",
       "      <td>544270</td>\n",
       "      <td>1.45</td>\n",
       "      <td>1.10</td>\n",
       "      <td>0.22</td>\n",
       "    </tr>\n",
       "  </tbody>\n",
       "</table>\n",
       "</div>"
      ],
      "text/plain": [
       "               Population  Beer  Spirits  Wine\n",
       "State                                         \n",
       "South Dakota       812383  1.53     0.88  0.22\n",
       "Tennessee         6296254  1.05     0.57  0.21\n",
       "Texas            24782302  1.42     0.58  0.28\n",
       "Utah              2784572  0.70     0.46  0.17\n",
       "Vermont            621760  1.36     0.70  0.63\n",
       "Virginia          7882590  1.11     0.59  0.43\n",
       "Washington        6664195  1.09     0.74  0.51\n",
       "West Virginia     1819777  1.24     0.45  0.10\n",
       "Wisconsin         5654774  1.49     1.16  0.31\n",
       "Wyoming            544270  1.45     1.10  0.22"
      ]
     },
     "execution_count": 61,
     "metadata": {},
     "output_type": "execute_result"
    }
   ],
   "source": [
    "population.join(alco2009).tail(10)\n"
   ]
  },
  {
   "cell_type": "markdown",
   "metadata": {},
   "source": [
    "Both functions join() and merge() take an optional parameter how with the acceptable values of \"left\" (default for join()), \"right\", \"inner\" (default for merge()), or \"outer\". \n",
    "+ Left join uses the calling (left) frame’s index. \n",
    "+ Right join uses the parameter (right) frame’s index. \n",
    "+ Outer join uses the union of the indexes.\n",
    "+ Inner join uses the intersection of the indexes.\n"
   ]
  },
  {
   "cell_type": "markdown",
   "metadata": {
    "collapsed": true
   },
   "source": [
    "### Concatenating\n",
    "The *concat()* function concatenates a list of frames by placing them next to each other in one of the dimensions, “vertical” (axis=0, default) or “horizontal” (axis=1), and returns a new frame:\n"
   ]
  },
  {
   "cell_type": "code",
   "execution_count": 62,
   "metadata": {
    "collapsed": false
   },
   "outputs": [
    {
     "data": {
      "text/html": [
       "<div>\n",
       "<table border=\"1\" class=\"dataframe\">\n",
       "  <thead>\n",
       "    <tr style=\"text-align: right;\">\n",
       "      <th></th>\n",
       "      <th>Beer</th>\n",
       "      <th>Spirits</th>\n",
       "      <th>Wine</th>\n",
       "      <th>Population</th>\n",
       "    </tr>\n",
       "    <tr>\n",
       "      <th>State</th>\n",
       "      <th></th>\n",
       "      <th></th>\n",
       "      <th></th>\n",
       "      <th></th>\n",
       "    </tr>\n",
       "  </thead>\n",
       "  <tbody>\n",
       "    <tr>\n",
       "      <th>Virginia</th>\n",
       "      <td>1.11</td>\n",
       "      <td>0.59</td>\n",
       "      <td>0.43</td>\n",
       "      <td>7882590</td>\n",
       "    </tr>\n",
       "    <tr>\n",
       "      <th>Washington</th>\n",
       "      <td>1.09</td>\n",
       "      <td>0.74</td>\n",
       "      <td>0.51</td>\n",
       "      <td>6664195</td>\n",
       "    </tr>\n",
       "    <tr>\n",
       "      <th>West Virginia</th>\n",
       "      <td>1.24</td>\n",
       "      <td>0.45</td>\n",
       "      <td>0.10</td>\n",
       "      <td>1819777</td>\n",
       "    </tr>\n",
       "    <tr>\n",
       "      <th>Wisconsin</th>\n",
       "      <td>1.49</td>\n",
       "      <td>1.16</td>\n",
       "      <td>0.31</td>\n",
       "      <td>5654774</td>\n",
       "    </tr>\n",
       "    <tr>\n",
       "      <th>Wyoming</th>\n",
       "      <td>1.45</td>\n",
       "      <td>1.10</td>\n",
       "      <td>0.22</td>\n",
       "      <td>544270</td>\n",
       "    </tr>\n",
       "  </tbody>\n",
       "</table>\n",
       "</div>"
      ],
      "text/plain": [
       "               Beer  Spirits  Wine  Population\n",
       "State                                         \n",
       "Virginia       1.11     0.59  0.43     7882590\n",
       "Washington     1.09     0.74  0.51     6664195\n",
       "West Virginia  1.24     0.45  0.10     1819777\n",
       "Wisconsin      1.49     1.16  0.31     5654774\n",
       "Wyoming        1.45     1.10  0.22      544270"
      ]
     },
     "execution_count": 62,
     "metadata": {},
     "output_type": "execute_result"
    }
   ],
   "source": [
    "pd.concat([alco2009, population], axis=1).tail()\n"
   ]
  },
  {
   "cell_type": "markdown",
   "metadata": {},
   "source": [
    "Let’s use data from the Statistics Canada Web Site to create a frame that has the population of Canadian provinces in 2011. Now we can create a new frame that describes both North American countries in a properly indexed way. (Remember that the US frame is two years older than the Canadian one.)\n"
   ]
  },
  {
   "cell_type": "code",
   "execution_count": 63,
   "metadata": {
    "collapsed": false
   },
   "outputs": [
    {
     "data": {
      "text/html": [
       "<div>\n",
       "<table border=\"1\" class=\"dataframe\">\n",
       "  <thead>\n",
       "    <tr style=\"text-align: right;\">\n",
       "      <th></th>\n",
       "      <th>Population</th>\n",
       "    </tr>\n",
       "  </thead>\n",
       "  <tbody>\n",
       "    <tr>\n",
       "      <th>Newfoundland and Labrador</th>\n",
       "      <td>5250</td>\n",
       "    </tr>\n",
       "    <tr>\n",
       "      <th>Prince Edward Island</th>\n",
       "      <td>1440</td>\n",
       "    </tr>\n",
       "    <tr>\n",
       "      <th>Nova Scotia</th>\n",
       "      <td>944500</td>\n",
       "    </tr>\n",
       "    <tr>\n",
       "      <th>New Brunswick</th>\n",
       "      <td>755500</td>\n",
       "    </tr>\n",
       "    <tr>\n",
       "      <th>Quebec</th>\n",
       "      <td>8007700</td>\n",
       "    </tr>\n",
       "    <tr>\n",
       "      <th>Ontario</th>\n",
       "      <td>13263500</td>\n",
       "    </tr>\n",
       "    <tr>\n",
       "      <th>Manitoba</th>\n",
       "      <td>1233700</td>\n",
       "    </tr>\n",
       "    <tr>\n",
       "      <th>Saskatchewan</th>\n",
       "      <td>1066300</td>\n",
       "    </tr>\n",
       "    <tr>\n",
       "      <th>Alberta</th>\n",
       "      <td>3790200</td>\n",
       "    </tr>\n",
       "    <tr>\n",
       "      <th>British Columbia</th>\n",
       "      <td>4499100</td>\n",
       "    </tr>\n",
       "    <tr>\n",
       "      <th>Yukon</th>\n",
       "      <td>354900</td>\n",
       "    </tr>\n",
       "    <tr>\n",
       "      <th>Northwest Territories</th>\n",
       "      <td>43500</td>\n",
       "    </tr>\n",
       "    <tr>\n",
       "      <th>Nunavut</th>\n",
       "      <td>34200</td>\n",
       "    </tr>\n",
       "  </tbody>\n",
       "</table>\n",
       "</div>"
      ],
      "text/plain": [
       "                           Population\n",
       "Newfoundland and Labrador        5250\n",
       "Prince Edward Island             1440\n",
       "Nova Scotia                    944500\n",
       "New Brunswick                  755500\n",
       "Quebec                        8007700\n",
       "Ontario                      13263500\n",
       "Manitoba                      1233700\n",
       "Saskatchewan                  1066300\n",
       "Alberta                       3790200\n",
       "British Columbia              4499100\n",
       "Yukon                          354900\n",
       "Northwest Territories           43500\n",
       "Nunavut                         34200"
      ]
     },
     "execution_count": 63,
     "metadata": {},
     "output_type": "execute_result"
    }
   ],
   "source": [
    "pop_ca = pd.DataFrame ({ \"Population\": \n",
    "        (5250,1440,944500,755500,8007700,13263500,1233700,1066300,3790200,4499100,354900,43500,34200)\n",
    "        },\n",
    "        index = (\"Newfoundland and Labrador\",\"Prince Edward Island\",\"Nova Scotia\",\"New Brunswick\", \\\n",
    "                 \"Quebec\",\"Ontario\",\"Manitoba\",\"Saskatchewan\",\"Alberta\",\"British Columbia\",\"Yukon\", \\\n",
    "                 \"Northwest Territories\",\"Nunavut\"))\n",
    "    \n",
    "pop_ca"
   ]
  },
  {
   "cell_type": "code",
   "execution_count": 64,
   "metadata": {
    "collapsed": false
   },
   "outputs": [
    {
     "data": {
      "text/html": [
       "<div>\n",
       "<table border=\"1\" class=\"dataframe\">\n",
       "  <thead>\n",
       "    <tr style=\"text-align: right;\">\n",
       "      <th></th>\n",
       "      <th></th>\n",
       "      <th>Population</th>\n",
       "    </tr>\n",
       "    <tr>\n",
       "      <th>Country</th>\n",
       "      <th>State</th>\n",
       "      <th></th>\n",
       "    </tr>\n",
       "  </thead>\n",
       "  <tbody>\n",
       "    <tr>\n",
       "      <th rowspan=\"48\" valign=\"top\">US</th>\n",
       "      <th>Alabama</th>\n",
       "      <td>4708708</td>\n",
       "    </tr>\n",
       "    <tr>\n",
       "      <th>Alaska</th>\n",
       "      <td>698473</td>\n",
       "    </tr>\n",
       "    <tr>\n",
       "      <th>Arizona</th>\n",
       "      <td>6595778</td>\n",
       "    </tr>\n",
       "    <tr>\n",
       "      <th>Arkansas</th>\n",
       "      <td>2889450</td>\n",
       "    </tr>\n",
       "    <tr>\n",
       "      <th>California</th>\n",
       "      <td>36961664</td>\n",
       "    </tr>\n",
       "    <tr>\n",
       "      <th>Colorado</th>\n",
       "      <td>5024748</td>\n",
       "    </tr>\n",
       "    <tr>\n",
       "      <th>Connecticut</th>\n",
       "      <td>3518288</td>\n",
       "    </tr>\n",
       "    <tr>\n",
       "      <th>Delaware</th>\n",
       "      <td>885122</td>\n",
       "    </tr>\n",
       "    <tr>\n",
       "      <th>District of Columbia</th>\n",
       "      <td>599657</td>\n",
       "    </tr>\n",
       "    <tr>\n",
       "      <th>Florida</th>\n",
       "      <td>18537969</td>\n",
       "    </tr>\n",
       "    <tr>\n",
       "      <th>Georgia</th>\n",
       "      <td>9829211</td>\n",
       "    </tr>\n",
       "    <tr>\n",
       "      <th>Hawaii</th>\n",
       "      <td>1295178</td>\n",
       "    </tr>\n",
       "    <tr>\n",
       "      <th>Idaho</th>\n",
       "      <td>1545801</td>\n",
       "    </tr>\n",
       "    <tr>\n",
       "      <th>Illinois</th>\n",
       "      <td>12910409</td>\n",
       "    </tr>\n",
       "    <tr>\n",
       "      <th>Indiana</th>\n",
       "      <td>6423113</td>\n",
       "    </tr>\n",
       "    <tr>\n",
       "      <th>Iowa</th>\n",
       "      <td>3007856</td>\n",
       "    </tr>\n",
       "    <tr>\n",
       "      <th>Kansas</th>\n",
       "      <td>2818747</td>\n",
       "    </tr>\n",
       "    <tr>\n",
       "      <th>Kentucky</th>\n",
       "      <td>4314113</td>\n",
       "    </tr>\n",
       "    <tr>\n",
       "      <th>Louisiana</th>\n",
       "      <td>4492076</td>\n",
       "    </tr>\n",
       "    <tr>\n",
       "      <th>Maine</th>\n",
       "      <td>1318301</td>\n",
       "    </tr>\n",
       "    <tr>\n",
       "      <th>Maryland</th>\n",
       "      <td>5699478</td>\n",
       "    </tr>\n",
       "    <tr>\n",
       "      <th>Massachusetts</th>\n",
       "      <td>6593587</td>\n",
       "    </tr>\n",
       "    <tr>\n",
       "      <th>Michigan</th>\n",
       "      <td>9969727</td>\n",
       "    </tr>\n",
       "    <tr>\n",
       "      <th>Minnesota</th>\n",
       "      <td>5266214</td>\n",
       "    </tr>\n",
       "    <tr>\n",
       "      <th>Mississippi</th>\n",
       "      <td>2951996</td>\n",
       "    </tr>\n",
       "    <tr>\n",
       "      <th>Missouri</th>\n",
       "      <td>5987580</td>\n",
       "    </tr>\n",
       "    <tr>\n",
       "      <th>Montana</th>\n",
       "      <td>974989</td>\n",
       "    </tr>\n",
       "    <tr>\n",
       "      <th>Nebraska</th>\n",
       "      <td>1796619</td>\n",
       "    </tr>\n",
       "    <tr>\n",
       "      <th>Nevada</th>\n",
       "      <td>2643085</td>\n",
       "    </tr>\n",
       "    <tr>\n",
       "      <th>New Hampshire</th>\n",
       "      <td>1324575</td>\n",
       "    </tr>\n",
       "    <tr>\n",
       "      <th>...</th>\n",
       "      <td>...</td>\n",
       "    </tr>\n",
       "    <tr>\n",
       "      <th>North Dakota</th>\n",
       "      <td>646844</td>\n",
       "    </tr>\n",
       "    <tr>\n",
       "      <th>Ohio</th>\n",
       "      <td>11542645</td>\n",
       "    </tr>\n",
       "    <tr>\n",
       "      <th>Oklahoma</th>\n",
       "      <td>3687050</td>\n",
       "    </tr>\n",
       "    <tr>\n",
       "      <th>Oregon</th>\n",
       "      <td>3825657</td>\n",
       "    </tr>\n",
       "    <tr>\n",
       "      <th>Pennsylvania</th>\n",
       "      <td>12604767</td>\n",
       "    </tr>\n",
       "    <tr>\n",
       "      <th>Rhode Island</th>\n",
       "      <td>1053209</td>\n",
       "    </tr>\n",
       "    <tr>\n",
       "      <th>South Carolina</th>\n",
       "      <td>4561242</td>\n",
       "    </tr>\n",
       "    <tr>\n",
       "      <th>South Dakota</th>\n",
       "      <td>812383</td>\n",
       "    </tr>\n",
       "    <tr>\n",
       "      <th>Tennessee</th>\n",
       "      <td>6296254</td>\n",
       "    </tr>\n",
       "    <tr>\n",
       "      <th>Texas</th>\n",
       "      <td>24782302</td>\n",
       "    </tr>\n",
       "    <tr>\n",
       "      <th>Utah</th>\n",
       "      <td>2784572</td>\n",
       "    </tr>\n",
       "    <tr>\n",
       "      <th>Vermont</th>\n",
       "      <td>621760</td>\n",
       "    </tr>\n",
       "    <tr>\n",
       "      <th>Virginia</th>\n",
       "      <td>7882590</td>\n",
       "    </tr>\n",
       "    <tr>\n",
       "      <th>Washington</th>\n",
       "      <td>6664195</td>\n",
       "    </tr>\n",
       "    <tr>\n",
       "      <th>West Virginia</th>\n",
       "      <td>1819777</td>\n",
       "    </tr>\n",
       "    <tr>\n",
       "      <th>Wisconsin</th>\n",
       "      <td>5654774</td>\n",
       "    </tr>\n",
       "    <tr>\n",
       "      <th>Wyoming</th>\n",
       "      <td>544270</td>\n",
       "    </tr>\n",
       "    <tr>\n",
       "      <th rowspan=\"13\" valign=\"top\">CA</th>\n",
       "      <th>Newfoundland and Labrador</th>\n",
       "      <td>5250</td>\n",
       "    </tr>\n",
       "    <tr>\n",
       "      <th>Prince Edward Island</th>\n",
       "      <td>1440</td>\n",
       "    </tr>\n",
       "    <tr>\n",
       "      <th>Nova Scotia</th>\n",
       "      <td>944500</td>\n",
       "    </tr>\n",
       "    <tr>\n",
       "      <th>New Brunswick</th>\n",
       "      <td>755500</td>\n",
       "    </tr>\n",
       "    <tr>\n",
       "      <th>Quebec</th>\n",
       "      <td>8007700</td>\n",
       "    </tr>\n",
       "    <tr>\n",
       "      <th>Ontario</th>\n",
       "      <td>13263500</td>\n",
       "    </tr>\n",
       "    <tr>\n",
       "      <th>Manitoba</th>\n",
       "      <td>1233700</td>\n",
       "    </tr>\n",
       "    <tr>\n",
       "      <th>Saskatchewan</th>\n",
       "      <td>1066300</td>\n",
       "    </tr>\n",
       "    <tr>\n",
       "      <th>Alberta</th>\n",
       "      <td>3790200</td>\n",
       "    </tr>\n",
       "    <tr>\n",
       "      <th>British Columbia</th>\n",
       "      <td>4499100</td>\n",
       "    </tr>\n",
       "    <tr>\n",
       "      <th>Yukon</th>\n",
       "      <td>354900</td>\n",
       "    </tr>\n",
       "    <tr>\n",
       "      <th>Northwest Territories</th>\n",
       "      <td>43500</td>\n",
       "    </tr>\n",
       "    <tr>\n",
       "      <th>Nunavut</th>\n",
       "      <td>34200</td>\n",
       "    </tr>\n",
       "  </tbody>\n",
       "</table>\n",
       "<p>64 rows × 1 columns</p>\n",
       "</div>"
      ],
      "text/plain": [
       "                                   Population\n",
       "Country State                                \n",
       "US      Alabama                       4708708\n",
       "        Alaska                         698473\n",
       "        Arizona                       6595778\n",
       "        Arkansas                      2889450\n",
       "        California                   36961664\n",
       "        Colorado                      5024748\n",
       "        Connecticut                   3518288\n",
       "        Delaware                       885122\n",
       "        District of Columbia           599657\n",
       "        Florida                      18537969\n",
       "        Georgia                       9829211\n",
       "        Hawaii                        1295178\n",
       "        Idaho                         1545801\n",
       "        Illinois                     12910409\n",
       "        Indiana                       6423113\n",
       "        Iowa                          3007856\n",
       "        Kansas                        2818747\n",
       "        Kentucky                      4314113\n",
       "        Louisiana                     4492076\n",
       "        Maine                         1318301\n",
       "        Maryland                      5699478\n",
       "        Massachusetts                 6593587\n",
       "        Michigan                      9969727\n",
       "        Minnesota                     5266214\n",
       "        Mississippi                   2951996\n",
       "        Missouri                      5987580\n",
       "        Montana                        974989\n",
       "        Nebraska                      1796619\n",
       "        Nevada                        2643085\n",
       "        New Hampshire                 1324575\n",
       "...                                       ...\n",
       "        North Dakota                   646844\n",
       "        Ohio                         11542645\n",
       "        Oklahoma                      3687050\n",
       "        Oregon                        3825657\n",
       "        Pennsylvania                 12604767\n",
       "        Rhode Island                  1053209\n",
       "        South Carolina                4561242\n",
       "        South Dakota                   812383\n",
       "        Tennessee                     6296254\n",
       "        Texas                        24782302\n",
       "        Utah                          2784572\n",
       "        Vermont                        621760\n",
       "        Virginia                      7882590\n",
       "        Washington                    6664195\n",
       "        West Virginia                 1819777\n",
       "        Wisconsin                     5654774\n",
       "        Wyoming                        544270\n",
       "CA      Newfoundland and Labrador        5250\n",
       "        Prince Edward Island             1440\n",
       "        Nova Scotia                    944500\n",
       "        New Brunswick                  755500\n",
       "        Quebec                        8007700\n",
       "        Ontario                      13263500\n",
       "        Manitoba                      1233700\n",
       "        Saskatchewan                  1066300\n",
       "        Alberta                       3790200\n",
       "        British Columbia              4499100\n",
       "        Yukon                          354900\n",
       "        Northwest Territories           43500\n",
       "        Nunavut                         34200\n",
       "\n",
       "[64 rows x 1 columns]"
      ]
     },
     "execution_count": 64,
     "metadata": {},
     "output_type": "execute_result"
    }
   ],
   "source": [
    "pop_na = pd.concat([population, pop_ca], keys=[\"US\", \"CA\"])\n",
    "pop_na.index.names = (\"Country\", \"State\")\n",
    "pop_na\n"
   ]
  },
  {
   "cell_type": "markdown",
   "metadata": {},
   "source": [
    "### To Merge or to Concatenate?\n",
    "\n",
    "+ Both *merge()* and *concat()* combine two or more frames. \n",
    "\n",
    "+ Use *concat()* to combine frames that have similar content (such as populations of U.S. states and Canadian provinces: “apples to apples”). \n",
    "\n",
    "+ Use *merge()* to combine frames that have complementary content (such as populations and alcohol consumption rates: “apples to oranges”).\n"
   ]
  },
  {
   "cell_type": "markdown",
   "metadata": {},
   "source": [
    "### Deleting Duplicates\n",
    "\n",
    "+ The *duplicated([subset])* function returns a Boolean series denoting if each row in all or subset (a list of column names) columns is duplicated. \n",
    "\n",
    "+ The *drop_duplicates()* function returns a copy of a frame or series with duplicates from all or subset (a list of column names) columns removed. \n"
   ]
  },
  {
   "cell_type": "markdown",
   "metadata": {},
   "source": [
    "## Ordering and Describung Data\n",
    "\n",
    "### Sorting and Ranking\n",
    "\n",
    "Series and frames can be sorted by index or by value (values). \n",
    "\n",
    "#### The *sort_index()* function\n",
    "The *sort_index()* function returns a frame sorted by the index (it does not work for series). \n",
    "\n",
    "The sorting order is always lexicographic (numeric for numbers, alphabetic for strings), and you can use the ascending parameter (default True) to control it.\n",
    "\n",
    "The option inplace=True, as always, insists that pandas sorts the original frame.\n"
   ]
  },
  {
   "cell_type": "code",
   "execution_count": 65,
   "metadata": {
    "collapsed": false
   },
   "outputs": [
    {
     "data": {
      "text/html": [
       "<div>\n",
       "<table border=\"1\" class=\"dataframe\">\n",
       "  <thead>\n",
       "    <tr style=\"text-align: right;\">\n",
       "      <th></th>\n",
       "      <th>Population</th>\n",
       "    </tr>\n",
       "    <tr>\n",
       "      <th>State</th>\n",
       "      <th></th>\n",
       "    </tr>\n",
       "  </thead>\n",
       "  <tbody>\n",
       "    <tr>\n",
       "      <th>Alabama</th>\n",
       "      <td>4708708</td>\n",
       "    </tr>\n",
       "    <tr>\n",
       "      <th>Alaska</th>\n",
       "      <td>698473</td>\n",
       "    </tr>\n",
       "    <tr>\n",
       "      <th>Arizona</th>\n",
       "      <td>6595778</td>\n",
       "    </tr>\n",
       "    <tr>\n",
       "      <th>Arkansas</th>\n",
       "      <td>2889450</td>\n",
       "    </tr>\n",
       "    <tr>\n",
       "      <th>California</th>\n",
       "      <td>36961664</td>\n",
       "    </tr>\n",
       "  </tbody>\n",
       "</table>\n",
       "</div>"
      ],
      "text/plain": [
       "            Population\n",
       "State                 \n",
       "Alabama        4708708\n",
       "Alaska          698473\n",
       "Arizona        6595778\n",
       "Arkansas       2889450\n",
       "California    36961664"
      ]
     },
     "execution_count": 65,
     "metadata": {},
     "output_type": "execute_result"
    }
   ],
   "source": [
    "# the sort_index() function \n",
    "population.sort_index().head() "
   ]
  },
  {
   "cell_type": "markdown",
   "metadata": {},
   "source": [
    "#### The *sort_values()* function\n",
    "The *sort_values()* function returns a frame or a series sorted by values. \n",
    "\n",
    "In the case of a frame, the first parameter is a column name or a list of column names, and the optional parameter ascending can be a Boolean value or a list of Boolean values (one per column used for sorting). \n",
    "\n",
    "The parameter na_position (\"first\" or \"last\") specifies where to place the nans (at the beginning or at the end).\n"
   ]
  },
  {
   "cell_type": "code",
   "execution_count": 66,
   "metadata": {
    "collapsed": false
   },
   "outputs": [
    {
     "data": {
      "text/html": [
       "<div>\n",
       "<table border=\"1\" class=\"dataframe\">\n",
       "  <thead>\n",
       "    <tr style=\"text-align: right;\">\n",
       "      <th></th>\n",
       "      <th>Population</th>\n",
       "    </tr>\n",
       "    <tr>\n",
       "      <th>State</th>\n",
       "      <th></th>\n",
       "    </tr>\n",
       "  </thead>\n",
       "  <tbody>\n",
       "    <tr>\n",
       "      <th>Wyoming</th>\n",
       "      <td>544270</td>\n",
       "    </tr>\n",
       "    <tr>\n",
       "      <th>District of Columbia</th>\n",
       "      <td>599657</td>\n",
       "    </tr>\n",
       "    <tr>\n",
       "      <th>Vermont</th>\n",
       "      <td>621760</td>\n",
       "    </tr>\n",
       "    <tr>\n",
       "      <th>North Dakota</th>\n",
       "      <td>646844</td>\n",
       "    </tr>\n",
       "    <tr>\n",
       "      <th>Alaska</th>\n",
       "      <td>698473</td>\n",
       "    </tr>\n",
       "  </tbody>\n",
       "</table>\n",
       "</div>"
      ],
      "text/plain": [
       "                      Population\n",
       "State                           \n",
       "Wyoming                   544270\n",
       "District of Columbia      599657\n",
       "Vermont                   621760\n",
       "North Dakota              646844\n",
       "Alaska                    698473"
      ]
     },
     "execution_count": 66,
     "metadata": {},
     "output_type": "execute_result"
    }
   ],
   "source": [
    "# The sort_values() function \n",
    "population.sort_values(\"Population\").head()\n"
   ]
  },
  {
   "cell_type": "markdown",
   "metadata": {},
   "source": [
    "#### The *rank()* function\n",
    "The *rank()* function computes a frame or a series of numerical ranks for each frame or series value. \n",
    "\n",
    "If several values are equal, the function assigns them all the average rank. \n",
    "\n",
    "Boolean parameter numeric_only restricts ranking only to numeric values. \n",
    "\n",
    "The parameter na_option (\"top\", \"bottom\", or \"keep\") specifies how to treat nans: move them to the top or to the bottom of the result frame or keep them wherever they were in the original frame.\n"
   ]
  },
  {
   "cell_type": "code",
   "execution_count": 67,
   "metadata": {
    "collapsed": false
   },
   "outputs": [
    {
     "data": {
      "text/html": [
       "<div>\n",
       "<table border=\"1\" class=\"dataframe\">\n",
       "  <thead>\n",
       "    <tr style=\"text-align: right;\">\n",
       "      <th></th>\n",
       "      <th>Population</th>\n",
       "    </tr>\n",
       "    <tr>\n",
       "      <th>State</th>\n",
       "      <th></th>\n",
       "    </tr>\n",
       "  </thead>\n",
       "  <tbody>\n",
       "    <tr>\n",
       "      <th>Alabama</th>\n",
       "      <td>29.0</td>\n",
       "    </tr>\n",
       "    <tr>\n",
       "      <th>Alaska</th>\n",
       "      <td>5.0</td>\n",
       "    </tr>\n",
       "    <tr>\n",
       "      <th>Arizona</th>\n",
       "      <td>38.0</td>\n",
       "    </tr>\n",
       "    <tr>\n",
       "      <th>Arkansas</th>\n",
       "      <td>20.0</td>\n",
       "    </tr>\n",
       "    <tr>\n",
       "      <th>California</th>\n",
       "      <td>51.0</td>\n",
       "    </tr>\n",
       "  </tbody>\n",
       "</table>\n",
       "</div>"
      ],
      "text/plain": [
       "            Population\n",
       "State                 \n",
       "Alabama           29.0\n",
       "Alaska             5.0\n",
       "Arizona           38.0\n",
       "Arkansas          20.0\n",
       "California        51.0"
      ]
     },
     "execution_count": 67,
     "metadata": {},
     "output_type": "execute_result"
    }
   ],
   "source": [
    "# The rank function\n",
    "pop_by_state = population.sort_index()\n",
    "pop_by_state.rank().head()\n"
   ]
  },
  {
   "cell_type": "markdown",
   "metadata": {},
   "source": [
    "## Descriptive Statistics\n",
    "\n",
    "Descriptive statistical functions calculate *sum()*, *mean()*, *median()*, standard deviation *std()*, *count()*, *min()*, and *max()* of a series or each column in a frame.\n",
    "\n",
    "Each of them can take the Boolean parameter *skipna*, which specifies if nans must be excluded from the analysis, and axis, which tells the function which way to go (“vertically” or “horizontally”).\n"
   ]
  },
  {
   "cell_type": "code",
   "execution_count": 68,
   "metadata": {
    "collapsed": false
   },
   "outputs": [
    {
     "data": {
      "text/plain": [
       "Beer       1.72\n",
       "Spirits    1.82\n",
       "Wine       1.00\n",
       "dtype: float64"
      ]
     },
     "execution_count": 68,
     "metadata": {},
     "output_type": "execute_result"
    }
   ],
   "source": [
    "alco2009.max()\n"
   ]
  },
  {
   "cell_type": "code",
   "execution_count": 69,
   "metadata": {
    "collapsed": false
   },
   "outputs": [
    {
     "data": {
      "text/plain": [
       "State\n",
       "Alabama       0.22\n",
       "Alaska        0.54\n",
       "Arizona       0.38\n",
       "Arkansas      0.17\n",
       "California    0.55\n",
       "dtype: float64"
      ]
     },
     "execution_count": 69,
     "metadata": {},
     "output_type": "execute_result"
    }
   ],
   "source": [
    "alco2009.min(axis=1).head()\n"
   ]
  },
  {
   "cell_type": "code",
   "execution_count": 70,
   "metadata": {
    "collapsed": false
   },
   "outputs": [
    {
     "data": {
      "text/plain": [
       "Beer       63.22\n",
       "Spirits    41.81\n",
       "Wine       19.59\n",
       "dtype: float64"
      ]
     },
     "execution_count": 70,
     "metadata": {},
     "output_type": "execute_result"
    }
   ],
   "source": [
    "alco2009.sum()\n"
   ]
  },
  {
   "cell_type": "code",
   "execution_count": 71,
   "metadata": {
    "collapsed": false
   },
   "outputs": [
    {
     "data": {
      "text/html": [
       "<div>\n",
       "<table border=\"1\" class=\"dataframe\">\n",
       "  <thead>\n",
       "    <tr style=\"text-align: right;\">\n",
       "      <th></th>\n",
       "      <th>Beer</th>\n",
       "      <th>Spirits</th>\n",
       "      <th>Wine</th>\n",
       "    </tr>\n",
       "  </thead>\n",
       "  <tbody>\n",
       "    <tr>\n",
       "      <th>count</th>\n",
       "      <td>51.000000</td>\n",
       "      <td>51.000000</td>\n",
       "      <td>51.000000</td>\n",
       "    </tr>\n",
       "    <tr>\n",
       "      <th>mean</th>\n",
       "      <td>1.239608</td>\n",
       "      <td>0.819804</td>\n",
       "      <td>0.384118</td>\n",
       "    </tr>\n",
       "    <tr>\n",
       "      <th>std</th>\n",
       "      <td>0.210200</td>\n",
       "      <td>0.266732</td>\n",
       "      <td>0.201139</td>\n",
       "    </tr>\n",
       "    <tr>\n",
       "      <th>min</th>\n",
       "      <td>0.700000</td>\n",
       "      <td>0.450000</td>\n",
       "      <td>0.100000</td>\n",
       "    </tr>\n",
       "    <tr>\n",
       "      <th>25%</th>\n",
       "      <td>1.095000</td>\n",
       "      <td>0.660000</td>\n",
       "      <td>0.225000</td>\n",
       "    </tr>\n",
       "    <tr>\n",
       "      <th>50%</th>\n",
       "      <td>1.220000</td>\n",
       "      <td>0.740000</td>\n",
       "      <td>0.340000</td>\n",
       "    </tr>\n",
       "    <tr>\n",
       "      <th>75%</th>\n",
       "      <td>1.365000</td>\n",
       "      <td>0.880000</td>\n",
       "      <td>0.520000</td>\n",
       "    </tr>\n",
       "    <tr>\n",
       "      <th>max</th>\n",
       "      <td>1.720000</td>\n",
       "      <td>1.820000</td>\n",
       "      <td>1.000000</td>\n",
       "    </tr>\n",
       "  </tbody>\n",
       "</table>\n",
       "</div>"
      ],
      "text/plain": [
       "            Beer    Spirits       Wine\n",
       "count  51.000000  51.000000  51.000000\n",
       "mean    1.239608   0.819804   0.384118\n",
       "std     0.210200   0.266732   0.201139\n",
       "min     0.700000   0.450000   0.100000\n",
       "25%     1.095000   0.660000   0.225000\n",
       "50%     1.220000   0.740000   0.340000\n",
       "75%     1.365000   0.880000   0.520000\n",
       "max     1.720000   1.820000   1.000000"
      ]
     },
     "execution_count": 71,
     "metadata": {},
     "output_type": "execute_result"
    }
   ],
   "source": [
    "# altogether now\n",
    "alco2009.describe()"
   ]
  },
  {
   "cell_type": "markdown",
   "metadata": {},
   "source": [
    "#### Functions argmax() (for series) and idxmax() (for frames\n",
    "Functions *argmax()* (for series) and *idxmax()* (for frames) find the index positions of the first occurrences of the maximal values. \n",
    "\n",
    "It’s easy to remember these two functions: these are the only two functions in pandas that do not treat series and frames consistently.\n"
   ]
  },
  {
   "cell_type": "markdown",
   "metadata": {},
   "source": [
    "#### Cumulative methods\n",
    "pandas has limited support for pseudo-integration, pseudo-differentiation, and other cumulative methods. \n",
    "\n",
    "Functions *cumsum()*, *cumprod()*, *cummin()*, and *cummax()* calculate cumulative sums, products, minimums, and maximums, starting from the first item in the series or each frame column.\n"
   ]
  },
  {
   "cell_type": "code",
   "execution_count": 72,
   "metadata": {
    "collapsed": false
   },
   "outputs": [
    {
     "data": {
      "text/html": [
       "<div>\n",
       "<table border=\"1\" class=\"dataframe\">\n",
       "  <thead>\n",
       "    <tr style=\"text-align: right;\">\n",
       "      <th></th>\n",
       "      <th>Beer</th>\n",
       "      <th>Wine</th>\n",
       "      <th>Spirits</th>\n",
       "    </tr>\n",
       "    <tr>\n",
       "      <th>Year</th>\n",
       "      <th></th>\n",
       "      <th></th>\n",
       "      <th></th>\n",
       "    </tr>\n",
       "  </thead>\n",
       "  <tbody>\n",
       "    <tr>\n",
       "      <th>1977</th>\n",
       "      <td>1.61</td>\n",
       "      <td>0.36</td>\n",
       "      <td>1.26</td>\n",
       "    </tr>\n",
       "    <tr>\n",
       "      <th>1978</th>\n",
       "      <td>2.99</td>\n",
       "      <td>0.82</td>\n",
       "      <td>2.56</td>\n",
       "    </tr>\n",
       "    <tr>\n",
       "      <th>1979</th>\n",
       "      <td>4.59</td>\n",
       "      <td>1.26</td>\n",
       "      <td>3.84</td>\n",
       "    </tr>\n",
       "    <tr>\n",
       "      <th>1980</th>\n",
       "      <td>6.24</td>\n",
       "      <td>1.72</td>\n",
       "      <td>5.05</td>\n",
       "    </tr>\n",
       "    <tr>\n",
       "      <th>1981</th>\n",
       "      <td>7.98</td>\n",
       "      <td>2.16</td>\n",
       "      <td>6.21</td>\n",
       "    </tr>\n",
       "  </tbody>\n",
       "</table>\n",
       "</div>"
      ],
      "text/plain": [
       "      Beer  Wine  Spirits\n",
       "Year                     \n",
       "1977  1.61  0.36     1.26\n",
       "1978  2.99  0.82     2.56\n",
       "1979  4.59  1.26     3.84\n",
       "1980  6.24  1.72     5.05\n",
       "1981  7.98  2.16     6.21"
      ]
     },
     "execution_count": 72,
     "metadata": {},
     "output_type": "execute_result"
    }
   ],
   "source": [
    "alco.ix['Hawaii'].cumsum().head()\n"
   ]
  },
  {
   "cell_type": "markdown",
   "metadata": {},
   "source": [
    "The *diff()* function calculates the running difference between the consecutive column/series items. \n",
    "\n",
    "The first row of the result is undefined.\n"
   ]
  },
  {
   "cell_type": "code",
   "execution_count": 73,
   "metadata": {
    "collapsed": false
   },
   "outputs": [
    {
     "data": {
      "text/html": [
       "<div>\n",
       "<table border=\"1\" class=\"dataframe\">\n",
       "  <thead>\n",
       "    <tr style=\"text-align: right;\">\n",
       "      <th></th>\n",
       "      <th>Beer</th>\n",
       "      <th>Wine</th>\n",
       "      <th>Spirits</th>\n",
       "    </tr>\n",
       "    <tr>\n",
       "      <th>Year</th>\n",
       "      <th></th>\n",
       "      <th></th>\n",
       "      <th></th>\n",
       "    </tr>\n",
       "  </thead>\n",
       "  <tbody>\n",
       "    <tr>\n",
       "      <th>1977</th>\n",
       "      <td>NaN</td>\n",
       "      <td>NaN</td>\n",
       "      <td>NaN</td>\n",
       "    </tr>\n",
       "    <tr>\n",
       "      <th>1978</th>\n",
       "      <td>-0.23</td>\n",
       "      <td>0.10</td>\n",
       "      <td>0.04</td>\n",
       "    </tr>\n",
       "    <tr>\n",
       "      <th>1979</th>\n",
       "      <td>0.22</td>\n",
       "      <td>-0.02</td>\n",
       "      <td>-0.02</td>\n",
       "    </tr>\n",
       "    <tr>\n",
       "      <th>1980</th>\n",
       "      <td>0.05</td>\n",
       "      <td>0.02</td>\n",
       "      <td>-0.07</td>\n",
       "    </tr>\n",
       "    <tr>\n",
       "      <th>1981</th>\n",
       "      <td>0.09</td>\n",
       "      <td>-0.02</td>\n",
       "      <td>-0.05</td>\n",
       "    </tr>\n",
       "  </tbody>\n",
       "</table>\n",
       "</div>"
      ],
      "text/plain": [
       "      Beer  Wine  Spirits\n",
       "Year                     \n",
       "1977   NaN   NaN      NaN\n",
       "1978 -0.23  0.10     0.04\n",
       "1979  0.22 -0.02    -0.02\n",
       "1980  0.05  0.02    -0.07\n",
       "1981  0.09 -0.02    -0.05"
      ]
     },
     "execution_count": 73,
     "metadata": {},
     "output_type": "execute_result"
    }
   ],
   "source": [
    "alco.ix['Hawaii'].diff().head()\n"
   ]
  },
  {
   "cell_type": "markdown",
   "metadata": {
    "collapsed": true
   },
   "source": [
    "### Uniqueness, Counting, Membership"
   ]
  },
  {
   "cell_type": "code",
   "execution_count": 74,
   "metadata": {
    "collapsed": false
   },
   "outputs": [
    {
     "data": {
      "text/plain": [
       "0    A\n",
       "1    G\n",
       "2    T\n",
       "3    C\n",
       "4    C\n",
       "Name: genes, dtype: object"
      ]
     },
     "execution_count": 74,
     "metadata": {},
     "output_type": "execute_result"
    }
   ],
   "source": [
    "dna = \"AGTCCGCGAATACAGGCTCGGT\"\n",
    "# Convert the string to a Series to use Series functionality\n",
    "dna_as_series = pd.Series(list(dna), name=\"genes\")\n",
    "dna_as_series.head()\n"
   ]
  },
  {
   "cell_type": "markdown",
   "metadata": {},
   "source": [
    "#### Functions unique() and value_counts()\n",
    "Functions *unique()* and *value_counts()* compute an array of distinct values from the series and a frame with the counts of each distinct value, respectively. \n",
    "\n",
    "If the series contains nans, they are included in the count.\n"
   ]
  },
  {
   "cell_type": "code",
   "execution_count": 75,
   "metadata": {
    "collapsed": false
   },
   "outputs": [
    {
     "data": {
      "text/plain": [
       "array(['A', 'G', 'T', 'C'], dtype=object)"
      ]
     },
     "execution_count": 75,
     "metadata": {},
     "output_type": "execute_result"
    }
   ],
   "source": [
    "dna_as_series.unique()\n"
   ]
  },
  {
   "cell_type": "code",
   "execution_count": 76,
   "metadata": {
    "collapsed": false
   },
   "outputs": [
    {
     "data": {
      "text/plain": [
       "A    5\n",
       "C    6\n",
       "G    7\n",
       "T    4\n",
       "Name: genes, dtype: int64"
      ]
     },
     "execution_count": 76,
     "metadata": {},
     "output_type": "execute_result"
    }
   ],
   "source": [
    "dna_as_series.value_counts().sort_index()\n"
   ]
  },
  {
   "cell_type": "markdown",
   "metadata": {},
   "source": [
    "Are all our nucleotides valid?"
   ]
  },
  {
   "cell_type": "code",
   "execution_count": 77,
   "metadata": {
    "collapsed": false
   },
   "outputs": [
    {
     "data": {
      "text/plain": [
       "True"
      ]
     },
     "execution_count": 77,
     "metadata": {},
     "output_type": "execute_result"
    }
   ],
   "source": [
    "valid_nucs = list(\"ACGT\")\n",
    "dna_as_series.isin(valid_nucs).all()"
   ]
  },
  {
   "cell_type": "markdown",
   "metadata": {},
   "source": [
    "## Transforming Data\n",
    "\n",
    "### Arithmetic Operations\n",
    "\n",
    "Correct the “Total” column of the *alco* frame:\n"
   ]
  },
  {
   "cell_type": "code",
   "execution_count": 78,
   "metadata": {
    "collapsed": false
   },
   "outputs": [
    {
     "data": {
      "text/html": [
       "<div>\n",
       "<table border=\"1\" class=\"dataframe\">\n",
       "  <thead>\n",
       "    <tr style=\"text-align: right;\">\n",
       "      <th></th>\n",
       "      <th></th>\n",
       "      <th>Beer</th>\n",
       "      <th>Wine</th>\n",
       "      <th>Spirits</th>\n",
       "      <th>Total</th>\n",
       "    </tr>\n",
       "    <tr>\n",
       "      <th>State</th>\n",
       "      <th>Year</th>\n",
       "      <th></th>\n",
       "      <th></th>\n",
       "      <th></th>\n",
       "      <th></th>\n",
       "    </tr>\n",
       "  </thead>\n",
       "  <tbody>\n",
       "    <tr>\n",
       "      <th rowspan=\"5\" valign=\"top\">Alabama</th>\n",
       "      <th>1977</th>\n",
       "      <td>0.99</td>\n",
       "      <td>0.13</td>\n",
       "      <td>0.84</td>\n",
       "      <td>1.96</td>\n",
       "    </tr>\n",
       "    <tr>\n",
       "      <th>1978</th>\n",
       "      <td>0.98</td>\n",
       "      <td>0.12</td>\n",
       "      <td>0.88</td>\n",
       "      <td>1.98</td>\n",
       "    </tr>\n",
       "    <tr>\n",
       "      <th>1979</th>\n",
       "      <td>0.98</td>\n",
       "      <td>0.12</td>\n",
       "      <td>0.84</td>\n",
       "      <td>1.94</td>\n",
       "    </tr>\n",
       "    <tr>\n",
       "      <th>1980</th>\n",
       "      <td>0.96</td>\n",
       "      <td>0.16</td>\n",
       "      <td>0.74</td>\n",
       "      <td>1.86</td>\n",
       "    </tr>\n",
       "    <tr>\n",
       "      <th>1981</th>\n",
       "      <td>1.00</td>\n",
       "      <td>0.19</td>\n",
       "      <td>0.73</td>\n",
       "      <td>1.92</td>\n",
       "    </tr>\n",
       "  </tbody>\n",
       "</table>\n",
       "</div>"
      ],
      "text/plain": [
       "              Beer  Wine  Spirits  Total\n",
       "State   Year                            \n",
       "Alabama 1977  0.99  0.13     0.84   1.96\n",
       "        1978  0.98  0.12     0.88   1.98\n",
       "        1979  0.98  0.12     0.84   1.94\n",
       "        1980  0.96  0.16     0.74   1.86\n",
       "        1981  1.00  0.19     0.73   1.92"
      ]
     },
     "execution_count": 78,
     "metadata": {},
     "output_type": "execute_result"
    }
   ],
   "source": [
    "alco[\"Total\"] = alco.Wine + alco.Spirits + alco.Beer\n",
    "alco.head()\n"
   ]
  },
  {
   "cell_type": "markdown",
   "metadata": {
    "collapsed": false
   },
   "source": [
    "Measure total consumptions on a logarithmic scale.\n"
   ]
  },
  {
   "cell_type": "code",
   "execution_count": 79,
   "metadata": {
    "collapsed": false
   },
   "outputs": [
    {
     "data": {
      "text/plain": [
       "State    Year\n",
       "Alabama  1977    0.292256\n",
       "         1978    0.296665\n",
       "         1979    0.287802\n",
       "         1980    0.269513\n",
       "         1981    0.283301\n",
       "Name: Total, dtype: float64"
      ]
     },
     "execution_count": 79,
     "metadata": {},
     "output_type": "execute_result"
    }
   ],
   "source": [
    "np.log10(alco.Total).head()\n"
   ]
  },
  {
   "cell_type": "markdown",
   "metadata": {},
   "source": [
    "All arithmetic operations preserve indexing.\n"
   ]
  },
  {
   "cell_type": "code",
   "execution_count": 81,
   "metadata": {
    "collapsed": false
   },
   "outputs": [
    {
     "data": {
      "text/plain": [
       "0     A\n",
       "1     G\n",
       "2     T\n",
       "3     G\n",
       "4     G\n",
       "5     A\n",
       "6     A\n",
       "7     T\n",
       "8     A\n",
       "9     A\n",
       "10    G\n",
       "11    G\n",
       "12    T\n",
       "13    G\n",
       "14    G\n",
       "15    T\n",
       "Name: genes, dtype: object"
      ]
     },
     "execution_count": 81,
     "metadata": {},
     "output_type": "execute_result"
    }
   ],
   "source": [
    "dna = \"AGTCCGCGAATACAGGCTCGGT\"\n",
    "# mutate the gene\n",
    "dna1 = dna.replace(\"C\", \"\")\n",
    "dna2 = dna.replace(\"T\", \"\")\n",
    "\n",
    "dna_as_series1 = pd.Series(list(dna1), name=\"genes\") # No C's\n",
    "dna_as_series1\n",
    "#dna_as_series2 = pd.Series(list(dna2), name=\"genes\") # No T's\n",
    "#dna_as_series1.value_counts() + dna_as_series2.value_counts()\n"
   ]
  },
  {
   "cell_type": "code",
   "execution_count": 82,
   "metadata": {
    "collapsed": false
   },
   "outputs": [
    {
     "data": {
      "text/plain": [
       "A    10.0\n",
       "C     NaN\n",
       "G    14.0\n",
       "T     NaN\n",
       "Name: genes, dtype: float64"
      ]
     },
     "execution_count": 82,
     "metadata": {},
     "output_type": "execute_result"
    }
   ],
   "source": [
    "dna_as_series2 = pd.Series(list(dna2), name=\"genes\") # No T's\n",
    "dna_as_series1.value_counts() + dna_as_series2.value_counts()\n"
   ]
  },
  {
   "cell_type": "markdown",
   "metadata": {
    "collapsed": true
   },
   "source": [
    "### Data Aggregation"
   ]
  },
  {
   "cell_type": "markdown",
   "metadata": {},
   "source": [
    "Data aggregation is a three-step procedure during which data is split, aggregated,\n",
    "and combined:\n",
    "1. At the split step, the data is split by key or keys into chunks.\n",
    "2. At the apply step, an aggregation function (such as sum() or count()) is\n",
    "applied to each chunk.\n",
    "3. At the combine step, the calculated results are combined into a new series\n",
    "or frame.\n",
    "\n",
    "#### The groupby() function\n",
    "The *groupby()* function splits a frame by collecting the rows in groups based\n",
    "on the values of one or more categorical keys"
   ]
  },
  {
   "cell_type": "code",
   "execution_count": 95,
   "metadata": {
    "collapsed": false
   },
   "outputs": [
    {
     "data": {
      "text/html": [
       "<div>\n",
       "<table border=\"1\" class=\"dataframe\">\n",
       "  <thead>\n",
       "    <tr style=\"text-align: right;\">\n",
       "      <th></th>\n",
       "      <th>Beer</th>\n",
       "      <th>Wine</th>\n",
       "      <th>Spirits</th>\n",
       "    </tr>\n",
       "    <tr>\n",
       "      <th>Year</th>\n",
       "      <th></th>\n",
       "      <th></th>\n",
       "      <th></th>\n",
       "    </tr>\n",
       "  </thead>\n",
       "  <tbody>\n",
       "    <tr>\n",
       "      <th>2005</th>\n",
       "      <td>63.49</td>\n",
       "      <td>18.06</td>\n",
       "      <td>38.89</td>\n",
       "    </tr>\n",
       "    <tr>\n",
       "      <th>2006</th>\n",
       "      <td>64.37</td>\n",
       "      <td>18.66</td>\n",
       "      <td>40.15</td>\n",
       "    </tr>\n",
       "    <tr>\n",
       "      <th>2007</th>\n",
       "      <td>64.67</td>\n",
       "      <td>19.08</td>\n",
       "      <td>40.97</td>\n",
       "    </tr>\n",
       "    <tr>\n",
       "      <th>2008</th>\n",
       "      <td>64.67</td>\n",
       "      <td>19.41</td>\n",
       "      <td>41.59</td>\n",
       "    </tr>\n",
       "    <tr>\n",
       "      <th>2009</th>\n",
       "      <td>63.22</td>\n",
       "      <td>19.59</td>\n",
       "      <td>41.81</td>\n",
       "    </tr>\n",
       "  </tbody>\n",
       "</table>\n",
       "</div>"
      ],
      "text/plain": [
       "       Beer   Wine  Spirits\n",
       "Year                       \n",
       "2005  63.49  18.06    38.89\n",
       "2006  64.37  18.66    40.15\n",
       "2007  64.67  19.08    40.97\n",
       "2008  64.67  19.41    41.59\n",
       "2009  63.22  19.59    41.81"
      ]
     },
     "execution_count": 95,
     "metadata": {},
     "output_type": "execute_result"
    }
   ],
   "source": [
    "# We want to group by the \"Year\" column\n",
    "alco_noidx = alco.reset_index()\n",
    "sum_alco = alco_noidx.groupby(\"Year\").sum()\n",
    "sum_alco.tail()\n"
   ]
  },
  {
   "cell_type": "markdown",
   "metadata": {},
   "source": [
    "Sometimes you may wish you could group rows by a computable property\n",
    "rather than by the existing column or columns. pandas allows data aggregation\n",
    "through mappings using dictionaries or series. Let’s consider a dictionary\n",
    "that maps states to the regions defined by the U.S. Census Bureau:"
   ]
  },
  {
   "cell_type": "code",
   "execution_count": 96,
   "metadata": {
    "collapsed": false
   },
   "outputs": [],
   "source": [
    "# mapping states to regions\n",
    "state2reg = {\n",
    "                 \"Alabama\": \"South\",\"Alaska\": \"West\" ,\"Arizona\": \"West\" ,\"Arkansas\" : \"South\" ,\"California\" : \"West\" ,\\\n",
    "                 \"Colorado\": \"West\", \"Connecticut\" : \"Northeast\" ,\"Delaware\" : \"South\", \\\n",
    "                 \"District of Columbia\": \"South\" ,\"Florida\" : \"South\", \"Georgia\" : \"South\", \\\n",
    "                 \"Hawaii\" : \"West\", \"Idaho\" : \"West\" ,\"Illinois\" : \"Midwest\" ,\"Indiana\" : \"Midwest\" ,\"Iowa\" : \"Midwest\", \\\n",
    "                 \"Kansas\" : \"Midwest\", \"Kentucky\" : \"South\", \"Louisiana\" : \"South\" ,\"Maine\" : \"Northeast\" , \\\n",
    "                 \"Maryland\" :  \"Sout\", \"Massachusetts\" : \"Northeast\", \"Michigan\" : \"Midwest\", \"Minnesota\" : \"Midwest\", \\\n",
    "                 \"Mississippi\" : \"South\" ,\"Missouri\" : \"Midwest\" ,\"Montana\" : \"West\" ,\"Nebraska\" : \"Midwest\" , \\\n",
    "                 \"Nevada\" : \"West\" ,\"New Hampshire\" : \"Northeast\", \"New Jersey\" : \"Northeast\", \"New Mexico\" : \"West\", \\\n",
    "                 \"New York\" : \"Northeast\" ,\"North Carolina\" : \"South\" ,\"North Dakota\" : \"Midwest\" ,\"Ohio\" : \"Midwest\", \\\n",
    "                 \"Oklahoma\" : \"South\", \"Oregon\" : \"West\", \"Pennsylvania\" : \"Northeast\", \\\n",
    "                 \"Rhode Island\" : \"Northeast\", \"South Carolina\" : \"South\",\"South Dakota\" : \"Midwest\", \\\n",
    "                 \"Tennessee\" : \"South\", \"Texas\" : \"South\", \"Utah\" : \"West\", \"Vermont\" : \"Northeast\",\"Virginia\" : \"South\", \\\n",
    "                 \"Washington\" : \"West\", \"West Virginia\" : \"South\", \"Wisconsin\" : \"Midwest\", \"Wyoming\" : \"West\"\n",
    "    }\n"
   ]
  },
  {
   "cell_type": "code",
   "execution_count": 97,
   "metadata": {
    "collapsed": false
   },
   "outputs": [
    {
     "data": {
      "text/html": [
       "<div>\n",
       "<table border=\"1\" class=\"dataframe\">\n",
       "  <thead>\n",
       "    <tr style=\"text-align: right;\">\n",
       "      <th></th>\n",
       "      <th>Beer</th>\n",
       "      <th>Spirits</th>\n",
       "      <th>Wine</th>\n",
       "    </tr>\n",
       "  </thead>\n",
       "  <tbody>\n",
       "    <tr>\n",
       "      <th>Midwest</th>\n",
       "      <td>1.324167</td>\n",
       "      <td>0.822500</td>\n",
       "      <td>0.265000</td>\n",
       "    </tr>\n",
       "    <tr>\n",
       "      <th>Northeast</th>\n",
       "      <td>1.167778</td>\n",
       "      <td>0.904444</td>\n",
       "      <td>0.542222</td>\n",
       "    </tr>\n",
       "    <tr>\n",
       "      <th>Sout</th>\n",
       "      <td>0.970000</td>\n",
       "      <td>0.870000</td>\n",
       "      <td>0.370000</td>\n",
       "    </tr>\n",
       "    <tr>\n",
       "      <th>South</th>\n",
       "      <td>1.225625</td>\n",
       "      <td>0.747500</td>\n",
       "      <td>0.315000</td>\n",
       "    </tr>\n",
       "    <tr>\n",
       "      <th>West</th>\n",
       "      <td>1.249231</td>\n",
       "      <td>0.843846</td>\n",
       "      <td>0.470769</td>\n",
       "    </tr>\n",
       "  </tbody>\n",
       "</table>\n",
       "</div>"
      ],
      "text/plain": [
       "               Beer   Spirits      Wine\n",
       "Midwest    1.324167  0.822500  0.265000\n",
       "Northeast  1.167778  0.904444  0.542222\n",
       "Sout       0.970000  0.870000  0.370000\n",
       "South      1.225625  0.747500  0.315000\n",
       "West       1.249231  0.843846  0.470769"
      ]
     },
     "execution_count": 97,
     "metadata": {},
     "output_type": "execute_result"
    }
   ],
   "source": [
    "# using the mapping for aggregation\n",
    "alco2009.groupby(state2reg).mean()\n"
   ]
  },
  {
   "cell_type": "markdown",
   "metadata": {},
   "source": [
    "## Discretization\n",
    "\n",
    "Discretization refers to the conversion of a continuous variable to a discrete\n",
    "(categorical) variable often for the purpose of histogramming.\n",
    "\n",
    "#### The cut() function\n",
    "The *cut()* function splits an array or series passed as the first parameter into\n",
    "half-open bins—categories. The second parameter is either a number of\n",
    "equally sized bins or a list of bins’ edges\n"
   ]
  },
  {
   "cell_type": "code",
   "execution_count": 98,
   "metadata": {
    "collapsed": false
   },
   "outputs": [
    {
     "data": {
      "text/plain": [
       "State\n",
       "Alabama       (0.0991, 0.4]\n",
       "Alaska           (0.4, 0.7]\n",
       "Arizona       (0.0991, 0.4]\n",
       "Arkansas      (0.0991, 0.4]\n",
       "California       (0.4, 0.7]\n",
       "Name: Wine, dtype: category\n",
       "Categories (3, object): [(0.0991, 0.4] < (0.4, 0.7] < (0.7, 1]]"
      ]
     },
     "execution_count": 98,
     "metadata": {},
     "output_type": "execute_result"
    }
   ],
   "source": [
    "# Wine consumption discretizated in 3 bins\n",
    "cats = pd.cut(alco2009['Wine'], 3).head()\n",
    "cats\n"
   ]
  },
  {
   "cell_type": "markdown",
   "metadata": {},
   "source": [
    "If you prefer to mint your own category labels, pass another optional parameter\n",
    "labels (a list of N labels, one label per bin)."
   ]
  },
  {
   "cell_type": "code",
   "execution_count": 83,
   "metadata": {
    "collapsed": false
   },
   "outputs": [
    {
     "data": {
      "text/plain": [
       "State\n",
       "Alabama            Low\n",
       "Alaska        Moderate\n",
       "Arizona            Low\n",
       "Arkansas           Low\n",
       "California    Moderate\n",
       "Name: Wine, dtype: category\n",
       "Categories (3, object): [Low < Moderate < Heavy]"
      ]
     },
     "execution_count": 83,
     "metadata": {},
     "output_type": "execute_result"
    }
   ],
   "source": [
    "# Wine consumption discretizated in 3 bins with own category labels\n",
    "cats = pd.cut(alco2009['Wine'], 3, labels=(\"Low\", \"Moderate\", \"Heavy\"))\n",
    "cats.head()\n"
   ]
  },
  {
   "cell_type": "markdown",
   "metadata": {},
   "source": [
    "If you set *labels=False, cut()* numbers the bins instead of labeling them and\n",
    "returns only the bin membership information"
   ]
  },
  {
   "cell_type": "code",
   "execution_count": 84,
   "metadata": {
    "collapsed": false
   },
   "outputs": [
    {
     "data": {
      "text/plain": [
       "State\n",
       "Alabama       0\n",
       "Alaska        1\n",
       "Arizona       0\n",
       "Arkansas      0\n",
       "California    1\n",
       "Name: Wine, dtype: int64"
      ]
     },
     "execution_count": 84,
     "metadata": {},
     "output_type": "execute_result"
    }
   ],
   "source": [
    "# returning only the membership information\n",
    "cats = pd.cut(alco2009['Wine'], 3, labels=False).head()\n",
    "cats\n"
   ]
  },
  {
   "cell_type": "markdown",
   "metadata": {},
   "source": [
    "#### The qcuts() function\n",
    "The *qcuts()* function is similar to cuts(), but operates in terms of quantiles.\n"
   ]
  },
  {
   "cell_type": "code",
   "execution_count": 85,
   "metadata": {
    "collapsed": false
   },
   "outputs": [
    {
     "data": {
      "text/plain": [
       "State\n",
       "Alabama            Low\n",
       "Alaska           Heavy\n",
       "Arizona       Moderate\n",
       "Arkansas           Low\n",
       "California       Heavy\n",
       "Name: Wine, dtype: category\n",
       "Categories (3, object): [Low < Moderate < Heavy]"
      ]
     },
     "execution_count": 85,
     "metadata": {},
     "output_type": "execute_result"
    }
   ],
   "source": [
    "quants = pd.qcut(alco2009['Wine'], 3, labels=(\"Low\", \"Moderate\", \"Heavy\"))\n",
    "quants.head()\n"
   ]
  },
  {
   "cell_type": "markdown",
   "metadata": {},
   "source": [
    "### Mapping\n",
    "\n",
    "Mapping is the most general form of data transformation. \n",
    "\n",
    "It uses the map() function to apply an arbitrary one-argument function to each element of a selected column.\n",
    "\n",
    "As an example, let’s create three-letter abbreviations of state names.\n"
   ]
  },
  {
   "cell_type": "code",
   "execution_count": 86,
   "metadata": {
    "collapsed": false
   },
   "outputs": [
    {
     "data": {
      "text/plain": [
       "0    ALA\n",
       "1    ALA\n",
       "2    ARI\n",
       "3    ARK\n",
       "4    CAL\n",
       "Name: State, dtype: object"
      ]
     },
     "execution_count": 86,
     "metadata": {},
     "output_type": "execute_result"
    }
   ],
   "source": [
    "with_state = alco2009.reset_index()\n",
    "abbrevs = with_state[\"State\"].map(lambda x: x[:3].upper())\n",
    "abbrevs.head()\n"
   ]
  },
  {
   "cell_type": "markdown",
   "metadata": {
    "collapsed": true
   },
   "source": [
    "### Cross-Tabulation\n",
    "\n",
    "Cross-tabulation computes group frequencies and returns a frame with rows and columns representing different values of two categorical variables (factors).\n",
    "\n",
    "If you supply the optional parameter margins=True, the function also calculates rows and columns subtotals.\n"
   ]
  },
  {
   "cell_type": "code",
   "execution_count": 88,
   "metadata": {
    "collapsed": false
   },
   "outputs": [
    {
     "data": {
      "text/html": [
       "<div>\n",
       "<table border=\"1\" class=\"dataframe\">\n",
       "  <thead>\n",
       "    <tr style=\"text-align: right;\">\n",
       "      <th>Beer</th>\n",
       "      <th>False</th>\n",
       "      <th>True</th>\n",
       "    </tr>\n",
       "    <tr>\n",
       "      <th>Wine</th>\n",
       "      <th></th>\n",
       "      <th></th>\n",
       "    </tr>\n",
       "  </thead>\n",
       "  <tbody>\n",
       "    <tr>\n",
       "      <th>False</th>\n",
       "      <td>14</td>\n",
       "      <td>15</td>\n",
       "    </tr>\n",
       "    <tr>\n",
       "      <th>True</th>\n",
       "      <td>12</td>\n",
       "      <td>10</td>\n",
       "    </tr>\n",
       "  </tbody>\n",
       "</table>\n",
       "</div>"
      ],
      "text/plain": [
       "Beer   False  True \n",
       "Wine               \n",
       "False     14     15\n",
       "True      12     10"
      ]
     },
     "execution_count": 88,
     "metadata": {},
     "output_type": "execute_result"
    }
   ],
   "source": [
    "wine_state = alco2009[\"Wine\"] > alco2009[\"Wine\"].mean()\n",
    "beer_state = alco2009[\"Beer\"] > alco2009[\"Beer\"].mean()\n",
    "pd.crosstab(wine_state, beer_state)\n"
   ]
  },
  {
   "cell_type": "code",
   "execution_count": null,
   "metadata": {
    "collapsed": true
   },
   "outputs": [],
   "source": []
  }
 ],
 "metadata": {
  "anaconda-cloud": {},
  "kernelspec": {
   "display_name": "Python 3.8.2 32-bit",
   "language": "python",
   "name": "python38232bit983fe55427bc4991a0511592a3fa6aa8"
  },
  "language_info": {
   "codemirror_mode": {
    "name": "ipython",
    "version": 3
   },
   "file_extension": ".py",
   "mimetype": "text/x-python",
   "name": "python",
   "nbconvert_exporter": "python",
   "pygments_lexer": "ipython3",
   "version": "3.8.2-final"
  }
 },
 "nbformat": 4,
 "nbformat_minor": 0
}