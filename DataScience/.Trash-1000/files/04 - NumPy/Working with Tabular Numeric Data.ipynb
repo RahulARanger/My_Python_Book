{
 "cells": [
  {
   "cell_type": "markdown",
   "metadata": {},
   "source": [
    "# Working with Tabular Numeric Data\n",
    "\n",
    "Python is an excellent text processing tool, but it sometimes fails to deliver adequate numeric performance. That’s where numpy comes to rescue.\n",
    "\n",
    "Module *numpy* - Numerical Python (imported as numpy) - is an interface to a family of efficient and parallelizable functions that implement high-performance numerical operations.\n",
    "\n",
    "*numpy* provides a new Python data structure – array - and a toolbox of array-specific functions.\n",
    "\n",
    "\n",
    "## Bridge to Terabytia\n",
    "\n",
    "If your program needs access to really huge amounts of numerical data - terabytes and more - you can’t avoid using module h5py.\n",
    "\n",
    "The module is a portal to the HDF5 binary data format that works with a lot of third-party software, such as IDL and MATLAB.\n",
    "\n",
    "H5py imitates familiar numpy and Python mechanisms, such as arrays and dictionaries.\n",
    "\n",
    "\n",
    "## Creating Arrays \n",
    "\n",
    "*numpy* arrays are more compact and faster than native Python lists, especially in multi-dimensional cases. However, unlike lists, arrays are homogeneous: you cannot mix and match array items that belong to different data types.\n",
    "\n",
    "Function *array()* creates an array from array-like data. The data can be a list, a tuple or another array.\n",
    "\n",
    "*numpy* infers the type of the array elements from the data, unless you explicitly pass the dtype parameter. \n",
    "*numpy* supports close to twenty data types, such as bool_, int64, uint64, float64, and U32 (for Unicode strings).\n",
    "\n",
    "When *numpy* creates an array, it does not copy the data from the source to the new array, but links to it for efficiency reasons.\n",
    "\n",
    "By default, a *numpy* array is a view of its underlying data, not a copy of it. If the underlying data object changes, the array data changes, too. If this behavior is undesirable (which is always is, unless the amount of data to copy is prohibitively large), pass copy=True to the constructor.\n",
    "\n",
    "Contrary to their name, Python “lists” are actually implemented as arrays, not as lists.\n",
    "\n",
    "Large Python lists require only about 13% more storage than “real” numpy arrays. However, Python executes some simple built-in operations, such as sum(), 5–10 times faster on lists than on arrays. \n",
    "\n",
    "Ask yourself if you really need any numpy-specific features before you start a numpy project!\n",
    "\n"
   ]
  },
  {
   "cell_type": "markdown",
   "metadata": {},
   "source": [
    "Let’s create our first array—a silly array of the first 10 positive integer numbers:\n",
    "    "
   ]
  },
  {
   "cell_type": "code",
   "execution_count": 3,
   "metadata": {
    "collapsed": false
   },
   "outputs": [
    {
     "name": "stdout",
     "output_type": "stream",
     "text": [
      "[ 1  2  3  4  5  6  7  8  9 10]\n"
     ]
    }
   ],
   "source": [
    "import numpy as np \n",
    "numbers = np.array(range(1, 11), copy=True)\n",
    "print(numbers)"
   ]
  },
  {
   "cell_type": "markdown",
   "metadata": {},
   "source": [
    "Functions *ones()*, *zeros()*, and *empty()* construct arrays of all ones, all zeros, and all unitinialized entries, respectively. \n",
    "\n",
    "They them take a required shape parameter - a list or tuple of array dimensions."
   ]
  },
  {
   "cell_type": "code",
   "execution_count": 5,
   "metadata": {
    "collapsed": false
   },
   "outputs": [
    {
     "name": "stdout",
     "output_type": "stream",
     "text": [
      "Function ones()\n"
     ]
    },
    {
     "data": {
      "text/plain": [
       "array([[ 1.,  1.,  1.,  1.],\n",
       "       [ 1.,  1.,  1.,  1.]])"
      ]
     },
     "execution_count": 5,
     "metadata": {},
     "output_type": "execute_result"
    }
   ],
   "source": [
    "print(\"Function ones()\")\n",
    "ones = np.ones([2, 4], dtype=np.float64)\n",
    "ones\n"
   ]
  },
  {
   "cell_type": "code",
   "execution_count": 6,
   "metadata": {
    "collapsed": false
   },
   "outputs": [
    {
     "name": "stdout",
     "output_type": "stream",
     "text": [
      "Function zeros()\n"
     ]
    },
    {
     "data": {
      "text/plain": [
       "array([[ 0.,  0.,  0.,  0.],\n",
       "       [ 0.,  0.,  0.,  0.]])"
      ]
     },
     "execution_count": 6,
     "metadata": {},
     "output_type": "execute_result"
    }
   ],
   "source": [
    "print(\"Function zeros()\")\n",
    "zeros = np.zeros([2, 4], dtype=np.float64)\n",
    "zeros"
   ]
  },
  {
   "cell_type": "code",
   "execution_count": 7,
   "metadata": {
    "collapsed": false
   },
   "outputs": [
    {
     "name": "stdout",
     "output_type": "stream",
     "text": [
      "Function zeros()\n"
     ]
    },
    {
     "data": {
      "text/plain": [
       "array([[ 0.,  0.,  0.,  0.],\n",
       "       [ 0.,  0.,  0.,  0.]])"
      ]
     },
     "execution_count": 7,
     "metadata": {},
     "output_type": "execute_result"
    }
   ],
   "source": [
    "print(\"Function empty()\")\n",
    "empty = np.empty([2, 4], dtype=np.float64)\n",
    "# The array content is not always zeros!\n",
    "empty"
   ]
  },
  {
   "cell_type": "markdown",
   "metadata": {},
   "source": [
    "*numpy* stores the number of dimensions, the shape, and the data type of an array in the attributes ndim, shape, and dtype."
   ]
  },
  {
   "cell_type": "code",
   "execution_count": 8,
   "metadata": {
    "collapsed": false
   },
   "outputs": [
    {
     "data": {
      "text/plain": [
       "(2, 4)"
      ]
     },
     "execution_count": 8,
     "metadata": {},
     "output_type": "execute_result"
    }
   ],
   "source": [
    "ones.shape # The original shape, unless reshaped\n"
   ]
  },
  {
   "cell_type": "code",
   "execution_count": 9,
   "metadata": {
    "collapsed": false
   },
   "outputs": [
    {
     "data": {
      "text/plain": [
       "1"
      ]
     },
     "execution_count": 9,
     "metadata": {},
     "output_type": "execute_result"
    }
   ],
   "source": [
    "numbers.ndim # Same as len(nubers.shape)\n"
   ]
  },
  {
   "cell_type": "code",
   "execution_count": 10,
   "metadata": {
    "collapsed": false
   },
   "outputs": [
    {
     "data": {
      "text/plain": [
       "dtype('float64')"
      ]
     },
     "execution_count": 10,
     "metadata": {},
     "output_type": "execute_result"
    }
   ],
   "source": [
    "zeros.dtype"
   ]
  },
  {
   "cell_type": "markdown",
   "metadata": {},
   "source": [
    "Function *eye(N, M=None, k=0, dtype=np.float)* constructs an N×M eye-dentity matrix with ones on the kth diagonal and zeros elsewhere. Positive *k* denotes the diagonals above the main diagonal. When M is None (default), M=N."
   ]
  },
  {
   "cell_type": "code",
   "execution_count": 11,
   "metadata": {
    "collapsed": false
   },
   "outputs": [
    {
     "data": {
      "text/plain": [
       "array([[ 0.,  1.,  0.],\n",
       "       [ 0.,  0.,  1.],\n",
       "       [ 0.,  0.,  0.]])"
      ]
     },
     "execution_count": 11,
     "metadata": {},
     "output_type": "execute_result"
    }
   ],
   "source": [
    "eye = np.eye(3, k=1)\n",
    "eye"
   ]
  },
  {
   "cell_type": "markdown",
   "metadata": {},
   "source": [
    "In addition to the good old built-in *range()*, numpy has its own, more efficient way of generating arrays of regularly spaced numbers: *function arange([start,] stop[, step,], dtype=None)*."
   ]
  },
  {
   "cell_type": "code",
   "execution_count": 12,
   "metadata": {
    "collapsed": false
   },
   "outputs": [
    {
     "data": {
      "text/plain": [
       "array([ 2.  ,  2.25,  2.5 ,  2.75,  3.  ,  3.25,  3.5 ,  3.75,  4.  ,\n",
       "        4.25,  4.5 ,  4.75])"
      ]
     },
     "execution_count": 12,
     "metadata": {},
     "output_type": "execute_result"
    }
   ],
   "source": [
    "np_numbers = np.arange(2, 5, 0.25)\n",
    "np_numbers\n"
   ]
  },
  {
   "cell_type": "markdown",
   "metadata": {},
   "source": [
    "Just like with *range()*, the value of start can be larger than stop - but then step must be negative, and the order of numbers in the array is decreasing."
   ]
  },
  {
   "cell_type": "code",
   "execution_count": 13,
   "metadata": {
    "collapsed": false
   },
   "outputs": [
    {
     "data": {
      "text/plain": [
       "array([ 5.  ,  4.75,  4.5 ,  4.25,  4.  ,  3.75,  3.5 ,  3.25,  3.  ,\n",
       "        2.75,  2.5 ,  2.25])"
      ]
     },
     "execution_count": 13,
     "metadata": {},
     "output_type": "execute_result"
    }
   ],
   "source": [
    "np_numbers = np.arange(5, 2, -0.25)\n",
    "np_numbers"
   ]
  },
  {
   "cell_type": "markdown",
   "metadata": {},
   "source": [
    "In the case of type narrowing (converting to a more specific\n",
    "data type), some information may be lost. \n",
    "\n",
    "This is true about any narrowing, not just in numpy."
   ]
  },
  {
   "cell_type": "code",
   "execution_count": 14,
   "metadata": {
    "collapsed": false
   },
   "outputs": [
    {
     "data": {
      "text/plain": [
       "array([5, 4, 4, 4, 4, 3, 3, 3, 3, 2, 2, 2])"
      ]
     },
     "execution_count": 14,
     "metadata": {},
     "output_type": "execute_result"
    }
   ],
   "source": [
    "np_inumbers = np_numbers.astype(np.int)\n",
    "np_inumbers"
   ]
  },
  {
   "cell_type": "markdown",
   "metadata": {},
   "source": [
    "To preserve original data, function copy() creates a copy of an existing array. \n",
    "If your array has 1 bln items, think twice before copying it."
   ]
  },
  {
   "cell_type": "code",
   "execution_count": 16,
   "metadata": {
    "collapsed": false
   },
   "outputs": [
    {
     "data": {
      "text/plain": [
       "array([5, 4, 4, 4, 4, 3, 3, 3, 3, 2, 2, 2])"
      ]
     },
     "execution_count": 16,
     "metadata": {},
     "output_type": "execute_result"
    }
   ],
   "source": [
    "np_inumbers_copy = np_inumbers.copy()\n",
    "np_inumbers_copy\n"
   ]
  },
  {
   "cell_type": "markdown",
   "metadata": {
    "collapsed": true
   },
   "source": [
    "## Transposing and Reshaping"
   ]
  },
  {
   "cell_type": "code",
   "execution_count": 17,
   "metadata": {
    "collapsed": false,
    "scrolled": true
   },
   "outputs": [
    {
     "data": {
      "text/plain": [
       "array(['MMM', 'ABT', 'ABBV', 'ACN', 'ACE', 'ATVI', 'ADBE', 'ADT'], \n",
       "      dtype='<U4')"
      ]
     },
     "execution_count": 17,
     "metadata": {},
     "output_type": "execute_result"
    }
   ],
   "source": [
    "# Some S&P stock symbols\n",
    "sap = np.array([\"MMM\", \"ABT\", \"ABBV\", \"ACN\", \"ACE\", \"ATVI\", \"ADBE\", \"ADT\"])\n",
    "sap\n"
   ]
  },
  {
   "cell_type": "markdown",
   "metadata": {},
   "source": [
    "Reshaping it to 2D"
   ]
  },
  {
   "cell_type": "code",
   "execution_count": 18,
   "metadata": {
    "collapsed": false
   },
   "outputs": [
    {
     "data": {
      "text/plain": [
       "array([['MMM', 'ABT', 'ABBV', 'ACN'],\n",
       "       ['ACE', 'ATVI', 'ADBE', 'ADT']], \n",
       "      dtype='<U4')"
      ]
     },
     "execution_count": 18,
     "metadata": {},
     "output_type": "execute_result"
    }
   ],
   "source": [
    "sap2d = sap.reshape(2, 4)\n",
    "sap2d"
   ]
  },
  {
   "cell_type": "markdown",
   "metadata": {},
   "source": [
    "Reshaping it to 3D"
   ]
  },
  {
   "cell_type": "code",
   "execution_count": 19,
   "metadata": {
    "collapsed": false
   },
   "outputs": [
    {
     "data": {
      "text/plain": [
       "array([[['MMM', 'ABT'],\n",
       "        ['ABBV', 'ACN']],\n",
       "\n",
       "       [['ACE', 'ATVI'],\n",
       "        ['ADBE', 'ADT']]], \n",
       "      dtype='<U4')"
      ]
     },
     "execution_count": 19,
     "metadata": {},
     "output_type": "execute_result"
    }
   ],
   "source": [
    "sap3d = sap.reshape(2, 2, 2)\n",
    "sap3d"
   ]
  },
  {
   "cell_type": "markdown",
   "metadata": {},
   "source": [
    "The value of the attribute T is the transposed view of the array (for a one-dimensional array, data.T==data; for a two-dimensional array, the rows and the columns are swapped)."
   ]
  },
  {
   "cell_type": "code",
   "execution_count": 11,
   "metadata": {
    "collapsed": false
   },
   "outputs": [
    {
     "name": "stdout",
     "output_type": "stream",
     "text": [
      "[['MMM' 'ABT' 'ABBV' 'ACN']\n",
      " ['ACE' 'ATVI' 'ADBE' 'ADT']] \n",
      "\n",
      "[['MMM' 'ACE']\n",
      " ['ABT' 'ATVI']\n",
      " ['ABBV' 'ADBE']\n",
      " ['ACN' 'ADT']]\n"
     ]
    }
   ],
   "source": [
    "print(sap2d, \"\\n\")\n",
    "print(sap2d.T)"
   ]
  },
  {
   "cell_type": "markdown",
   "metadata": {},
   "source": [
    "## Indexing and Slicing\n",
    "\n",
    "numpy arrays support the same indexing [i] and slicing [i:j] operations as Python lists. \n",
    "\n",
    "In addition, they implement Boolean indexing: you can use an array of Boolean values as an index, and the result of the selection is the array of items of the original array for which the Boolean index is True.\n",
    "\n",
    "Suppose your data sponsor told you that all data in the data set dirty are strictly non-negative. \n",
    "\n",
    "This means that any negative value is not a true value but an error, and you must replace it with something that makes more sense - say, with a zero. This operation is called data cleaning. \n"
   ]
  },
  {
   "cell_type": "markdown",
   "metadata": {},
   "source": [
    "To clean the dirty data, locate the offending values and substitute them with reasonable alternatives."
   ]
  },
  {
   "cell_type": "code",
   "execution_count": 21,
   "metadata": {
    "collapsed": false
   },
   "outputs": [
    {
     "data": {
      "text/plain": [
       "array([  9.00000000e+00,   4.00000000e+00,   1.00000000e+00,\n",
       "        -1.00000000e-02,  -2.00000000e-02,  -1.00000000e-03])"
      ]
     },
     "execution_count": 21,
     "metadata": {},
     "output_type": "execute_result"
    }
   ],
   "source": [
    "dirty = np.array([9, 4, 1, -0.01, -0.02, -0.001])\n",
    "dirty\n"
   ]
  },
  {
   "cell_type": "code",
   "execution_count": 22,
   "metadata": {
    "collapsed": false
   },
   "outputs": [
    {
     "data": {
      "text/plain": [
       "array([False, False, False,  True,  True,  True], dtype=bool)"
      ]
     },
     "execution_count": 22,
     "metadata": {},
     "output_type": "execute_result"
    }
   ],
   "source": [
    "whos_dirty = dirty < 0 \n",
    "# Boolean array, to be used as Boolean index\n",
    "whos_dirty"
   ]
  },
  {
   "cell_type": "code",
   "execution_count": 23,
   "metadata": {
    "collapsed": false
   },
   "outputs": [
    {
     "data": {
      "text/plain": [
       "array([ 9.,  4.,  1.,  0.,  0.,  0.])"
      ]
     },
     "execution_count": 23,
     "metadata": {},
     "output_type": "execute_result"
    }
   ],
   "source": [
    "dirty[whos_dirty] = 0 # Change all negative values to 0\n",
    "dirty"
   ]
  },
  {
   "cell_type": "code",
   "execution_count": null,
   "metadata": {
    "collapsed": true
   },
   "outputs": [],
   "source": [
    "Another example:"
   ]
  },
  {
   "cell_type": "code",
   "execution_count": 25,
   "metadata": {
    "collapsed": false
   },
   "outputs": [
    {
     "data": {
      "text/plain": [
       "array([ -1.00000000e+00,  -8.00000000e-01,  -6.00000000e-01,\n",
       "        -4.00000000e-01,  -2.00000000e-01,  -2.22044605e-16,\n",
       "         2.00000000e-01,   4.00000000e-01,   6.00000000e-01,\n",
       "         8.00000000e-01,   1.00000000e+00])"
      ]
     },
     "execution_count": 25,
     "metadata": {},
     "output_type": "execute_result"
    }
   ],
   "source": [
    "linear = np.arange(-1, 1.1, 0.2)\n",
    "linear\n"
   ]
  },
  {
   "cell_type": "code",
   "execution_count": 27,
   "metadata": {
    "collapsed": false
   },
   "outputs": [
    {
     "data": {
      "text/plain": [
       "array([False, False, False,  True,  True,  True,  True,  True, False,\n",
       "       False, False], dtype=bool)"
      ]
     },
     "execution_count": 27,
     "metadata": {},
     "output_type": "execute_result"
    }
   ],
   "source": [
    "(linear <= 0.5) & (linear >= -0.5)"
   ]
  },
  {
   "cell_type": "code",
   "execution_count": 28,
   "metadata": {
    "collapsed": false
   },
   "outputs": [
    {
     "data": {
      "text/plain": [
       "array([ -4.00000000e-01,  -2.00000000e-01,  -2.22044605e-16,\n",
       "         2.00000000e-01,   4.00000000e-01])"
      ]
     },
     "execution_count": 28,
     "metadata": {},
     "output_type": "execute_result"
    }
   ],
   "source": [
    "linear[(linear <= 0.5) & (linear >= -0.5)]"
   ]
  },
  {
   "cell_type": "markdown",
   "metadata": {},
   "source": [
    "Let’s select the second, the third, and the last stock symbols from our S&P list. (That’s “smart” indexing.) "
   ]
  },
  {
   "cell_type": "code",
   "execution_count": 14,
   "metadata": {
    "collapsed": false
   },
   "outputs": [
    {
     "data": {
      "text/plain": [
       "array(['ABT', 'ABBV', 'ADT'], \n",
       "      dtype='<U4')"
      ]
     },
     "execution_count": 14,
     "metadata": {},
     "output_type": "execute_result"
    }
   ],
   "source": [
    "sap[[1, 2, -1]]\n"
   ]
  },
  {
   "cell_type": "markdown",
   "metadata": {},
   "source": [
    "Why not extract all rows in the middle column from the reshaped array? (That’s “smart” slicing.) "
   ]
  },
  {
   "cell_type": "code",
   "execution_count": 29,
   "metadata": {
    "collapsed": false
   },
   "outputs": [
    {
     "name": "stdout",
     "output_type": "stream",
     "text": [
      "[['ABT']\n",
      " ['ATVI']] \n",
      "\n",
      "['ABT' 'ATVI']\n"
     ]
    }
   ],
   "source": [
    "sap2d\n"
   ]
  },
  {
   "cell_type": "code",
   "execution_count": 30,
   "metadata": {
    "collapsed": false
   },
   "outputs": [
    {
     "data": {
      "text/plain": [
       "array([['ABT'],\n",
       "       ['ATVI']], \n",
       "      dtype='<U4')"
      ]
     },
     "execution_count": 30,
     "metadata": {},
     "output_type": "execute_result"
    }
   ],
   "source": [
    "# als Spalte \n",
    "sap2d[:, [1]]\n"
   ]
  },
  {
   "cell_type": "code",
   "execution_count": 31,
   "metadata": {
    "collapsed": false
   },
   "outputs": [
    {
     "data": {
      "text/plain": [
       "array(['ABT', 'ATVI'], \n",
       "      dtype='<U4')"
      ]
     },
     "execution_count": 31,
     "metadata": {},
     "output_type": "execute_result"
    }
   ],
   "source": [
    "# als Zeile\n",
    "sap2d[:, 1]\n"
   ]
  },
  {
   "cell_type": "markdown",
   "metadata": {},
   "source": [
    "## Broadcasting\n",
    "numpy arrays eagerly engage in vectorized arithmetic operations with other arrays - as long as they are of the same shape. \n",
    "\n",
    "To add two arrays element wise without numpy, you must use a for loop or list comprehension; with numpy, you simply add them up:"
   ]
  },
  {
   "cell_type": "code",
   "execution_count": 34,
   "metadata": {
    "collapsed": false
   },
   "outputs": [
    {
     "data": {
      "text/plain": [
       "array([0, 1, 2, 3])"
      ]
     },
     "execution_count": 34,
     "metadata": {},
     "output_type": "execute_result"
    }
   ],
   "source": [
    "a = np.arange(4)\n",
    "a\n"
   ]
  },
  {
   "cell_type": "code",
   "execution_count": 35,
   "metadata": {
    "collapsed": false
   },
   "outputs": [
    {
     "data": {
      "text/plain": [
       "array([1, 2, 3, 4])"
      ]
     },
     "execution_count": 35,
     "metadata": {},
     "output_type": "execute_result"
    }
   ],
   "source": [
    "b = np.arange(1, 5)\n",
    "b\n"
   ]
  },
  {
   "cell_type": "code",
   "execution_count": 36,
   "metadata": {
    "collapsed": false
   },
   "outputs": [
    {
     "data": {
      "text/plain": [
       "array([1, 3, 5, 7])"
      ]
     },
     "execution_count": 36,
     "metadata": {},
     "output_type": "execute_result"
    }
   ],
   "source": [
    "a + b"
   ]
  },
  {
   "cell_type": "markdown",
   "metadata": {},
   "source": [
    "Vectorized operations on arrays are known as broadcasting. \n",
    "Broadcasting along two dimensions is possible if they are equal or one of them is a scalar:"
   ]
  },
  {
   "cell_type": "code",
   "execution_count": 37,
   "metadata": {
    "collapsed": false
   },
   "outputs": [
    {
     "name": "stdout",
     "output_type": "stream",
     "text": [
      "[0 1 2 3] \n",
      "\n"
     ]
    },
    {
     "data": {
      "text/plain": [
       "array([ 0,  5, 10, 15])"
      ]
     },
     "execution_count": 37,
     "metadata": {},
     "output_type": "execute_result"
    }
   ],
   "source": [
    "a = np.arange(4)\n",
    "print(a,\"\\n\")\n",
    "a * 5\n"
   ]
  },
  {
   "cell_type": "markdown",
   "metadata": {},
   "source": [
    "The star operator * behaves differently in Python and numpy. \n",
    "\n",
    "The “core” Python expression seq * 5 replicates list seq five times. \n",
    "\n",
    "The same numpy expression multiplies each element of array seq by 5.\n",
    "\n",
    "\n",
    "Let’s create a diagonal matrix and add some small (but not random) noise to it:"
   ]
  },
  {
   "cell_type": "code",
   "execution_count": 18,
   "metadata": {
    "collapsed": false
   },
   "outputs": [
    {
     "data": {
      "text/plain": [
       "array([[ 1.01,  0.01,  0.01,  0.01],\n",
       "       [ 0.01,  1.01,  0.01,  0.01],\n",
       "       [ 0.01,  0.01,  1.01,  0.01],\n",
       "       [ 0.01,  0.01,  0.01,  1.01]])"
      ]
     },
     "execution_count": 18,
     "metadata": {},
     "output_type": "execute_result"
    }
   ],
   "source": [
    "noise = np.eye(4) + 0.01 * np.ones((4, ))\n",
    "noise"
   ]
  },
  {
   "cell_type": "markdown",
   "metadata": {},
   "source": [
    "But what if you want some small and random noise?"
   ]
  },
  {
   "cell_type": "code",
   "execution_count": 19,
   "metadata": {
    "collapsed": false
   },
   "outputs": [
    {
     "data": {
      "text/plain": [
       "array([[  1.00396462e+00,   9.02291297e-03,   9.98907563e-03,\n",
       "          5.34777270e-03],\n",
       "       [  2.61289799e-03,   1.00801944e+00,   1.98442700e-04,\n",
       "          8.99732177e-03],\n",
       "       [  9.26482386e-03,   8.73207099e-03,   1.00319946e+00,\n",
       "          5.70741651e-03],\n",
       "       [  4.68103303e-03,   7.53616292e-03,   5.94327292e-03,\n",
       "          1.00793390e+00]])"
      ]
     },
     "execution_count": 19,
     "metadata": {},
     "output_type": "execute_result"
    }
   ],
   "source": [
    "noise = np.eye(4) + 0.01 * np.random.random([4, 4])\n",
    "np.round(noise, 2)\n",
    "noise"
   ]
  },
  {
   "cell_type": "markdown",
   "metadata": {},
   "source": [
    "## Demystifying Universal Functions\n",
    "Vectorized universal functions, or ufuncs, are a functional counterpart of broadcasting.\n",
    "+ arithmetic: add(), multiply(), negative(), exp(), log(), sqrt()\n",
    "+ trigonometric: sin(),cos(), hypot()\n",
    "+ bitwise: bitwise_and(), left_shift()\n",
    "+ relational and logical: less(), logical_not(), equal()\n",
    "+ maximum() and minimum();\n",
    "+ functions for working with floating point numbers: isinf(), isfinite(), floor(), isnan()\n",
    "\n",
    "Let’s say we recorded the stock prices for the eight symbols sap after and before the weekend of 01/10/2016 in a one-dimensional array stocks:"
   ]
  },
  {
   "cell_type": "code",
   "execution_count": 41,
   "metadata": {
    "collapsed": false
   },
   "outputs": [
    {
     "data": {
      "text/plain": [
       "array([ 140.49,    0.97,   40.68,   41.53,   55.7 ,   57.21,   98.2 ,\n",
       "         99.19,  109.96,  111.47,   35.71,   36.27,   87.85,   89.11,\n",
       "         30.22,   30.91])"
      ]
     },
     "execution_count": 41,
     "metadata": {},
     "output_type": "execute_result"
    }
   ],
   "source": [
    "stocks=np.array([ 140.49, 0.97, 40.68, 41.53, 55.7 , 57.21, 98.2, 99.19, 109.96, 111.47, 35.71, 36.27, 87.85, 89.11, 30.22, 30.91])\n",
    "stocks"
   ]
  },
  {
   "cell_type": "markdown",
   "metadata": {},
   "source": [
    "We want to know which stock prices fell over the weekend. \n",
    "\n",
    "We’ll first group the prices by symbols and put newer quotes after older quotes—by reshaping the original array into a 2×8 matrix:"
   ]
  },
  {
   "cell_type": "code",
   "execution_count": 42,
   "metadata": {
    "collapsed": false
   },
   "outputs": [
    {
     "data": {
      "text/plain": [
       "array([[ 140.49,   40.68,   55.7 ,   98.2 ,  109.96,   35.71,   87.85,\n",
       "          30.22],\n",
       "       [   0.97,   41.53,   57.21,   99.19,  111.47,   36.27,   89.11,\n",
       "          30.91]])"
      ]
     },
     "execution_count": 42,
     "metadata": {},
     "output_type": "execute_result"
    }
   ],
   "source": [
    "stocks = stocks.reshape(8, 2).T\n",
    "stocks"
   ]
  },
  {
   "cell_type": "markdown",
   "metadata": {},
   "source": [
    "Now we can apply function *greater()* to both rows, perform column-wise comparison, and find out the symbol of interest using Boolean indexing:"
   ]
  },
  {
   "cell_type": "code",
   "execution_count": 43,
   "metadata": {
    "collapsed": false
   },
   "outputs": [
    {
     "data": {
      "text/plain": [
       "array([ True, False, False, False, False, False, False, False], dtype=bool)"
      ]
     },
     "execution_count": 43,
     "metadata": {},
     "output_type": "execute_result"
    }
   ],
   "source": [
    "fall = np.greater(stocks[0], stocks[1])\n",
    "fall\n"
   ]
  },
  {
   "cell_type": "code",
   "execution_count": 44,
   "metadata": {
    "collapsed": false
   },
   "outputs": [
    {
     "data": {
      "text/plain": [
       "array(['MMM'], \n",
       "      dtype='<U4')"
      ]
     },
     "execution_count": 44,
     "metadata": {},
     "output_type": "execute_result"
    }
   ],
   "source": [
    "sap[fall]"
   ]
  },
  {
   "cell_type": "markdown",
   "metadata": {},
   "source": [
    "Incidentally, MMM is a Ponzi scheme–based Russian company that has never been listed at any stock exchange. No wonder their stock is in decline.\n",
    "\n",
    "\n",
    "Universal function isnan() is an excellent tool for locating the outcasts."
   ]
  },
  {
   "cell_type": "code",
   "execution_count": 23,
   "metadata": {
    "collapsed": false
   },
   "outputs": [
    {
     "data": {
      "text/plain": [
       "array([[False, False, False, False, False, False, False, False],\n",
       "       [ True, False, False, False, False, False, False, False]], dtype=bool)"
      ]
     },
     "execution_count": 23,
     "metadata": {},
     "output_type": "execute_result"
    }
   ],
   "source": [
    "# Pretend the new MMM quote is missing\n",
    "stocks[1, 0] = np.nan\n",
    "np.isnan(stocks)\n"
   ]
  },
  {
   "cell_type": "code",
   "execution_count": 45,
   "metadata": {
    "collapsed": false
   },
   "outputs": [
    {
     "data": {
      "text/plain": [
       "array([[ 140.49,   40.68,   55.7 ,   98.2 ,  109.96,   35.71,   87.85,\n",
       "          30.22],\n",
       "       [   0.97,   41.53,   57.21,   99.19,  111.47,   36.27,   89.11,\n",
       "          30.91]])"
      ]
     },
     "execution_count": 45,
     "metadata": {},
     "output_type": "execute_result"
    }
   ],
   "source": [
    "# Repair the damage; it can't get worse than this\n",
    "stocks[np.isnan(stocks)] = 0\n",
    "stocks"
   ]
  },
  {
   "cell_type": "markdown",
   "metadata": {},
   "source": [
    "## Understanding Conditional Functions\n",
    "\n",
    "Function where(c, a, b) is the numpy idea of the ternary operator if-else. \n",
    "\n",
    "It takes a Boolean array c and two other arrays a and b and returns array d[i]=a[i] if c[i] else b[i]. \n",
    "\n",
    "All three arrays must be of the same shape.\n"
   ]
  },
  {
   "cell_type": "markdown",
   "metadata": {},
   "source": [
    "We recorded some S&P stock prices in an array sap.\n",
    "\n",
    "To find out which stock changed substantially (by more than $1.00 per share), let’s replace “small” changes be zeros, locate the non-zero elements, and use their indexes as a “smart index” into the array of stock symbols:"
   ]
  },
  {
   "cell_type": "code",
   "execution_count": 46,
   "metadata": {
    "collapsed": false
   },
   "outputs": [
    {
     "data": {
      "text/plain": [
       "array([-139.52,    0.  ,    1.51,    0.  ,    1.51,    0.  ,    1.26,    0.  ])"
      ]
     },
     "execution_count": 46,
     "metadata": {},
     "output_type": "execute_result"
    }
   ],
   "source": [
    "changes = np.where(np.abs(stocks[1] - stocks[0]) > 1.00, stocks[1] - stocks[0], 0)\n",
    "changes\n"
   ]
  },
  {
   "cell_type": "code",
   "execution_count": 47,
   "metadata": {
    "collapsed": false
   },
   "outputs": [
    {
     "data": {
      "text/plain": [
       "(array([0, 2, 4, 6], dtype=int64),)"
      ]
     },
     "execution_count": 47,
     "metadata": {},
     "output_type": "execute_result"
    }
   ],
   "source": [
    "np.nonzero(changes)"
   ]
  },
  {
   "cell_type": "code",
   "execution_count": 48,
   "metadata": {
    "collapsed": false
   },
   "outputs": [
    {
     "data": {
      "text/plain": [
       "array(['MMM', 'ABBV', 'ACE', 'ADBE'], \n",
       "      dtype='<U4')"
      ]
     },
     "execution_count": 48,
     "metadata": {},
     "output_type": "execute_result"
    }
   ],
   "source": [
    "sap[np.nonzero(changes)]"
   ]
  },
  {
   "cell_type": "markdown",
   "metadata": {
    "collapsed": true
   },
   "source": [
    "You could surely get the same answer using Boolean indexes alone:\n",
    "But it would not be so much fun!"
   ]
  },
  {
   "cell_type": "code",
   "execution_count": 49,
   "metadata": {
    "collapsed": false
   },
   "outputs": [
    {
     "data": {
      "text/plain": [
       "array(['MMM', 'ABBV', 'ACE', 'ADBE'], \n",
       "      dtype='<U4')"
      ]
     },
     "execution_count": 49,
     "metadata": {},
     "output_type": "execute_result"
    }
   ],
   "source": [
    "sap[np.abs(stocks[1] - stocks[0]) > 1.00]"
   ]
  },
  {
   "cell_type": "markdown",
   "metadata": {},
   "source": [
    "## Aggregating and Ordering Arrays\n",
    "\n",
    "Extract the stocks from Unit that changed either way by more than the average eight-stock portfolio.\n",
    "But, honestly, mixing positive and negative stock quote changes sounds like another horrible idea."
   ]
  },
  {
   "cell_type": "code",
   "execution_count": 27,
   "metadata": {
    "collapsed": false
   },
   "outputs": [
    {
     "data": {
      "text/plain": [
       "array(['MMM'], \n",
       "      dtype='<U4')"
      ]
     },
     "execution_count": 27,
     "metadata": {},
     "output_type": "execute_result"
    }
   ],
   "source": [
    "sap[ np.abs(stocks[0] - stocks[1])\n",
    "    > np.mean(np.abs(stocks[0] - stocks[1]))]"
   ]
  },
  {
   "cell_type": "markdown",
   "metadata": {},
   "source": [
    "## Treating Array as Sets\n",
    "Function unique(x) returns an array of all unique elements of *x*."
   ]
  },
  {
   "cell_type": "code",
   "execution_count": 51,
   "metadata": {
    "collapsed": false
   },
   "outputs": [
    {
     "data": {
      "text/plain": [
       "array(['A', 'G', 'T', 'C', 'C', 'G', 'C', 'G', 'A', 'A', 'T', 'A', 'C',\n",
       "       'A', 'G', 'G', 'C', 'T', 'C', 'G', 'G', 'T'], \n",
       "      dtype='<U1')"
      ]
     },
     "execution_count": 51,
     "metadata": {},
     "output_type": "execute_result"
    }
   ],
   "source": [
    "dna = \"AGTCCGCGAATACAGGCTCGGT\"\n",
    "dna_as_array = np.array(list(dna))\n",
    "dna_as_array\n"
   ]
  },
  {
   "cell_type": "code",
   "execution_count": 52,
   "metadata": {
    "collapsed": false
   },
   "outputs": [
    {
     "data": {
      "text/plain": [
       "array(['A', 'C', 'G', 'T'], \n",
       "      dtype='<U1')"
      ]
     },
     "execution_count": 52,
     "metadata": {},
     "output_type": "execute_result"
    }
   ],
   "source": [
    "np.unique(dna_as_array)\n",
    "# You knew it, didn't you?"
   ]
  },
  {
   "cell_type": "markdown",
   "metadata": {},
   "source": [
    "Function *in1d(needle, haystack)* returns a Boolean array where an element is True if the corresponding element of the needle is in the haystack. The arrays needle and haystack do not have to be of the same shape.\n"
   ]
  },
  {
   "cell_type": "code",
   "execution_count": 31,
   "metadata": {
    "collapsed": false
   },
   "outputs": [
    {
     "data": {
      "text/plain": [
       "array([False,  True, False], dtype=bool)"
      ]
     },
     "execution_count": 31,
     "metadata": {},
     "output_type": "execute_result"
    }
   ],
   "source": [
    "np.in1d([\"MSFT\", \"MMM\", \"AAPL\"], sap)"
   ]
  },
  {
   "cell_type": "markdown",
   "metadata": {},
   "source": [
    "## Saving and Reading Arrays"
   ]
  },
  {
   "cell_type": "code",
   "execution_count": 33,
   "metadata": {
    "collapsed": false
   },
   "outputs": [],
   "source": [
    "# A silly way to copy an array\n",
    "np.save(\"sap.npy\", sap)\n",
    "sap_copy = np.load(\"sap.npy\")\n",
    "\n",
    "# The files are in a binary format, and only numpy can handle them.\n"
   ]
  },
  {
   "cell_type": "markdown",
   "metadata": {},
   "source": [
    "Another pair of functions, loadtxt() and savetxt(), loads tabular data from a text file and saves an array to a text file.\n",
    "\n",
    "    arr = np.loadtxt(fname, comments=\"#\", delimiter=None, skiprows=0, dtype=float)\n",
    "\n",
    "\n",
    "    np.savetxt(fname, arr, comments=\"#\", delimiter=\" \", dtype=float)\n"
   ]
  },
  {
   "cell_type": "code",
   "execution_count": null,
   "metadata": {
    "collapsed": true
   },
   "outputs": [],
   "source": []
  }
 ],
 "metadata": {
  "kernelspec": {
   "display_name": "Python [Root]",
   "language": "python",
   "name": "Python [Root]"
  },
  "language_info": {
   "codemirror_mode": {
    "name": "ipython",
    "version": 3
   },
   "file_extension": ".py",
   "mimetype": "text/x-python",
   "name": "python",
   "nbconvert_exporter": "python",
   "pygments_lexer": "ipython3",
   "version": "3.5.2"
  }
 },
 "nbformat": 4,
 "nbformat_minor": 0
}
