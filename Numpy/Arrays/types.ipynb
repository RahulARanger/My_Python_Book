{
 "cells": [
  {
   "cell_type": "markdown",
   "metadata": {},
   "source": [
    "# Data Types in Numpy\r\n",
    "\r\n",
    "Below is a list of all data types in NumPy and the characters used to represent them.\r\n",
    "\r\n",
    "* i - integer \r\n",
    "* b - boolean (bool)\r\n",
    "* u - unsigned integer (integer)\r\n",
    "* f - float (float)\r\n",
    "* c - complex float (float)\r\n",
    "* m - timedelta\r\n",
    "* M - datetime\r\n",
    "* O - object \r\n",
    "* S - string (str)\r\n",
    "* U - unicode string (str)\r\n",
    "* V - fixed chunk of memory for other type ( void )\r\n",
    "\r\n",
    "For more information refer: https://www.w3schools.com/python/numpy_data_types.asp\r\n",
    "\r\n"
   ]
  },
  {
   "cell_type": "code",
   "execution_count": 15,
   "metadata": {},
   "outputs": [
    {
     "name": "stdout",
     "output_type": "stream",
     "text": [
      "<U1\n",
      "<U1\n"
     ]
    }
   ],
   "source": [
    "import numpy\r\n",
    "testing=numpy.array([1,2],str)\r\n",
    "testing2=numpy.array([1,2],'U')\r\n",
    "print(testing2.dtype)\r\n",
    "print(testing.dtype)\r\n"
   ]
  }
 ],
 "metadata": {
  "kernelspec": {
   "display_name": "Python 3",
   "name": "python3"
  },
  "language_info": {
   "codemirror_mode": {
    "name": "ipython",
    "version": 3
   },
   "file_extension": ".py",
   "mimetype": "text/x-python",
   "name": "python",
   "nbconvert_exporter": "python",
   "pygments_lexer": "ipython3",
   "version": "3.8.3"
  },
  "orig_nbformat": 2
 },
 "nbformat": 4,
 "nbformat_minor": 2
}