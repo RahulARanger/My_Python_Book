{
  "nbformat": 4,
  "nbformat_minor": 0,
  "metadata": {
    "colab": {
      "name": "Untitled3.ipynb",
      "provenance": []
    },
    "kernelspec": {
      "name": "python3",
      "display_name": "Python 3"
    }
  },
  "cells": [
    {
      "cell_type": "code",
      "metadata": {
        "colab": {
          "base_uri": "https://localhost:8080/"
        },
        "id": "NYq7RMleHs-Z",
        "outputId": "50a34bed-7c00-4a47-a62a-e3e501b8831d"
      },
      "source": [
        "import numpy\r\n",
        "\r\n",
        "a = numpy.array(\r\n",
        "    [\r\n",
        "     [\r\n",
        "      1, 2, 3\r\n",
        "     ],\r\n",
        "     [\r\n",
        "      4, 5, 6\r\n",
        "     ],\r\n",
        "     [\r\n",
        "      7, 8, 9\r\n",
        "     ]\r\n",
        "    ]\r\n",
        ")\r\n",
        "print(a)"
      ],
      "execution_count": 1,
      "outputs": [
        {
          "output_type": "stream",
          "text": [
            "[[1 2 3]\n",
            " [4 5 6]\n",
            " [7 8 9]]\n"
          ],
          "name": "stdout"
        }
      ]
    },
    {
      "cell_type": "code",
      "metadata": {
        "colab": {
          "base_uri": "https://localhost:8080/"
        },
        "id": "38m-O3O9H6TH",
        "outputId": "52d191c5-cb33-4f9e-829c-60ffd9934345"
      },
      "source": [
        "print(\"# dimensions\")\r\n",
        "print(a.ndim) \r\n",
        "\r\n",
        "print(\"# number of elements\")\r\n",
        "print(a.size)\r\n",
        "\r\n",
        "print(\"# number of bytes\")\r\n",
        "print(a.nbytes)\r\n",
        "\r\n",
        "print(\"# bytes per eleemnt\")\r\n",
        "print(a.itemsize)\r\n",
        "\r\n",
        "print(\"# shape (elements in each dimemnsions)\")\r\n",
        "print(a.shape)"
      ],
      "execution_count": 3,
      "outputs": [
        {
          "output_type": "stream",
          "text": [
            "# dimensions\n",
            "2\n",
            "# number of elements\n",
            "9\n",
            "# number of bytes\n",
            "72\n",
            "# bytes per eleemnt\n",
            "8\n",
            "# shape (elements in each dimemnsions)\n",
            "(3, 3)\n"
          ],
          "name": "stdout"
        }
      ]
    }
  ]
}