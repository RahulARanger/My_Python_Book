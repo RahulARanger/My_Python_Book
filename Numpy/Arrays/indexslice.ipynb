{
 "cells": [
  {
   "cell_type": "markdown",
   "metadata": {},
   "source": [
    "# Indexing and Slicing\r\n",
    "\r\n",
    "with indexing we can access the elements in the array (particular element or range of elements).\r\n",
    "\r\n"
   ]
  },
  {
   "cell_type": "markdown",
   "metadata": {},
   "source": [
    "# Single Dimensional Arrays\r\n",
    "\r\n",
    "Indexing and Slicing for 1-d numpy arrays follows the same pattern as that of Lists and Tuples.  \r\n",
    "`[Start:Stop:Step]`"
   ]
  },
  {
   "cell_type": "code",
   "execution_count": 1,
   "metadata": {},
   "outputs": [],
   "source": [
    "import numpy"
   ]
  },
  {
   "cell_type": "code",
   "execution_count": 2,
   "metadata": {},
   "outputs": [
    {
     "name": "stdout",
     "output_type": "stream",
     "text": [
      "[ 0  1  2  3  4  5  6  7  8  9 10 11 12 13 14 15 16 17 18 19]\n",
      "------------------------------------------------------------------\n",
      "2\n",
      "------------------------------------------------------------------\n",
      "[1 2 3 4 5]\n",
      "------------------------------------------------------------------\n",
      "[ 5  6  7  8  9 10 11 12 13 14 15 16 17 18 19]\n",
      "------------------------------------------------------------------\n",
      "[ 0  2  4  6  8 10 12 14 16 18]\n"
     ]
    }
   ],
   "source": [
    "testing1=numpy.arange(20)\r\n",
    "print(testing1)\r\n",
    "print(66*'-')\r\n",
    "print(testing1[2])\r\n",
    "print(66*'-')\r\n",
    "print(testing1[1:6])\r\n",
    "print(66*'-')\r\n",
    "print(testing1[5:])\r\n",
    "print(66*'-')\r\n",
    "print(testing1[::2])"
   ]
  },
  {
   "cell_type": "markdown",
   "metadata": {},
   "source": [
    "# Multi Dimensional Arrays"
   ]
  },
  {
   "cell_type": "code",
   "execution_count": 3,
   "metadata": {},
   "outputs": [
    {
     "name": "stdout",
     "output_type": "stream",
     "text": [
      "[[ 0  1  2  3  4  5]\n",
      " [ 6  7  8  9 10 11]\n",
      " [12 13 14 15 16 17]\n",
      " [18 19 20 21 22 23]\n",
      " [24 25 26 27 28 29]\n",
      " [30 31 32 33 34 35]]\n"
     ]
    }
   ],
   "source": [
    "testing2=numpy.arange(36).reshape(6,6)\r\n",
    "print(testing2)\r\n",
    "print(69*'-')\r\n"
   ]
  }
 ],
 "metadata": {
  "kernelspec": {
   "display_name": "Python 3",
   "name": "python3"
  },
  "language_info": {
   "codemirror_mode": {
    "name": "ipython",
    "version": 3
   },
   "file_extension": ".py",
   "mimetype": "text/x-python",
   "name": "python",
   "nbconvert_exporter": "python",
   "pygments_lexer": "ipython3",
   "version": "3.8.3"
  },
  "orig_nbformat": 2
 },
 "nbformat": 4,
 "nbformat_minor": 2
}