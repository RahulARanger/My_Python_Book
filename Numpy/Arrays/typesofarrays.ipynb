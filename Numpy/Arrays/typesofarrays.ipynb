{
 "cells": [
  {
   "cell_type": "markdown",
   "metadata": {},
   "source": [
    "# Types of numpy arrays\r\n",
    "\r\n",
    "There are some ways to quickly create numpy arrays\r\n",
    "* `linspace()`\r\n",
    "* `arange()`\r\n",
    "* `zeros()`\r\n",
    "* `ones()`\r\n",
    "* `empty()`"
   ]
  },
  {
   "cell_type": "code",
   "execution_count": 1,
   "metadata": {},
   "outputs": [],
   "source": [
    "import numpy"
   ]
  },
  {
   "cell_type": "markdown",
   "metadata": {},
   "source": [
    "# `zeros()`\r\n",
    "\r\n",
    "`zeros()` is the numpy array method to create array elements of value 0 (of int type), 0. (for decimal type) and '' (for string type)"
   ]
  },
  {
   "cell_type": "code",
   "execution_count": 2,
   "metadata": {},
   "outputs": [
    {
     "name": "stdout",
     "output_type": "stream",
     "text": [
      "[0. 0. 0.]\n",
      "------------------------------------------------------------------\n",
      "[['' '' '']\n",
      " ['' '' '']\n",
      " ['' '' '']]\n"
     ]
    }
   ],
   "source": [
    "testing1=numpy.zeros(3)\r\n",
    "print(testing1)\r\n",
    "print('-'*66)\r\n",
    "testing2=numpy.zeros((3,3),dtype=str)\r\n",
    "print(testing2)"
   ]
  },
  {
   "cell_type": "markdown",
   "metadata": {},
   "source": [
    "# `ones()`\r\n",
    "\r\n",
    "`ones()` creates numpy array elements of value 1 (of int type), 1. (in float type) and '1' in string type\r\n",
    "it has the same parameters as of `zeros()`"
   ]
  },
  {
   "cell_type": "code",
   "execution_count": 3,
   "metadata": {},
   "outputs": [
    {
     "name": "stdout",
     "output_type": "stream",
     "text": [
      "['1' '1' '1' '1' '1' '1']\n",
      "------------------------------------------------------------------\n",
      "[[[1. 1. 1.]\n",
      "  [1. 1. 1.]\n",
      "  [1. 1. 1.]]\n",
      "\n",
      " [[1. 1. 1.]\n",
      "  [1. 1. 1.]\n",
      "  [1. 1. 1.]]\n",
      "\n",
      " [[1. 1. 1.]\n",
      "  [1. 1. 1.]\n",
      "  [1. 1. 1.]]]\n"
     ]
    }
   ],
   "source": [
    "testing3=numpy.ones(6,dtype=str)\r\n",
    "print(testing3)\r\n",
    "print('-'*66)\r\n",
    "testing4=numpy.ones((3,3,3))\r\n",
    "print(testing4)"
   ]
  },
  {
   "cell_type": "markdown",
   "metadata": {},
   "source": [
    "# `arange()`\r\n",
    "\r\n",
    "`arange()` is similar to the `range()` it is of form `arange(start,stop,step=1,dtype)` it accepts int values for the start, stop and step and note that dtype can't be of `str` type"
   ]
  },
  {
   "cell_type": "code",
   "execution_count": 4,
   "metadata": {},
   "outputs": [
    {
     "name": "stdout",
     "output_type": "stream",
     "text": [
      "[2 3 4]\n",
      "------------------------------------------------------------------\n",
      "[ 6.  8. 10. 12. 14. 16. 18. 20. 22. 24. 26. 28. 30. 32. 34. 36. 38. 40.\n",
      " 42. 44. 46. 48. 50. 52. 54. 56. 58. 60. 62. 64. 66.]\n"
     ]
    }
   ],
   "source": [
    "testing5=numpy.arange(2,5)\r\n",
    "print(testing5)\r\n",
    "print('-'*66)\r\n",
    "testing6=numpy.arange(6,67,2,dtype=float)\r\n",
    "print(testing6)"
   ]
  },
  {
   "cell_type": "markdown",
   "metadata": {},
   "source": [
    "# `empty()`\r\n",
    "\r\n",
    "`empty()` creates an array of some junk values it has paramaeters of shape and dtype but for string type it has '' value"
   ]
  },
  {
   "cell_type": "code",
   "execution_count": 5,
   "metadata": {},
   "outputs": [
    {
     "name": "stdout",
     "output_type": "stream",
     "text": [
      "[[0.00e+000 0.00e+000 0.00e+000]\n",
      " [0.00e+000 0.00e+000 4.09e-321]\n",
      " [0.00e+000 0.00e+000 0.00e+000]]\n",
      "------------------------------------------------------------------\n",
      "[['' '' '']\n",
      " ['' '' '']\n",
      " ['' '' '']]\n"
     ]
    }
   ],
   "source": [
    "testing7=numpy.empty((3,3))\r\n",
    "print(testing7)\r\n",
    "print('-'*66)\r\n",
    "testing8=numpy.empty((3,3),dtype=str)\r\n",
    "print(testing8)"
   ]
  },
  {
   "cell_type": "markdown",
   "metadata": {},
   "source": [
    "# `linspace()`\r\n",
    "`linspace(start,stop,num,endpoint,retstep=False,dtype,axis)` \r\n",
    "* start and stop denotes the starting pt. of the array and ending pt. of the aray respec. can be of types `int` or `float` or `iterative containers like list() or tuple() etc...`\r\n",
    "* num denotes the number of the elements in the array  (default=50)\r\n",
    "* retstep if True returns the tuple of numpy array and the step size (default=`False`)\r\n",
    "* dtype for the type of the array (default=`float`)\r\n",
    "* endpoint denotes whether to include endpoint in the array or not (default=`True`)\r\n",
    "* axis is used whenever start o rstop is of iterative type it specifies whether to store nanswer in rows (value=1) or in columns (value=0 default)"
   ]
  },
  {
   "cell_type": "code",
   "execution_count": 6,
   "metadata": {},
   "outputs": [
    {
     "name": "stdout",
     "output_type": "stream",
     "text": [
      "['2.0' '2.2' '2.4' '2.6' '2.8' '3.0']\n",
      "------------------------------------------------------------------\n",
      "[2.         2.16666667 2.33333333 2.5        2.66666667 2.83333333]\n",
      "------------------------------------------------------------------\n",
      "<class 'numpy.ndarray'>\n",
      "------------------------------------------------------------------\n",
      "(array([2, 2, 3, 4, 5, 6]), 0.8)\n"
     ]
    }
   ],
   "source": [
    "testing9=numpy.linspace(2.0,3.0,num=6,dtype=str)\r\n",
    "print(testing9) # includes the end point\r\n",
    "print('-'*66)\r\n",
    "testing10=numpy.linspace(2.0,3.0,num=6,endpoint=False,dtype=float)\r\n",
    "print(testing10) # doesn't include end point \r\n",
    "print('-'*66)\r\n",
    "print(type(testing10))\r\n",
    "print('-'*66)\r\n",
    "testing11=numpy.linspace(2.0,6.0,num=6,endpoint=True,retstep=True,dtype=int)\r\n",
    "print(testing11)"
   ]
  },
  {
   "cell_type": "markdown",
   "metadata": {},
   "source": [
    "## 2d arrays with `linspace()`\r\n",
    "\r\n",
    "we can create 2 D arrays with `linspace()` for that start and stop must be of iterative type like `list()` or `tuple()`,etc.."
   ]
  },
  {
   "cell_type": "code",
   "execution_count": 7,
   "metadata": {},
   "outputs": [
    {
     "name": "stdout",
     "output_type": "stream",
     "text": [
      "[[1.  2. ]\n",
      " [1.8 2.8]\n",
      " [2.6 3.6]\n",
      " [3.4 4.4]\n",
      " [4.2 5.2]\n",
      " [5.  6. ]]\n",
      "------------------------------------------------------------------\n",
      "error\n",
      "------------------------------------------------------------------\n",
      "all the elements in the start and stop must be of same type\n"
     ]
    }
   ],
   "source": [
    "testing12=numpy.linspace([1,2],[5,6],num=6)\r\n",
    "# element indexes are lined like all 0s ae linked and all 1s are linked\r\n",
    "print(testing12)\r\n",
    "print('-'*66)\r\n",
    "try:\r\n",
    "    testing13=numpy.linspace([1,2,3],[7,8],num=10)\r\n",
    "    print(testing13)\r\n",
    "except:\r\n",
    "    # note here all the iterative type of start and stop must have the same size\r\n",
    "    print('error')\r\n",
    "print('-'*66)\r\n",
    "try:\r\n",
    "    testing14=numpy.linspace([1,2],['3','4'],num=10)\r\n",
    "    print(testing14)\r\n",
    "except:\r\n",
    "    print('all the elements in the start and stop must be of same type')"
   ]
  },
  {
   "cell_type": "code",
   "execution_count": 8,
   "metadata": {},
   "outputs": [
    {
     "name": "stdout",
     "output_type": "stream",
     "text": [
      "[[ 1.    1.    1.    1.  ]\n",
      " [ 2.    2.25  4.25  6.75]\n",
      " [ 3.    3.5   7.5  12.5 ]\n",
      " [ 4.    4.75 10.75 18.25]\n",
      " [ 5.    6.   14.   24.  ]]\n"
     ]
    }
   ],
   "source": [
    "testing15= numpy.linspace(start=1, stop=[5, 6, 14, 24], num=5)\r\n",
    "print(testing15)\r\n",
    "# if one has single type then they are converted to iterative type of size of another (among start and stop)"
   ]
  },
  {
   "cell_type": "code",
   "execution_count": 9,
   "metadata": {},
   "outputs": [
    {
     "name": "stdout",
     "output_type": "stream",
     "text": [
      "[[1.  2. ]\n",
      " [1.8 2.8]\n",
      " [2.6 3.6]\n",
      " [3.4 4.4]\n",
      " [4.2 5.2]\n",
      " [5.  6. ]]\n",
      "------------------------------------------------------------------\n",
      "[[1.  1.8 2.6 3.4 4.2 5. ]\n",
      " [2.  2.8 3.6 4.4 5.2 6. ]]\n"
     ]
    }
   ],
   "source": [
    "# here we can see the answers for each element corresponds through columns (axis=0)(default)\r\n",
    "testing16= numpy.linspace([1,2],[5,6],num=6,axis=0)\r\n",
    "print(testing16)\r\n",
    "print('-'*66)\r\n",
    "# here answers for each element corresponds through rows (axis=1)\r\n",
    "testing17=numpy.linspace([1,2],[5,6],num=6,axis=1)\r\n",
    "print(testing17)"
   ]
  }
 ],
 "metadata": {
  "kernelspec": {
   "display_name": "Python 3",
   "name": "python3"
  },
  "language_info": {
   "codemirror_mode": {
    "name": "ipython",
    "version": 3
   },
   "file_extension": ".py",
   "mimetype": "text/x-python",
   "name": "python",
   "nbconvert_exporter": "python",
   "pygments_lexer": "ipython3",
   "version": "3.8.3"
  },
  "orig_nbformat": 2
 },
 "nbformat": 4,
 "nbformat_minor": 2
}