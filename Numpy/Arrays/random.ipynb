{
 "cells": [
  {
   "cell_type": "markdown",
   "metadata": {},
   "source": [
    "# Random\r\n",
    "\r\n",
    "Numpy Module can also be used to generate random Numbers.\r\n",
    "## `seed(x)` initilazes numpy.random generator\r\n",
    "### `seed(x)` should only be used for single threrad programs else use `random.seed()`.\r\n",
    "### `seed(x)` is optional. But when used with cerrrtain x then for every execution same values are generated\r\n",
    "## `randint(x)` can geneate a integer from a range 0 to x (x not included)  so x should be gerater than 0.\r\n",
    "## `rand(x,y,z,..)`  can generate a float number between 0 and 1 of type numpy array (with shape (x,y,z...))\r\n",
    "## `choice(container,size=(x,y,...))` can generate random numbers from the container and convert them in to numpy array of given size11\r\n"
   ]
  },
  {
   "cell_type": "code",
   "execution_count": 116,
   "metadata": {},
   "outputs": [],
   "source": [
    "import numpy.random\r\n",
    "# TODO: initilazes the random generator (use this when using single thread)\r\n",
    "\r\n",
    "# numpy.random.seed(1) "
   ]
  },
  {
   "cell_type": "code",
   "execution_count": 117,
   "metadata": {},
   "outputs": [
    {
     "name": "stdout",
     "output_type": "stream",
     "text": [
      "3\n",
      "---------------------------------------------------------------------\n",
      "963\n"
     ]
    }
   ],
   "source": [
    "\r\n",
    "a=numpy.random.randint(10)\r\n",
    "print(a)\r\n",
    "print(69*'-')\r\n",
    "b=numpy.random.randint(1000)\r\n",
    "print(b)\r\n",
    "\r\n",
    "# !random.randint(x) where x is the ending point (not included) (x>0)\r\n"
   ]
  },
  {
   "cell_type": "code",
   "execution_count": 118,
   "metadata": {},
   "outputs": [
    {
     "name": "stdout",
     "output_type": "stream",
     "text": [
      "[[0.30024834 0.14300583 0.90130844]\n",
      " [0.54155938 0.97474037 0.6366044 ]\n",
      " [0.99391302 0.5460708  0.52642593]]\n",
      "---------------------------------------------------------------------\n",
      "[0.1354279  0.35570517 0.02621857 0.16039518 0.74563719 0.03039969\n",
      " 0.3665431  0.86234625 0.69267772]\n"
     ]
    }
   ],
   "source": [
    "\r\n",
    "# ! numpy.random.rand() doesn't have any range but it can generate a numpy array\r\n",
    "a=numpy.random.rand(3,3)\r\n",
    "print(a)\r\n",
    "print(69*'-')\r\n",
    "b=numpy.random.rand(9)\r\n",
    "print(b)\r\n"
   ]
  },
  {
   "cell_type": "code",
   "execution_count": 119,
   "metadata": {},
   "outputs": [
    {
     "name": "stdout",
     "output_type": "stream",
     "text": [
      "True\n",
      "---------------------------------------------------------------------\n",
      "[[False True True]\n",
      " [True True None]\n",
      " [None True None]]\n"
     ]
    }
   ],
   "source": [
    "lst=[True,False,None]\r\n",
    "a=numpy.random.choice(lst)\r\n",
    "print(a)\r\n",
    "print(69*'-')\r\n",
    "b=numpy.random.choice(lst,size=(3,3))\r\n",
    "print(b)"
   ]
  },
  {
   "cell_type": "code",
   "execution_count": 120,
   "metadata": {},
   "outputs": [
    {
     "name": "stdout",
     "output_type": "stream",
     "text": [
      "-5\n",
      "---------------------------------------------------------------------\n",
      "-525\n",
      "---------------------------------------------------------------------\n",
      "4191\n",
      "---------------------------------------------------------------------\n",
      "122\n"
     ]
    }
   ],
   "source": [
    "\r\n",
    "# TODO: Generating Negative Numbers\r\n",
    "def generateWhole(start,end):\r\n",
    "    return numpy.random.choice(range(start,end))\r\n",
    "\r\n",
    "testing1=generateWhole(-10,10)\r\n",
    "print(testing1)\r\n",
    "print(69*'-')\r\n",
    "testing2=generateWhole(-1000,0)\r\n",
    "print(testing2)\r\n",
    "print(69*'-')\r\n",
    "testing3=generateWhole(0,10000)\r\n",
    "print(testing3)\r\n",
    "print(69*'-')\r\n",
    "testing4=generateWhole(100,200)\r\n",
    "print(testing4)\r\n",
    "\r\n",
    "\r\n",
    "\r\n"
   ]
  }
 ],
 "metadata": {
  "kernelspec": {
   "display_name": "Python 3",
   "name": "python3"
  },
  "language_info": {
   "codemirror_mode": {
    "name": "ipython",
    "version": 3
   },
   "file_extension": ".py",
   "mimetype": "text/x-python",
   "name": "python",
   "nbconvert_exporter": "python",
   "pygments_lexer": "ipython3",
   "version": "3.8.3"
  },
  "orig_nbformat": 2
 },
 "nbformat": 4,
 "nbformat_minor": 2
}