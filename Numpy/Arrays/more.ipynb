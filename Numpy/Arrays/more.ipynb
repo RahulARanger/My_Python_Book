{
 "cells": [
  {
   "cell_type": "code",
   "execution_count": 1,
   "metadata": {},
   "outputs": [
    {
     "data": {
      "text/plain": "numpy.ndarray"
     },
     "execution_count": 1,
     "metadata": {},
     "output_type": "execute_result"
    }
   ],
   "source": [
    "import numpy\r\n",
    "a=[1,2,3,4,5,6,7,8]\r\n",
    "check=numpy.array(a)\r\n",
    "type(check)"
   ]
  },
  {
   "cell_type": "markdown",
   "metadata": {},
   "source": [
    "# Elements of same type are not allowed in the Arrays \r\n",
    "\r\n",
    "## If differenet types of array are used then they will be converted to the higher type"
   ]
  },
  {
   "cell_type": "code",
   "execution_count": 2,
   "metadata": {},
   "outputs": [
    {
     "name": "stdout",
     "output_type": "stream",
     "text": [
      "[2.3 3. ]\n"
     ]
    }
   ],
   "source": [
    "a=['Hello there',2]\r\n",
    "numpy.array(a)\r\n",
    "try:\r\n",
    "    a=numpy.array([2.3,3])\r\n",
    "    print(a)\r\n",
    "except:pass\r\n",
    "\r\n"
   ]
  },
  {
   "cell_type": "markdown",
   "metadata": {},
   "source": [
    "# Constant Variables of the ndarray\r\n",
    "\r\n",
    "*  **ndarray.ndim:** returns the dimension of the array\r\n",
    "\r\n",
    "*  **ndarry.shape:** returns the shape of the array (n1,n2,...)  where elements in that set represent the dimension \r\n",
    "\r\n",
    "*  **testing.size:** returns the size of the array (product of all number in the shape) \r\n",
    "\r\n"
   ]
  },
  {
   "cell_type": "code",
   "execution_count": 3,
   "metadata": {},
   "outputs": [
    {
     "name": "stdout",
     "output_type": "stream",
     "text": [
      "2\n",
      "1\n"
     ]
    }
   ],
   "source": [
    "a=numpy.array([[1,2,3],[4,5,6],[7,8,9]])\r\n",
    "print(a.ndim) # it's in 2 d plane\r\n",
    "print(numpy.array([1,2,3]).ndim) # it's in 1 d plane"
   ]
  },
  {
   "cell_type": "code",
   "execution_count": 4,
   "metadata": {},
   "outputs": [
    {
     "data": {
      "text/plain": "(3, 3)"
     },
     "execution_count": 4,
     "metadata": {},
     "output_type": "execute_result"
    }
   ],
   "source": [
    "testing=numpy.array([[1,2,3],\r\n",
    "[4,5,6],\r\n",
    "[7,8,9]])\r\n",
    "testing.shape"
   ]
  },
  {
   "cell_type": "code",
   "execution_count": 5,
   "metadata": {},
   "outputs": [
    {
     "data": {
      "text/plain": "9"
     },
     "execution_count": 5,
     "metadata": {},
     "output_type": "execute_result"
    }
   ],
   "source": [
    "testing.size"
   ]
  },
  {
   "cell_type": "code",
   "execution_count": 6,
   "metadata": {},
   "outputs": [
    {
     "name": "stdout",
     "output_type": "stream",
     "text": [
      "int32\n",
      "<U1\n"
     ]
    }
   ],
   "source": [
    "print(testing.dtype)\r\n",
    "print(numpy.zeros((6,6),str).dtype)\r\n"
   ]
  },
  {
   "cell_type": "code",
   "execution_count": 7,
   "metadata": {},
   "outputs": [
    {
     "data": {
      "text/plain": "<memory at 0x00000242C9C062B0>"
     },
     "execution_count": 7,
     "metadata": {},
     "output_type": "execute_result"
    }
   ],
   "source": [
    "testing.data"
   ]
  },
  {
   "cell_type": "code",
   "execution_count": null,
   "metadata": {},
   "outputs": [],
   "source": []
  }
 ],
 "metadata": {
  "kernelspec": {
   "display_name": "Python 3",
   "name": "python3"
  },
  "language_info": {
   "codemirror_mode": {
    "name": "ipython",
    "version": 3
   },
   "file_extension": ".py",
   "mimetype": "text/x-python",
   "name": "python",
   "nbconvert_exporter": "python",
   "pygments_lexer": "ipython3",
   "version": "3.8.3"
  },
  "orig_nbformat": 2
 },
 "nbformat": 4,
 "nbformat_minor": 2
}