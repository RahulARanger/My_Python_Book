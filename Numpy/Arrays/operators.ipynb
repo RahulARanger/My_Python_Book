{
 "cells": [
  {
   "cell_type": "markdown",
   "metadata": {},
   "source": [
    "# Operators\r\n",
    "\r\n",
    "    Operators that can do certain operators when used over multiple numpy.arrays. But those multiple arrays must have the same shape."
   ]
  },
  {
   "cell_type": "code",
   "execution_count": 10,
   "metadata": {},
   "outputs": [],
   "source": [
    "import numpy"
   ]
  },
  {
   "cell_type": "markdown",
   "metadata": {},
   "source": [
    "# plus(+), minus(-), multiplication(*), division(/), modulo(%), interger division(truediv)(//)"
   ]
  },
  {
   "cell_type": "code",
   "execution_count": 11,
   "metadata": {},
   "outputs": [
    {
     "name": "stdout",
     "output_type": "stream",
     "text": [
      "[ 6  8 10 12 14 16]\n",
      "------------------------------------------------------------------\n",
      "[[0 1 2]\n",
      " [3 4 5]\n",
      " [6 7 8]]\n",
      "------------------------------------------------------------------\n",
      "[[ 9 10 11]\n",
      " [12 13 14]\n",
      " [15 16 17]]\n",
      "------------------------------------------------------------------\n",
      "[[-9 -9 -9]\n",
      " [-9 -9 -9]\n",
      " [-9 -9 -9]]\n"
     ]
    }
   ],
   "source": [
    "testing1=numpy.arange(6)\r\n",
    "testing2=numpy.arange(6,12)\r\n",
    "print(testing1+testing2)\r\n",
    "print('-'*66)\r\n",
    "testing3=numpy.arange(9)\r\n",
    "testing3=testing3.reshape(3,3)\r\n",
    "print(testing3)\r\n",
    "print('-'*66)\r\n",
    "testing4=numpy.arange(9,18)\r\n",
    "testing4=testing4.reshape(3,3)\r\n",
    "print(testing4)\r\n",
    "print('-'*66)\r\n",
    "print(testing3-testing4)"
   ]
  },
  {
   "cell_type": "code",
   "execution_count": 12,
   "metadata": {},
   "outputs": [
    {
     "name": "stdout",
     "output_type": "stream",
     "text": [
      "[[7. 7. 7.]\n",
      " [7. 7. 7.]\n",
      " [7. 7. 7.]]\n",
      "------------------------------------------------------------------\n"
     ]
    }
   ],
   "source": [
    "testing5=numpy.zeros((3,3))\r\n",
    "testing5=testing5+6\r\n",
    "print(testing5)\r\n",
    "print('-'*66)"
   ]
  }
 ],
 "metadata": {
  "kernelspec": {
   "display_name": "Python 3",
   "name": "python3"
  },
  "language_info": {
   "codemirror_mode": {
    "name": "ipython",
    "version": 3
   },
   "file_extension": ".py",
   "mimetype": "text/x-python",
   "name": "python",
   "nbconvert_exporter": "python",
   "pygments_lexer": "ipython3",
   "version": "3.8.3"
  },
  "orig_nbformat": 2
 },
 "nbformat": 4,
 "nbformat_minor": 2
}