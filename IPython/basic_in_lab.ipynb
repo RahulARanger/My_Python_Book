{
 "cells": [
  {
   "cell_type": "markdown",
   "metadata": {},
   "source": [
    "# Introduction\n",
    "   \n",
    "<blockquote>In Jupter Lab</blockquote>\n",
    "\n",
    "\n",
    "Two Modes: `Edit` and then `Command Mode`  \n",
    "\n",
    "* For `Edit` mode: <kbd> Enter </kbd> \n",
    "\n",
    "* For `Command` mode: <kbd> Esc </kbd>\n",
    "\n",
    "\n",
    "To run: <kbd>Shift + Enter </kbd>\n",
    "\n",
    "For more shortcuts refer [this](https://towardsdatascience.com/jypyter-notebook-shortcuts-bf0101a98330)\n",
    "\n",
    "## Reference\n",
    "\n",
    "* [Pycon Conf.](https://www.youtube.com/watch?v=VQBZ2MqWBZI&t)\n",
    "* [Handbook](https://jakevdp.github.io/PythonDataScienceHandbook/01.00-ipython-beyond-normal-python.html)"
   ]
  },
  {
   "cell_type": "code",
   "execution_count": 1,
   "metadata": {},
   "outputs": [
    {
     "name": "stdout",
     "output_type": "stream",
     "text": [
      "Hello World!!!\n"
     ]
    }
   ],
   "source": [
    "print(\"Hello World!!!\")"
   ]
  },
  {
   "cell_type": "code",
   "execution_count": null,
   "metadata": {},
   "outputs": [],
   "source": [
    "?"
   ]
  },
  {
   "cell_type": "code",
   "execution_count": null,
   "metadata": {},
   "outputs": [],
   "source": [
    "import array  # returns the docs for the class or functionc\n",
    "array.array?\n"
   ]
  },
  {
   "cell_type": "code",
   "execution_count": null,
   "metadata": {},
   "outputs": [],
   "source": [
    "import urllib.request  # for more information\n",
    "urllib.request.urlretrieve??"
   ]
  },
  {
   "cell_type": "code",
   "execution_count": 5,
   "metadata": {},
   "outputs": [
    {
     "data": {
      "text/plain": [
       "numpy.array\n",
       "numpy.array2string\n",
       "numpy.array_equal\n",
       "numpy.array_equiv\n",
       "numpy.array_repr\n",
       "numpy.array_split\n",
       "numpy.array_str\n",
       "numpy.asanyarray\n",
       "numpy.asarray\n",
       "numpy.asarray_chkfinite\n",
       "numpy.ascontiguousarray\n",
       "numpy.asfarray\n",
       "numpy.asfortranarray\n",
       "numpy.broadcast_arrays\n",
       "numpy.chararray\n",
       "numpy.compare_chararrays\n",
       "numpy.get_array_wrap\n",
       "numpy.ndarray\n",
       "numpy.numarray\n",
       "numpy.recarray"
      ]
     },
     "metadata": {},
     "output_type": "display_data"
    }
   ],
   "source": [
    "import numpy  # finds the classes or functions that matches with the wildcard \n",
    "numpy.*array*?\n",
    "# (in this case it matches anything that contains array inside numpy package)"
   ]
  },
  {
   "cell_type": "markdown",
   "metadata": {},
   "source": [
    "### use <kbd>Tab</kbd> for code completion "
   ]
  },
  {
   "cell_type": "code",
   "execution_count": null,
   "metadata": {},
   "outputs": [],
   "source": [
    "%quickref\n",
    "# even displays list of magic methods"
   ]
  },
  {
   "cell_type": "code",
   "execution_count": 7,
   "metadata": {},
   "outputs": [
    {
     "data": {
      "text/plain": [
       "69"
      ]
     },
     "execution_count": 7,
     "metadata": {},
     "output_type": "execute_result"
    }
   ],
   "source": [
    "sample = 69\n",
    "# says at what order we have executed this cell (useful in history's index)  refer: https://stackoverflow.com/a/48737883/12318454\n",
    "sample"
   ]
  },
  {
   "cell_type": "code",
   "execution_count": 8,
   "metadata": {},
   "outputs": [],
   "source": [
    "sample;  # suppress output unless print was used"
   ]
  },
  {
   "cell_type": "code",
   "execution_count": 9,
   "metadata": {},
   "outputs": [
    {
     "data": {
      "text/plain": [
       "69"
      ]
     },
     "execution_count": 9,
     "metadata": {},
     "output_type": "execute_result"
    }
   ],
   "source": [
    "_  # returns the previous result"
   ]
  },
  {
   "cell_type": "code",
   "execution_count": 10,
   "metadata": {},
   "outputs": [
    {
     "name": "stdout",
     "output_type": "stream",
     "text": [
      "{7: 69, 9: 69} []\n",
      "Value Missing in _Out\n"
     ]
    }
   ],
   "source": [
    "Out;\n",
    "In.clear();\n",
    "\n",
    "print(Out, In) \n",
    "# In is a list of the input commands\n",
    "# Out is Dict[int, str] where keys are the order of execution and values are for the output ot displayed\n",
    "\n",
    "try:\n",
    "    print(_60)  # returns the index 60 from Out\n",
    "except:\n",
    "    print(\"Value Missing in _Out\")"
   ]
  },
  {
   "cell_type": "code",
   "execution_count": 11,
   "metadata": {},
   "outputs": [],
   "source": [
    "sample = 2 + 3"
   ]
  },
  {
   "cell_type": "code",
   "execution_count": 12,
   "metadata": {},
   "outputs": [
    {
     "data": {
      "text/plain": [
       "5"
      ]
     },
     "execution_count": 12,
     "metadata": {},
     "output_type": "execute_result"
    }
   ],
   "source": [
    "sample"
   ]
  },
  {
   "cell_type": "code",
   "execution_count": 13,
   "metadata": {},
   "outputs": [
    {
     "name": "stdout",
     "output_type": "stream",
     "text": [
      "['sample = 2 + 3', 'sample', 'print(In, Out)'] {7: 69, 9: 69, 12: 5}\n"
     ]
    }
   ],
   "source": [
    "print(In, Out)"
   ]
  },
  {
   "cell_type": "code",
   "execution_count": 14,
   "metadata": {},
   "outputs": [
    {
     "name": "stdout",
     "output_type": "stream",
     "text": [
      "   1: print(\"Hello World!!!\")\n",
      "   2: ?\n",
      "   3:\n",
      "import array  # returns the docs for the class or functionc\n",
      "array.array?\n",
      "   4:\n",
      "import urllib.request  # for more information\n",
      "urllib.request.urlretrieve??\n",
      "   5:\n",
      "import numpy  # finds the classes or functions that matches with the wildcard \n",
      "numpy.*array*?\n",
      "# (in this case it matches anything that contains array inside numpy package)\n",
      "   6: %quickref\n"
     ]
    }
   ],
   "source": [
    "%history -n 1-6"
   ]
  },
  {
   "cell_type": "code",
   "execution_count": 15,
   "metadata": {},
   "outputs": [
    {
     "data": {
      "text/plain": [
       "274"
      ]
     },
     "execution_count": 15,
     "metadata": {},
     "output_type": "execute_result"
    }
   ],
   "source": [
    "# saves the script of last 10 cells in history inside `log.py`\n",
    "\n",
    "import pathlib\n",
    "sample = pathlib.Path(globals()[\"_dh\"][-1])/ \"log.py\"\n",
    "sample.write_text(\n",
    "'\\n'.join(In[-10: ])\n",
    ")\n",
    "\n",
    "# in python"
   ]
  },
  {
   "cell_type": "code",
   "execution_count": 21,
   "metadata": {},
   "outputs": [],
   "source": [
    "%history -f log.py -l 10\n",
    "# in ipython"
   ]
  },
  {
   "cell_type": "code",
   "execution_count": 22,
   "metadata": {},
   "outputs": [
    {
     "data": {
      "text/plain": [
       "\u001b[0msample\u001b[0m \u001b[1;33m=\u001b[0m \u001b[1;36m2\u001b[0m \u001b[1;33m+\u001b[0m \u001b[1;36m3\u001b[0m\u001b[1;33m\n",
       "\u001b[0m\u001b[0msample\u001b[0m\u001b[1;33m\n",
       "\u001b[0m\u001b[0mprint\u001b[0m\u001b[1;33m(\u001b[0m\u001b[0mIn\u001b[0m\u001b[1;33m,\u001b[0m \u001b[0mOut\u001b[0m\u001b[1;33m)\u001b[0m\u001b[1;33m\n",
       "\u001b[0m\u001b[1;33m%\u001b[0m\u001b[0mhistory\u001b[0m \u001b[1;33m-\u001b[0m\u001b[0mn\u001b[0m \u001b[1;36m1\u001b[0m\u001b[1;33m-\u001b[0m\u001b[1;36m6\u001b[0m\u001b[1;33m\n",
       "\u001b[0m\u001b[1;31m# saves the script of last 10 cells in history inside `log.py`\u001b[0m\u001b[1;33m\n",
       "\u001b[0m\u001b[1;33m\n",
       "\u001b[0m\u001b[1;32mimport\u001b[0m \u001b[0mpathlib\u001b[0m\u001b[1;33m\n",
       "\u001b[0m\u001b[0msample\u001b[0m \u001b[1;33m=\u001b[0m \u001b[0mpathlib\u001b[0m\u001b[1;33m.\u001b[0m\u001b[0mPath\u001b[0m\u001b[1;33m(\u001b[0m\u001b[0mglobals\u001b[0m\u001b[1;33m(\u001b[0m\u001b[1;33m)\u001b[0m\u001b[1;33m[\u001b[0m\u001b[1;34m\"_dh\"\u001b[0m\u001b[1;33m]\u001b[0m\u001b[1;33m[\u001b[0m\u001b[1;33m-\u001b[0m\u001b[1;36m1\u001b[0m\u001b[1;33m]\u001b[0m\u001b[1;33m)\u001b[0m\u001b[1;33m/\u001b[0m \u001b[1;34m\"log.py\"\u001b[0m\u001b[1;33m\n",
       "\u001b[0m\u001b[0msample\u001b[0m\u001b[1;33m.\u001b[0m\u001b[0mwrite_text\u001b[0m\u001b[1;33m(\u001b[0m\u001b[1;33m\n",
       "\u001b[0m\u001b[1;34m'\\n'\u001b[0m\u001b[1;33m.\u001b[0m\u001b[0mjoin\u001b[0m\u001b[1;33m(\u001b[0m\u001b[0mIn\u001b[0m\u001b[1;33m[\u001b[0m\u001b[1;33m-\u001b[0m\u001b[1;36m10\u001b[0m\u001b[1;33m:\u001b[0m \u001b[1;33m]\u001b[0m\u001b[1;33m)\u001b[0m\u001b[1;33m\n",
       "\u001b[0m\u001b[1;33m)\u001b[0m\u001b[1;33m\n",
       "\u001b[0m\u001b[1;33m\n",
       "\u001b[0m\u001b[1;31m# in python\u001b[0m\u001b[1;33m\n",
       "\u001b[0m\u001b[1;33m%\u001b[0m\u001b[0mhistory\u001b[0m\u001b[0;31m?\u001b[0m\u001b[1;33m\n",
       "\u001b[0m\u001b[1;33m%\u001b[0m\u001b[0mhistory\u001b[0m \u001b[1;33m-\u001b[0m\u001b[0mf\u001b[0m \u001b[0mlog\u001b[0m\u001b[1;33m.\u001b[0m\u001b[0mpy\u001b[0m \u001b[1;33m-\u001b[0m\u001b[0ml\u001b[0m\u001b[1;33m\n",
       "\u001b[0m\u001b[1;33m%\u001b[0m\u001b[0mhistory\u001b[0m \u001b[1;33m-\u001b[0m\u001b[0mf\u001b[0m \u001b[0mlog\u001b[0m\u001b[1;33m.\u001b[0m\u001b[0mpy\u001b[0m \u001b[1;33m-\u001b[0m\u001b[0ml\u001b[0m \u001b[1;33m-\u001b[0m\u001b[0my\u001b[0m\u001b[1;33m\n",
       "\u001b[0m\u001b[1;33m%\u001b[0m\u001b[0mhistory\u001b[0m \u001b[1;33m-\u001b[0m\u001b[0mf\u001b[0m \u001b[0mlog\u001b[0m\u001b[1;33m.\u001b[0m\u001b[0mpy\u001b[0m \u001b[1;33m-\u001b[0m\u001b[0ml\u001b[0m\u001b[1;33m\n",
       "\u001b[0m\u001b[1;33m%\u001b[0m\u001b[0mhistory\u001b[0m \u001b[1;33m-\u001b[0m\u001b[0mf\u001b[0m \u001b[0mlog\u001b[0m\u001b[1;33m.\u001b[0m\u001b[0mpy\u001b[0m \u001b[1;33m-\u001b[0m\u001b[0ml\u001b[0m\u001b[1;33m\n",
       "\u001b[0m\u001b[1;31m# in ipython\u001b[0m\u001b[1;33m\u001b[0m\u001b[1;33m\u001b[0m\u001b[1;33m\u001b[0m\u001b[0m\n"
      ]
     },
     "metadata": {},
     "output_type": "display_data"
    }
   ],
   "source": [
    "%pycat log.py   # similar to cat function in linux "
   ]
  },
  {
   "cell_type": "markdown",
   "metadata": {},
   "source": [
    "## CMD commands\n",
    "\n",
    "Kernal starts in the same directory as the path where this notebook is saved"
   ]
  },
  {
   "cell_type": "code",
   "execution_count": null,
   "metadata": {},
   "outputs": [],
   "source": [
    "# current directory of this notebook\n",
    "%pwd"
   ]
  },
  {
   "cell_type": "code",
   "execution_count": 37,
   "metadata": {},
   "outputs": [
    {
     "name": "stdout",
     "output_type": "stream",
     "text": [
      " Volume in drive C is OS\n",
      " Volume Serial Number is 7AAC-A20E\n",
      "\n",
      " Directory of C:\\Users\\Rahul\\Documents\\Python Files\\Skills\\IPython\n",
      "\n",
      "09-08-2021  06:51    <DIR>          .\n",
      "09-08-2021  00:11    <DIR>          ..\n",
      "09-08-2021  06:42    <DIR>          .ipynb_checkpoints\n",
      "09-08-2021  06:51            11,224 basics.ipynb\n",
      "               1 File(s)         11,224 bytes\n",
      "               3 Dir(s)  828,132,261,888 bytes free\n"
     ]
    }
   ],
   "source": [
    "store = %ls"
   ]
  },
  {
   "cell_type": "code",
   "execution_count": 39,
   "metadata": {},
   "outputs": [
    {
     "name": "stdout",
     "output_type": "stream",
     "text": [
      "\":D\"\n"
     ]
    }
   ],
   "source": [
    "%echo \":D\""
   ]
  }
 ],
 "metadata": {
  "kernelspec": {
   "display_name": "Python 3",
   "language": "python",
   "name": "python3"
  },
  "language_info": {
   "codemirror_mode": {
    "name": "ipython",
    "version": 3
   },
   "file_extension": ".py",
   "mimetype": "text/x-python",
   "name": "python",
   "nbconvert_exporter": "python",
   "pygments_lexer": "ipython3",
   "version": "3.8.5"
  }
 },
 "nbformat": 4,
 "nbformat_minor": 4
}
