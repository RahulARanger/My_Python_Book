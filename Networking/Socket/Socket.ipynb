{
 "cells": [
  {
   "cell_type": "markdown",
   "metadata": {},
   "source": [
    "# IP address\r\n",
    "\r\n",
    "### * IP (internet Address) has the unique address assigned to the computer. It is used as the address for the omputer so that data can be transferred based on this address.\r\n",
    "\r\n",
    "### * (0-255) are the range for the numbers (seprerated by dots) in IP address.\r\n",
    "\r\n",
    "### * Public IP address (based on the router or internet serviceu) and Private IP address (unique on computer)\r\n",
    "\r\n",
    "### * `ping (website)` in cmd shows some detials about the website. Like the IP address. if we google search the ip address, we will approach the same website. (Try that)\r\n",
    "\r\n"
   ]
  },
  {
   "cell_type": "markdown",
   "metadata": {},
   "source": [
    "# Ports\r\n",
    "\r\n",
    "### * Ports give even more informatiomn about the computer. (moe specifically like the computer number {House Number})\r\n",
    "\r\n",
    "### * `netstat -a -b -n` (in cmd adminstartor) gives the info. about the ports\r\n",
    "\r\n",
    "### * [List of some predefined Ports](https://www.webopedia.com/quick_ref/portnumbers.asp)\r\n",
    "\r\n",
    "### try googling `www.google.com:20` {20 is port number for `HTTPS` protocol}"
   ]
  },
  {
   "cell_type": "markdown",
   "metadata": {},
   "source": [
    "# Socket\r\n",
    "\r\n",
    "### * Sockets opens up layer of communication for two computers by binding them in a same portal number and  their ip address\r\n",
    "\r\n",
    "### * `socket`  is pedefined module in python used for socket programming.\r\n"
   ]
  },
  {
   "cell_type": "markdown",
   "metadata": {},
   "source": [
    "# Connection\r\n",
    "\r\n",
    "### * Direct Connection: connection that is made by creating socket using the ip address and the port number. that is server to client. Connection will only be made when client accpets it\r\n",
    "    * so direct connection requires the ip address of both the parties (not feasible) \r\n",
    "    \r\n",
    "### * Reverse Connection: Connection made when client sends the request to the server. will only bhe successful when server accepts it."
   ]
  },
  {
   "cell_type": "markdown",
   "metadata": {},
   "source": [
    "# Server\r\n",
    "\r\n",
    "### * It's a remote computer\r\n",
    "### * has a static ip address\r\n",
    "### * Need Internet Connection to aceess this remote Connection."
   ]
  }
 ],
 "metadata": {
  "kernelspec": {
   "display_name": "Python 3.8.2 32-bit",
   "name": "python38232bit983fe55427bc4991a0511592a3fa6aa8"
  },
  "language_info": {
   "name": "python",
   "nbconvert_exporter": "python",
   "version": "3.9.0-final"
  },
  "orig_nbformat": 2
 },
 "nbformat": 4,
 "nbformat_minor": 2
}