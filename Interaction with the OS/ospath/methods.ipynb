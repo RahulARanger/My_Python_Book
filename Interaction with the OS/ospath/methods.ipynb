{
 "cells": [
  {
   "cell_type": "markdown",
   "metadata": {},
   "source": [
    "# os.path\r\n",
    "\r\n",
    "* Let's us wok on the path related things for files\r\n",
    "* **OS-Independene**\r\n",
    "* some of the important methods:\r\n",
    "  * `os.path.abspath(path)`\r\n",
    "\r\n",
    "### Note: while weiting paths "
   ]
  },
  {
   "cell_type": "markdown",
   "metadata": {},
   "source": [
    "## os.path.abspath(path)\r\n",
    "\r\n",
    "`abspath(path)` returns the absolute path of the given path. Generally in projects we use relative paths for file handling. But for some import activities we need to use absolute path\r\n"
   ]
  },
  {
   "cell_type": "code",
   "execution_count": 9,
   "metadata": {},
   "outputs": [],
   "source": [
    "import os"
   ]
  },
  {
   "cell_type": "code",
   "execution_count": 10,
   "metadata": {},
   "outputs": [
    {
     "name": "stdout",
     "output_type": "stream",
     "text": [
      "e:\\Python files\\Skills\\Interaction with the OS\\ospath\\Interaction with the OS\\ospath\\methods.ipynb\n",
      "---------------------------------------------------------------------\n",
      "e:\\Python files\\Skills\\Interaction with the OS\\ospath\\Interaction with the OS\\ospath\n"
     ]
    }
   ],
   "source": [
    "print(os.path.abspath('Interaction with the OS\\ospath\\methods.ipynb'))\r\n",
    "print(69*'-')\r\n",
    "print(os.path.abspath('Interaction with the OS\\ospath'))"
   ]
  }
 ],
 "metadata": {
  "kernelspec": {
   "display_name": "Python 3",
   "name": "python3"
  },
  "language_info": {
   "codemirror_mode": {
    "name": "ipython",
    "version": 3
   },
   "file_extension": ".py",
   "mimetype": "text/x-python",
   "name": "python",
   "nbconvert_exporter": "python",
   "pygments_lexer": "ipython3",
   "version": "3.8.3"
  },
  "orig_nbformat": 2
 },
 "nbformat": 4,
 "nbformat_minor": 2
}